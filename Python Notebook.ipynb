{
 "cells": [
  {
   "cell_type": "markdown",
   "metadata": {},
   "source": [
    "first statements in python"
   ]
  },
  {
   "cell_type": "code",
   "execution_count": 2,
   "metadata": {},
   "outputs": [],
   "source": [
    "my_dict = {\"phone\":\"1000\", \"laptop\":\"3000\", \"expenses\":\"10000\"}"
   ]
  },
  {
   "cell_type": "code",
   "execution_count": 3,
   "metadata": {},
   "outputs": [
    {
     "data": {
      "text/plain": [
       "{'phone': '1000', 'laptop': '3000', 'expenses': '10000'}"
      ]
     },
     "execution_count": 3,
     "metadata": {},
     "output_type": "execute_result"
    }
   ],
   "source": [
    "my_dict"
   ]
  },
  {
   "cell_type": "code",
   "execution_count": 4,
   "metadata": {},
   "outputs": [
    {
     "data": {
      "text/plain": [
       "'1000'"
      ]
     },
     "execution_count": 4,
     "metadata": {},
     "output_type": "execute_result"
    }
   ],
   "source": [
    "my_dict['phone']"
   ]
  },
  {
   "cell_type": "code",
   "execution_count": 7,
   "metadata": {},
   "outputs": [
    {
     "name": "stdout",
     "output_type": "stream",
     "text": [
      "0\n",
      "1\n",
      "2\n",
      "3\n",
      "4\n",
      "5\n",
      "6\n",
      "7\n",
      "8\n",
      "9\n"
     ]
    }
   ],
   "source": [
    "for num in range(0,10,1):\n",
    "    print(num)"
   ]
  },
  {
   "cell_type": "code",
   "execution_count": 8,
   "metadata": {},
   "outputs": [],
   "source": [
    "mylist = list(range(10))"
   ]
  },
  {
   "cell_type": "code",
   "execution_count": 9,
   "metadata": {},
   "outputs": [
    {
     "data": {
      "text/plain": [
       "[0, 1, 2, 3, 4, 5, 6, 7, 8, 9]"
      ]
     },
     "execution_count": 9,
     "metadata": {},
     "output_type": "execute_result"
    }
   ],
   "source": [
    "mylist\n"
   ]
  },
  {
   "cell_type": "code",
   "execution_count": null,
   "metadata": {},
   "outputs": [],
   "source": [
    "mylist"
   ]
  },
  {
   "cell_type": "code",
   "execution_count": 10,
   "metadata": {},
   "outputs": [
    {
     "data": {
      "text/plain": [
       "list"
      ]
     },
     "execution_count": 10,
     "metadata": {},
     "output_type": "execute_result"
    }
   ],
   "source": [
    "type (mylist)"
   ]
  },
  {
   "cell_type": "raw",
   "metadata": {},
   "source": [
    "word = \"hello\"\n",
    "for letter "
   ]
  },
  {
   "cell_type": "code",
   "execution_count": 13,
   "metadata": {},
   "outputs": [
    {
     "name": "stdout",
     "output_type": "stream",
     "text": [
      "(0, 'H')\n",
      "(1, 'e')\n",
      "(2, 'l')\n",
      "(3, 'l')\n",
      "(4, 'o')\n"
     ]
    }
   ],
   "source": [
    "word = \"Hello\"\n",
    "for item in enumerate(word):\n",
    "    print(item)\n"
   ]
  },
  {
   "cell_type": "code",
   "execution_count": 14,
   "metadata": {},
   "outputs": [
    {
     "data": {
      "text/plain": [
       "<zip at 0x2398475c6c8>"
      ]
     },
     "execution_count": 14,
     "metadata": {},
     "output_type": "execute_result"
    }
   ],
   "source": [
    "mylist1 = [1,2,3]\n",
    "mylist2 = ['a','b','c']\n",
    "zip(mylist1, mylist2)"
   ]
  },
  {
   "cell_type": "code",
   "execution_count": 24,
   "metadata": {},
   "outputs": [
    {
     "name": "stdout",
     "output_type": "stream",
     "text": [
      "(1, 'a')\n",
      "(2, 'b')\n",
      "(3, 'c')\n"
     ]
    }
   ],
   "source": [
    "for item in zip(mylist1,mylist2):\n",
    "    \n",
    "    print (item)"
   ]
  },
  {
   "cell_type": "raw",
   "metadata": {},
   "source": []
  },
  {
   "cell_type": "code",
   "execution_count": 27,
   "metadata": {},
   "outputs": [
    {
     "name": "stdout",
     "output_type": "stream",
     "text": [
      "(0, 'v')\n",
      "(1, 'a')\n",
      "(2, 't')\n",
      "(3, 's')\n",
      "(4, 'a')\n",
      "(5, 'v')\n"
     ]
    }
   ],
   "source": [
    "word = \"vatsav\"\n",
    "word1 = \"sri\"\n",
    "for item in enumerate(word):\n",
    "    print(item)"
   ]
  },
  {
   "cell_type": "code",
   "execution_count": 17,
   "metadata": {},
   "outputs": [
    {
     "data": {
      "text/plain": [
       "True"
      ]
     },
     "execution_count": 17,
     "metadata": {},
     "output_type": "execute_result"
    }
   ],
   "source": [
    "'x' in ['x','y']"
   ]
  },
  {
   "cell_type": "code",
   "execution_count": 20,
   "metadata": {},
   "outputs": [
    {
     "data": {
      "text/plain": [
       "dict_keys(['a'])"
      ]
     },
     "execution_count": 20,
     "metadata": {},
     "output_type": "execute_result"
    }
   ],
   "source": [
    "d = {\"a\":1000}\n",
    "d.keys()\n"
   ]
  },
  {
   "cell_type": "code",
   "execution_count": 22,
   "metadata": {},
   "outputs": [
    {
     "data": {
      "text/plain": [
       "100"
      ]
     },
     "execution_count": 22,
     "metadata": {},
     "output_type": "execute_result"
    }
   ],
   "source": [
    "mylist = [1,2,3,4,5,100]\n",
    "max(mylist)"
   ]
  },
  {
   "cell_type": "code",
   "execution_count": 24,
   "metadata": {},
   "outputs": [],
   "source": [
    "from random import shuffle"
   ]
  },
  {
   "cell_type": "code",
   "execution_count": 52,
   "metadata": {},
   "outputs": [
    {
     "data": {
      "text/plain": [
       "[7, 6, 5, 8, 2, 4, 3, 1]"
      ]
     },
     "execution_count": 52,
     "metadata": {},
     "output_type": "execute_result"
    }
   ],
   "source": [
    "mylist = [1,2,3,4,5,6,7,8]\n",
    "shuffle(mylist)\n",
    "mylist"
   ]
  },
  {
   "cell_type": "code",
   "execution_count": 53,
   "metadata": {},
   "outputs": [
    {
     "name": "stdout",
     "output_type": "stream",
     "text": [
      "Enter name here:srivatsava\n"
     ]
    },
    {
     "data": {
      "text/plain": [
       "'srivatsava'"
      ]
     },
     "execution_count": 53,
     "metadata": {},
     "output_type": "execute_result"
    }
   ],
   "source": [
    "input('Enter name here:')"
   ]
  },
  {
   "cell_type": "raw",
   "metadata": {},
   "source": []
  },
  {
   "cell_type": "code",
   "execution_count": 56,
   "metadata": {},
   "outputs": [
    {
     "name": "stdout",
     "output_type": "stream",
     "text": [
      "Enter name here:srivatsava\n"
     ]
    },
    {
     "data": {
      "text/plain": [
       "'srivatsava'"
      ]
     },
     "execution_count": 56,
     "metadata": {},
     "output_type": "execute_result"
    }
   ],
   "source": [
    "result = input(\"Enter name here:\")\n",
    "\n",
    "result\n"
   ]
  },
  {
   "cell_type": "raw",
   "metadata": {},
   "source": []
  },
  {
   "cell_type": "code",
   "execution_count": 57,
   "metadata": {},
   "outputs": [
    {
     "data": {
      "text/plain": [
       "'srivatsava'"
      ]
     },
     "execution_count": 57,
     "metadata": {},
     "output_type": "execute_result"
    }
   ],
   "source": [
    "result"
   ]
  },
  {
   "cell_type": "code",
   "execution_count": 58,
   "metadata": {},
   "outputs": [
    {
     "data": {
      "text/plain": [
       "str"
      ]
     },
     "execution_count": 58,
     "metadata": {},
     "output_type": "execute_result"
    }
   ],
   "source": [
    "type(result)"
   ]
  },
  {
   "cell_type": "code",
   "execution_count": 60,
   "metadata": {},
   "outputs": [
    {
     "ename": "ValueError",
     "evalue": "invalid literal for int() with base 10: 'srivatsava'",
     "output_type": "error",
     "traceback": [
      "\u001b[1;31m---------------------------------------------------------------------------\u001b[0m",
      "\u001b[1;31mValueError\u001b[0m                                Traceback (most recent call last)",
      "\u001b[1;32m<ipython-input-60-baa5c0abe21d>\u001b[0m in \u001b[0;36m<module>\u001b[1;34m\u001b[0m\n\u001b[1;32m----> 1\u001b[1;33m \u001b[0mint\u001b[0m\u001b[1;33m(\u001b[0m\u001b[0mresult\u001b[0m\u001b[1;33m)\u001b[0m\u001b[1;33m\u001b[0m\u001b[1;33m\u001b[0m\u001b[0m\n\u001b[0m",
      "\u001b[1;31mValueError\u001b[0m: invalid literal for int() with base 10: 'srivatsava'"
     ]
    }
   ],
   "source": [
    "int(result)"
   ]
  },
  {
   "cell_type": "raw",
   "metadata": {},
   "source": []
  },
  {
   "cell_type": "code",
   "execution_count": 61,
   "metadata": {},
   "outputs": [
    {
     "name": "stdout",
     "output_type": "stream",
     "text": [
      "enter numer69\n"
     ]
    }
   ],
   "source": [
    "result = input('enter numer')"
   ]
  },
  {
   "cell_type": "raw",
   "metadata": {},
   "source": []
  },
  {
   "cell_type": "raw",
   "metadata": {},
   "source": []
  },
  {
   "cell_type": "code",
   "execution_count": 62,
   "metadata": {},
   "outputs": [
    {
     "data": {
      "text/plain": [
       "int"
      ]
     },
     "execution_count": 62,
     "metadata": {},
     "output_type": "execute_result"
    }
   ],
   "source": [
    "int(result)\n",
    "type(int(result))\n"
   ]
  },
  {
   "cell_type": "code",
   "execution_count": 64,
   "metadata": {},
   "outputs": [
    {
     "name": "stdout",
     "output_type": "stream",
     "text": [
      "['h', 'e', 'l', 'l', 'o', ' ', 'w', 'o', 'r', 'l', 'd']\n"
     ]
    }
   ],
   "source": [
    "string = \"hello world\"\n",
    "my_string = []\n",
    "\n",
    "for string in string:\n",
    "    my_string.append(string)\n",
    "    \n",
    "print(my_string)"
   ]
  },
  {
   "cell_type": "code",
   "execution_count": 65,
   "metadata": {},
   "outputs": [
    {
     "data": {
      "text/plain": [
       "['h', 'e', 'l', 'l', 'o', ' ', 'w', 'o', 'r', 'l', 'd']"
      ]
     },
     "execution_count": 65,
     "metadata": {},
     "output_type": "execute_result"
    }
   ],
   "source": [
    "my_string"
   ]
  },
  {
   "cell_type": "code",
   "execution_count": 72,
   "metadata": {},
   "outputs": [],
   "source": [
    "my_list = [ x**2 for x in range(10) if x%2 ==0]"
   ]
  },
  {
   "cell_type": "code",
   "execution_count": 73,
   "metadata": {},
   "outputs": [
    {
     "data": {
      "text/plain": [
       "[0, 4, 16, 36, 64]"
      ]
     },
     "execution_count": 73,
     "metadata": {},
     "output_type": "execute_result"
    }
   ],
   "source": [
    "my_list"
   ]
  },
  {
   "cell_type": "code",
   "execution_count": 75,
   "metadata": {},
   "outputs": [],
   "source": [
    "def check_name(a):\n",
    "    if 'vatsav' in a:\n",
    "        return True\n",
    "    else:\n",
    "        return False  "
   ]
  },
  {
   "cell_type": "code",
   "execution_count": 77,
   "metadata": {},
   "outputs": [
    {
     "data": {
      "text/plain": [
       "True"
      ]
     },
     "execution_count": 77,
     "metadata": {},
     "output_type": "execute_result"
    }
   ],
   "source": [
    "check_name('srivatsava')"
   ]
  },
  {
   "cell_type": "code",
   "execution_count": 91,
   "metadata": {},
   "outputs": [],
   "source": [
    "def name_check(a):\n",
    "    return 'vatsav' in  a.lower()"
   ]
  },
  {
   "cell_type": "markdown",
   "metadata": {},
   "source": []
  },
  {
   "cell_type": "code",
   "execution_count": 92,
   "metadata": {},
   "outputs": [
    {
     "data": {
      "text/plain": [
       "True"
      ]
     },
     "execution_count": 92,
     "metadata": {},
     "output_type": "execute_result"
    }
   ],
   "source": [
    "name_check('VATSAV')"
   ]
  },
  {
   "cell_type": "code",
   "execution_count": 95,
   "metadata": {},
   "outputs": [],
   "source": [
    "def pig_latin(a):\n",
    "    if a[0] in 'aeiou':\n",
    "        return a +'ay'\n",
    "    else:\n",
    "        return a[1:] +a[0] +'ay'\n",
    "    "
   ]
  },
  {
   "cell_type": "code",
   "execution_count": 97,
   "metadata": {},
   "outputs": [
    {
     "data": {
      "text/plain": [
       "'atsavvay'"
      ]
     },
     "execution_count": 97,
     "metadata": {},
     "output_type": "execute_result"
    }
   ],
   "source": [
    "pig_latin('vatsav')"
   ]
  },
  {
   "cell_type": "code",
   "execution_count": 127,
   "metadata": {},
   "outputs": [],
   "source": [
    "def myfunc(name):\n",
    "    print ('Hello'+ ' '+ name)"
   ]
  },
  {
   "cell_type": "code",
   "execution_count": 128,
   "metadata": {},
   "outputs": [
    {
     "name": "stdout",
     "output_type": "stream",
     "text": [
      "Hello vatsav\n"
     ]
    }
   ],
   "source": [
    "myfunc('vatsav')"
   ]
  },
  {
   "cell_type": "code",
   "execution_count": 129,
   "metadata": {},
   "outputs": [
    {
     "name": "stdout",
     "output_type": "stream",
     "text": [
      "[0, 0, 0]\n"
     ]
    }
   ],
   "source": [
    "s = [0,0,0]\n",
    "print(s)"
   ]
  },
  {
   "cell_type": "code",
   "execution_count": 130,
   "metadata": {},
   "outputs": [],
   "source": [
    "list = [1,2,3,4, [5,6,\"hello\"]]\n",
    "list [4][2] = \"good bye\""
   ]
  },
  {
   "cell_type": "code",
   "execution_count": 131,
   "metadata": {},
   "outputs": [
    {
     "data": {
      "text/plain": [
       "[1, 2, 3, 4, [5, 6, 'good bye']]"
      ]
     },
     "execution_count": 131,
     "metadata": {},
     "output_type": "execute_result"
    }
   ],
   "source": [
    "list"
   ]
  },
  {
   "cell_type": "code",
   "execution_count": 25,
   "metadata": {},
   "outputs": [
    {
     "data": {
      "text/plain": [
       "[1, 2, 3, 4, 5, 8]"
      ]
     },
     "execution_count": 25,
     "metadata": {},
     "output_type": "execute_result"
    }
   ],
   "source": [
    "list = [3,5,2,8,4,1]\n",
    "sorted(list)"
   ]
  },
  {
   "cell_type": "code",
   "execution_count": 28,
   "metadata": {},
   "outputs": [
    {
     "data": {
      "text/plain": [
       "'hello'"
      ]
     },
     "execution_count": 28,
     "metadata": {},
     "output_type": "execute_result"
    }
   ],
   "source": [
    "d = {'key':'hello'}\n",
    "d['key']"
   ]
  },
  {
   "cell_type": "code",
   "execution_count": 181,
   "metadata": {},
   "outputs": [
    {
     "data": {
      "text/plain": [
       "'hello'"
      ]
     },
     "execution_count": 181,
     "metadata": {},
     "output_type": "execute_result"
    }
   ],
   "source": [
    "d = {'key':{'key1':'hello'}}\n",
    "d['key']['key1']"
   ]
  },
  {
   "cell_type": "code",
   "execution_count": 5,
   "metadata": {},
   "outputs": [
    {
     "name": "stdout",
     "output_type": "stream",
     "text": [
      "print only the word started with s in sentence\n"
     ]
    },
    {
     "data": {
      "text/plain": [
       "str"
      ]
     },
     "execution_count": 5,
     "metadata": {},
     "output_type": "execute_result"
    }
   ],
   "source": [
    "s = 'print only the word started with s in sentence'\n",
    "print (s)\n",
    "type (s)"
   ]
  },
  {
   "cell_type": "code",
   "execution_count": 7,
   "metadata": {},
   "outputs": [
    {
     "name": "stdout",
     "output_type": "stream",
     "text": [
      "print only the word started with s in sentence\n"
     ]
    }
   ],
   "source": [
    "print (s)"
   ]
  },
  {
   "cell_type": "code",
   "execution_count": 8,
   "metadata": {},
   "outputs": [
    {
     "data": {
      "text/plain": [
       "['print', 'only', 'the', 'word', 'started', 'with', 's', 'in', 'sentence']"
      ]
     },
     "execution_count": 8,
     "metadata": {},
     "output_type": "execute_result"
    }
   ],
   "source": [
    "s.split()"
   ]
  },
  {
   "cell_type": "code",
   "execution_count": 14,
   "metadata": {},
   "outputs": [
    {
     "name": "stdout",
     "output_type": "stream",
     "text": [
      "started\n",
      "s\n",
      "sentence\n"
     ]
    }
   ],
   "source": [
    "for word in s.split():\n",
    "    if word[0] == 's':\n",
    "        print (word)"
   ]
  },
  {
   "cell_type": "code",
   "execution_count": 20,
   "metadata": {},
   "outputs": [],
   "source": [
    "s = 'srivatsava lives in San fransisco'"
   ]
  },
  {
   "cell_type": "code",
   "execution_count": 23,
   "metadata": {},
   "outputs": [
    {
     "name": "stdout",
     "output_type": "stream",
     "text": [
      "srivatsava\n",
      "San\n"
     ]
    }
   ],
   "source": [
    "for word in s.split():\n",
    "    if word[0].lower()== 's':\n",
    "        print (word)"
   ]
  },
  {
   "cell_type": "code",
   "execution_count": null,
   "metadata": {},
   "outputs": [],
   "source": [
    "for x in range(1,10):\n",
    "    if x%2==0:\n",
    "        print (x)"
   ]
  },
  {
   "cell_type": "code",
   "execution_count": null,
   "metadata": {},
   "outputs": [],
   "source": [
    "list(range(0,11,2))\n"
   ]
  },
  {
   "cell_type": "code",
   "execution_count": null,
   "metadata": {},
   "outputs": [],
   "source": [
    "import random\n",
    "num = random.randint(1,100)\n",
    "print(\"WELCOME TO GUESS ME!\")\n",
    "print(\"I'm thinking of a number between 1 and 100\")\n",
    "print(\"If your guess is more than 10 away from my number, I'll tell you you're COLD\")\n",
    "print(\"If your guess is within 10 of my number, I'll tell you you're WARM\")\n",
    "print(\"If your guess is farther than your most recent guess, I'll say you're getting COLDER\")\n",
    "print(\"If your guess is closer than your most recent guess, I'll say you're getting WARMER\")\n",
    "print(\"LET'S PLAY!\")\n",
    "print (num)"
   ]
  },
  {
   "cell_type": "code",
   "execution_count": 7,
   "metadata": {},
   "outputs": [
    {
     "name": "stdout",
     "output_type": "stream",
     "text": [
      "WELCOME TO GUESS ME!\n",
      "I'm thinking of a number between 1 and 100\n",
      "If your guess is more than 10 away from my number, I'll tell you you're COLD\n",
      "If your guess is within 10 of my number, I'll tell you you're WARM\n",
      "If your guess is farther than your most recent guess, I'll say you're getting COLDER\n",
      "If your guess is closer than your most recent guess, I'll say you're getting WARMER\n",
      "LET'S PLAY!\n",
      "please guess number between 1 and 10069\n",
      "COLD!\n",
      "please guess number between 1 and 10045\n",
      "WARMER!\n",
      "please guess number between 1 and 10035\n",
      "COLDER!\n",
      "please guess number between 1 and 10055\n",
      "WARMER!\n",
      "please guess number between 1 and 10065\n",
      "COLDER!\n",
      "please guess number between 1 and 10049\n",
      "WARMER!\n",
      "please guess number between 1 and 10050\n",
      "COLDER!\n",
      "please guess number between 1 and 10046\n",
      "WARMER!\n",
      "please guess number between 1 and 10045\n",
      "COLDER!\n",
      "please guess number between 1 and 10047\n",
      "congratulation, you guessed it in only 10GUESSES!!\n"
     ]
    }
   ],
   "source": [
    "# Generate Random Number\n",
    "import random\n",
    "num = random.randint(1,100)\n",
    "\n",
    "# Game instructions\n",
    "print(\"WELCOME TO GUESS ME!\")\n",
    "print(\"I'm thinking of a number between 1 and 100\")\n",
    "print(\"If your guess is more than 10 away from my number, I'll tell you you're COLD\")\n",
    "print(\"If your guess is within 10 of my number, I'll tell you you're WARM\")\n",
    "print(\"If your guess is farther than your most recent guess, I'll say you're getting COLDER\")\n",
    "print(\"If your guess is closer than your most recent guess, I'll say you're getting WARMER\")\n",
    "print(\"LET'S PLAY!\")\n",
    "\n",
    "# intial guess will be 0\n",
    "guesses = [0]\n",
    "\n",
    "while True:\n",
    "    guess = int(input(\"please guess number between 1 and 100\"))\n",
    "    if guess <1 or guess >100:\n",
    "        print ('OUT OF BOUNDS! Please try again:')\n",
    "        continue\n",
    "    if guess == num:\n",
    "        print (f'congratulation, you guessed it in only {len(guesses)}GUESSES!!')\n",
    "        break\n",
    "        \n",
    "# if guess is incorrect, add guess to the list        \n",
    "    guesses.append(guess)\n",
    "\n",
    "# when testing the first guess, guesses[-2]==0, which evaluates to False\n",
    "# and brings us down to the second section\n",
    "\n",
    "    if guesses[-2]:\n",
    "        if abs(num-guess)< abs(num-guesses[-2]):\n",
    "            print ('WARMER!')\n",
    "        else:\n",
    "            print ('COLDER!')\n",
    "    else:\n",
    "        if abs(num-guess) <= 10:\n",
    "            print ('WARM!')\n",
    "        else:\n",
    "            print('COLD!')        "
   ]
  },
  {
   "cell_type": "markdown",
   "metadata": {},
   "source": [
    "## Generate Random Number\n",
    "import random\n",
    "num = random.randint(1,100)\n",
    "\n",
    "# Game instructions\n",
    "print(\"WELCOME TO GUESS ME!\")\n",
    "print(\"I'm thinking of a number between 1 and 100\")\n",
    "print(\"If your guess is more than 10 away from my number, I'll tell you you're COLD\")\n",
    "print(\"If your guess is within 10 of my number, I'll tell you you're WARM\")\n",
    "print(\"If your guess is farther than your most recent guess, I'll say you're getting COLDER\")\n",
    "print(\"If your guess is closer than your most recent guess, I'll say you're getting WARMER\")\n",
    "print(\"LET'S PLAY!\")\n",
    "\n",
    "# intial guess will be 0\n",
    "guesses = [0]\n",
    "\n",
    "while True:\n",
    "    guess = int(input(\"please guess number between 1 and 100:\"))\n",
    "    if guess <1 or guess >100:\n",
    "        print ('OUT OF BOUNDS! Please try again:')\n",
    "        continue\n",
    "    if guess == num:\n",
    "        print (f'congratulation, you guessed it in only {len(guesses)}GUESSES!!')\n",
    "        break\n",
    "        \n",
    "# if guess is incorrect, add guess to the list        \n",
    "    guesses.append(guess)\n",
    "\n",
    "# when testing the first guess, guesses[-2]==0, which evaluates to False\n",
    "# and brings us down to the second section\n",
    "\n",
    "    if guesses[-2]:\n",
    "        if abs(num-guess)< abs(num-guesses[-2]):\n",
    "            print ('WARMER!')\n",
    "        else:\n",
    "            print ('COLDER!')\n",
    "    else:\n",
    "        if abs(num-guess) <= 10:\n",
    "            print ('WARM!')\n",
    "        else:\n",
    "            print('COLD!') "
   ]
  },
  {
   "cell_type": "code",
   "execution_count": 2,
   "metadata": {},
   "outputs": [
    {
     "name": "stdout",
     "output_type": "stream",
     "text": [
      "52\n"
     ]
    }
   ],
   "source": [
    "# Generate Random Number\n",
    "import random\n",
    "num = random.randint(1,100)\n",
    "print (num)"
   ]
  },
  {
   "cell_type": "code",
   "execution_count": 20,
   "metadata": {},
   "outputs": [
    {
     "name": "stdout",
     "output_type": "stream",
     "text": [
      "78\n"
     ]
    }
   ],
   "source": [
    "import random\n",
    "num = random.randint(1,100)\n",
    "print (num)\n"
   ]
  },
  {
   "cell_type": "code",
   "execution_count": 178,
   "metadata": {},
   "outputs": [],
   "source": [
    "import random\n",
    "num=random.randint(1,100)"
   ]
  },
  {
   "cell_type": "code",
   "execution_count": 179,
   "metadata": {},
   "outputs": [
    {
     "name": "stdout",
     "output_type": "stream",
     "text": [
      "95\n"
     ]
    }
   ],
   "source": [
    "print(num)"
   ]
  },
  {
   "cell_type": "code",
   "execution_count": 161,
   "metadata": {},
   "outputs": [
    {
     "name": "stdout",
     "output_type": "stream",
     "text": [
      "srivatsava live in milpitas murphy ranch rd street\n"
     ]
    }
   ],
   "source": [
    "abc = 'srivatsava live in milpitas murphy ranch rd street'\n",
    "print (abc)\n"
   ]
  },
  {
   "cell_type": "code",
   "execution_count": 171,
   "metadata": {
    "scrolled": true
   },
   "outputs": [
    {
     "name": "stdout",
     "output_type": "stream",
     "text": [
      "srivatsava\n",
      "street\n"
     ]
    }
   ],
   "source": [
    "for word in abc.split():\n",
    "    if word[0] == 's':\n",
    "        print (word)"
   ]
  },
  {
   "cell_type": "code",
   "execution_count": 183,
   "metadata": {},
   "outputs": [
    {
     "name": "stdout",
     "output_type": "stream",
     "text": [
      "world\n",
      "hello\n"
     ]
    }
   ],
   "source": [
    "def main():\n",
    "    print (\"hello\")\n",
    "print(\"world\")\n",
    "main()"
   ]
  },
  {
   "cell_type": "code",
   "execution_count": 200,
   "metadata": {},
   "outputs": [
    {
     "name": "stdout",
     "output_type": "stream",
     "text": [
      "dict_items([('Tim', 18), ('Charlie', 12), ('Tiffany', 22), ('Robert', 25)])\n"
     ]
    }
   ],
   "source": [
    "abc = {'Tim': 18,'Charlie':12,'Tiffany':22,'Robert':25}\n",
    "print(abc.items())\n",
    "\n"
   ]
  },
  {
   "cell_type": "code",
   "execution_count": 208,
   "metadata": {},
   "outputs": [],
   "source": [
    "def multiple(x,y):\n",
    "    print(x*y)\n",
    "\n"
   ]
  },
  {
   "cell_type": "code",
   "execution_count": 210,
   "metadata": {},
   "outputs": [
    {
     "name": "stdout",
     "output_type": "stream",
     "text": [
      "6\n",
      "None\n"
     ]
    }
   ],
   "source": [
    "print(multiple(2,3))"
   ]
  },
  {
   "cell_type": "code",
   "execution_count": 219,
   "metadata": {},
   "outputs": [],
   "source": [
    "def SwitchExample(argument):\n",
    "    switcher = {\n",
    "        0: \" This is Case Zero \",\n",
    "        1: \" This is Case One \",\n",
    "        2: \" This is Case Two \",\n",
    "    }\n",
    "    return switcher.get(argument, \"nothing\")"
   ]
  },
  {
   "cell_type": "code",
   "execution_count": 221,
   "metadata": {},
   "outputs": [
    {
     "data": {
      "text/plain": [
       "'nothing'"
      ]
     },
     "execution_count": 221,
     "metadata": {},
     "output_type": "execute_result"
    }
   ],
   "source": [
    "SwitchExample(4)"
   ]
  },
  {
   "cell_type": "code",
   "execution_count": 223,
   "metadata": {},
   "outputs": [
    {
     "name": "stdout",
     "output_type": "stream",
     "text": [
      "10\n",
      "11\n",
      "12\n",
      "13\n",
      "14\n"
     ]
    }
   ],
   "source": [
    "for x in range (10,20):\n",
    "\t\t\tif (x == 15): break\n",
    "\t\t\t#if (x % 2 == 0) : continue\n",
    "\t\t\tprint(x)"
   ]
  },
  {
   "cell_type": "code",
   "execution_count": 227,
   "metadata": {},
   "outputs": [
    {
     "name": "stdout",
     "output_type": "stream",
     "text": [
      "11\n",
      "12\n",
      "13\n",
      "14\n",
      "16\n",
      "17\n",
      "18\n"
     ]
    }
   ],
   "source": [
    "for x in range (10,20):\n",
    "\t\t\tif (x == 19): break\n",
    "\t\t\tif (x % 5 == 0) : continue\n",
    "\t\t\tprint(x)"
   ]
  },
  {
   "cell_type": "code",
   "execution_count": 233,
   "metadata": {},
   "outputs": [],
   "source": [
    "class myClass():\n",
    "  def method1(self):\n",
    "      print(\"Guru99\")\n",
    "        \n",
    "  \n",
    "class childClass(myClass):\n",
    "  def method1(self):\n",
    "        myClass.method1(self);\n",
    "        print (\"childClass Method1\")\n",
    "        \n",
    "  def method2(self):\n",
    "        print(\"childClass method2\")     \n",
    "         \n",
    "def main():           \n",
    "  # exercise the class methods\n",
    "  c2 = childClass()\n",
    "  c2.method1()\n",
    "  c2.method2()\n"
   ]
  },
  {
   "cell_type": "code",
   "execution_count": 235,
   "metadata": {},
   "outputs": [
    {
     "name": "stdout",
     "output_type": "stream",
     "text": [
      "Guru99\n",
      "childClass Method1\n",
      "childClass method2\n"
     ]
    }
   ],
   "source": [
    "main()"
   ]
  },
  {
   "cell_type": "code",
   "execution_count": 271,
   "metadata": {},
   "outputs": [
    {
     "name": "stdout",
     "output_type": "stream",
     "text": [
      "['guru99']\n"
     ]
    }
   ],
   "source": [
    "import re\n",
    "xx = \"guru99,education is fun\"\n",
    "r1 = re.findall(\"^\\w+\",xx)\n",
    "print(r1)"
   ]
  },
  {
   "cell_type": "code",
   "execution_count": 272,
   "metadata": {},
   "outputs": [
    {
     "name": "stdout",
     "output_type": "stream",
     "text": [
      "['we', 'are', 'splitting', 'the', 'words']\n"
     ]
    }
   ],
   "source": [
    "print((re.split(r'\\s','we are splitting the words')))"
   ]
  },
  {
   "cell_type": "code",
   "execution_count": 301,
   "metadata": {},
   "outputs": [
    {
     "data": {
      "text/plain": [
       "NoneType"
      ]
     },
     "execution_count": 301,
     "metadata": {},
     "output_type": "execute_result"
    }
   ],
   "source": [
    "import re\n",
    "list = [\"guru99 get\", \"guru99 give\", \"guru Selenium\"]\n",
    "for element in list:\n",
    "    z = re.match(\"(g\\w+)\\W(g\\w+)\", element)\n",
    "if z:\n",
    "    print((z.groups()))\n",
    "type (z)"
   ]
  },
  {
   "cell_type": "code",
   "execution_count": 300,
   "metadata": {},
   "outputs": [
    {
     "name": "stdout",
     "output_type": "stream",
     "text": [
      "Looking for \"software testing\" in \"software testing is fun?\" -> found a match!\n",
      "Looking for \"guru99\" in \"software testing is fun?\" -> no match\n"
     ]
    },
    {
     "data": {
      "text/plain": [
       "NoneType"
      ]
     },
     "execution_count": 300,
     "metadata": {},
     "output_type": "execute_result"
    }
   ],
   "source": [
    "patterns = ['software testing', 'guru99']\n",
    "text = 'software testing is fun?'\n",
    "for pattern in patterns:\n",
    "    print('Looking for \"%s\" in \"%s\" ->' % (pattern, text), end=' ')\n",
    "    if re.search(pattern, text):\n",
    "        print('found a match!')\n",
    "else:\n",
    "    print('no match')\n",
    "type (re.search(pattern, text))"
   ]
  },
  {
   "cell_type": "code",
   "execution_count": 325,
   "metadata": {},
   "outputs": [
    {
     "name": "stdout",
     "output_type": "stream",
     "text": [
      "guru99@google.com\n",
      "careerguru99@hotmail.com\n",
      "users@yahoomail.com\n"
     ]
    },
    {
     "data": {
      "text/plain": [
       "list"
      ]
     },
     "execution_count": 325,
     "metadata": {},
     "output_type": "execute_result"
    }
   ],
   "source": [
    "abc = 'guru99@google.com, careerguru99@hotmail.com, users@yahoomail.com'\n",
    "emails = re.findall(r'[\\w\\.-]+@[\\w\\.]+', abc)\n",
    "for email in emails:\n",
    "    print(email)\n",
    "type (emails)"
   ]
  },
  {
   "cell_type": "code",
   "execution_count": 327,
   "metadata": {},
   "outputs": [
    {
     "name": "stdout",
     "output_type": "stream",
     "text": [
      "['g']\n",
      "['g', 'c', 's']\n"
     ]
    }
   ],
   "source": [
    "import re\n",
    "xx = \"\"\"guru99 \n",
    "careerguru99\t\n",
    "selenium\"\"\"\n",
    "k1 = re.findall(r\"^\\w\", xx)\n",
    "k2 = re.findall(r\"^\\w\", xx, re.MULTILINE)\n",
    "print(k1)\n",
    "print(k2)"
   ]
  },
  {
   "cell_type": "code",
   "execution_count": 452,
   "metadata": {},
   "outputs": [
    {
     "name": "stdout",
     "output_type": "stream",
     "text": [
      "4\n"
     ]
    }
   ],
   "source": [
    "from datetime import date\n",
    "\n",
    "def main ():\n",
    "    a = date.today()\n",
    "    print (a.weekday())\n",
    "main()\n"
   ]
  },
  {
   "cell_type": "markdown",
   "metadata": {},
   "source": [
    "##### import calendar\n",
    "# Create a plain text calendar\n",
    "c = calendar.TextCalendar(calendar.SUNDAY)\n",
    "str = c.formatmonth(2019, 7, 3, 0)\n",
    "print (str)"
   ]
  },
  {
   "cell_type": "code",
   "execution_count": 375,
   "metadata": {},
   "outputs": [
    {
     "name": "stdout",
     "output_type": "stream",
     "text": [
      "     July 2019\n",
      "Su Mo Tu We Th Fr Sa\n",
      "    1  2  3  4  5  6\n",
      " 7  8  9 10 11 12 13\n",
      "14 15 16 17 18 19 20\n",
      "21 22 23 24 25 26 27\n",
      "28 29 30 31\n",
      "\n"
     ]
    }
   ],
   "source": [
    "# generate calendar\n",
    "import calendar\n",
    "# Create a plain text calendar\n",
    "c = calendar.TextCalendar(calendar.SUNDAY)\n",
    "str = c.formatmonth(2019,7)\n",
    "print (str)\n"
   ]
  },
  {
   "cell_type": "code",
   "execution_count": 392,
   "metadata": {},
   "outputs": [
    {
     "name": "stdout",
     "output_type": "stream",
     "text": [
      "   January  7\n",
      "  February  4\n",
      "     March  4\n",
      "     April  1\n",
      "       May  6\n",
      "      June  3\n",
      "      July  1\n",
      "    August  5\n",
      " September  2\n",
      "   October  7\n",
      "  November  4\n",
      "  December  2\n"
     ]
    }
   ],
   "source": [
    "# first monday date in each month of year\n",
    "for month in range(1, 13):\n",
    "\t\t# It retrieves a list of weeks that represent the month\n",
    "        mycal = calendar.monthcalendar(2019, month)\n",
    "\t\t# The first MONDAY has to be within the first two weeks\n",
    "        week1 = mycal[0]\n",
    "        week2 = mycal[1]\n",
    "        if week1[calendar.MONDAY] != 0:\n",
    "            auditday = week1[calendar.MONDAY]\n",
    "        else:\n",
    "        # if the first MONDAY isn't in the first week, it must be in the second week\n",
    "            auditday = week2[calendar.MONDAY]\n",
    "        print(\"%10s %2d\" % (calendar.month_name[month], auditday))"
   ]
  },
  {
   "cell_type": "code",
   "execution_count": 395,
   "metadata": {},
   "outputs": [
    {
     "name": "stdout",
     "output_type": "stream",
     "text": [
      "[0, 1, 2, 3, 4, 5, 6]\n",
      "[0, 0, 0, 0, 1, 2, 3]\n",
      "[0, 0, 0, 0, 1, 2, 3]\n",
      "[1, 2, 3, 4, 5, 6, 7]\n",
      "[0, 0, 1, 2, 3, 4, 5]\n",
      "[0, 0, 0, 0, 0, 1, 2]\n",
      "[1, 2, 3, 4, 5, 6, 7]\n",
      "[0, 0, 0, 1, 2, 3, 4]\n",
      "[0, 0, 0, 0, 0, 0, 1]\n",
      "[0, 1, 2, 3, 4, 5, 6]\n",
      "[0, 0, 0, 0, 1, 2, 3]\n",
      "[0, 0, 0, 0, 0, 0, 1]\n"
     ]
    }
   ],
   "source": [
    "for month in range(1, 13):\n",
    "\t\t# It retrieves a list of weeks that represent the month\n",
    "        mycal = calendar.monthcalendar(2019, month)\n",
    "        #print (mycal)\n",
    "        print (mycal[0])"
   ]
  },
  {
   "cell_type": "code",
   "execution_count": 402,
   "metadata": {},
   "outputs": [],
   "source": [
    "def main():\n",
    "    f= open(\"test.txt\",\"w+\")\n",
    "\n",
    "main()"
   ]
  },
  {
   "cell_type": "code",
   "execution_count": 412,
   "metadata": {},
   "outputs": [],
   "source": [
    "def main():\n",
    "    f= open(\"test.txt\",\"w+\")\n",
    "    for i in range(1,10):\n",
    "        f.write (\"This is line %d \\r \\n\" %(i+1))\n",
    "    f= open(\"text.txt\",\"a+\")\n",
    "    for i in range(1,10):\n",
    "        f.write(\"this is append %d \\r \\n\" %(i+1))\n",
    "    \n",
    "    f.close()\n",
    "     \n",
    "main()"
   ]
  },
  {
   "cell_type": "code",
   "execution_count": 415,
   "metadata": {},
   "outputs": [],
   "source": [
    "def main():\n",
    "    f= open(\"test.txt\",\"a+\")\n",
    "    for i in range(1,10):\n",
    "        f.write(\"this is append %d \\r \\n\" %(i+1))\n",
    "    \n",
    "    f.close()\n",
    "     \n",
    "main()"
   ]
  },
  {
   "cell_type": "code",
   "execution_count": 424,
   "metadata": {},
   "outputs": [
    {
     "name": "stdout",
     "output_type": "stream",
     "text": [
      "This is line 2 \n",
      " \n",
      "This is line 3 \n",
      " \n",
      "This is line 4 \n",
      " \n",
      "This is line 5 \n",
      " \n",
      "This is line 6 \n",
      " \n",
      "This is line 7 \n",
      " \n",
      "This is line 8 \n",
      " \n",
      "This is line 9 \n",
      " \n",
      "This is line 10 \n",
      " \n",
      "this is append 2 \n",
      " \n",
      "this is append 3 \n",
      " \n",
      "this is append 4 \n",
      " \n",
      "this is append 5 \n",
      " \n",
      "this is append 6 \n",
      " \n",
      "this is append 7 \n",
      " \n",
      "this is append 8 \n",
      " \n",
      "this is append 9 \n",
      " \n",
      "this is append 10 \n",
      " \n",
      "this is append 2 \n",
      " \n",
      "this is append 3 \n",
      " \n",
      "this is append 4 \n",
      " \n",
      "this is append 5 \n",
      " \n",
      "this is append 6 \n",
      " \n",
      "this is append 7 \n",
      " \n",
      "this is append 8 \n",
      " \n",
      "this is append 9 \n",
      " \n",
      "this is append 10 \n",
      " \n",
      "\n"
     ]
    }
   ],
   "source": [
    "def main():\n",
    "    f = open(\"test.txt\",\"r\")\n",
    "    if f.mode == \"r\":\n",
    "        contents = f.read()\n",
    "        print (contents)\n",
    "                \n",
    "main()\n"
   ]
  },
  {
   "cell_type": "code",
   "execution_count": 425,
   "metadata": {},
   "outputs": [
    {
     "name": "stdout",
     "output_type": "stream",
     "text": [
      "This is line 2 \n",
      "\n",
      " \n",
      "\n",
      "This is line 3 \n",
      "\n",
      " \n",
      "\n",
      "This is line 4 \n",
      "\n",
      " \n",
      "\n",
      "This is line 5 \n",
      "\n",
      " \n",
      "\n",
      "This is line 6 \n",
      "\n",
      " \n",
      "\n",
      "This is line 7 \n",
      "\n",
      " \n",
      "\n",
      "This is line 8 \n",
      "\n",
      " \n",
      "\n",
      "This is line 9 \n",
      "\n",
      " \n",
      "\n",
      "This is line 10 \n",
      "\n",
      " \n",
      "\n",
      "this is append 2 \n",
      "\n",
      " \n",
      "\n",
      "this is append 3 \n",
      "\n",
      " \n",
      "\n",
      "this is append 4 \n",
      "\n",
      " \n",
      "\n",
      "this is append 5 \n",
      "\n",
      " \n",
      "\n",
      "this is append 6 \n",
      "\n",
      " \n",
      "\n",
      "this is append 7 \n",
      "\n",
      " \n",
      "\n",
      "this is append 8 \n",
      "\n",
      " \n",
      "\n",
      "this is append 9 \n",
      "\n",
      " \n",
      "\n",
      "this is append 10 \n",
      "\n",
      " \n",
      "\n",
      "this is append 2 \n",
      "\n",
      " \n",
      "\n",
      "this is append 3 \n",
      "\n",
      " \n",
      "\n",
      "this is append 4 \n",
      "\n",
      " \n",
      "\n",
      "this is append 5 \n",
      "\n",
      " \n",
      "\n",
      "this is append 6 \n",
      "\n",
      " \n",
      "\n",
      "this is append 7 \n",
      "\n",
      " \n",
      "\n",
      "this is append 8 \n",
      "\n",
      " \n",
      "\n",
      "this is append 9 \n",
      "\n",
      " \n",
      "\n",
      "this is append 10 \n",
      "\n",
      " \n",
      "\n"
     ]
    }
   ],
   "source": [
    "def main():\n",
    "    f= open(\"test.txt\",\"r\")\n",
    "    f1 = f.readlines()\n",
    "    for x in f1:\n",
    "        print (x)\n",
    "main()"
   ]
  },
  {
   "cell_type": "code",
   "execution_count": 449,
   "metadata": {},
   "outputs": [
    {
     "name": "stdout",
     "output_type": "stream",
     "text": [
      "b'<!doctype html><html itemscope=\"\" itemtype=\"http://schema.org/WebPage\" lang=\"en\"><head><meta content=\"Search the world\\'s information, including webpages, images, videos and more. Google has many special features to help you find exactly what you\\'re looking for.\" name=\"description\"><meta content=\"noodp\" name=\"robots\"><meta content=\"text/html; charset=UTF-8\" http-equiv=\"Content-Type\"><meta content=\"/images/branding/googleg/1x/googleg_standard_color_128dp.png\" itemprop=\"image\"><title>Google</title><script nonce=\"Fphxjam2KOmv8SXdN3B2Jg==\">(function(){window.google={kEI:\\'tLgwXbLCKILB7gKkrJzQAw\\',kEXPI:\\'0,201971,1151833,1957,2423,1225,730,224,510,245,820,3151,57,152,170,206,1017,53,1229,202,32,22,186,372,91,10,57,173,2331223,329474,1294,12383,4855,32692,15247,867,12163,6381,3335,2,2,6801,369,3314,5505,224,2218,5367,575,1119,2,578,728,2068,364,58,2,1,3,1297,283,4040,3700,1268,773,2249,1408,4483,9,4558,3601,669,1050,1808,1397,81,7,1,2,488,2044,8909,4604,692,797,1220,38,918,756,119,1217,1212,152,1611,2736,1558,1503,2,631,2403,837,44,1770,3013,1161,1446,12,620,2228,656,16,321,1119,904,101,1049,198,777,1,368,1317,1463,488,29,400,471,521,97,412,598,10,168,8,109,1030,130,1353,1141,48,553,11,14,10,1269,2212,26,176,25,298,5,1245,848,323,193,532,934,18,38,158,545,117,1464,816,340,818,260,1187,1,3,1509,554,606,795,933,102,9,184,546,49,68,7,1,2,865,195,43,19,125,377,258,103,157,168,658,361,242,553,194,29,216,71,113,44,207,1,1,790,103,328,1284,16,84,135,201,81,486,39,1754,87,60,1284,144,211,394,10,204,125,120,223,5,509,205,328,33,4,91,8,161,459,41,229,501,60,497,478,114,8,5,66,1459,143,1,602,218,53,1,79,14,794,2,223,459,2,866,347,145,436,293,56,98,311,321,33,294,75,175,306,209,783,670,346,2,5912438,3011,23,8797306,4,1572,549,333,444,1,2,80,1,900,583,1,312,1,8,1,2,2132,1,1,1,1,1,414,1,748,141,59,726,3,7,563,1,2942,53,35,10,12,1,26,24,1,22304034\\',authuser:0,kscs:\\'c9c918f0_tLgwXbLCKILB7gKkrJzQAw\\',kGL:\\'US\\'};google.sn=\\'webhp\\';google.kHL=\\'en\\';google.jsfs=\\'\\';})();(function(){google.lc=[];google.li=0;google.getEI=function(a){for(var b;a&&(!a.getAttribute||!(b=a.getAttribute(\"eid\")));)a=a.parentNode;return b||google.kEI};google.getLEI=function(a){for(var b=null;a&&(!a.getAttribute||!(b=a.getAttribute(\"leid\")));)a=a.parentNode;return b};google.https=function(){return\"https:\"==window.location.protocol};google.ml=function(){return null};google.time=function(){return(new Date).getTime()};google.log=function(a,b,e,c,g){if(a=google.logUrl(a,b,e,c,g)){b=new Image;var d=google.lc,f=google.li;d[f]=b;b.onerror=b.onload=b.onabort=function(){delete d[f]};google.vel&&google.vel.lu&&google.vel.lu(a);b.src=a;google.li=f+1}};google.logUrl=function(a,b,e,c,g){var d=\"\",f=google.ls||\"\";e||-1!=b.search(\"&ei=\")||(d=\"&ei=\"+google.getEI(c),-1==b.search(\"&lei=\")&&(c=google.getLEI(c))&&(d+=\"&lei=\"+c));c=\"\";!e&&google.cshid&&-1==b.search(\"&cshid=\")&&\"slh\"!=a&&(c=\"&cshid=\"+google.cshid);a=e||\"/\"+(g||\"gen_204\")+\"?atyp=i&ct=\"+a+\"&cad=\"+b+d+f+\"&zx=\"+google.time()+c;/^http:/i.test(a)&&google.https()&&(google.ml(Error(\"a\"),!1,{src:a,glmm:1}),a=\"\");return a};}).call(this);(function(){google.y={};google.x=function(a,b){if(a)var c=a.id;else{do c=Math.random();while(google.y[c])}google.y[c]=[a,b];return!1};google.lm=[];google.plm=function(a){google.lm.push.apply(google.lm,a)};google.lq=[];google.load=function(a,b,c){google.lq.push([[a],b,c])};google.loadAll=function(a,b){google.lq.push([a,b])};}).call(this);google.f={};var a=window.location,b=a.href.indexOf(\"#\");if(0<=b){var c=a.href.substring(b+1);/(^|&)q=/.test(c)&&-1==c.indexOf(\"#\")&&a.replace(\"/search?\"+c.replace(/(^|&)fp=[^&]*/g,\"\")+\"&cad=h\")};</script><style>#gbar,#guser{font-size:13px;padding-top:1px !important;}#gbar{height:22px}#guser{padding-bottom:7px !important;text-align:right}.gbh,.gbd{border-top:1px solid #c9d7f1;font-size:1px}.gbh{height:0;position:absolute;top:24px;width:100%}@media all{.gb1{height:22px;margin-right:.5em;vertical-align:top}#gbar{float:left}}a.gb1,a.gb4{text-decoration:underline !important}a.gb1,a.gb4{color:#00c !important}.gbi .gb4{color:#dd8e27 !important}.gbf .gb4{color:#900 !important}\\n</style><style>body,td,a,p,.h{font-family:arial,sans-serif}body{margin:0;overflow-y:scroll}#gog{padding:3px 8px 0}td{line-height:.8em}.gac_m td{line-height:17px}form{margin-bottom:20px}.h{color:#36c}.q{color:#00c}.ts td{padding:0}.ts{border-collapse:collapse}em{font-weight:bold;font-style:normal}.lst{height:25px;width:496px}.gsfi,.lst{font:18px arial,sans-serif}.gsfs{font:17px arial,sans-serif}.ds{display:inline-box;display:inline-block;margin:3px 0 4px;margin-left:4px}input{font-family:inherit}a.gb1,a.gb2,a.gb3,a.gb4{color:#11c !important}body{background:#fff;color:black}a{color:#11c;text-decoration:none}a:hover,a:active{text-decoration:underline}.fl a{color:#36c}a:visited{color:#551a8b}a.gb1,a.gb4{text-decoration:underline}a.gb3:hover{text-decoration:none}#ghead a.gb2:hover{color:#fff !important}.sblc{padding-top:5px}.sblc a{display:block;margin:2px 0;margin-left:13px;font-size:11px}.lsbb{background:#eee;border:solid 1px;border-color:#ccc #999 #999 #ccc;height:30px}.lsbb{display:block}.ftl,#fll a{display:inline-block;margin:0 12px}.lsb{background:url(/images/nav_logo229.png) 0 -261px repeat-x;border:none;color:#000;cursor:pointer;height:30px;margin:0;outline:0;font:15px arial,sans-serif;vertical-align:top}.lsb:active{background:#ccc}.lst:focus{outline:none}</style><script nonce=\"Fphxjam2KOmv8SXdN3B2Jg==\"></script></head><body bgcolor=\"#fff\"><script nonce=\"Fphxjam2KOmv8SXdN3B2Jg==\">(function(){var src=\\'/images/nav_logo229.png\\';var iesg=false;document.body.onload = function(){window.n && window.n();if (document.images){new Image().src=src;}\\nif (!iesg){document.f&&document.f.q.focus();document.gbqf&&document.gbqf.q.focus();}\\n}\\n})();</script><div id=\"mngb\"> <div id=gbar><nobr><b class=gb1>Search</b> <a class=gb1 href=\"https://www.google.com/imghp?hl=en&tab=wi\">Images</a> <a class=gb1 href=\"https://maps.google.com/maps?hl=en&tab=wl\">Maps</a> <a class=gb1 href=\"https://play.google.com/?hl=en&tab=w8\">Play</a> <a class=gb1 href=\"https://www.youtube.com/?gl=US&tab=w1\">YouTube</a> <a class=gb1 href=\"https://news.google.com/nwshp?hl=en&tab=wn\">News</a> <a class=gb1 href=\"https://mail.google.com/mail/?tab=wm\">Gmail</a> <a class=gb1 href=\"https://drive.google.com/?tab=wo\">Drive</a> <a class=gb1 style=\"text-decoration:none\" href=\"https://www.google.com/intl/en/about/products?tab=wh\"><u>More</u> &raquo;</a></nobr></div><div id=guser width=100%><nobr><span id=gbn class=gbi></span><span id=gbf class=gbf></span><span id=gbe></span><a href=\"http://www.google.com/history/optout?hl=en\" class=gb4>Web History</a> | <a  href=\"/preferences?hl=en\" class=gb4>Settings</a> | <a target=_top id=gb_70 href=\"https://accounts.google.com/ServiceLogin?hl=en&passive=true&continue=https://www.google.com/\" class=gb4>Sign in</a></nobr></div><div class=gbh style=left:0></div><div class=gbh style=right:0></div> </div><center><br clear=\"all\" id=\"lgpd\"><div id=\"lga\"><img alt=\"Google\" height=\"92\" src=\"/images/branding/googlelogo/1x/googlelogo_white_background_color_272x92dp.png\" style=\"padding:28px 0 14px\" width=\"272\" id=\"hplogo\"><br><br></div><form action=\"/search\" name=\"f\"><table cellpadding=\"0\" cellspacing=\"0\"><tr valign=\"top\"><td width=\"25%\">&nbsp;</td><td align=\"center\" nowrap=\"\"><input name=\"ie\" value=\"ISO-8859-1\" type=\"hidden\"><input value=\"en\" name=\"hl\" type=\"hidden\"><input name=\"source\" type=\"hidden\" value=\"hp\"><input name=\"biw\" type=\"hidden\"><input name=\"bih\" type=\"hidden\"><div class=\"ds\" style=\"height:32px;margin:4px 0\"><input style=\"color:#000;margin:0;padding:5px 8px 0 6px;vertical-align:top\" autocomplete=\"off\" class=\"lst\" value=\"\" title=\"Google Search\" maxlength=\"2048\" name=\"q\" size=\"57\"></div><br style=\"line-height:0\"><span class=\"ds\"><span class=\"lsbb\"><input class=\"lsb\" value=\"Google Search\" name=\"btnG\" type=\"submit\"></span></span><span class=\"ds\"><span class=\"lsbb\"><input class=\"lsb\" value=\"I\\'m Feeling Lucky\" name=\"btnI\" onclick=\"if(this.form.q.value)this.checked=1; else top.location=\\'/doodles/\\'\" type=\"submit\"></span></span></td><td class=\"fl sblc\" align=\"left\" nowrap=\"\" width=\"25%\"><a href=\"/advanced_search?hl=en&amp;authuser=0\">Advanced search</a><a href=\"/language_tools?hl=en&amp;authuser=0\">Language tools</a></td></tr></table><input id=\"gbv\" name=\"gbv\" type=\"hidden\" value=\"1\"><script nonce=\"Fphxjam2KOmv8SXdN3B2Jg==\">(function(){var a,b=\"1\";if(document&&document.getElementById)if(\"undefined\"!=typeof XMLHttpRequest)b=\"2\";else if(\"undefined\"!=typeof ActiveXObject){var c,d,e=[\"MSXML2.XMLHTTP.6.0\",\"MSXML2.XMLHTTP.3.0\",\"MSXML2.XMLHTTP\",\"Microsoft.XMLHTTP\"];for(c=0;d=e[c++];)try{new ActiveXObject(d),b=\"2\"}catch(h){}}a=b;if(\"2\"==a&&-1==location.search.indexOf(\"&gbv=2\")){var f=google.gbvu,g=document.getElementById(\"gbv\");g&&(g.value=a);f&&window.setTimeout(function(){location.href=f},0)};}).call(this);</script></form><div id=\"gac_scont\"></div><div style=\"font-size:83%;min-height:3.5em\"><br></div><span id=\"footer\"><div style=\"font-size:10pt\"><div style=\"margin:19px auto;text-align:center\" id=\"fll\"><a href=\"/intl/en/ads/\">Advertising\\xa0Programs</a><a href=\"/services/\">Business Solutions</a><a href=\"/intl/en/about.html\">About Google</a></div></div><p style=\"color:#767676;font-size:8pt\">&copy; 2019 - <a href=\"/intl/en/policies/privacy/\">Privacy</a> - <a href=\"/intl/en/policies/terms/\">Terms</a></p></span></center><script nonce=\"Fphxjam2KOmv8SXdN3B2Jg==\">(function(){window.google.cdo={height:0,width:0};(function(){var a=window.innerWidth,b=window.innerHeight;if(!a||!b){var c=window.document,d=\"CSS1Compat\"==c.compatMode?c.documentElement:c.body;a=d.clientWidth;b=d.clientHeight}a&&b&&(a!=google.cdo.width||b!=google.cdo.height)&&google.log(\"\",\"\",\"/client_204?&atyp=i&biw=\"+a+\"&bih=\"+b+\"&ei=\"+google.kEI);}).call(this);})();(function(){var u=\\'/xjs/_/js/k\\\\x3dxjs.hp.en_US.IiH-1PT6OUY.O/m\\\\x3dsb_he,d/am\\\\x3dABbUBA/d\\\\x3d1/rs\\\\x3dACT90oHdNrGluU2TiCFKYGLBeP5kNgt_AQ\\';setTimeout(function(){var a=document.createElement(\"script\");a.src=u;google.timers&&google.timers.load&&google.tick&&google.tick(\"load\",\"xjsls\");document.body.appendChild(a)},0);})();(function(){window.google.xjsu=\\'/xjs/_/js/k\\\\x3dxjs.hp.en_US.IiH-1PT6OUY.O/m\\\\x3dsb_he,d/am\\\\x3dABbUBA/d\\\\x3d1/rs\\\\x3dACT90oHdNrGluU2TiCFKYGLBeP5kNgt_AQ\\';})();function _DumpException(e){throw e;}\\nfunction _F_installCss(c){}\\n(function(){google.spjs=false;google.snet=true;google.em=[];google.emw=false;})();google.sm=1;(function(){var pmc=\\'{\\\\x22Qnk92g\\\\x22:{},\\\\x22RWGcrA\\\\x22:{},\\\\x22U5B21g\\\\x22:{},\\\\x22YFCs/g\\\\x22:{},\\\\x22ZI/YVQ\\\\x22:{},\\\\x22d\\\\x22:{},\\\\x22mVopag\\\\x22:{},\\\\x22sb_he\\\\x22:{\\\\x22agen\\\\x22:true,\\\\x22cgen\\\\x22:true,\\\\x22client\\\\x22:\\\\x22heirloom-hp\\\\x22,\\\\x22dh\\\\x22:true,\\\\x22dhqt\\\\x22:true,\\\\x22ds\\\\x22:\\\\x22\\\\x22,\\\\x22ffql\\\\x22:\\\\x22en\\\\x22,\\\\x22fl\\\\x22:true,\\\\x22host\\\\x22:\\\\x22google.com\\\\x22,\\\\x22isbh\\\\x22:28,\\\\x22jsonp\\\\x22:true,\\\\x22msgs\\\\x22:{\\\\x22cibl\\\\x22:\\\\x22Clear Search\\\\x22,\\\\x22dym\\\\x22:\\\\x22Did you mean:\\\\x22,\\\\x22lcky\\\\x22:\\\\x22I\\\\\\\\u0026#39;m Feeling Lucky\\\\x22,\\\\x22lml\\\\x22:\\\\x22Learn more\\\\x22,\\\\x22oskt\\\\x22:\\\\x22Input tools\\\\x22,\\\\x22psrc\\\\x22:\\\\x22This search was removed from your \\\\\\\\u003Ca href\\\\x3d\\\\\\\\\\\\x22/history\\\\\\\\\\\\x22\\\\\\\\u003EWeb History\\\\\\\\u003C/a\\\\\\\\u003E\\\\x22,\\\\x22psrl\\\\x22:\\\\x22Remove\\\\x22,\\\\x22sbit\\\\x22:\\\\x22Search by image\\\\x22,\\\\x22srch\\\\x22:\\\\x22Google Search\\\\x22},\\\\x22ovr\\\\x22:{},\\\\x22pq\\\\x22:\\\\x22\\\\x22,\\\\x22refpd\\\\x22:true,\\\\x22rfs\\\\x22:[],\\\\x22sbpl\\\\x22:24,\\\\x22sbpr\\\\x22:24,\\\\x22scd\\\\x22:10,\\\\x22sce\\\\x22:5,\\\\x22stok\\\\x22:\\\\x22bVqfNJ4ahzU0bEyyAKhItwwvjfk\\\\x22,\\\\x22uhde\\\\x22:false}}\\';google.pmc=JSON.parse(pmc);})();</script>        </body></html>'\n"
     ]
    }
   ],
   "source": [
    "#\n",
    "# read the data from the URL and print it\n",
    "#\n",
    "import urllib.request\n",
    "# open a connection to a URL using urllib\n",
    "webUrl  = urllib.request.urlopen('https://www.google.com')\n",
    "\n",
    "# read the data from the URL and print it\n",
    "data = webUrl.read()\n",
    "print (data)"
   ]
  },
  {
   "cell_type": "code",
   "execution_count": 457,
   "metadata": {},
   "outputs": [
    {
     "name": "stdout",
     "output_type": "stream",
     "text": [
      "Enter your input: \n",
      "Received input is :  \n"
     ]
    }
   ],
   "source": [
    "str = input(\"Enter your input: \");\n",
    "print (\"Received input is : \", str)"
   ]
  },
  {
   "cell_type": "code",
   "execution_count": 460,
   "metadata": {},
   "outputs": [
    {
     "data": {
      "text/plain": [
       "'C:\\\\Users\\\\suppuletix067037'"
      ]
     },
     "execution_count": 460,
     "metadata": {},
     "output_type": "execute_result"
    }
   ],
   "source": [
    "\n",
    "os.getcwd()"
   ]
  },
  {
   "cell_type": "code",
   "execution_count": 462,
   "metadata": {},
   "outputs": [
    {
     "data": {
      "text/plain": [
       "'C:\\\\Users\\\\suppuletix067037'"
      ]
     },
     "execution_count": 462,
     "metadata": {},
     "output_type": "execute_result"
    }
   ],
   "source": [
    "os.getcwd()"
   ]
  },
  {
   "cell_type": "code",
   "execution_count": 479,
   "metadata": {},
   "outputs": [
    {
     "name": "stdout",
     "output_type": "stream",
     "text": [
      "matchObj.group(1) :  srivatsava\n"
     ]
    }
   ],
   "source": [
    "import re\n",
    "abc = \"srivatsava is BI developer\"\n",
    "matchObj = re.match( r'(.*) is (.*?) .*', abc, re.M|re.I)\n",
    "print (\"matchObj.group(1) : \", matchObj.group(1))"
   ]
  },
  {
   "cell_type": "code",
   "execution_count": 478,
   "metadata": {},
   "outputs": [
    {
     "name": "stdout",
     "output_type": "stream",
     "text": [
      "Phone Num :  2004-959-559 \n",
      "Phone Num :  2004959559\n"
     ]
    }
   ],
   "source": [
    "import re\n",
    "\n",
    "phone = \"2004-959-559 # This is Phone Number\"\n",
    "\n",
    "# Delete Python-style comments\n",
    "num = re.sub(r'#.*$', \"\", phone)\n",
    "print (\"Phone Num : \", num)\n",
    "\n",
    "# Remove anything other than digits\n",
    "num = re.sub(r'\\D', \"\", phone)    \n",
    "print (\"Phone Num : \", num)"
   ]
  },
  {
   "cell_type": "code",
   "execution_count": 8,
   "metadata": {},
   "outputs": [
    {
     "name": "stdout",
     "output_type": "stream",
     "text": [
      "Twinkle, twinkle, little star,\n",
      "            How I wonder what you are! \n",
      "Up above the world so high, \n",
      "Like a diamond in the sky. \n",
      "Twinkle, twinkle, little star, \n",
      "How I wonder what you are\n"
     ]
    }
   ],
   "source": [
    "print(\"\"\"Twinkle, twinkle, little star,\n",
    "            How I wonder what you are! \n",
    "Up above the world so high, \n",
    "Like a diamond in the sky. \n",
    "Twinkle, twinkle, little star, \n",
    "How I wonder what you are\"\"\")"
   ]
  },
  {
   "cell_type": "code",
   "execution_count": 12,
   "metadata": {},
   "outputs": [
    {
     "name": "stdout",
     "output_type": "stream",
     "text": [
      "python version\n",
      "3.7.1 (default, Dec 10 2018, 22:54:23) [MSC v.1915 64 bit (AMD64)]\n",
      "sys.version_info(major=3, minor=7, micro=1, releaselevel='final', serial=0)\n"
     ]
    }
   ],
   "source": [
    "# current python version\n",
    "import sys\n",
    "print(\"python version\")\n",
    "print(sys.version)\n",
    "print(sys.version_info)"
   ]
  },
  {
   "cell_type": "code",
   "execution_count": 4,
   "metadata": {},
   "outputs": [
    {
     "name": "stdout",
     "output_type": "stream",
     "text": [
      "2019-07-23 11:57:04.578873\n"
     ]
    }
   ],
   "source": [
    "# Current date and time\n",
    "import datetime\n",
    "print(datetime.datetime.now())\n"
   ]
  },
  {
   "cell_type": "code",
   "execution_count": 1,
   "metadata": {},
   "outputs": [
    {
     "name": "stdout",
     "output_type": "stream",
     "text": [
      "enter radius7\n",
      "Area of circle 153.93804002589985\n"
     ]
    }
   ],
   "source": [
    "# area of circle\n",
    "from math import pi\n",
    "r = float( input(\"enter radius\"))\n",
    "print(\"Area of circle \" + str(pi*r**2))"
   ]
  },
  {
   "cell_type": "code",
   "execution_count": 2,
   "metadata": {},
   "outputs": [
    {
     "name": "stdout",
     "output_type": "stream",
     "text": [
      "enter first name srivatsava\n",
      "enter last name uppuleti\n",
      "uppuleti srivatsava\n"
     ]
    }
   ],
   "source": [
    "# string reverse\n",
    "first= str(input (\"enter first name \"))\n",
    "last= input (\"enter last name \")\n",
    "print(last + \" \" + first)"
   ]
  },
  {
   "cell_type": "code",
   "execution_count": 10,
   "metadata": {},
   "outputs": [
    {
     "name": "stdout",
     "output_type": "stream",
     "text": [
      "Enter numbers 1,2,345,asc41,hkjf*$3d\n",
      "('1', '2', '345', 'asc41', 'hkjf*$3d')\n"
     ]
    }
   ],
   "source": [
    "#comma separated list to tuples\n",
    "a = input(\"Enter numbers \")\n",
    "b = a.split(\",\")\n",
    "print(tuple(b))\n",
    "               "
   ]
  },
  {
   "cell_type": "code",
   "execution_count": 2,
   "metadata": {},
   "outputs": [
    {
     "name": "stdout",
     "output_type": "stream",
     "text": [
      "Enter File Name sri.vatsav.py\n",
      "File extension is py\n"
     ]
    }
   ],
   "source": [
    "# Derive the file extension\n",
    "a = input(\"Enter File Name \")\n",
    "b = a.split(\".\")\n",
    "print (\"File extension is \" + b[-1])"
   ]
  },
  {
   "cell_type": "code",
   "execution_count": 6,
   "metadata": {},
   "outputs": [
    {
     "name": "stdout",
     "output_type": "stream",
     "text": [
      "First color is Red\n",
      "First color is Black\n"
     ]
    }
   ],
   "source": [
    "# Print first and last color\n",
    "color_list = [\"Red\",\"Green\",\"White\" ,\"Black\"]\n",
    "print(\"First color is \" + color_list[0])\n",
    "print(\"First color is \" + color_list[-1])"
   ]
  },
  {
   "cell_type": "code",
   "execution_count": 9,
   "metadata": {},
   "outputs": [
    {
     "name": "stdout",
     "output_type": "stream",
     "text": [
      "Examination starts from 12/12/2019\n"
     ]
    }
   ],
   "source": [
    "# Print exam date\n",
    "exam_date = (12,12,2019)\n",
    "print(\"Examination starts from %i/%i/%i\" %exam_date)"
   ]
  },
  {
   "cell_type": "code",
   "execution_count": 14,
   "metadata": {},
   "outputs": [
    {
     "name": "stdout",
     "output_type": "stream",
     "text": [
      "Enter the value5\n",
      "615\n"
     ]
    }
   ],
   "source": [
    "# calculate n+nn+nnn\n",
    "\n",
    "a = int(input(\"Enter the value\"))\n",
    "b = int(\"%i%i\" %(a,a))\n",
    "c = int(\"%i%i%i\" %(a,a,a))\n",
    "print(a+b+c)"
   ]
  },
  {
   "cell_type": "code",
   "execution_count": 16,
   "metadata": {},
   "outputs": [
    {
     "name": "stdout",
     "output_type": "stream",
     "text": [
      "Return the absolute value of the argument.\n"
     ]
    }
   ],
   "source": [
    "print(abs.__doc__)"
   ]
  },
  {
   "cell_type": "code",
   "execution_count": 20,
   "metadata": {},
   "outputs": [
    {
     "name": "stdout",
     "output_type": "stream",
     "text": [
      "Built-in mutable sequence.\n",
      "\n",
      "If no argument is given, the constructor creates a new empty list.\n",
      "The argument must be an iterable if specified.\n"
     ]
    }
   ],
   "source": [
    "print(list.__doc__)"
   ]
  },
  {
   "cell_type": "code",
   "execution_count": 32,
   "metadata": {},
   "outputs": [
    {
     "name": "stdout",
     "output_type": "stream",
     "text": [
      "                                  2019\n",
      "\n",
      "      January                   February                   March\n",
      "Mo Tu We Th Fr Sa Su      Mo Tu We Th Fr Sa Su      Mo Tu We Th Fr Sa Su\n",
      "    1  2  3  4  5  6                   1  2  3                   1  2  3\n",
      " 7  8  9 10 11 12 13       4  5  6  7  8  9 10       4  5  6  7  8  9 10\n",
      "14 15 16 17 18 19 20      11 12 13 14 15 16 17      11 12 13 14 15 16 17\n",
      "21 22 23 24 25 26 27      18 19 20 21 22 23 24      18 19 20 21 22 23 24\n",
      "28 29 30 31               25 26 27 28               25 26 27 28 29 30 31\n",
      "\n",
      "       April                      May                       June\n",
      "Mo Tu We Th Fr Sa Su      Mo Tu We Th Fr Sa Su      Mo Tu We Th Fr Sa Su\n",
      " 1  2  3  4  5  6  7             1  2  3  4  5                      1  2\n",
      " 8  9 10 11 12 13 14       6  7  8  9 10 11 12       3  4  5  6  7  8  9\n",
      "15 16 17 18 19 20 21      13 14 15 16 17 18 19      10 11 12 13 14 15 16\n",
      "22 23 24 25 26 27 28      20 21 22 23 24 25 26      17 18 19 20 21 22 23\n",
      "29 30                     27 28 29 30 31            24 25 26 27 28 29 30\n",
      "\n",
      "        July                     August                  September\n",
      "Mo Tu We Th Fr Sa Su      Mo Tu We Th Fr Sa Su      Mo Tu We Th Fr Sa Su\n",
      " 1  2  3  4  5  6  7                1  2  3  4                         1\n",
      " 8  9 10 11 12 13 14       5  6  7  8  9 10 11       2  3  4  5  6  7  8\n",
      "15 16 17 18 19 20 21      12 13 14 15 16 17 18       9 10 11 12 13 14 15\n",
      "22 23 24 25 26 27 28      19 20 21 22 23 24 25      16 17 18 19 20 21 22\n",
      "29 30 31                  26 27 28 29 30 31         23 24 25 26 27 28 29\n",
      "                                                    30\n",
      "\n",
      "      October                   November                  December\n",
      "Mo Tu We Th Fr Sa Su      Mo Tu We Th Fr Sa Su      Mo Tu We Th Fr Sa Su\n",
      "    1  2  3  4  5  6                   1  2  3                         1\n",
      " 7  8  9 10 11 12 13       4  5  6  7  8  9 10       2  3  4  5  6  7  8\n",
      "14 15 16 17 18 19 20      11 12 13 14 15 16 17       9 10 11 12 13 14 15\n",
      "21 22 23 24 25 26 27      18 19 20 21 22 23 24      16 17 18 19 20 21 22\n",
      "28 29 30 31               25 26 27 28 29 30         23 24 25 26 27 28 29\n",
      "                                                    30 31\n",
      "\n"
     ]
    }
   ],
   "source": [
    "# print Calendar\n",
    "\n",
    "import calendar\n",
    "\n",
    "a = calendar.calendar(2019,0)\n",
    "print(a)"
   ]
  },
  {
   "cell_type": "code",
   "execution_count": 38,
   "metadata": {},
   "outputs": [
    {
     "name": "stdout",
     "output_type": "stream",
     "text": [
      "Enter Year: 2019\n",
      "Enter Month: 7\n",
      "     July 2019\n",
      "Mo Tu We Th Fr Sa Su\n",
      " 1  2  3  4  5  6  7\n",
      " 8  9 10 11 12 13 14\n",
      "15 16 17 18 19 20 21\n",
      "22 23 24 25 26 27 28\n",
      "29 30 31\n",
      "\n"
     ]
    }
   ],
   "source": [
    "# print month of a year\n",
    "\n",
    "import calendar\n",
    "\n",
    "a = int(input (\"Enter Year: \"))\n",
    "b = int(input (\"Enter Month: \"))\n",
    "\n",
    "print (calendar.month(a,b))\n"
   ]
  },
  {
   "cell_type": "code",
   "execution_count": 40,
   "metadata": {},
   "outputs": [
    {
     "name": "stdout",
     "output_type": "stream",
     "text": [
      "\n",
      "a string that you \"don't\" have to escape\n",
      "This\n",
      "is a  ....... multi-line\n",
      "heredoc string --------> example\n",
      "\n"
     ]
    }
   ],
   "source": [
    "print(\"\"\"\n",
    "a string that you \"don't\" have to escape\n",
    "This\n",
    "is a  ....... multi-line\n",
    "heredoc string --------> example\n",
    "\"\"\")"
   ]
  },
  {
   "cell_type": "code",
   "execution_count": 57,
   "metadata": {},
   "outputs": [
    {
     "name": "stdout",
     "output_type": "stream",
     "text": [
      "12 days, 0:00:00\n",
      "12\n"
     ]
    }
   ],
   "source": [
    "# Calculate dates between two dates\n",
    "\n",
    "from datetime import date\n",
    "\n",
    "a = date(2019,12,10)\n",
    "b = date(2019,12,22)\n",
    "\n",
    "c = b - a\n",
    "print(c)\n",
    "print(c.days)"
   ]
  },
  {
   "cell_type": "code",
   "execution_count": 76,
   "metadata": {},
   "outputs": [
    {
     "name": "stdout",
     "output_type": "stream",
     "text": [
      "Enter radius:6\n",
      "904.7786842338603\n"
     ]
    }
   ],
   "source": [
    "# Volume of Sphere\n",
    "\n",
    "from math import pi\n",
    "\n",
    "r = int(input(\"Enter radius:\"))\n",
    "print(4/3*pi*r**3)"
   ]
  },
  {
   "cell_type": "code",
   "execution_count": 85,
   "metadata": {},
   "outputs": [
    {
     "name": "stdout",
     "output_type": "stream",
     "text": [
      "Enter value: 22\n",
      "10\n"
     ]
    }
   ],
   "source": [
    "# difference between given number and 17\n",
    "\n",
    "a = int(input(\"Enter value: \"))\n",
    "b = a - 17\n",
    "if b < 0:\n",
    "    print (abs(b))\n",
    "else:\n",
    "    print (b*2)"
   ]
  },
  {
   "cell_type": "code",
   "execution_count": null,
   "metadata": {},
   "outputs": [],
   "source": [
    "#check if a given number is with in 100 difference range of 1000 or 2000\n",
    "\n",
    "a = int(input(\"Enter Value: \"))\n",
    "def range(a):\n",
    "    if (abs(a-1000)<=100) or (abs(a-2000)<=100):\n",
    "        print(\"with in 100 difference range 1000 or 2000\")\n",
    "    else:\n",
    "        print(\"Not with in 100 difference range of 1000 or 2000\")\n",
    "range(a)"
   ]
  },
  {
   "cell_type": "code",
   "execution_count": null,
   "metadata": {},
   "outputs": [],
   "source": [
    "# sum of three numbers and if numbers are same then return three times of sum\n",
    "\n",
    "a = int(input(\"Enter value1: \"))\n",
    "b = int(input(\"Enter value2: \"))\n",
    "c = int(input(\"Enter value3: \"))       \n",
    "\n",
    "def sum(a,b,c):\n",
    "        if (a==b) and (b==c):\n",
    "            return (a+b+c)*3\n",
    "        else:\n",
    "            return (a+b+c)\n",
    "                   \n",
    "\n",
    "sum(a,b,c)        "
   ]
  },
  {
   "cell_type": "code",
   "execution_count": 1,
   "metadata": {},
   "outputs": [
    {
     "name": "stdout",
     "output_type": "stream",
     "text": [
      "Enter name: sri\n"
     ]
    },
    {
     "data": {
      "text/plain": [
       "'issri'"
      ]
     },
     "execution_count": 1,
     "metadata": {},
     "output_type": "execute_result"
    }
   ],
   "source": [
    "# append IS to beginning of string, if string already has it then no change\n",
    "\n",
    "a = input(\"Enter name: \")\n",
    "def stringappend():\n",
    "    if (a[0] == 'i') and (a[1] == 's'):\n",
    "        return a\n",
    "    else:\n",
    "        return \"is\"+ a\n",
    "stringappend()"
   ]
  },
  {
   "cell_type": "code",
   "execution_count": null,
   "metadata": {},
   "outputs": [],
   "source": [
    "# repeat a string n number of times\n",
    "\n",
    "a = input(\"Enter name: \")\n",
    "b = int(input(\"Enter number of times: \"))\n",
    "\n",
    "def name():\n",
    "    if b > 0:\n",
    "        return a*b\n",
    "    else:\n",
    "        print (\"Please enter positive number\")\n",
    "name()\n",
    "    "
   ]
  },
  {
   "cell_type": "code",
   "execution_count": null,
   "metadata": {},
   "outputs": [],
   "source": [
    "# Even or Odd\n",
    "\n",
    "a = int(input(\"Enter number: \"))\n",
    "if a%2 == 0:\n",
    "        print(\"Given number is even\")\n",
    "else:\n",
    "    print(\"Given number is odd\")"
   ]
  },
  {
   "cell_type": "code",
   "execution_count": 7,
   "metadata": {},
   "outputs": [
    {
     "data": {
      "text/plain": [
       "5"
      ]
     },
     "execution_count": 7,
     "metadata": {},
     "output_type": "execute_result"
    }
   ],
   "source": [
    "# count occurences of 4\n",
    "\n",
    "def count(a):\n",
    "    n=0\n",
    "    for x in a:\n",
    "        if x == 4:\n",
    "            n=n+1\n",
    "    return n\n",
    "\n",
    "count([4,1,41,3,4,5,6,4,7,4,9,4])"
   ]
  },
  {
   "cell_type": "code",
   "execution_count": null,
   "metadata": {},
   "outputs": [],
   "source": [
    "# n times of first two characters of string\n",
    "a = input(\"Enter value: \")\n",
    "n = int(input(\"Enter number: \"))\n",
    "def string():\n",
    "    if len(a)<2:\n",
    "        return a\n",
    "    else:\n",
    "        b = a[0:2]\n",
    "        return b*n\n",
    "string()\n",
    "        "
   ]
  },
  {
   "cell_type": "code",
   "execution_count": 13,
   "metadata": {},
   "outputs": [
    {
     "name": "stdout",
     "output_type": "stream",
     "text": [
      "Enter word: vatsav\n",
      "not vowel\n",
      "its vowel\n",
      "not vowel\n",
      "not vowel\n",
      "its vowel\n",
      "not vowel\n"
     ]
    }
   ],
   "source": [
    "# letter is vowel\n",
    "\n",
    "a = input(\"Enter word: \")\n",
    "for x in a:\n",
    "    if x in 'aeiou':\n",
    "        print(\"its vowel\")\n",
    "    else:\n",
    "        print(\"not vowel\")"
   ]
  },
  {
   "cell_type": "code",
   "execution_count": 14,
   "metadata": {},
   "outputs": [
    {
     "name": "stdout",
     "output_type": "stream",
     "text": [
      "Enter Name: vatsav\n",
      "its not vowel\n",
      "its vowel\n",
      "its not vowel\n",
      "its not vowel\n",
      "its vowel\n",
      "its not vowel\n"
     ]
    }
   ],
   "source": [
    "#letter is vowel\n",
    "a = input(\"Enter Name: \")\n",
    "def vowels(a):\n",
    "    for x in a:\n",
    "        if x in 'aeiou':\n",
    "            print(\"its vowel\")\n",
    "        else:\n",
    "            print(\"its not vowel\")\n",
    "vowels(a)"
   ]
  },
  {
   "cell_type": "code",
   "execution_count": null,
   "metadata": {},
   "outputs": [],
   "source": [
    "# value exists in group\n",
    "\n",
    "a = int(input(\"Enter number: \"))\n",
    "b = [1,3,7,4,9]\n",
    "\n",
    "if a in b:\n",
    "       print(str(a) +\" is in list\")\n",
    "else:\n",
    "     print(str(a) +\" is not in list\")"
   ]
  },
  {
   "cell_type": "code",
   "execution_count": 7,
   "metadata": {},
   "outputs": [
    {
     "name": "stdout",
     "output_type": "stream",
     "text": [
      "@@@@@@@@@@@@@@@@@@@@@@@\n",
      "@@@\n",
      "@@@@@@\n",
      "@@@@@\n"
     ]
    }
   ],
   "source": [
    "# histogram\n",
    "a=\"@\"\n",
    "b=[23,3,6,5]\n",
    "for i in range(0,len(b)):\n",
    "    c=a*b[i]\n",
    "    print(c)"
   ]
  },
  {
   "cell_type": "code",
   "execution_count": null,
   "metadata": {},
   "outputs": [],
   "source": [
    "# concatenate elements of list to string\n",
    "\n",
    "a = input(\"Enter List: \")\n",
    "b = a.split(',')\n",
    "c = ' '\n",
    "for x in b:\n",
    "    c += str(x)\n",
    "print(c)"
   ]
  },
  {
   "cell_type": "code",
   "execution_count": 25,
   "metadata": {},
   "outputs": [
    {
     "name": "stdout",
     "output_type": "stream",
     "text": [
      "4\n",
      "32\n",
      "34\n",
      "56\n",
      "237\n"
     ]
    }
   ],
   "source": [
    "# print even numbers until 237\n",
    "a = [4,32,5,7,34,56,55,73,237,88,42]\n",
    "for x in a:\n",
    "    if x == 237:\n",
    "        print (x)\n",
    "        break\n",
    "    elif x%2==0:\n",
    "        print(x)   \n",
    "        \n"
   ]
  },
  {
   "cell_type": "code",
   "execution_count": 52,
   "metadata": {},
   "outputs": [
    {
     "name": "stdout",
     "output_type": "stream",
     "text": [
      "{'Black', 'White'}\n",
      "{'Black', 'White'}\n"
     ]
    }
   ],
   "source": [
    "# color difference \n",
    "color_list_1 = set([\"White\", \"Black\", \"Red\"]) \n",
    "color_list_2 = set([\"Red\", \"Green\"])\n",
    "\n",
    "print (color_list_1 - color_list_2)\n",
    "print (color_list_1.difference(color_list_2))"
   ]
  },
  {
   "cell_type": "code",
   "execution_count": null,
   "metadata": {},
   "outputs": [],
   "source": [
    "# area of traingle\n",
    "\n",
    "b = float(input(\"Enter base of Traingle: \"))\n",
    "h = float(input(\"Enter height of Traingle: \"))\n",
    "\n",
    "a = (1/2)*b*h\n",
    "print(\"area of triangle: \", a)"
   ]
  },
  {
   "cell_type": "markdown",
   "metadata": {},
   "source": [
    "#### GCD\n",
    "\n",
    "a = int(input(\"Enter Number1: \"))\n",
    "b = int(input(\"Enter Number2: \"))\n",
    "\n",
    "def GCD(a,b):\n",
    "    if a%b == 0:\n",
    "        return b\n",
    "    else:\n",
    "        for c in range(int(b/2),0,-1):\n",
    "            if (a%c == 0) & (b%c ==0):\n",
    "                return c\n",
    "GCD(a,b)    \n",
    "    "
   ]
  },
  {
   "cell_type": "code",
   "execution_count": 12,
   "metadata": {},
   "outputs": [
    {
     "name": "stdout",
     "output_type": "stream",
     "text": [
      "Enter Number1: 24\n",
      "Enter Number2: 36\n"
     ]
    },
    {
     "data": {
      "text/plain": [
       "12"
      ]
     },
     "execution_count": 12,
     "metadata": {},
     "output_type": "execute_result"
    }
   ],
   "source": [
    "#### GCD greatest common division\n",
    "\n",
    "a = int(input(\"Enter Number1: \"))\n",
    "b = int(input(\"Enter Number2: \"))\n",
    "\n",
    "def GCD(a,b):\n",
    "    if a%b == 0:\n",
    "        return b\n",
    "    else:\n",
    "        for c in range(int(b/2),0,-1):\n",
    "            if (a%c == 0) & (b%c ==0):\n",
    "                return c\n",
    "GCD(a,b)  "
   ]
  },
  {
   "cell_type": "code",
   "execution_count": null,
   "metadata": {},
   "outputs": [],
   "source": [
    "# LCM\n",
    "\n",
    "x = int(input('Input first integer: '))\n",
    "y = int(input('Input second integer: ')) \n",
    "z = max(x, y)\n",
    "\n",
    "while(True):\n",
    "    if (z % x == 0) and (z % y == 0):\n",
    "        lcm = z\n",
    "        break\n",
    "        z += 1\n",
    "\n",
    "print(z)"
   ]
  },
  {
   "cell_type": "code",
   "execution_count": null,
   "metadata": {},
   "outputs": [],
   "source": [
    "# sum of 3 integers and 0 if any two are same\n",
    "\n",
    "a = int(input(\"Enter value1: \"))\n",
    "b = int(input(\"Enter value2: \"))\n",
    "c = int(input(\"Enter value3: \"))\n",
    "\n",
    "def sumthree():\n",
    "    if (a==b) or (b==c) or (a==c):\n",
    "        return 0\n",
    "    else:\n",
    "        return (a+b+c)\n",
    "    \n",
    "sumthree()\n"
   ]
  },
  {
   "cell_type": "code",
   "execution_count": null,
   "metadata": {},
   "outputs": [],
   "source": [
    "# sum of two integers between 15 and 20 then 20\n",
    "\n",
    "a = int(input(\"Enter value1: \"))\n",
    "b = int(input(\"Enter value2: \"))\n",
    "\n",
    "def sumtwo():\n",
    "    c = a+b\n",
    "    if c in range(15,20):\n",
    "        return 20\n",
    "    else:\n",
    "        return c\n",
    "sumtwo()"
   ]
  },
  {
   "cell_type": "code",
   "execution_count": 10,
   "metadata": {},
   "outputs": [
    {
     "name": "stdout",
     "output_type": "stream",
     "text": [
      "Enter value1: 10\n",
      "Enter value2: 15\n"
     ]
    },
    {
     "data": {
      "text/plain": [
       "True"
      ]
     },
     "execution_count": 10,
     "metadata": {},
     "output_type": "execute_result"
    }
   ],
   "source": [
    "# two intergers are equal or sum or difference is 5 then true\n",
    "\n",
    "a = int(input(\"Enter value1: \"))\n",
    "b = int(input(\"Enter value2: \"))\n",
    "\n",
    "def intequal():\n",
    "    c = a+b\n",
    "    d = a-b\n",
    "    if ((a==b) or (c ==5) or (abs(d) ==5)):\n",
    "        return True\n",
    "intequal()"
   ]
  },
  {
   "cell_type": "code",
   "execution_count": 15,
   "metadata": {},
   "outputs": [
    {
     "data": {
      "text/plain": [
       "23"
      ]
     },
     "execution_count": 15,
     "metadata": {},
     "output_type": "execute_result"
    }
   ],
   "source": [
    "# add if integer\n",
    "\n",
    "def intsum(a,b):\n",
    "    if type(a) == int and type(b)==int:\n",
    "        return a+b\n",
    "    else:\n",
    "        return \"not integer\"\n",
    "    \n",
    "intsum(5,18)\n",
    "    "
   ]
  },
  {
   "cell_type": "code",
   "execution_count": null,
   "metadata": {},
   "outputs": [],
   "source": [
    "a = input(\"Enter Name: \")\n",
    "b = input(\"Enter Age: \")\n",
    "c = input(\"Enter Address: \")\n",
    "\n",
    "print(\"name: {}\\nage:{}\\naddress:{}\".format(a,b,c))"
   ]
  },
  {
   "cell_type": "code",
   "execution_count": null,
   "metadata": {},
   "outputs": [],
   "source": [
    "a = int(input(\"Enter value x:\"))\n",
    "b = int(input(\"Enter value y:\"))\n",
    "\n",
    "print((a+b)**2)"
   ]
  },
  {
   "cell_type": "code",
   "execution_count": 9,
   "metadata": {},
   "outputs": [
    {
     "name": "stdout",
     "output_type": "stream",
     "text": [
      "12722.79\n",
      "1.2722792627665729\n",
      "0.035\n",
      "1.035\n",
      "1.2722792627665729\n",
      "125\n"
     ]
    }
   ],
   "source": [
    "amt = 10000\n",
    "int = 3.5\n",
    "years = 7\n",
    "\n",
    "future_value  = amt*((1+(0.01*int)) ** years)\n",
    "a = ((1+(0.01*int)) ** years)\n",
    "b = 0.01*int\n",
    "c = (1+(0.01*int))\n",
    "d = ((1+(0.01*int)) ** years)\n",
    "e = 5**3\n",
    "print(round(future_value,2))\n",
    "print (a)\n",
    "print(b)\n",
    "print(c)\n",
    "print(d)\n",
    "print(e)"
   ]
  },
  {
   "cell_type": "code",
   "execution_count": 11,
   "metadata": {},
   "outputs": [
    {
     "name": "stdout",
     "output_type": "stream",
     "text": [
      "6.324555320336759\n"
     ]
    }
   ],
   "source": [
    "# Distance between two points\n",
    "import math\n",
    "p1 = [4, 0]\n",
    "p2 = [6, 6]\n",
    "distance = math.sqrt( ((p1[0]-p2[0])**2)+((p1[1]-p2[1])**2) )\n",
    "\n",
    "print(distance)"
   ]
  },
  {
   "cell_type": "code",
   "execution_count": 14,
   "metadata": {},
   "outputs": [
    {
     "name": "stdout",
     "output_type": "stream",
     "text": [
      "False\n"
     ]
    }
   ],
   "source": [
    "import os.path\n",
    "open('test.txt', 'w')\n",
    "print(os.path.isfile('abc.txt'))"
   ]
  },
  {
   "cell_type": "code",
   "execution_count": 16,
   "metadata": {},
   "outputs": [
    {
     "name": "stdout",
     "output_type": "stream",
     "text": [
      "64\n"
     ]
    }
   ],
   "source": [
    "#Python shell is executing in 32bit or 64bit mode on OS\n",
    "import struct\n",
    "print(struct.calcsize(\"P\") * 8)"
   ]
  },
  {
   "cell_type": "code",
   "execution_count": 18,
   "metadata": {},
   "outputs": [
    {
     "name": "stdout",
     "output_type": "stream",
     "text": [
      "3.7.1 (default, Dec 10 2018, 22:54:23) [MSC v.1915 64 bit (AMD64)]\n"
     ]
    }
   ],
   "source": [
    "import sys\n",
    "\n",
    "print(sys.version)"
   ]
  },
  {
   "cell_type": "code",
   "execution_count": 28,
   "metadata": {},
   "outputs": [
    {
     "name": "stdout",
     "output_type": "stream",
     "text": [
      "nt\n",
      "Windows\n",
      "10\n",
      "10.0.17134\n",
      "3.7.1 (default, Dec 10 2018, 22:54:23) [MSC v.1915 64 bit (AMD64)]\n"
     ]
    }
   ],
   "source": [
    "# OS Name system release\n",
    "import os\n",
    "import platform\n",
    "import sys\n",
    "print(os.name)\n",
    "print(platform.system())\n",
    "print(platform.release())\n",
    "print(platform.version())\n",
    "print(sys.version)"
   ]
  },
  {
   "cell_type": "code",
   "execution_count": 30,
   "metadata": {},
   "outputs": [
    {
     "name": "stdout",
     "output_type": "stream",
     "text": [
      "['C:\\\\Users\\\\suppuletix067037\\\\AppData\\\\Local\\\\Continuum\\\\anaconda3', 'C:\\\\Users\\\\suppuletix067037\\\\AppData\\\\Local\\\\Continuum\\\\anaconda3\\\\lib\\\\site-packages']\n"
     ]
    }
   ],
   "source": [
    "# site packages\n",
    "import site\n",
    "print(site.getsitepackages())\n"
   ]
  },
  {
   "cell_type": "code",
   "execution_count": 32,
   "metadata": {},
   "outputs": [
    {
     "ename": "FileNotFoundError",
     "evalue": "[WinError 2] The system cannot find the file specified",
     "output_type": "error",
     "traceback": [
      "\u001b[1;31m---------------------------------------------------------------------------\u001b[0m",
      "\u001b[1;31mFileNotFoundError\u001b[0m                         Traceback (most recent call last)",
      "\u001b[1;32m<ipython-input-32-1962c29df346>\u001b[0m in \u001b[0;36m<module>\u001b[1;34m\u001b[0m\n\u001b[0;32m      2\u001b[0m \u001b[1;33m\u001b[0m\u001b[0m\n\u001b[0;32m      3\u001b[0m \u001b[1;32mfrom\u001b[0m \u001b[0msubprocess\u001b[0m \u001b[1;32mimport\u001b[0m \u001b[0mcall\u001b[0m\u001b[1;33m\u001b[0m\u001b[1;33m\u001b[0m\u001b[0m\n\u001b[1;32m----> 4\u001b[1;33m \u001b[0mcall\u001b[0m \u001b[1;33m(\u001b[0m\u001b[1;33m[\u001b[0m\u001b[1;34m\"ls\"\u001b[0m\u001b[1;33m,\u001b[0m\u001b[1;34m\"-1\"\u001b[0m\u001b[1;33m]\u001b[0m\u001b[1;33m)\u001b[0m\u001b[1;33m\u001b[0m\u001b[1;33m\u001b[0m\u001b[0m\n\u001b[0m",
      "\u001b[1;32m~\\AppData\\Local\\Continuum\\anaconda3\\lib\\subprocess.py\u001b[0m in \u001b[0;36mcall\u001b[1;34m(timeout, *popenargs, **kwargs)\u001b[0m\n\u001b[0;32m    315\u001b[0m     \u001b[0mretcode\u001b[0m \u001b[1;33m=\u001b[0m \u001b[0mcall\u001b[0m\u001b[1;33m(\u001b[0m\u001b[1;33m[\u001b[0m\u001b[1;34m\"ls\"\u001b[0m\u001b[1;33m,\u001b[0m \u001b[1;34m\"-l\"\u001b[0m\u001b[1;33m]\u001b[0m\u001b[1;33m)\u001b[0m\u001b[1;33m\u001b[0m\u001b[1;33m\u001b[0m\u001b[0m\n\u001b[0;32m    316\u001b[0m     \"\"\"\n\u001b[1;32m--> 317\u001b[1;33m     \u001b[1;32mwith\u001b[0m \u001b[0mPopen\u001b[0m\u001b[1;33m(\u001b[0m\u001b[1;33m*\u001b[0m\u001b[0mpopenargs\u001b[0m\u001b[1;33m,\u001b[0m \u001b[1;33m**\u001b[0m\u001b[0mkwargs\u001b[0m\u001b[1;33m)\u001b[0m \u001b[1;32mas\u001b[0m \u001b[0mp\u001b[0m\u001b[1;33m:\u001b[0m\u001b[1;33m\u001b[0m\u001b[1;33m\u001b[0m\u001b[0m\n\u001b[0m\u001b[0;32m    318\u001b[0m         \u001b[1;32mtry\u001b[0m\u001b[1;33m:\u001b[0m\u001b[1;33m\u001b[0m\u001b[1;33m\u001b[0m\u001b[0m\n\u001b[0;32m    319\u001b[0m             \u001b[1;32mreturn\u001b[0m \u001b[0mp\u001b[0m\u001b[1;33m.\u001b[0m\u001b[0mwait\u001b[0m\u001b[1;33m(\u001b[0m\u001b[0mtimeout\u001b[0m\u001b[1;33m=\u001b[0m\u001b[0mtimeout\u001b[0m\u001b[1;33m)\u001b[0m\u001b[1;33m\u001b[0m\u001b[1;33m\u001b[0m\u001b[0m\n",
      "\u001b[1;32m~\\AppData\\Local\\Continuum\\anaconda3\\lib\\subprocess.py\u001b[0m in \u001b[0;36m__init__\u001b[1;34m(self, args, bufsize, executable, stdin, stdout, stderr, preexec_fn, close_fds, shell, cwd, env, universal_newlines, startupinfo, creationflags, restore_signals, start_new_session, pass_fds, encoding, errors, text)\u001b[0m\n\u001b[0;32m    767\u001b[0m                                 \u001b[0mc2pread\u001b[0m\u001b[1;33m,\u001b[0m \u001b[0mc2pwrite\u001b[0m\u001b[1;33m,\u001b[0m\u001b[1;33m\u001b[0m\u001b[1;33m\u001b[0m\u001b[0m\n\u001b[0;32m    768\u001b[0m                                 \u001b[0merrread\u001b[0m\u001b[1;33m,\u001b[0m \u001b[0merrwrite\u001b[0m\u001b[1;33m,\u001b[0m\u001b[1;33m\u001b[0m\u001b[1;33m\u001b[0m\u001b[0m\n\u001b[1;32m--> 769\u001b[1;33m                                 restore_signals, start_new_session)\n\u001b[0m\u001b[0;32m    770\u001b[0m         \u001b[1;32mexcept\u001b[0m\u001b[1;33m:\u001b[0m\u001b[1;33m\u001b[0m\u001b[1;33m\u001b[0m\u001b[0m\n\u001b[0;32m    771\u001b[0m             \u001b[1;31m# Cleanup if the child failed starting.\u001b[0m\u001b[1;33m\u001b[0m\u001b[1;33m\u001b[0m\u001b[1;33m\u001b[0m\u001b[0m\n",
      "\u001b[1;32m~\\AppData\\Local\\Continuum\\anaconda3\\lib\\subprocess.py\u001b[0m in \u001b[0;36m_execute_child\u001b[1;34m(self, args, executable, preexec_fn, close_fds, pass_fds, cwd, env, startupinfo, creationflags, shell, p2cread, p2cwrite, c2pread, c2pwrite, errread, errwrite, unused_restore_signals, unused_start_new_session)\u001b[0m\n\u001b[0;32m   1170\u001b[0m                                          \u001b[0menv\u001b[0m\u001b[1;33m,\u001b[0m\u001b[1;33m\u001b[0m\u001b[1;33m\u001b[0m\u001b[0m\n\u001b[0;32m   1171\u001b[0m                                          \u001b[0mos\u001b[0m\u001b[1;33m.\u001b[0m\u001b[0mfspath\u001b[0m\u001b[1;33m(\u001b[0m\u001b[0mcwd\u001b[0m\u001b[1;33m)\u001b[0m \u001b[1;32mif\u001b[0m \u001b[0mcwd\u001b[0m \u001b[1;32mis\u001b[0m \u001b[1;32mnot\u001b[0m \u001b[1;32mNone\u001b[0m \u001b[1;32melse\u001b[0m \u001b[1;32mNone\u001b[0m\u001b[1;33m,\u001b[0m\u001b[1;33m\u001b[0m\u001b[1;33m\u001b[0m\u001b[0m\n\u001b[1;32m-> 1172\u001b[1;33m                                          startupinfo)\n\u001b[0m\u001b[0;32m   1173\u001b[0m             \u001b[1;32mfinally\u001b[0m\u001b[1;33m:\u001b[0m\u001b[1;33m\u001b[0m\u001b[1;33m\u001b[0m\u001b[0m\n\u001b[0;32m   1174\u001b[0m                 \u001b[1;31m# Child is launched. Close the parent's copy of those pipe\u001b[0m\u001b[1;33m\u001b[0m\u001b[1;33m\u001b[0m\u001b[1;33m\u001b[0m\u001b[0m\n",
      "\u001b[1;31mFileNotFoundError\u001b[0m: [WinError 2] The system cannot find the file specified"
     ]
    }
   ],
   "source": [
    "# call external command\n",
    "\n",
    "from subprocess import call\n",
    "call ([\"ls\",\"-1\"])"
   ]
  },
  {
   "cell_type": "code",
   "execution_count": 41,
   "metadata": {
    "scrolled": true
   },
   "outputs": [
    {
     "ename": "NameError",
     "evalue": "name '__file__' is not defined",
     "output_type": "error",
     "traceback": [
      "\u001b[1;31m---------------------------------------------------------------------------\u001b[0m",
      "\u001b[1;31mNameError\u001b[0m                                 Traceback (most recent call last)",
      "\u001b[1;32m<ipython-input-41-f6280b8b72da>\u001b[0m in \u001b[0;36m<module>\u001b[1;34m\u001b[0m\n\u001b[0;32m      2\u001b[0m \u001b[1;33m\u001b[0m\u001b[0m\n\u001b[0;32m      3\u001b[0m \u001b[1;32mimport\u001b[0m \u001b[0mos\u001b[0m\u001b[1;33m\u001b[0m\u001b[1;33m\u001b[0m\u001b[0m\n\u001b[1;32m----> 4\u001b[1;33m \u001b[0mprint\u001b[0m\u001b[1;33m(\u001b[0m\u001b[1;34m\"Current File Name : \"\u001b[0m\u001b[1;33m,\u001b[0m\u001b[0mos\u001b[0m\u001b[1;33m.\u001b[0m\u001b[0mpath\u001b[0m\u001b[1;33m.\u001b[0m\u001b[0mrealpath\u001b[0m\u001b[1;33m(\u001b[0m\u001b[0m__file__\u001b[0m\u001b[1;33m)\u001b[0m\u001b[1;33m)\u001b[0m\u001b[1;33m\u001b[0m\u001b[1;33m\u001b[0m\u001b[0m\n\u001b[0m",
      "\u001b[1;31mNameError\u001b[0m: name '__file__' is not defined"
     ]
    }
   ],
   "source": [
    "# path and name of current file\n",
    "\n",
    "import os\n",
    "print(\"Current File Name : \",os.path.realpath(__file__))"
   ]
  },
  {
   "cell_type": "code",
   "execution_count": 43,
   "metadata": {},
   "outputs": [
    {
     "name": "stdout",
     "output_type": "stream",
     "text": [
      "4\n"
     ]
    }
   ],
   "source": [
    "# number of CPU's\n",
    "import multiprocessing\n",
    "print(multiprocessing.cpu_count())"
   ]
  },
  {
   "cell_type": "code",
   "execution_count": 45,
   "metadata": {},
   "outputs": [
    {
     "name": "stdout",
     "output_type": "stream",
     "text": [
      "4\n"
     ]
    }
   ],
   "source": [
    "# number of CPU's\n",
    "import os\n",
    "print(os.cpu_count())"
   ]
  },
  {
   "cell_type": "code",
   "execution_count": 58,
   "metadata": {},
   "outputs": [
    {
     "name": "stdout",
     "output_type": "stream",
     "text": [
      "246.2458\n",
      "246.25\n"
     ]
    }
   ],
   "source": [
    "# parse string into floar or int\n",
    "\n",
    "#n = input(\"Enter string: \")\n",
    "n = \"246.2458\"\n",
    "x = float(n)\n",
    "print(float(n))\n",
    "print(round(x,2))\n"
   ]
  },
  {
   "cell_type": "code",
   "execution_count": 66,
   "metadata": {},
   "outputs": [
    {
     "name": "stdout",
     "output_type": "stream",
     "text": [
      "* * * * * * * * * * "
     ]
    }
   ],
   "source": [
    "for i in range(0,10):\n",
    "    print(\"*\", end = \" \")\n",
    "#print(\"\\n\")"
   ]
  },
  {
   "cell_type": "code",
   "execution_count": 86,
   "metadata": {},
   "outputs": [
    {
     "name": "stdout",
     "output_type": "stream",
     "text": [
      "         4 function calls in 0.000 seconds\n",
      "\n",
      "   Ordered by: standard name\n",
      "\n",
      "   ncalls  tottime  percall  cumtime  percall filename:lineno(function)\n",
      "        1    0.000    0.000    0.000    0.000 <ipython-input-86-a7a7fda8ec76>:4(intsum)\n",
      "        1    0.000    0.000    0.000    0.000 <string>:1(<module>)\n",
      "        1    0.000    0.000    0.000    0.000 {built-in method builtins.exec}\n",
      "        1    0.000    0.000    0.000    0.000 {method 'disable' of '_lsprof.Profiler' objects}\n",
      "\n",
      "\n"
     ]
    }
   ],
   "source": [
    "# profiling of python programs\n",
    "\n",
    "import cProfile\n",
    "def intsum(a,b):\n",
    "    if type(a) == int and type(b)==int:\n",
    "        return a+b\n",
    "    else:\n",
    "        return \"not integer\"\n",
    "\n",
    "cProfile.run('intsum(5,18)')"
   ]
  },
  {
   "cell_type": "code",
   "execution_count": 98,
   "metadata": {},
   "outputs": [
    {
     "name": "stdout",
     "output_type": "stream",
     "text": [
      "environ({'ALLUSERSPROFILE': 'C:\\\\ProgramData', 'APPDATA': 'C:\\\\Users\\\\suppuletix067037\\\\AppData\\\\Roaming', 'COMMONPROGRAMFILES': 'C:\\\\Program Files\\\\Common Files', 'COMMONPROGRAMFILES(X86)': 'C:\\\\Program Files (x86)\\\\Common Files', 'COMMONPROGRAMW6432': 'C:\\\\Program Files\\\\Common Files', 'COMPUTERNAME': '20HES0JPF17N05S', 'COMSPEC': 'C:\\\\WINDOWS\\\\system32\\\\cmd.exe', 'DRIVERDATA': 'C:\\\\Windows\\\\System32\\\\Drivers\\\\DriverData', 'FPS_BROWSER_APP_PROFILE_STRING': 'Internet Explorer', 'FPS_BROWSER_USER_PROFILE_STRING': 'Default', 'HOMEDRIVE': 'C:', 'HOMEPATH': '\\\\Users\\\\suppuletix067037', 'LOCALAPPDATA': 'C:\\\\Users\\\\suppuletix067037\\\\AppData\\\\Local', 'LOGONSERVER': '\\\\\\\\USAUSAMATDC01', 'MAPHOMEFOLDER': '1', 'NUMBER_OF_PROCESSORS': '4', 'ONEDRIVE': 'C:\\\\Users\\\\suppuletix067037\\\\OneDrive - Applied Materials', 'ONEDRIVECOMMERCIAL': 'C:\\\\Users\\\\suppuletix067037\\\\OneDrive - Applied Materials', 'OS': 'Windows_NT', 'PATH': 'C:\\\\Users\\\\suppuletix067037\\\\AppData\\\\Local\\\\Continuum\\\\anaconda3;C:\\\\Users\\\\suppuletix067037\\\\AppData\\\\Local\\\\Continuum\\\\anaconda3\\\\Library\\\\mingw-w64\\\\bin;C:\\\\Users\\\\suppuletix067037\\\\AppData\\\\Local\\\\Continuum\\\\anaconda3\\\\Library\\\\usr\\\\bin;C:\\\\Users\\\\suppuletix067037\\\\AppData\\\\Local\\\\Continuum\\\\anaconda3\\\\Library\\\\bin;C:\\\\Users\\\\suppuletix067037\\\\AppData\\\\Local\\\\Continuum\\\\anaconda3\\\\Scripts;C:\\\\Program Files (x86)\\\\RSA SecurID Token Common;C:\\\\Program Files\\\\RSA SecurID Token Common;C:\\\\ProgramData\\\\Oracle\\\\Java\\\\javapath;C:\\\\WINDOWS\\\\system32;C:\\\\WINDOWS;C:\\\\WINDOWS\\\\System32\\\\Wbem;C:\\\\WINDOWS\\\\System32\\\\WindowsPowerShell\\\\v1.0\\\\;C:\\\\WINDOWS\\\\System32\\\\OpenSSH\\\\;C:\\\\Program Files (x86)\\\\Sennheiser\\\\SoftphoneSDK\\\\;C:\\\\Program Files (x86)\\\\WebEx\\\\Productivity Tools;C:\\\\Program Files (x86)\\\\Webex\\\\Webex\\\\Applications;C:\\\\Users\\\\suppuletix067037\\\\AppData\\\\Local\\\\Microsoft\\\\WindowsApps;', 'PATHEXT': '.COM;.EXE;.BAT;.CMD;.VBS;.VBE;.JS;.JSE;.WSF;.WSH;.MSC', 'PROCESSOR_ARCHITECTURE': 'AMD64', 'PROCESSOR_IDENTIFIER': 'Intel64 Family 6 Model 142 Stepping 9, GenuineIntel', 'PROCESSOR_LEVEL': '6', 'PROCESSOR_REVISION': '8e09', 'PROGRAMDATA': 'C:\\\\ProgramData', 'PROGRAMFILES': 'C:\\\\Program Files', 'PROGRAMFILES(X86)': 'C:\\\\Program Files (x86)', 'PROGRAMW6432': 'C:\\\\Program Files', 'PSMODULEPATH': 'C:\\\\Program Files\\\\WindowsPowerShell\\\\Modules;C:\\\\WINDOWS\\\\system32\\\\WindowsPowerShell\\\\v1.0\\\\Modules', 'PUBLIC': 'C:\\\\Users\\\\Public', 'QT_DEVICE_PIXEL_RATIO': 'auto', 'SAPLOGON_INI_FILE': 'C:\\\\ProgramData\\\\SAP\\\\saplogon.ini', 'SESSIONNAME': 'Console', 'SYSTEMDRIVE': 'C:', 'SYSTEMROOT': 'C:\\\\WINDOWS', 'TEMP': 'C:\\\\Users\\\\SUPPUL~1\\\\AppData\\\\Local\\\\Temp', 'TMP': 'C:\\\\Users\\\\SUPPUL~1\\\\AppData\\\\Local\\\\Temp', 'UATDATA': 'C:\\\\WINDOWS\\\\CCM\\\\UATData\\\\D9F8C395-CAB8-491d-B8AC-179A1FE1BE77', 'USERDNSDOMAIN': 'AMAT.COM', 'USERDOMAIN': 'AMAT', 'USERDOMAIN_ROAMINGPROFILE': 'AMAT', 'USERNAME': 'SUppuletiX067037', 'USERPROFILE': 'C:\\\\Users\\\\suppuletix067037', 'WINDIR': 'C:\\\\WINDOWS', 'CONDA_PREFIX': 'C:\\\\Users\\\\suppuletix067037\\\\AppData\\\\Local\\\\Continuum\\\\anaconda3', 'JPY_INTERRUPT_EVENT': '3816', 'IPY_INTERRUPT_EVENT': '3816', 'JPY_PARENT_PID': '3620', 'TERM': 'xterm-color', 'CLICOLOR': '1', 'PAGER': 'cat', 'GIT_PAGER': 'cat', 'MPLBACKEND': 'module://ipykernel.pylab.backend_inline'})\n",
      "****************************************************************************************************************\n",
      "nt\n",
      "****************************************************************************************************************\n"
     ]
    }
   ],
   "source": [
    "import os\n",
    "print(os.environ)\n",
    "print(\"****************************************************************************************************************\")\n",
    "print(os.name)\n",
    "print(\"****************************************************************************************************************\")\n"
   ]
  },
  {
   "cell_type": "code",
   "execution_count": 106,
   "metadata": {},
   "outputs": [
    {
     "data": {
      "text/plain": [
       "'SUppuletiX067037'"
      ]
     },
     "execution_count": 106,
     "metadata": {},
     "output_type": "execute_result"
    }
   ],
   "source": [
    "# Current username\n",
    "\n",
    "import getpass\n",
    "\n",
    "getpass.getuser()"
   ]
  },
  {
   "cell_type": "code",
   "execution_count": 109,
   "metadata": {},
   "outputs": [
    {
     "name": "stdout",
     "output_type": "stream",
     "text": [
      "10.50.65.45\n",
      "20HES0JPF17N05S\n"
     ]
    }
   ],
   "source": [
    "# IP address\n",
    "import socket\n",
    "print(socket.gethostbyname(socket.gethostname()))\n",
    "print(socket.gethostname())"
   ]
  },
  {
   "cell_type": "code",
   "execution_count": 115,
   "metadata": {},
   "outputs": [
    {
     "name": "stdout",
     "output_type": "stream",
     "text": [
      "os.terminal_size(columns=120, lines=30)\n"
     ]
    }
   ],
   "source": [
    "#Height and width of console window\n",
    "\n",
    "import os\n",
    "a = print(os.get_terminal_size())\n"
   ]
  },
  {
   "cell_type": "code",
   "execution_count": 125,
   "metadata": {},
   "outputs": [
    {
     "name": "stdout",
     "output_type": "stream",
     "text": [
      "0.0\n"
     ]
    }
   ],
   "source": [
    "#execution time of python method\n",
    "\n",
    "import time\n",
    "\n",
    "def sumint(n):\n",
    "    start_time = time.time()\n",
    "    s = 0\n",
    "    for i in range(1,n+1):\n",
    "        s = s+1\n",
    "    end_time = time.time()\n",
    "    result = end_time - start_time\n",
    "    print(result)\n",
    "sumint(5)\n"
   ]
  },
  {
   "cell_type": "code",
   "execution_count": 2,
   "metadata": {},
   "outputs": [
    {
     "name": "stdout",
     "output_type": "stream",
     "text": [
      "Enter number: 8\n",
      "36.0\n"
     ]
    }
   ],
   "source": [
    "n = int(input(\"Enter number: \"))\n",
    "res = (n*(n+1))/2\n",
    "print(res)"
   ]
  },
  {
   "cell_type": "code",
   "execution_count": null,
   "metadata": {},
   "outputs": [],
   "source": [
    "n = int(input(\"Input a number: \"))\n",
    "sum_num = (n * (n + 1)) / 2\n",
    "print(sum_num)"
   ]
  },
  {
   "cell_type": "code",
   "execution_count": 8,
   "metadata": {},
   "outputs": [
    {
     "name": "stdout",
     "output_type": "stream",
     "text": [
      "Enter your height: \n",
      "Enter foot: 5\n",
      "Enter inches: 10\n",
      "your height in cm's:  177.8\n"
     ]
    }
   ],
   "source": [
    "# conver height in foot and inches to cms\n",
    "\n",
    "print(\"Enter your height: \")\n",
    "ft = int(input(\"Enter foot: \"))\n",
    "inch = int(input(\"Enter inches: \"))\n",
    "\n",
    "inch+=ft*12\n",
    "height = round(inch*2.54,1)\n",
    "print(\"your height in cm's: \",height)"
   ]
  },
  {
   "cell_type": "code",
   "execution_count": 9,
   "metadata": {},
   "outputs": [
    {
     "name": "stdout",
     "output_type": "stream",
     "text": [
      "Input your height: \n",
      "Feet: 5\n",
      "Inches: 10\n",
      "Your height is : 177 cm.\n"
     ]
    }
   ],
   "source": [
    "print(\"Input your height: \")\n",
    "h_ft = int(input(\"Feet: \"))\n",
    "h_inch = int(input(\"Inches: \"))\n",
    "\n",
    "h_inch += h_ft * 12\n",
    "h_cm = round(h_inch * 2.54, 1)\n",
    "\n",
    "print(\"Your height is : %d cm.\" % h_cm)"
   ]
  },
  {
   "cell_type": "code",
   "execution_count": 6,
   "metadata": {},
   "outputs": [
    {
     "name": "stdout",
     "output_type": "stream",
     "text": [
      "Enter base: 4\n",
      "Enter height: 3\n",
      "hypotenues of traingle is : 5.0\n"
     ]
    }
   ],
   "source": [
    "# derive hyp from base and height of traingle\n",
    "from math import sqrt\n",
    "b = int(input(\"Enter base: \"))\n",
    "h = int(input(\"Enter height: \"))\n",
    "\n",
    "hyp = sqrt((b**2)+ (h**2))\n",
    "print(\"hypotenues of traingle is :\",hyp)"
   ]
  },
  {
   "cell_type": "code",
   "execution_count": 14,
   "metadata": {},
   "outputs": [
    {
     "name": "stdout",
     "output_type": "stream",
     "text": [
      "Enter distance in feet: 100\n",
      "Distance in inches 1200\n",
      "Distance in yards 33.33\n",
      "Distnace in miles 0.02\n"
     ]
    }
   ],
   "source": [
    "# distance (in feets) to inches yards and miles\n",
    "\n",
    "a = int(input(\"Enter distance in feet: \"))\n",
    "print(\"Distance in inches\",a*12)\n",
    "print(\"Distance in yards\", round(a/3,2))\n",
    "print(\"Distnace in miles\", round(a/5280,2))\n"
   ]
  },
  {
   "cell_type": "code",
   "execution_count": 19,
   "metadata": {},
   "outputs": [
    {
     "name": "stdout",
     "output_type": "stream",
     "text": [
      "Absolute file path:  C:\\Users\\suppuletix067037\\Tomorrow.txt\n"
     ]
    }
   ],
   "source": [
    "# absolute file path\n",
    "import os\n",
    "\n",
    "def filepath(a):\n",
    "    return os.path.abspath(a)\n",
    "print(\"Absolute file path: \", filepath(\"Tomorrow.txt\") )"
   ]
  },
  {
   "cell_type": "code",
   "execution_count": 27,
   "metadata": {},
   "outputs": [
    {
     "name": "stdout",
     "output_type": "stream",
     "text": [
      "Created time of file:  Thu Jul 18 09:57:39 2019\n",
      "Modified time of file:  Fri Jul 26 10:58:23 2019\n"
     ]
    }
   ],
   "source": [
    "import os.path,time\n",
    "\n",
    "a = time.ctime(os.path.getctime(\"test.txt\"))\n",
    "b = time.ctime(os.path.getmtime(\"test.txt\"))\n",
    "print(\"Created time of file: \",a)\n",
    "print(\"Modified time of file: \", b)\n"
   ]
  },
  {
   "cell_type": "code",
   "execution_count": 28,
   "metadata": {},
   "outputs": [
    {
     "name": "stdout",
     "output_type": "stream",
     "text": [
      "Enter height Feet: 5\n",
      "Enter height inches: 10\n",
      "Enter weight in lbs:195\n"
     ]
    }
   ],
   "source": [
    "# BMI\n",
    "\n",
    "a = input(\"Enter height Feet: \")\n",
    "b = input(\"Enter height inches: \")\n",
    "c = input(\"Enter weight in lbs:\")\n",
    "\n"
   ]
  },
  {
   "cell_type": "code",
   "execution_count": 36,
   "metadata": {},
   "outputs": [
    {
     "name": "stdout",
     "output_type": "stream",
     "text": [
      "enter the number: 83\n",
      "11\n"
     ]
    }
   ],
   "source": [
    "# sum of digits in interger\n",
    "\n",
    "number = input('enter the number: ')\n",
    "value = 0\n",
    "\n",
    "for i in number:\n",
    "    value = value + int(i)\n",
    "\n",
    "print(value)"
   ]
  },
  {
   "cell_type": "code",
   "execution_count": 54,
   "metadata": {},
   "outputs": [
    {
     "name": "stdout",
     "output_type": "stream",
     "text": [
      "['__breakpointhook__', '__displayhook__', '__doc__', '__excepthook__', '__interactivehook__', '__loader__', '__name__', '__package__', '__spec__', '__stderr__', '__stdin__', '__stdout__', '_clear_type_cache', '_current_frames', '_debugmallocstats', '_enablelegacywindowsfsencoding', '_framework', '_getframe', '_git', '_home', '_xoptions', 'api_version', 'argv', 'base_exec_prefix', 'base_prefix', 'breakpointhook', 'builtin_module_names', 'byteorder', 'call_tracing', 'callstats', 'copyright', 'displayhook', 'dllhandle', 'dont_write_bytecode', 'exc_info', 'excepthook', 'exec_prefix', 'executable', 'exit', 'flags', 'float_info', 'float_repr_style', 'get_asyncgen_hooks', 'get_coroutine_origin_tracking_depth', 'get_coroutine_wrapper', 'getallocatedblocks', 'getcheckinterval', 'getdefaultencoding', 'getfilesystemencodeerrors', 'getfilesystemencoding', 'getprofile', 'getrecursionlimit', 'getrefcount', 'getsizeof', 'getswitchinterval', 'gettrace', 'getwindowsversion', 'hash_info', 'hexversion', 'implementation', 'int_info', 'intern', 'is_finalizing', 'last_traceback', 'last_type', 'last_value', 'maxsize', 'maxunicode', 'meta_path', 'modules', 'path', 'path_hooks', 'path_importer_cache', 'platform', 'prefix', 'ps1', 'ps2', 'ps3', 'set_asyncgen_hooks', 'set_coroutine_origin_tracking_depth', 'set_coroutine_wrapper', 'setcheckinterval', 'setprofile', 'setrecursionlimit', 'setswitchinterval', 'settrace', 'stderr', 'stdin', 'stdout', 'thread_info', 'version', 'version_info', 'warnoptions', 'winver']\n"
     ]
    }
   ],
   "source": [
    "# math or any module details\n",
    "\n",
    "import sys\n",
    "\n",
    "print(dir(sys))"
   ]
  },
  {
   "cell_type": "code",
   "execution_count": 58,
   "metadata": {},
   "outputs": [
    {
     "name": "stdout",
     "output_type": "stream",
     "text": [
      "Copyright (c) 2001-2018 Python Software Foundation.\n",
      "All Rights Reserved.\n",
      "\n",
      "Copyright (c) 2000 BeOpen.com.\n",
      "All Rights Reserved.\n",
      "\n",
      "Copyright (c) 1995-2001 Corporation for National Research Initiatives.\n",
      "All Rights Reserved.\n",
      "\n",
      "Copyright (c) 1991-1995 Stichting Mathematisch Centrum, Amsterdam.\n",
      "All Rights Reserved.\n"
     ]
    }
   ],
   "source": [
    "import sys\n",
    "\n",
    "print(sys.copyright)"
   ]
  },
  {
   "cell_type": "code",
   "execution_count": 61,
   "metadata": {},
   "outputs": [
    {
     "name": "stdout",
     "output_type": "stream",
     "text": [
      "This is the name/path of the script: C:\\Users\\suppuletix067037\\AppData\\Local\\Continuum\\anaconda3\\lib\\site-packages\\ipykernel_launcher.py\n",
      "Number of arguments: 3\n",
      "Argument List: ['C:\\\\Users\\\\suppuletix067037\\\\AppData\\\\Local\\\\Continuum\\\\anaconda3\\\\lib\\\\site-packages\\\\ipykernel_launcher.py', '-f', 'C:\\\\Users\\\\suppuletix067037\\\\AppData\\\\Roaming\\\\jupyter\\\\runtime\\\\kernel-625a09fb-615f-46e6-80f3-1f496e57174b.json']\n"
     ]
    }
   ],
   "source": [
    "import sys\n",
    "print(\"This is the name/path of the script:\",sys.argv[0])\n",
    "print(\"Number of arguments:\",len(sys.argv))\n",
    "print(\"Argument List:\",str(sys.argv))"
   ]
  },
  {
   "cell_type": "code",
   "execution_count": 64,
   "metadata": {},
   "outputs": [
    {
     "name": "stdout",
     "output_type": "stream",
     "text": [
      "Little-Endian Platform\n"
     ]
    }
   ],
   "source": [
    "import sys\n",
    "\n",
    "if sys.byteorder =='little':\n",
    "    print(\"Little-Endian Platform\")\n",
    "else:\n",
    "    print(\"Big-Endian Platform\")"
   ]
  },
  {
   "cell_type": "code",
   "execution_count": 102,
   "metadata": {},
   "outputs": [
    {
     "name": "stdout",
     "output_type": "stream",
     "text": [
      "('_abc', '_ast', '_bisect', '_blake2', '_codecs', '_codecs_cn', '_codecs_hk', '_codecs_iso2022', '_codecs_jp', '_codecs_kr', '_codecs_tw', '_collections', '_csv', '_datetime', '_functools', '_heapq', '_imp', '_io', '_json', '_locale', '_lsprof', '_md5', '_multibytecodec', '_opcode', '_operator', '_pickle', '_random', '_sha1', '_sha256', '_sha3', '_sha512', '_signal', '_sre', '_stat', '_string', '_struct', '_symtable', '_thread', '_tracemalloc', '_warnings', '_weakref', '_winapi', 'array', 'atexit', 'audioop', 'binascii', 'builtins', 'cmath', 'errno', 'faulthandler', 'gc', 'itertools', 'marshal', 'math', 'mmap', 'msvcrt', 'nt', 'parser', 'sys', 'time', 'winreg', 'xxsubtype', 'zipimport', 'zlib')\n",
      "****************************************************************************************\n",
      "['__breakpointhook__', '__displayhook__', '__doc__', '__excepthook__', '__interactivehook__', '__loader__', '__name__', '__package__', '__spec__', '__stderr__', '__stdin__', '__stdout__', '_clear_type_cache', '_current_frames', '_debugmallocstats', '_enablelegacywindowsfsencoding', '_framework', '_getframe', '_git', '_home', '_xoptions', 'api_version', 'argv', 'base_exec_prefix', 'base_prefix', 'breakpointhook', 'builtin_module_names', 'byteorder', 'call_tracing', 'callstats', 'copyright', 'displayhook', 'dllhandle', 'dont_write_bytecode', 'exc_info', 'excepthook', 'exec_prefix', 'executable', 'exit', 'flags', 'float_info', 'float_repr_style', 'get_asyncgen_hooks', 'get_coroutine_origin_tracking_depth', 'get_coroutine_wrapper', 'getallocatedblocks', 'getcheckinterval', 'getdefaultencoding', 'getfilesystemencodeerrors', 'getfilesystemencoding', 'getprofile', 'getrecursionlimit', 'getrefcount', 'getsizeof', 'getswitchinterval', 'gettrace', 'getwindowsversion', 'hash_info', 'hexversion', 'implementation', 'int_info', 'intern', 'is_finalizing', 'last_traceback', 'last_type', 'last_value', 'maxsize', 'maxunicode', 'meta_path', 'modules', 'path', 'path_hooks', 'path_importer_cache', 'platform', 'prefix', 'ps1', 'ps2', 'ps3', 'set_asyncgen_hooks', 'set_coroutine_origin_tracking_depth', 'set_coroutine_wrapper', 'setcheckinterval', 'setprofile', 'setrecursionlimit', 'setswitchinterval', 'settrace', 'stderr', 'stdin', 'stdout', 'thread_info', 'version', 'version_info', 'warnoptions', 'winver']\n"
     ]
    }
   ],
   "source": [
    "import sys\n",
    "\n",
    "print(sys.builtin_module_names)\n",
    "print(\"****************************************************************************************\")\n",
    "print(dir(sys))"
   ]
  },
  {
   "cell_type": "code",
   "execution_count": 79,
   "metadata": {},
   "outputs": [
    {
     "name": "stdout",
     "output_type": "stream",
     "text": [
      "balck-red-Green-Yellow-White\n"
     ]
    }
   ],
   "source": [
    "color_list = [\"balck\", \"red\", \"Green\",\"Yellow\", \"White\"]\n",
    "result = '-'.join(color_list)\n",
    "print(result)"
   ]
  },
  {
   "cell_type": "code",
   "execution_count": 86,
   "metadata": {},
   "outputs": [
    {
     "name": "stdout",
     "output_type": "stream",
     "text": [
      "False\n",
      "True\n"
     ]
    }
   ],
   "source": [
    "# given number is greater than all numbers in the list\n",
    "num = [2,3,4]\n",
    "print(all(x>50 for x in num))\n",
    "print(all(x>1 for x in num))"
   ]
  },
  {
   "cell_type": "code",
   "execution_count": 103,
   "metadata": {},
   "outputs": [
    {
     "name": "stdout",
     "output_type": "stream",
     "text": [
      "Enter string: srivatsava sri srinivas srikanth\n",
      "4\n"
     ]
    }
   ],
   "source": [
    "# count of occurence of alpahbet in string\n",
    "\n",
    "a = input(\"Enter string: \")\n",
    "print(a.count(\"sri\"))"
   ]
  },
  {
   "cell_type": "code",
   "execution_count": 107,
   "metadata": {},
   "outputs": [
    {
     "name": "stdout",
     "output_type": "stream",
     "text": [
      "Enter File/directory: C:\\Users\\suppuletix067037\n",
      "Its directory: \n"
     ]
    }
   ],
   "source": [
    "import os\n",
    "\n",
    "a = input(\"Enter File/directory: \")\n",
    "if os.path.isdir(a):\n",
    "    print(\"Its directory: \")\n",
    "elif os.path.isfile(a):\n",
    "        print(\"Its file: \")\n",
    "else:\n",
    "    print(\"it's special file\")\n"
   ]
  },
  {
   "cell_type": "code",
   "execution_count": 119,
   "metadata": {},
   "outputs": [
    {
     "name": "stdout",
     "output_type": "stream",
     "text": [
      "760\n"
     ]
    }
   ],
   "source": [
    "# get file size\n",
    "\n",
    "import os\n",
    "print(os.path.getsize(\"Text.txt\"))"
   ]
  },
  {
   "cell_type": "code",
   "execution_count": 125,
   "metadata": {},
   "outputs": [
    {
     "name": "stdout",
     "output_type": "stream",
     "text": [
      "\n",
      "30+20=50\n"
     ]
    }
   ],
   "source": [
    "x = 30\n",
    "y = 20\n",
    "print(\"\\n%d+%d=%d\"% (x,y,x+y))"
   ]
  },
  {
   "cell_type": "code",
   "execution_count": 138,
   "metadata": {},
   "outputs": [],
   "source": [
    "# copy of its own source code\n",
    "\n",
    "import sys\n",
    "def filecopy(src,dest):\n",
    "    with open(src) as f, open(dest,'w') as d:\n",
    "            d.write(f.read())\n",
    "filecopy(\"text.txt\",\"test.txt\")            \n",
    "    "
   ]
  },
  {
   "cell_type": "code",
   "execution_count": 141,
   "metadata": {},
   "outputs": [
    {
     "name": "stdout",
     "output_type": "stream",
     "text": [
      "796\n"
     ]
    }
   ],
   "source": [
    "import os\n",
    "\n",
    "print(os.path.getsize(\"test.txt\"))"
   ]
  },
  {
   "cell_type": "code",
   "execution_count": 144,
   "metadata": {},
   "outputs": [
    {
     "name": "stdout",
     "output_type": "stream",
     "text": [
      "['__all__', '__builtins__', '__cached__', '__doc__', '__file__', '__loader__', '__name__', '__package__', '__spec__', '_abspath_fallback', '_get_bothseps', '_getfinalpathname', '_getfullpathname', '_getvolumepathname', 'abspath', 'altsep', 'basename', 'commonpath', 'commonprefix', 'curdir', 'defpath', 'devnull', 'dirname', 'exists', 'expanduser', 'expandvars', 'extsep', 'genericpath', 'getatime', 'getctime', 'getmtime', 'getsize', 'isabs', 'isdir', 'isfile', 'islink', 'ismount', 'join', 'lexists', 'normcase', 'normpath', 'os', 'pardir', 'pathsep', 'realpath', 'relpath', 'samefile', 'sameopenfile', 'samestat', 'sep', 'split', 'splitdrive', 'splitext', 'stat', 'supports_unicode_filenames', 'sys']\n"
     ]
    }
   ],
   "source": [
    "import os\n",
    "print(dir(os.path))"
   ]
  },
  {
   "cell_type": "code",
   "execution_count": 146,
   "metadata": {},
   "outputs": [],
   "source": [
    "import os\n",
    "\n",
    "def filecopy(src,dest):\n",
    "    with open(src) as f, open(dest, 'w') as d:\n",
    "        d.write(f.read())\n",
    "filecopy(\"text.txt\",\"test.txt\")"
   ]
  },
  {
   "cell_type": "code",
   "execution_count": 151,
   "metadata": {},
   "outputs": [
    {
     "name": "stdout",
     "output_type": "stream",
     "text": [
      "Enter value for a: 30\n",
      "Enter value for b: 20\n",
      "20 30\n"
     ]
    }
   ],
   "source": [
    "#swap two variables\n",
    "\n",
    "a = int(input(\"Enter value for a: \"))\n",
    "b = int(input(\"Enter value for b: \"))\n",
    "def swap(a,b):\n",
    "    x = a\n",
    "    a = b\n",
    "    b = x\n",
    "    print (a,b)\n",
    "swap(a,b)\n"
   ]
  },
  {
   "cell_type": "code",
   "execution_count": 163,
   "metadata": {},
   "outputs": [
    {
     "name": "stdout",
     "output_type": "stream",
     "text": [
      "\n"
     ]
    }
   ],
   "source": [
    "#str = 'a123'\n",
    "str = '123.34'\n",
    "try:\n",
    "    i = float(str)\n",
    "except (ValueError, TypeError):\n",
    "    print('\\nNot numeric')\n",
    "print()"
   ]
  },
  {
   "cell_type": "code",
   "execution_count": 181,
   "metadata": {},
   "outputs": [
    {
     "name": "stdout",
     "output_type": "stream",
     "text": [
      "Tue Jul 30 14:59:06 2019\n"
     ]
    }
   ],
   "source": [
    "# get current time\n",
    "\n",
    "import time\n",
    "\n",
    "print(time.ctime())"
   ]
  },
  {
   "cell_type": "code",
   "execution_count": 193,
   "metadata": {},
   "outputs": [
    {
     "name": "stdout",
     "output_type": "stream",
     "text": [
      "Host name: 20HES0JPF17N05S\n",
      "10.50.65.45\n"
     ]
    }
   ],
   "source": [
    "# get host name on which routine is running\n",
    "import socket\n",
    "\n",
    "print(\"Host name:\", socket.gethostname())\n",
    "print(socket.gethostbyname(socket.gethostname()))"
   ]
  },
  {
   "cell_type": "code",
   "execution_count": 196,
   "metadata": {},
   "outputs": [
    {
     "name": "stdout",
     "output_type": "stream",
     "text": [
      "('_abc', '_ast', '_bisect', '_blake2', '_codecs', '_codecs_cn', '_codecs_hk', '_codecs_iso2022', '_codecs_jp', '_codecs_kr', '_codecs_tw', '_collections', '_csv', '_datetime', '_functools', '_heapq', '_imp', '_io', '_json', '_locale', '_lsprof', '_md5', '_multibytecodec', '_opcode', '_operator', '_pickle', '_random', '_sha1', '_sha256', '_sha3', '_sha512', '_signal', '_sre', '_stat', '_string', '_struct', '_symtable', '_thread', '_tracemalloc', '_warnings', '_weakref', '_winapi', 'array', 'atexit', 'audioop', 'binascii', 'builtins', 'cmath', 'errno', 'faulthandler', 'gc', 'itertools', 'marshal', 'math', 'mmap', 'msvcrt', 'nt', 'parser', 'sys', 'time', 'winreg', 'xxsubtype', 'zipimport', 'zlib')\n"
     ]
    }
   ],
   "source": [
    "import sys\n",
    "\n",
    "print(sys.builtin_module_names)"
   ]
  },
  {
   "cell_type": "code",
   "execution_count": 207,
   "metadata": {},
   "outputs": [
    {
     "ename": "SyntaxError",
     "evalue": "(unicode error) 'unicodeescape' codec can't decode bytes in position 0-1: truncated \\UXXXXXXXX escape (<ipython-input-207-cb7493e6479f>, line 3)",
     "output_type": "error",
     "traceback": [
      "\u001b[1;36m  File \u001b[1;32m\"<ipython-input-207-cb7493e6479f>\"\u001b[1;36m, line \u001b[1;32m3\u001b[0m\n\u001b[1;33m    print(os.path.basename('\\Users\\suppuletix067037\\test.txt'))\u001b[0m\n\u001b[1;37m                          ^\u001b[0m\n\u001b[1;31mSyntaxError\u001b[0m\u001b[1;31m:\u001b[0m (unicode error) 'unicodeescape' codec can't decode bytes in position 0-1: truncated \\UXXXXXXXX escape\n"
     ]
    }
   ],
   "source": [
    "import os \n",
    "\n",
    "print(os.path.basename('\\Users\\suppuletix067037\\test.txt'))"
   ]
  },
  {
   "cell_type": "code",
   "execution_count": 208,
   "metadata": {},
   "outputs": [
    {
     "name": "stdout",
     "output_type": "stream",
     "text": [
      "C:\\Users\\suppuletix067037\\test.txt\n"
     ]
    }
   ],
   "source": [
    "import os\n",
    "\n",
    "print(os.path.abspath(\"test.txt\"))"
   ]
  },
  {
   "cell_type": "code",
   "execution_count": 223,
   "metadata": {},
   "outputs": [
    {
     "ename": "AttributeError",
     "evalue": "module 'os' has no attribute 'getegid'",
     "output_type": "error",
     "traceback": [
      "\u001b[1;31m---------------------------------------------------------------------------\u001b[0m",
      "\u001b[1;31mAttributeError\u001b[0m                            Traceback (most recent call last)",
      "\u001b[1;32m<ipython-input-223-08c846c3dd89>\u001b[0m in \u001b[0;36m<module>\u001b[1;34m\u001b[0m\n\u001b[0;32m      1\u001b[0m \u001b[1;32mimport\u001b[0m \u001b[0mos\u001b[0m\u001b[1;33m\u001b[0m\u001b[1;33m\u001b[0m\u001b[0m\n\u001b[1;32m----> 2\u001b[1;33m \u001b[0mprint\u001b[0m\u001b[1;33m(\u001b[0m\u001b[1;34m\"\\nEffective group id: \"\u001b[0m\u001b[1;33m,\u001b[0m\u001b[0mos\u001b[0m\u001b[1;33m.\u001b[0m\u001b[0mgetegid\u001b[0m\u001b[1;33m)\u001b[0m\u001b[1;33m\u001b[0m\u001b[1;33m\u001b[0m\u001b[0m\n\u001b[0m",
      "\u001b[1;31mAttributeError\u001b[0m: module 'os' has no attribute 'getegid'"
     ]
    }
   ],
   "source": [
    "import os\n",
    "print(\"\\nEffective group id: \",os.getegid)\n"
   ]
  },
  {
   "cell_type": "code",
   "execution_count": 219,
   "metadata": {},
   "outputs": [
    {
     "name": "stdout",
     "output_type": "stream",
     "text": [
      "['DirEntry', 'F_OK', 'MutableMapping', 'O_APPEND', 'O_BINARY', 'O_CREAT', 'O_EXCL', 'O_NOINHERIT', 'O_RANDOM', 'O_RDONLY', 'O_RDWR', 'O_SEQUENTIAL', 'O_SHORT_LIVED', 'O_TEMPORARY', 'O_TEXT', 'O_TRUNC', 'O_WRONLY', 'P_DETACH', 'P_NOWAIT', 'P_NOWAITO', 'P_OVERLAY', 'P_WAIT', 'PathLike', 'R_OK', 'SEEK_CUR', 'SEEK_END', 'SEEK_SET', 'TMP_MAX', 'W_OK', 'X_OK', '_Environ', '__all__', '__builtins__', '__cached__', '__doc__', '__file__', '__loader__', '__name__', '__package__', '__spec__', '_execvpe', '_exists', '_exit', '_fspath', '_get_exports_list', '_putenv', '_unsetenv', '_wrap_close', 'abc', 'abort', 'access', 'altsep', 'chdir', 'chmod', 'close', 'closerange', 'cpu_count', 'curdir', 'defpath', 'device_encoding', 'devnull', 'dup', 'dup2', 'environ', 'error', 'execl', 'execle', 'execlp', 'execlpe', 'execv', 'execve', 'execvp', 'execvpe', 'extsep', 'fdopen', 'fsdecode', 'fsencode', 'fspath', 'fstat', 'fsync', 'ftruncate', 'get_exec_path', 'get_handle_inheritable', 'get_inheritable', 'get_terminal_size', 'getcwd', 'getcwdb', 'getenv', 'getlogin', 'getpid', 'getppid', 'isatty', 'kill', 'linesep', 'link', 'listdir', 'lseek', 'lstat', 'makedirs', 'mkdir', 'name', 'open', 'pardir', 'path', 'pathsep', 'pipe', 'popen', 'putenv', 'read', 'readlink', 'remove', 'removedirs', 'rename', 'renames', 'replace', 'rmdir', 'scandir', 'sep', 'set_handle_inheritable', 'set_inheritable', 'spawnl', 'spawnle', 'spawnv', 'spawnve', 'st', 'startfile', 'stat', 'stat_result', 'statvfs_result', 'strerror', 'supports_bytes_environ', 'supports_dir_fd', 'supports_effective_ids', 'supports_fd', 'supports_follow_symlinks', 'symlink', 'sys', 'system', 'terminal_size', 'times', 'times_result', 'truncate', 'umask', 'uname_result', 'unlink', 'urandom', 'utime', 'waitpid', 'walk', 'write']\n"
     ]
    }
   ],
   "source": [
    "print(dir(os))"
   ]
  },
  {
   "cell_type": "code",
   "execution_count": 222,
   "metadata": {},
   "outputs": [
    {
     "name": "stdout",
     "output_type": "stream",
     "text": [
      "environ({'ALLUSERSPROFILE': 'C:\\\\ProgramData', 'APPDATA': 'C:\\\\Users\\\\suppuletix067037\\\\AppData\\\\Roaming', 'COMMONPROGRAMFILES': 'C:\\\\Program Files\\\\Common Files', 'COMMONPROGRAMFILES(X86)': 'C:\\\\Program Files (x86)\\\\Common Files', 'COMMONPROGRAMW6432': 'C:\\\\Program Files\\\\Common Files', 'COMPUTERNAME': '20HES0JPF17N05S', 'COMSPEC': 'C:\\\\WINDOWS\\\\system32\\\\cmd.exe', 'DRIVERDATA': 'C:\\\\Windows\\\\System32\\\\Drivers\\\\DriverData', 'FPS_BROWSER_APP_PROFILE_STRING': 'Internet Explorer', 'FPS_BROWSER_USER_PROFILE_STRING': 'Default', 'HOMEDRIVE': 'C:', 'HOMEPATH': '\\\\Users\\\\suppuletix067037', 'LOCALAPPDATA': 'C:\\\\Users\\\\suppuletix067037\\\\AppData\\\\Local', 'LOGONSERVER': '\\\\\\\\USAUSAMATDC01', 'MAPHOMEFOLDER': '1', 'NUMBER_OF_PROCESSORS': '4', 'ONEDRIVE': 'C:\\\\Users\\\\suppuletix067037\\\\OneDrive - Applied Materials', 'ONEDRIVECOMMERCIAL': 'C:\\\\Users\\\\suppuletix067037\\\\OneDrive - Applied Materials', 'OS': 'Windows_NT', 'PATH': 'C:\\\\Users\\\\suppuletix067037\\\\AppData\\\\Local\\\\Continuum\\\\anaconda3;C:\\\\Users\\\\suppuletix067037\\\\AppData\\\\Local\\\\Continuum\\\\anaconda3\\\\Library\\\\mingw-w64\\\\bin;C:\\\\Users\\\\suppuletix067037\\\\AppData\\\\Local\\\\Continuum\\\\anaconda3\\\\Library\\\\usr\\\\bin;C:\\\\Users\\\\suppuletix067037\\\\AppData\\\\Local\\\\Continuum\\\\anaconda3\\\\Library\\\\bin;C:\\\\Users\\\\suppuletix067037\\\\AppData\\\\Local\\\\Continuum\\\\anaconda3\\\\Scripts;C:\\\\Program Files (x86)\\\\RSA SecurID Token Common;C:\\\\Program Files\\\\RSA SecurID Token Common;C:\\\\ProgramData\\\\Oracle\\\\Java\\\\javapath;C:\\\\WINDOWS\\\\system32;C:\\\\WINDOWS;C:\\\\WINDOWS\\\\System32\\\\Wbem;C:\\\\WINDOWS\\\\System32\\\\WindowsPowerShell\\\\v1.0\\\\;C:\\\\WINDOWS\\\\System32\\\\OpenSSH\\\\;C:\\\\Program Files (x86)\\\\Sennheiser\\\\SoftphoneSDK\\\\;C:\\\\Program Files (x86)\\\\WebEx\\\\Productivity Tools;C:\\\\Program Files (x86)\\\\Webex\\\\Webex\\\\Applications;C:\\\\Users\\\\suppuletix067037\\\\AppData\\\\Local\\\\Microsoft\\\\WindowsApps;', 'PATHEXT': '.COM;.EXE;.BAT;.CMD;.VBS;.VBE;.JS;.JSE;.WSF;.WSH;.MSC', 'PROCESSOR_ARCHITECTURE': 'AMD64', 'PROCESSOR_IDENTIFIER': 'Intel64 Family 6 Model 142 Stepping 9, GenuineIntel', 'PROCESSOR_LEVEL': '6', 'PROCESSOR_REVISION': '8e09', 'PROGRAMDATA': 'C:\\\\ProgramData', 'PROGRAMFILES': 'C:\\\\Program Files', 'PROGRAMFILES(X86)': 'C:\\\\Program Files (x86)', 'PROGRAMW6432': 'C:\\\\Program Files', 'PSMODULEPATH': 'C:\\\\Program Files\\\\WindowsPowerShell\\\\Modules;C:\\\\WINDOWS\\\\system32\\\\WindowsPowerShell\\\\v1.0\\\\Modules', 'PUBLIC': 'C:\\\\Users\\\\Public', 'QT_DEVICE_PIXEL_RATIO': 'auto', 'SAPLOGON_INI_FILE': 'C:\\\\ProgramData\\\\SAP\\\\saplogon.ini', 'SESSIONNAME': 'Console', 'SYSTEMDRIVE': 'C:', 'SYSTEMROOT': 'C:\\\\WINDOWS', 'TEMP': 'C:\\\\Users\\\\SUPPUL~1\\\\AppData\\\\Local\\\\Temp', 'TMP': 'C:\\\\Users\\\\SUPPUL~1\\\\AppData\\\\Local\\\\Temp', 'UATDATA': 'C:\\\\WINDOWS\\\\CCM\\\\UATData\\\\D9F8C395-CAB8-491d-B8AC-179A1FE1BE77', 'USERDNSDOMAIN': 'AMAT.COM', 'USERDOMAIN': 'AMAT', 'USERDOMAIN_ROAMINGPROFILE': 'AMAT', 'USERNAME': 'SUppuletiX067037', 'USERPROFILE': 'C:\\\\Users\\\\suppuletix067037', 'WINDIR': 'C:\\\\WINDOWS', 'CONDA_PREFIX': 'C:\\\\Users\\\\suppuletix067037\\\\AppData\\\\Local\\\\Continuum\\\\anaconda3', 'JPY_INTERRUPT_EVENT': '2636', 'IPY_INTERRUPT_EVENT': '2636', 'JPY_PARENT_PID': '2640', 'TERM': 'xterm-color', 'CLICOLOR': '1', 'PAGER': 'cat', 'GIT_PAGER': 'cat', 'MPLBACKEND': 'module://ipykernel.pylab.backend_inline'})\n"
     ]
    }
   ],
   "source": [
    "import os\n",
    "\n",
    "print(os.environ)"
   ]
  },
  {
   "cell_type": "code",
   "execution_count": 231,
   "metadata": {},
   "outputs": [
    {
     "name": "stdout",
     "output_type": "stream",
     "text": [
      "Enter number: 100\n",
      "Positive Number\n"
     ]
    }
   ],
   "source": [
    "a = float(input(\"Enter number: \"))\n",
    "if a > 0:\n",
    "    print(\"Positive Number\")\n",
    "elif a ==0:\n",
    "    print(\"Number is 0\")\n",
    "else:\n",
    "    print(\"Negative Number\")"
   ]
  },
  {
   "cell_type": "code",
   "execution_count": 236,
   "metadata": {},
   "outputs": [
    {
     "name": "stdout",
     "output_type": "stream",
     "text": [
      "[15, 45, 75]\n"
     ]
    }
   ],
   "source": [
    "# numbers from list divisible by 15 using function\n",
    "num = [25,13,67,34,15,69,45,67,75]\n",
    "result = list(filter(lambda x : (x%15==0),num))\n",
    "print(result)"
   ]
  },
  {
   "cell_type": "code",
   "execution_count": 238,
   "metadata": {},
   "outputs": [
    {
     "name": "stdout",
     "output_type": "stream",
     "text": [
      "['$0CDBE132.xls', '$0DF265B8.jpg', '$13FBFBB0.doc', '$6AD29B40.pptx', 'Auto_Map_Home_Folder.log', 'Functions.ipynb', 'Logon.txt', 'My first notebook.ipynb', 'NTUSER.DAT', 'ntuser.dat.LOG1', 'ntuser.dat.LOG2', 'NTUSER.DAT{164664cb-23dc-11e9-9a5d-94b86d964195}.TxR.0.regtrans-ms', 'NTUSER.DAT{164664cb-23dc-11e9-9a5d-94b86d964195}.TxR.1.regtrans-ms', 'NTUSER.DAT{164664cb-23dc-11e9-9a5d-94b86d964195}.TxR.2.regtrans-ms', 'NTUSER.DAT{164664cb-23dc-11e9-9a5d-94b86d964195}.TxR.blf', 'NTUSER.DAT{164664cc-23dc-11e9-9a5d-94b86d964195}.TM.blf', 'NTUSER.DAT{164664cc-23dc-11e9-9a5d-94b86d964195}.TMContainer00000000000000000001.regtrans-ms', 'NTUSER.DAT{164664cc-23dc-11e9-9a5d-94b86d964195}.TMContainer00000000000000000002.regtrans-ms', 'ntuser.ini', 'ntuser.pol', 'PreviousLogon.txt', 'test.txt', 'text.txt', 'Untitled2.ipynb']\n"
     ]
    }
   ],
   "source": [
    "#file lists from current directory using a wildcard\n",
    "\n",
    "import glob\n",
    "file_list = glob.glob('*.*')\n",
    "print(file_list)"
   ]
  },
  {
   "cell_type": "code",
   "execution_count": 245,
   "metadata": {},
   "outputs": [
    {
     "name": "stdout",
     "output_type": "stream",
     "text": [
      "[13, 67, 34, 15, 69, 45, 67, 75]\n"
     ]
    }
   ],
   "source": [
    "#Delete first element of list\n",
    "\n",
    "num = [25,13,67,34,15,69,45,67,75]\n",
    "del num[0]\n",
    "print(num)"
   ]
  },
  {
   "cell_type": "code",
   "execution_count": null,
   "metadata": {},
   "outputs": [],
   "source": [
    "# enter number if not then message \n",
    "\n",
    "while True:\n",
    "    try:\n",
    "        i = int(input(\"Enter Number: \"))\n",
    "        break\n",
    "    except ValueError:\n",
    "        print(\"This is not number, try again...\")"
   ]
  },
  {
   "cell_type": "code",
   "execution_count": 6,
   "metadata": {},
   "outputs": [
    {
     "name": "stdout",
     "output_type": "stream",
     "text": [
      "[23, 69, 0]\n"
     ]
    }
   ],
   "source": [
    "num = [23,-45,69,0,-24]\n",
    "result = list(filter(lambda x: (x>=0), num))\n",
    "print(result)"
   ]
  },
  {
   "cell_type": "code",
   "execution_count": 11,
   "metadata": {},
   "outputs": [
    {
     "name": "stdout",
     "output_type": "stream",
     "text": [
      "6000\n"
     ]
    }
   ],
   "source": [
    "# mulptily numbers in list with out for loop\n",
    "\n",
    "from functools import reduce\n",
    "num = [10,20,30]\n",
    "result = reduce((lambda x,y : x*y),num)\n",
    "print (result)"
   ]
  },
  {
   "cell_type": "code",
   "execution_count": 20,
   "metadata": {},
   "outputs": [
    {
     "name": "stdout",
     "output_type": "stream",
     "text": [
      "0x2a87444bc38\n",
      "0x2a87444bc38\n"
     ]
    }
   ],
   "source": [
    "# same varialbe value shares same memory location\n",
    "\n",
    "str1 = \"vatsav\"\n",
    "str2 = \"vatsav\"\n",
    "\n",
    "print(hex(id(str1)))\n",
    "print(hex(id(str2)))"
   ]
  },
  {
   "cell_type": "code",
   "execution_count": 24,
   "metadata": {},
   "outputs": [
    {
     "name": "stdout",
     "output_type": "stream",
     "text": [
      "enter string: srivatsava\n",
      "string is srivat\n"
     ]
    }
   ],
   "source": [
    "# string length to only 6\n",
    "\n",
    "str1 = input(\"enter string: \")\n",
    "print(\"string is %.6s\" %str1)"
   ]
  },
  {
   "cell_type": "code",
   "execution_count": 35,
   "metadata": {},
   "outputs": [
    {
     "name": "stdout",
     "output_type": "stream",
     "text": [
      "0\n",
      "{}\n",
      "[]\n",
      "()\n"
     ]
    }
   ],
   "source": [
    "# empty a variable without destroying it\n",
    "\n",
    "n = 20\n",
    "d = {\"x\":200}\n",
    "l = [1,3,5]\n",
    "t= (5,7,8)\n",
    "print(type(n)())\n",
    "print(type(d)())\n",
    "print(type(l)())\n",
    "print(type(t)())"
   ]
  },
  {
   "cell_type": "code",
   "execution_count": 42,
   "metadata": {},
   "outputs": [
    {
     "name": "stdout",
     "output_type": "stream",
     "text": [
      "9223372036854775807\n",
      "\n",
      " sys.float_info(max=1.7976931348623157e+308, max_exp=1024, max_10_exp=308, min=2.2250738585072014e-308, min_exp=-1021, min_10_exp=-307, dig=15, mant_dig=53, epsilon=2.220446049250313e-16, radix=2, rounds=1)\n",
      "\n",
      " sys.int_info(bits_per_digit=30, sizeof_digit=4)\n"
     ]
    }
   ],
   "source": [
    "# float , int info and max size\n",
    "\n",
    "import sys\n",
    "\n",
    "print(sys.maxsize)\n",
    "print(\"\\n\",sys.float_info)\n",
    "print(\"\\n\",sys.int_info)"
   ]
  },
  {
   "cell_type": "code",
   "execution_count": 46,
   "metadata": {},
   "outputs": [
    {
     "name": "stdout",
     "output_type": "stream",
     "text": [
      "<module 'os' from 'C:\\\\Users\\\\suppuletix067037\\\\AppData\\\\Local\\\\Continuum\\\\anaconda3\\\\lib\\\\os.py'>\n"
     ]
    }
   ],
   "source": [
    "#actual module object for a given object\n",
    "\n",
    "from inspect import getmodule\n",
    "from math import sqrt\n",
    "import os\n",
    "\n",
    "print(getmodule(os))"
   ]
  },
  {
   "cell_type": "code",
   "execution_count": 53,
   "metadata": {},
   "outputs": [
    {
     "name": "stdout",
     "output_type": "stream",
     "text": [
      "Enter String: srivatsava\n",
      "True\n"
     ]
    }
   ],
   "source": [
    "# any lowercase in string\n",
    "\n",
    "str = input(\"Enter String: \")\n",
    "print(any(c.islower() for c in str))"
   ]
  },
  {
   "cell_type": "code",
   "execution_count": 57,
   "metadata": {},
   "outputs": [
    {
     "name": "stdout",
     "output_type": "stream",
     "text": [
      "enter number: 222.52\n",
      "0000222.52\n"
     ]
    }
   ],
   "source": [
    "# Leading zeros\n",
    "\n",
    "str = input(\"enter number: \")\n",
    "str = str.rjust(10,'0')\n",
    "print(str)"
   ]
  },
  {
   "cell_type": "code",
   "execution_count": 59,
   "metadata": {},
   "outputs": [
    {
     "name": "stdout",
     "output_type": "stream",
     "text": [
      "Enter number: 222.52\n",
      "222.520000\n"
     ]
    }
   ],
   "source": [
    "#Trailing zeros\n",
    "\n",
    "str = input(\"Enter number: \")\n",
    "str = str.ljust(10,'0')\n",
    "print (str)"
   ]
  },
  {
   "cell_type": "code",
   "execution_count": 66,
   "metadata": {},
   "outputs": [
    {
     "name": "stdout",
     "output_type": "stream",
     "text": [
      "C:\\Users\\suppuletix067037\n"
     ]
    }
   ],
   "source": [
    "# list home directory without absolute path\n",
    "\n",
    "import os.path\n",
    "\n",
    "print(os.path.expanduser('~'))"
   ]
  },
  {
   "cell_type": "code",
   "execution_count": 72,
   "metadata": {},
   "outputs": [
    {
     "name": "stdout",
     "output_type": "stream",
     "text": [
      "2369 45\n",
      "2369 45\n"
     ]
    }
   ],
   "source": [
    "# two integers in same line\n",
    "\n",
    "x , y = (map(int,input().split()))\n",
    "print(x,y)"
   ]
  },
  {
   "cell_type": "code",
   "execution_count": 87,
   "metadata": {},
   "outputs": [
    {
     "name": "stdout",
     "output_type": "stream",
     "text": [
      "invalid IP\n"
     ]
    }
   ],
   "source": [
    "import socket\n",
    "addr = '127.0.1.'\n",
    "try:\n",
    "    socket.inet_aton(addr)\n",
    "    print(\"Valid IP\")\n",
    "except socket.error:\n",
    "    print(\"invalid IP\")"
   ]
  },
  {
   "cell_type": "code",
   "execution_count": 85,
   "metadata": {},
   "outputs": [
    {
     "name": "stdout",
     "output_type": "stream",
     "text": [
      "Invalid IP\n"
     ]
    }
   ],
   "source": [
    "import socket\n",
    "addr = '10.50.65.'\n",
    "try:\n",
    "    socket.inet_aton(addr)\n",
    "    print(\"Valid IP\")\n",
    "except socket.error:\n",
    "    print(\"Invalid IP\")\n"
   ]
  },
  {
   "cell_type": "code",
   "execution_count": 88,
   "metadata": {},
   "outputs": [
    {
     "name": "stdout",
     "output_type": "stream",
     "text": [
      "10.50.65.45\n"
     ]
    }
   ],
   "source": [
    "import socket\n",
    "\n",
    "print(socket.gethostbyname(socket.gethostname()))"
   ]
  },
  {
   "cell_type": "code",
   "execution_count": 95,
   "metadata": {},
   "outputs": [
    {
     "name": "stdout",
     "output_type": "stream",
     "text": [
      "nt\n",
      "Windows\n",
      "10\n"
     ]
    }
   ],
   "source": [
    "# Print OS Name, Platform Name, Platform Release\n",
    "import os\n",
    "import platform\n",
    "\n",
    "print(os.name)\n",
    "print(platform.system())\n",
    "print(platform.release())"
   ]
  },
  {
   "cell_type": "code",
   "execution_count": 102,
   "metadata": {},
   "outputs": [
    {
     "name": "stdout",
     "output_type": "stream",
     "text": [
      "Enter number: 25\n",
      "True\n"
     ]
    }
   ],
   "source": [
    "x = int(input(\"Enter number: \"))\n",
    "print(isinstance(x,int) or isinstance(x,str))"
   ]
  },
  {
   "cell_type": "code",
   "execution_count": 105,
   "metadata": {},
   "outputs": [
    {
     "name": "stdout",
     "output_type": "stream",
     "text": [
      "\n",
      " List of directories in sys module\n",
      "['C:\\\\Users\\\\suppuletix067037', 'C:\\\\Users\\\\suppuletix067037\\\\AppData\\\\Local\\\\Continuum\\\\anaconda3\\\\python37.zip', 'C:\\\\Users\\\\suppuletix067037\\\\AppData\\\\Local\\\\Continuum\\\\anaconda3\\\\DLLs', 'C:\\\\Users\\\\suppuletix067037\\\\AppData\\\\Local\\\\Continuum\\\\anaconda3\\\\lib', 'C:\\\\Users\\\\suppuletix067037\\\\AppData\\\\Local\\\\Continuum\\\\anaconda3', '', 'C:\\\\Users\\\\suppuletix067037\\\\AppData\\\\Local\\\\Continuum\\\\anaconda3\\\\lib\\\\site-packages', 'C:\\\\Users\\\\suppuletix067037\\\\AppData\\\\Local\\\\Continuum\\\\anaconda3\\\\lib\\\\site-packages\\\\win32', 'C:\\\\Users\\\\suppuletix067037\\\\AppData\\\\Local\\\\Continuum\\\\anaconda3\\\\lib\\\\site-packages\\\\win32\\\\lib', 'C:\\\\Users\\\\suppuletix067037\\\\AppData\\\\Local\\\\Continuum\\\\anaconda3\\\\lib\\\\site-packages\\\\Pythonwin', 'C:\\\\Users\\\\suppuletix067037\\\\AppData\\\\Local\\\\Continuum\\\\anaconda3\\\\lib\\\\site-packages\\\\IPython\\\\extensions', 'C:\\\\Users\\\\suppuletix067037\\\\.ipython']\n",
      "\n",
      " List of directories in os module\n",
      "<module 'ntpath' from 'C:\\\\Users\\\\suppuletix067037\\\\AppData\\\\Local\\\\Continuum\\\\anaconda3\\\\lib\\\\ntpath.py'>\n"
     ]
    }
   ],
   "source": [
    "# Find the location of Python module sources\n",
    "\n",
    "import sys\n",
    "import os\n",
    "print(\"\\n List of directories in sys module\")\n",
    "print(sys.path)\n",
    "print(\"\\n List of directories in os module\")\n",
    "print(os.path)"
   ]
  },
  {
   "cell_type": "code",
   "execution_count": 108,
   "metadata": {},
   "outputs": [
    {
     "name": "stdout",
     "output_type": "stream",
     "text": [
      "nt\n"
     ]
    }
   ],
   "source": [
    "import os\n",
    "print(os.name)"
   ]
  },
  {
   "cell_type": "code",
   "execution_count": 112,
   "metadata": {},
   "outputs": [
    {
     "name": "stdout",
     "output_type": "stream",
     "text": [
      "Enter number1: 20\n",
      "Enter number2: 10\n",
      "divisible\n"
     ]
    }
   ],
   "source": [
    "# number divisible by another number\n",
    "\n",
    "a = int(input(\"Enter number1: \"))\n",
    "b = int(input(\"Enter number2: \"))\n",
    "\n",
    "if a%b == 0:\n",
    "    print(\"divisible\")"
   ]
  },
  {
   "cell_type": "code",
   "execution_count": 115,
   "metadata": {},
   "outputs": [
    {
     "name": "stdout",
     "output_type": "stream",
     "text": [
      "34\n",
      "0\n"
     ]
    }
   ],
   "source": [
    "# max and min of list\n",
    "\n",
    "x = [10,0,34,25]\n",
    "a = max(x)\n",
    "b = min(x)\n",
    "print(a)\n",
    "print(b)"
   ]
  },
  {
   "cell_type": "code",
   "execution_count": 121,
   "metadata": {},
   "outputs": [
    {
     "name": "stdout",
     "output_type": "stream",
     "text": [
      "False\n"
     ]
    }
   ],
   "source": [
    "# distinct numbers in the list\n",
    "\n",
    "def test_distinct(a):\n",
    "    if len(a)== len(set(a)):\n",
    "        return True\n",
    "    else:\n",
    "        return False\n",
    "print(test_distinct([1,2,2,3]))\n",
    "    "
   ]
  },
  {
   "cell_type": "code",
   "execution_count": 125,
   "metadata": {},
   "outputs": [
    {
     "name": "stdout",
     "output_type": "stream",
     "text": [
      "o e a i u\n"
     ]
    }
   ],
   "source": [
    "# possible string from aeiou\n",
    "\n",
    "import random\n",
    "str = ['a','e','i','o','u']\n",
    "random.shuffle(str)\n",
    "print(' '.join(str))"
   ]
  },
  {
   "cell_type": "code",
   "execution_count": 129,
   "metadata": {},
   "outputs": [
    {
     "name": "stdout",
     "output_type": "stream",
     "text": [
      "['23', '12', '34', '42']\n",
      "['23', '12', '42']\n",
      "['23', '12']\n"
     ]
    }
   ],
   "source": [
    "num_list = ['23','12','67','34','42']\n",
    "\n",
    "for i in num_list:\n",
    "    del num_list[2]\n",
    "    print(num_list)\n",
    "    "
   ]
  },
  {
   "cell_type": "code",
   "execution_count": 131,
   "metadata": {},
   "outputs": [
    {
     "name": "stdout",
     "output_type": "stream",
     "text": [
      "-6 4 2\n"
     ]
    }
   ],
   "source": [
    "# sum of three numbers is 0\n",
    "def three_sum(nums):\n",
    "    for i in range(len(nums)-2):\n",
    "        x = nums[i]\n",
    "        y = nums[i+1]\n",
    "        z = nums [i+2]\n",
    "        \n",
    "        if x+y+z ==0 and (abs(x)!= abs(y) and abs(y)!=abs(z) and abs(z)!=abs(x)):\n",
    "            print(x,y,z)\n",
    "three_sum([1, -6, 4, 2, -1, 2, 0, -2, 0])"
   ]
  },
  {
   "cell_type": "code",
   "execution_count": 145,
   "metadata": {},
   "outputs": [
    {
     "name": "stdout",
     "output_type": "stream",
     "text": [
      "Trump condemns ‘white supremacy,’ calls for mental health and gun reforms after double mass shootings - Fox News\n",
      "https://www.foxnews.com/politics/trump-shootings-remarks\n",
      "Mon, 05 Aug 2019 14:24:53 GMT\n",
      "------------------------------------------------------------\n",
      "President Trump visiting Dayton following mass shooting in Oregon District - WKRC TV Cincinnati\n",
      "https://local12.com/news/local/report-president-trump-to-visit-dayton-following-mass-shooting-in-oregon-district\n",
      "Mon, 05 Aug 2019 11:58:00 GMT\n",
      "------------------------------------------------------------\n",
      "Death toll rises to 22 in El Paso shooting as 2 more victims die in hospital: Police - ABC News\n",
      "https://abcnews.go.com/US/death-toll-rises-22-el-paso-shooting-victims/story?id=64780680\n",
      "Mon, 05 Aug 2019 16:47:00 GMT\n",
      "------------------------------------------------------------\n",
      "Trump Wants ‘Strong Background Checks’ After Mass Shootings but Ties Them to Immigration Laws - The New York Times\n",
      "https://www.nytimes.com/2019/08/05/us/politics/trump-speech-mass-shootings-dayton-el-paso.html\n",
      "Mon, 05 Aug 2019 12:25:00 GMT\n",
      "------------------------------------------------------------\n",
      "Cloudflare CEO defends decision to drop website used by El Paso shooting suspect, calling it 'lawless' - CNBC\n",
      "https://www.cnbc.com/2019/08/05/cloudflare-ceo-defends-decision-to-drop-8chan-after-el-paso-shooting.html\n",
      "Mon, 05 Aug 2019 15:40:35 GMT\n",
      "------------------------------------------------------------\n",
      "Classmates: Ohio shooter kept a 'hit list' and a 'rape list' - Yahoo News\n",
      "https://news.yahoo.com/classmates-ohio-shooter-kept-hit-033305480.html\n",
      "Mon, 05 Aug 2019 03:40:38 GMT\n",
      "------------------------------------------------------------\n",
      "Lubbock man planning mass shooting hit with weapons charge - KEYE TV CBS Austin\n",
      "http://cbsaustin.com/news/local/lubbock-man-planning-mass-shooting-hit-with-weapons-charge\n",
      "Mon, 05 Aug 2019 10:56:00 GMT\n",
      "------------------------------------------------------------\n",
      "Surgeons remove portion of Sen. Paul's lung damaged in 2017 assault - POLITICO\n",
      "https://www.politico.com/story/2019/08/05/rand-paul-removed-lung-assault-1448144\n",
      "Mon, 05 Aug 2019 14:40:00 GMT\n",
      "------------------------------------------------------------\n",
      "Rep. Kenny Marchant calls it quits, becomes 12th House Republican to retire - The Washington Post\n",
      "https://www.washingtonpost.com/powerpost/rep-kenny-marchant-calls-it-quits-becomes-12th-house-republican-to-retire/2019/08/05/4f306cec-b77f-11e9-bad6-609f75bfd97f_story.html\n",
      "Mon, 05 Aug 2019 13:58:12 GMT\n",
      "------------------------------------------------------------\n",
      "Are mass shootings a contagion? - CBS This Morning\n",
      "https://www.youtube.com/watch?v=oK94kqO3Xiw\n",
      "Mon, 05 Aug 2019 12:09:00 GMT\n",
      "------------------------------------------------------------\n",
      "Article 370: How India's special status for Kashmir works - CNN\n",
      "https://www.cnn.com/2019/08/05/asia/article-370-india-explainer-intl/index.html\n",
      "Mon, 05 Aug 2019 16:42:00 GMT\n",
      "------------------------------------------------------------\n",
      "Hong Kong Strike Sinks City Into Chaos, and Government Has Little Reply - The New York Times\n",
      "https://www.nytimes.com/2019/08/05/world/asia/hong-kong-general-strike.html\n",
      "Mon, 05 Aug 2019 15:55:45 GMT\n",
      "------------------------------------------------------------\n",
      "Longstanding economic frustration is fueling Hong Kong's protests, expert says - CNBC\n",
      "https://www.cnbc.com/2019/08/05/hong-kong-protests-fueled-by-longstanding-economic-frustration.html\n",
      "Mon, 05 Aug 2019 06:39:59 GMT\n",
      "------------------------------------------------------------\n",
      "South Korea, US hold 'war games' despite North Korea warnings - Al Jazeera English\n",
      "https://www.aljazeera.com/news/2019/08/south-korea-hold-war-games-north-korea-warnings-190805030106943.html\n",
      "Mon, 05 Aug 2019 03:48:00 GMT\n",
      "------------------------------------------------------------\n",
      "Stock Markets Tumble After China Devalues Its Currency In Escalating Trade War - NPR\n",
      "https://www.npr.org/2019/08/05/748236662/stock-markets-take-another-hit-as-the-trade-war-with-china-heats-up\n",
      "Mon, 05 Aug 2019 16:22:00 GMT\n",
      "------------------------------------------------------------\n",
      "Stocks - U.S. Futures Slump as China Hits Back at U.S. on Trade, Currency - Investing.com\n",
      "https://www.investing.com/news/stock-market-news/stocks--us-futures-slump-as-china-hits-back-at-us-on-trade-currency-1945235\n",
      "Mon, 05 Aug 2019 11:16:00 GMT\n",
      "------------------------------------------------------------\n",
      "Luxury theater chain iPic Entertainment files for Chapter 11 bankruptcy, to pursue sale - CNBC\n",
      "https://www.cnbc.com/2019/08/05/ipic-entertainment-files-for-chapter-11-bankruptcy-to-pursue-sale.html\n",
      "Mon, 05 Aug 2019 11:54:22 GMT\n",
      "------------------------------------------------------------\n",
      "Oil Could Plunge By $30 If China Restores Iranian Oil Imports - OilPrice.com\n",
      "https://oilprice.com/Energy/Oil-Prices/Oil-Could-Plunge-By-30-If-China-Restores-Iranian-Oil-Imports.html\n",
      "Mon, 05 Aug 2019 17:00:00 GMT\n",
      "------------------------------------------------------------\n",
      "The Galaxy Note 9 a year later: Still good, but not for everyone - Engadget\n",
      "https://www.engadget.com/2019/08/05/samsung-galaxy-note-9-one-year-later-review/\n",
      "Mon, 05 Aug 2019 16:02:21 GMT\n",
      "------------------------------------------------------------\n",
      "All 'Made by Google' products to use recycled materials, be carbon neutral - PhoneArena\n",
      "https://www.phonearena.com/news/Made-by-Google-recycled-materials-carbon-neutral_id117950\n",
      "Mon, 05 Aug 2019 16:35:56 GMT\n",
      "------------------------------------------------------------\n",
      "Samsung's Active 2 has twice the heart sensors of the Apple Watch but none of the ECG clearance - PhoneArena\n",
      "https://www.phonearena.com/news/Samsungs-watch-Active-2-heart-sensor-Apple-Watch-ECG-feature-release_id117947\n",
      "Mon, 05 Aug 2019 14:06:55 GMT\n",
      "------------------------------------------------------------\n",
      "Fossil smartwatches: 'always on' screen, more iPhone support - 9to5Mac\n",
      "https://9to5mac.com/2019/08/05/fossil-smartwatches/\n",
      "Mon, 05 Aug 2019 15:42:00 GMT\n",
      "------------------------------------------------------------\n",
      "Angelina Jolie Shares Intimate Details About Raising 'Strong' Daughters In Moving Essay - HuffPost\n",
      "https://www.huffpost.com/entry/angelina-jolie-raising-strong-daughters-essay_n_5d483452e4b0ca604e35a804\n",
      "Mon, 05 Aug 2019 15:50:00 GMT\n",
      "------------------------------------------------------------\n",
      "'Hobbs & Shaw:' Can Dwayne Johnson Relaunch New 'Fast & Furious' Era? - Hollywood Reporter\n",
      "https://www.hollywoodreporter.com/heat-vision/hobbs-shaw-can-dwayne-johnson-relaunch-new-fast-furious-era-1229122\n",
      "Mon, 05 Aug 2019 13:40:11 GMT\n",
      "------------------------------------------------------------\n",
      "Gigi Hadid and Tyler Cameron Were Seen on a Date Days After He Slept Over Hannah Brown's - Yahoo Lifestyle\n",
      "https://www.yahoo.com/lifestyle/gigi-hadid-tyler-cameron-were-113200598.html\n",
      "Mon, 05 Aug 2019 12:05:00 GMT\n",
      "------------------------------------------------------------\n",
      "The 'Euphoria' Season Finale Totally Destroyed Twitter and the Fans Will Never Recover - Cosmopolitan.com\n",
      "https://www.cosmopolitan.com/entertainment/tv/a28607599/euphoria-season-finale-twitter-reactions-rue-jules-maddy-nate-fez/\n",
      "Mon, 05 Aug 2019 14:28:00 GMT\n",
      "------------------------------------------------------------\n",
      "Belichick hopes joint practices with Lions will lay foundation for success away from home in 2019 - NBCSports.com\n",
      "https://profootballtalk.nbcsports.com/2019/08/05/belichick-hopes-joint-practices-with-lions-will-lay-foundation-for-success-away-from-home-in-2019/\n",
      "Mon, 05 Aug 2019 17:32:00 GMT\n",
      "------------------------------------------------------------\n",
      "\"Fine me, I don't care,\" says Bedoya following political statement during 5-1 win - Philly Sports Network\n",
      "https://phillysportsnetwork.com/2019/08/05/e-12/\n",
      "Mon, 05 Aug 2019 03:21:00 GMT\n",
      "------------------------------------------------------------\n",
      "Video: Watch Odell Beckham Jr. Pull over Car, Sign Browns Fan's License Plate - Bleacher Report NFL\n",
      "https://bleacherreport.com/articles/2848467-video-watch-odell-beckham-jr-pull-over-car-sign-browns-fans-license-plate\n",
      "Sun, 04 Aug 2019 23:43:26 GMT\n",
      "------------------------------------------------------------\n",
      "Late for Work 8/5: Talk of Ravens' Offensive 'Revolution' Continues to Heat Up - BaltimoreRavens.com\n",
      "https://www.baltimoreravens.com/news/late-for-work-8-5-talk-of-ravens-offensive-revolution-continues-to-heat-up\n",
      "Mon, 05 Aug 2019 13:39:01 GMT\n",
      "------------------------------------------------------------\n",
      "Frogs, Toads, Lizards and Bats ... Were Found in Bagged Salads - Live Science\n",
      "https://www.livescience.com/66095-frogs-in-bagged-salad.html\n",
      "Mon, 05 Aug 2019 11:01:00 GMT\n",
      "------------------------------------------------------------\n",
      "This Impact Crater Was Likely Ground Zero for an Ancient Mega-Tsunami on Mars - Space.com\n",
      "https://www.space.com/mars-ocean-mega-tsunami-impact-crater.html\n",
      "Mon, 05 Aug 2019 11:00:00 GMT\n",
      "------------------------------------------------------------\n",
      "Fossils in La Brea Tar Pits reveal why coyotes still exist, but not saber-toothed cats - CNN\n",
      "https://www.cnn.com/2019/08/05/world/la-brea-tar-pits-coyotes-scn-trnd/index.html\n",
      "Mon, 05 Aug 2019 15:37:00 GMT\n",
      "------------------------------------------------------------\n",
      "SpaceX founder in the Valley, tweets new pictures of Starship - KRGV\n",
      "http://www.krgv.com/news/spacex-founder-in-the-valley-tweets-new-pictures-of-starship/\n",
      "Mon, 05 Aug 2019 09:56:09 GMT\n",
      "------------------------------------------------------------\n",
      "14 teens, young adults in 2 states hospitalized for lung disease that may be linked to vaping - WWLP.com\n",
      "https://www.wwlp.com/news/14-teens-young-adults-in-2-states-hospitalized-for-lung-disease-that-may-be-linked-to-vaping/\n",
      "Sun, 04 Aug 2019 23:06:00 GMT\n",
      "------------------------------------------------------------\n",
      "Think you have athlete’s foot? Here’s how to treat it and avoid more serious problems. - Washington Post\n",
      "https://www.washingtonpost.com/health/think-you-have-athletes-foot-heres-how-to-treat-it-and-avoid-more-serious-problems/2019/08/02/2e801cd8-a3dc-11e9-bd56-eac6bb02d01d_story.html\n",
      "Mon, 05 Aug 2019 13:07:30 GMT\n",
      "------------------------------------------------------------\n",
      "Pain Relief For Very Sick Kids Is The Focus Of This Quick Response Team : Shots - Health News - NPR\n",
      "https://www.npr.org/sections/health-shots/2019/08/05/745589634/pain-rescue-team-helps-seriously-ill-kids-cope-in-terrible-times\n",
      "Mon, 05 Aug 2019 09:01:00 GMT\n",
      "------------------------------------------------------------\n",
      "A woman lost her hands and legs to an infection from puppy kisses - KCRA Sacramento\n",
      "https://www.kcra.com/article/a-woman-lost-her-hands-and-legs-to-an-infection-from-puppy-kisses/28595662\n",
      "Mon, 05 Aug 2019 11:02:00 GMT\n",
      "------------------------------------------------------------\n",
      "https://news.google.com/news/rss\n",
      "b'<?xml version=\"1.0\" encoding=\"UTF-8\" standalone=\"yes\"?><rss version=\"2.0\" xmlns:media=\"http://search.yahoo.com/mrss/\"><channel><generator>NFE/5.0</generator><title>Top stories - Google News</title><link>https://news.google.com/?hl=en-US&amp;gl=US&amp;ceid=US:en</link><language>en-US</language><webMaster>news-webmaster@google.com</webMaster><copyright>2019 Google Inc.</copyright><lastBuildDate>Mon, 05 Aug 2019 17:55:44 GMT</lastBuildDate><description>Google News</description><item><title>Trump condemns \\xe2\\x80\\x98white supremacy,\\xe2\\x80\\x99 calls for mental health and gun reforms after double mass shootings - Fox News</title><link>https://www.foxnews.com/politics/trump-shootings-remarks</link><guid isPermaLink=\"false\">52780345897314</guid><pubDate>Mon, 05 Aug 2019 14:24:53 GMT</pubDate><description>&lt;ol&gt;&lt;li&gt;&lt;a href=\"https://www.foxnews.com/politics/trump-shootings-remarks\" target=\"_blank\"&gt;Trump condemns \\xe2\\x80\\x98white supremacy,\\xe2\\x80\\x99 calls for mental health and gun reforms after double mass shootings&lt;/a&gt;&amp;nbsp;&amp;nbsp;&lt;font color=\"#6f6f6f\"&gt;Fox News&lt;/font&gt;&lt;/li&gt;&lt;li&gt;&lt;a href=\"https://www.nytimes.com/2019/08/05/us/politics/trump-speech-mass-shootings-dayton-el-paso.html\" target=\"_blank\"&gt;Trump Condemns White Supremacy but Doesn\\'t Propose Gun Laws After Shootings&lt;/a&gt;&amp;nbsp;&amp;nbsp;&lt;font color=\"#6f6f6f\"&gt;The New York Times&lt;/font&gt;&lt;/li&gt;&lt;li&gt;&lt;a href=\"https://www.independent.co.uk/life-style/gadgets-and-tech/gaming/trump-video-games-toledo-shooting-8chan-el-paso-press-conference-today-a9040066.html\" target=\"_blank\"&gt;Trump to launch crackdown on violent video games after mass shootings&lt;/a&gt;&amp;nbsp;&amp;nbsp;&lt;font color=\"#6f6f6f\"&gt;The Independent&lt;/font&gt;&lt;/li&gt;&lt;li&gt;&lt;a href=\"https://www.usatoday.com/story/opinion/2019/08/05/dayton-el-paso-donald-trump-republicans-wont-fix-gun-laws-column/1917594001/\" target=\"_blank\"&gt;Dayton and El Paso won\\'t change Trump. He\\'s bet his future on division, cruelty and guns.&lt;/a&gt;&amp;nbsp;&amp;nbsp;&lt;font color=\"#6f6f6f\"&gt;USA TODAY&lt;/font&gt;&lt;/li&gt;&lt;li&gt;&lt;a href=\"https://www.latimes.com/opinion/story/2019-08-05/trump-dayton-ohio-el-paso-shootings\" target=\"_blank\"&gt;Editorial: Trump\\'s cynical response to mass shootings falls far short of what\\'s needed to protect the U.S.&lt;/a&gt;&amp;nbsp;&amp;nbsp;&lt;font color=\"#6f6f6f\"&gt;Los Angeles Times&lt;/font&gt;&lt;/li&gt;&lt;li&gt;&lt;strong&gt;&lt;a href=\"https://news.google.com/stories/CAAqOQgKIjNDQklTSURvSmMzUnZjbmt0TXpZd1NoTUtFUWppNHBLT2pvQU1FVmpyOGRFNks4d19LQUFQAQ?oc=5\" target=\"_blank\"&gt;View full coverage on Google News&lt;/a&gt;&lt;/strong&gt;&lt;/li&gt;&lt;/ol&gt;</description><source url=\"https://www.foxnews.com\">Fox News</source></item><item><title>President Trump visiting Dayton following mass shooting in Oregon District - WKRC TV Cincinnati</title><link>https://local12.com/news/local/report-president-trump-to-visit-dayton-following-mass-shooting-in-oregon-district</link><guid isPermaLink=\"false\">52780345337795</guid><pubDate>Mon, 05 Aug 2019 11:58:00 GMT</pubDate><description>&lt;ol&gt;&lt;li&gt;&lt;a href=\"https://local12.com/news/local/report-president-trump-to-visit-dayton-following-mass-shooting-in-oregon-district\" target=\"_blank\"&gt;President Trump visiting Dayton following mass shooting in Oregon District&lt;/a&gt;&amp;nbsp;&amp;nbsp;&lt;font color=\"#6f6f6f\"&gt;WKRC TV Cincinnati&lt;/font&gt;&lt;/li&gt;&lt;li&gt;&lt;a href=\"https://www.npr.org/2019/08/05/748239149/do-something-calls-ring-out-after-mass-shootings-in-el-paso-and-dayton\" target=\"_blank\"&gt;\\'Do Something!\\': Calls Ring Out After Mass Shootings In El Paso And Dayton&lt;/a&gt;&amp;nbsp;&amp;nbsp;&lt;font color=\"#6f6f6f\"&gt;NPR&lt;/font&gt;&lt;/li&gt;&lt;li&gt;&lt;a href=\"https://www.foxnews.com/us/dayton-ohio-shooting-suspect-hit-list\" target=\"_blank\"&gt;Dayton suspect compiled \\'hit list\\' and \\'rape list\\' in high school: reports&lt;/a&gt;&amp;nbsp;&amp;nbsp;&lt;font color=\"#6f6f6f\"&gt;Fox News&lt;/font&gt;&lt;/li&gt;&lt;li&gt;&lt;a href=\"https://www.cincinnati.com/story/news/2019/08/04/dayton-shooting-ohio-governor-mike-dewine-shouted-down-during-vigil/1918227001/\" target=\"_blank\"&gt;\\'Do something!\\' The mourning of Dayton shout down Ohio Gov. Mike DeWine in call for action&lt;/a&gt;&amp;nbsp;&amp;nbsp;&lt;font color=\"#6f6f6f\"&gt;Cincinnati.com&lt;/font&gt;&lt;/li&gt;&lt;li&gt;&lt;a href=\"https://www.military.com/daily-news/2019/08/05/3-airmen-injured-during-dayton-mass-shooting-evacuation.html\" target=\"_blank\"&gt;3 Airmen Injured During Dayton Mass Shooting Evacuation&lt;/a&gt;&amp;nbsp;&amp;nbsp;&lt;font color=\"#6f6f6f\"&gt;Military.com&lt;/font&gt;&lt;/li&gt;&lt;li&gt;&lt;strong&gt;&lt;a href=\"https://news.google.com/stories/CAAqbQgKImdDQklTUnpvSmMzUnZjbmt0TXpZd1Nqb0tFUWpEel9DTmpvQU1FV1c5dFhKWnJfQjlFaVU1SUdSbFlXUXNJREkzSUdsdWFuVnlaV1FnYVc0Z1JHRjVkRzl1SUhOb2IyOTBhVzVuS0FBUAE?oc=5\" target=\"_blank\"&gt;View full coverage on Google News&lt;/a&gt;&lt;/strong&gt;&lt;/li&gt;&lt;/ol&gt;</description><source url=\"https://local12.com\">WKRC TV Cincinnati</source><media:content url=\"https://lh5.googleusercontent.com/proxy/itIaO0uU2nzl9LakfqqHFwnz5S-2CdjNfG8Iot1IzJwlLC4FWZKP06jcs6xkGTwTFOC_McznuXEPaQFOcMOr417XSaKU97NGkA5eqm_hXgHT9vlpCWwonPmuoSE4ewWckQWoSefjwS94WjgLW1srCEwLZBHdd5vKDv__OfKMCo_co2Jd=-w150-h150-c\" medium=\"image\" width=\"150\" height=\"150\"/></item><item><title>Death toll rises to 22 in El Paso shooting as 2 more victims die in hospital: Police - ABC News</title><link>https://abcnews.go.com/US/death-toll-rises-22-el-paso-shooting-victims/story?id=64780680</link><guid isPermaLink=\"false\">52780345070464</guid><pubDate>Mon, 05 Aug 2019 16:47:00 GMT</pubDate><description>&lt;ol&gt;&lt;li&gt;&lt;a href=\"https://abcnews.go.com/US/death-toll-rises-22-el-paso-shooting-victims/story?id=64780680\" target=\"_blank\"&gt;Death toll rises to 22 in El Paso shooting as 2 more victims die in hospital: Police&lt;/a&gt;&amp;nbsp;&amp;nbsp;&lt;font color=\"#6f6f6f\"&gt;ABC News&lt;/font&gt;&lt;/li&gt;&lt;li&gt;&lt;a href=\"https://www.youtube.com/watch?v=XX-lK1hBcgw\" target=\"_blank\"&gt;El Paso shooting labelled \\'domestic terrorism\\' case&lt;/a&gt;&amp;nbsp;&amp;nbsp;&lt;font color=\"#6f6f6f\"&gt;ABC News&lt;/font&gt;&lt;/li&gt;&lt;li&gt;&lt;a href=\"https://www.cnn.com/2019/08/05/politics/beto-orourke-donald-trump-mass-shootings/index.html\" target=\"_blank\"&gt;Beto O\\'Rourke lashes out at question about Trump\\'s language after mass shooting in El Paso&lt;/a&gt;&amp;nbsp;&amp;nbsp;&lt;font color=\"#6f6f6f\"&gt;CNN&lt;/font&gt;&lt;/li&gt;&lt;li&gt;&lt;a href=\"https://www.usatoday.com/story/opinion/2019/08/05/el-paso-shooting-open-season-on-hispanics-thanks-to-trump-column/1917590001/\" target=\"_blank\"&gt;El Paso shooting: \\'Open season\\' on Hispanics in America thanks to \\'racist in chief\\' Trump&lt;/a&gt;&amp;nbsp;&amp;nbsp;&lt;font color=\"#6f6f6f\"&gt;USA TODAY&lt;/font&gt;&lt;/li&gt;&lt;li&gt;&lt;a href=\"https://www.washingtonpost.com/opinions/2019/08/04/mass-shootings-appall-texas-politicians-so-do-solutions/\" target=\"_blank\"&gt;Mass shootings appall Texas politicians. So do the solutions.&lt;/a&gt;&amp;nbsp;&amp;nbsp;&lt;font color=\"#6f6f6f\"&gt;The Washington Post&lt;/font&gt;&lt;/li&gt;&lt;li&gt;&lt;strong&gt;&lt;a href=\"https://news.google.com/stories/CAAqYggKIlxDQklTUHpvSmMzUnZjbmt0TXpZd1NqSUtFUWlBcC1DTmpvQU1FVGtjRVRiYThKb2JFaDB5TUNCcmFXeHNaV1FnYVc0Z1JXd2dVR0Z6YnlCemFHOXZkR2x1WnlnQVAB?oc=5\" target=\"_blank\"&gt;View full coverage on Google News&lt;/a&gt;&lt;/strong&gt;&lt;/li&gt;&lt;/ol&gt;</description><source url=\"https://abcnews.go.com\">ABC News</source></item><item><title>Trump Wants \\xe2\\x80\\x98Strong Background Checks\\xe2\\x80\\x99 After Mass Shootings but Ties Them to Immigration Laws - The New York Times</title><link>https://www.nytimes.com/2019/08/05/us/politics/trump-speech-mass-shootings-dayton-el-paso.html</link><guid isPermaLink=\"false\">52780345869885</guid><pubDate>Mon, 05 Aug 2019 12:25:00 GMT</pubDate><description>&lt;ol&gt;&lt;li&gt;&lt;a href=\"https://www.nytimes.com/2019/08/05/us/politics/trump-speech-mass-shootings-dayton-el-paso.html\" target=\"_blank\"&gt;Trump Wants \\xe2\\x80\\x98Strong Background Checks\\xe2\\x80\\x99 After Mass Shootings but Ties Them to Immigration Laws&lt;/a&gt;&amp;nbsp;&amp;nbsp;&lt;font color=\"#6f6f6f\"&gt;The New York Times&lt;/font&gt;&lt;/li&gt;&lt;li&gt;&lt;a href=\"https://www.cnn.com/2019/08/05/politics/donald-trump-gun-control-immigration-reform-mass-shootings/index.html\" target=\"_blank\"&gt;Trump suggests tying gun measures to immigration after shooting that targeted immigrants&lt;/a&gt;&amp;nbsp;&amp;nbsp;&lt;font color=\"#6f6f6f\"&gt;CNN&lt;/font&gt;&lt;/li&gt;&lt;li&gt;&lt;a href=\"https://www.foxnews.com/politics/trump-suggests-linking-background-check-legislation-with-immigration-reform-in-wake-of-shootings\" target=\"_blank\"&gt;Trump suggests tightening background checks alongside immigration reform in wake of mass shootings&lt;/a&gt;&amp;nbsp;&amp;nbsp;&lt;font color=\"#6f6f6f\"&gt;Fox News&lt;/font&gt;&lt;/li&gt;&lt;li&gt;&lt;a href=\"https://www.youtube.com/watch?v=lCDG3Vs9SnQ\" target=\"_blank\"&gt;Trump suggests legislation addressing background checks and immigration reform&lt;/a&gt;&amp;nbsp;&amp;nbsp;&lt;font color=\"#6f6f6f\"&gt;CBS News&lt;/font&gt;&lt;/li&gt;&lt;li&gt;&lt;a href=\"https://abcnews.go.com/Politics/ahead-remarks-trump-proposes-gun-background-checks-tied/story?id=64778938\" target=\"_blank\"&gt;Ahead of remarks, Trump proposes gun background checks tied to immigration reform&lt;/a&gt;&amp;nbsp;&amp;nbsp;&lt;font color=\"#6f6f6f\"&gt;ABC News&lt;/font&gt;&lt;/li&gt;&lt;li&gt;&lt;strong&gt;&lt;a href=\"https://news.google.com/stories/CAAqOQgKIjNDQklTSURvSmMzUnZjbmt0TXpZd1NoTUtFUWk5akpHT2pvQU1FWmduaml0WjhVODdLQUFQAQ?oc=5\" target=\"_blank\"&gt;View full coverage on Google News&lt;/a&gt;&lt;/strong&gt;&lt;/li&gt;&lt;/ol&gt;</description><source url=\"https://www.nytimes.com\">The New York Times</source></item><item><title>Cloudflare CEO defends decision to drop website used by El Paso shooting suspect, calling it \\'lawless\\' - CNBC</title><link>https://www.cnbc.com/2019/08/05/cloudflare-ceo-defends-decision-to-drop-8chan-after-el-paso-shooting.html</link><guid isPermaLink=\"false\">52780345598939</guid><pubDate>Mon, 05 Aug 2019 15:40:35 GMT</pubDate><description>&lt;ol&gt;&lt;li&gt;&lt;a href=\"https://www.cnbc.com/2019/08/05/cloudflare-ceo-defends-decision-to-drop-8chan-after-el-paso-shooting.html\" target=\"_blank\"&gt;Cloudflare CEO defends decision to drop website used by El Paso shooting suspect, calling it \\'lawless\\'&lt;/a&gt;&amp;nbsp;&amp;nbsp;&lt;font color=\"#6f6f6f\"&gt;CNBC&lt;/font&gt;&lt;/li&gt;&lt;li&gt;&lt;a href=\"https://www.nytimes.com/2019/08/04/technology/8chan-shooting-manifesto.html\" target=\"_blank\"&gt;8chan, Megaphone for Gunmen, Has Gone Dark. \\xe2\\x80\\x98Shut the Site Down,\\xe2\\x80\\x99 Says Its Creator.&lt;/a&gt;&amp;nbsp;&amp;nbsp;&lt;font color=\"#6f6f6f\"&gt;The New York Times&lt;/font&gt;&lt;/li&gt;&lt;li&gt;&lt;a href=\"https://www.cnn.com/2019/08/04/business/el-paso-shooting-8chan-biz/index.html\" target=\"_blank\"&gt;El Paso mass shooting is at least the third atrocity linked to 8chan this year&lt;/a&gt;&amp;nbsp;&amp;nbsp;&lt;font color=\"#6f6f6f\"&gt;CNN&lt;/font&gt;&lt;/li&gt;&lt;li&gt;&lt;a href=\"https://www.theguardian.com/commentisfree/2019/aug/05/what-induces-men-to-imitate-the-christchurch-massacre\" target=\"_blank\"&gt;What induces men to imitate the Christchurch massacre? | Jeff Sparrow&lt;/a&gt;&amp;nbsp;&amp;nbsp;&lt;font color=\"#6f6f6f\"&gt;The Guardian&lt;/font&gt;&lt;/li&gt;&lt;li&gt;&lt;a href=\"https://qz.com/1681535/what-does-cloudflare-do-and-how-is-it-connected-to-the-el-paso-shooting/\" target=\"_blank\"&gt;What does Cloudflare do and how is it connected to the El Paso shooting?&lt;/a&gt;&amp;nbsp;&amp;nbsp;&lt;font color=\"#6f6f6f\"&gt;Quartz&lt;/font&gt;&lt;/li&gt;&lt;li&gt;&lt;strong&gt;&lt;a href=\"https://news.google.com/stories/CAAqeAgKInJDQklTVHpvSmMzUnZjbmt0TXpZd1NrSUtFUWpieDRDT2pvQU1FWGhZazN5WGJ6Z3lFaTFEYkc5MVpHWnNZWEpsSUdSeWIzQnpJRGhqYUdGdUlHRm1kR1Z5SUVWc0lGQmhjMjhnYzJodmIzUnBibWNvQUFQAQ?oc=5\" target=\"_blank\"&gt;View full coverage on Google News&lt;/a&gt;&lt;/strong&gt;&lt;/li&gt;&lt;/ol&gt;</description><source url=\"https://www.cnbc.com\">CNBC</source></item><item><title>Classmates: Ohio shooter kept a \\'hit list\\' and a \\'rape list\\' - Yahoo News</title><link>https://news.yahoo.com/classmates-ohio-shooter-kept-hit-033305480.html</link><guid isPermaLink=\"false\">52780346079119</guid><pubDate>Mon, 05 Aug 2019 03:40:38 GMT</pubDate><description>&lt;ol&gt;&lt;li&gt;&lt;a href=\"https://news.yahoo.com/classmates-ohio-shooter-kept-hit-033305480.html\" target=\"_blank\"&gt;Classmates: Ohio shooter kept a \\'hit list\\' and a \\'rape list\\'&lt;/a&gt;&amp;nbsp;&amp;nbsp;&lt;font color=\"#6f6f6f\"&gt;Yahoo News&lt;/font&gt;&lt;/li&gt;&lt;li&gt;&lt;a href=\"https://www.foxnews.com/us/dayton-shooting-surveillance-video-gunfire-police-response\" target=\"_blank\"&gt;Dayton shooting, chaos captured on surveillance video as officers seen racing towards gunfire&lt;/a&gt;&amp;nbsp;&amp;nbsp;&lt;font color=\"#6f6f6f\"&gt;Fox News&lt;/font&gt;&lt;/li&gt;&lt;li&gt;&lt;a href=\"https://nypost.com/2019/08/05/video-shows-moment-cops-kill-connor-betts-during-dayton-massacre/\" target=\"_blank\"&gt;Video shows moment cops kill Connor Betts during Dayton massacre&lt;/a&gt;&amp;nbsp;&amp;nbsp;&lt;font color=\"#6f6f6f\"&gt;New York Post &lt;/font&gt;&lt;/li&gt;&lt;li&gt;&lt;a href=\"https://www.whio.com/news/local/bellbrook-police-conduct-investigation-home/74z9iRBtYqBqxOQ6kSsdzL/\" target=\"_blank\"&gt;Dayton shooting: Oregon District suspect identified as Connor Betts&lt;/a&gt;&amp;nbsp;&amp;nbsp;&lt;font color=\"#6f6f6f\"&gt;WHIO&lt;/font&gt;&lt;/li&gt;&lt;li&gt;&lt;a href=\"https://www.youtube.com/watch?v=wadBaPT_eJE\" target=\"_blank\"&gt;Dayton shooter ID\\'d, information about past revealed&lt;/a&gt;&amp;nbsp;&amp;nbsp;&lt;font color=\"#6f6f6f\"&gt;CBS 17&lt;/font&gt;&lt;/li&gt;&lt;li&gt;&lt;strong&gt;&lt;a href=\"https://news.google.com/stories/CAAqOQgKIjNDQklTSURvSmMzUnZjbmt0TXpZd1NoTUtFUWlQNzUyT2pvQU1FV1BuYnFJMThJSlJLQUFQAQ?oc=5\" target=\"_blank\"&gt;View full coverage on Google News&lt;/a&gt;&lt;/strong&gt;&lt;/li&gt;&lt;/ol&gt;</description><source url=\"https://news.yahoo.com\">Yahoo News</source><media:content url=\"https://lh6.googleusercontent.com/proxy/D6cAqKzkSPT9YsIm7NoURVr35TuhyS1zx6u79kPMvq7DWKcZ9Qg0QRquG9hMresPdYy8zyJtPd-qulOEwdHYbGl6HEAm-wsIBsUxj1wPRN__cfZHHLn4s43O77s7j0hU52hWXv98G4cCPnXHtb49BKiMbhQDsmYn7bIRtR8r6rAY4nrV4YYov9Y9JJ720XFTUzNCFqA0f6fS6ZJeO-9LjHu2iEs948LEOJgfOcjbfX-dgJYKbPXtC36sMTJ140IwOj7-LBWXGPj8aS0zRTZWFkm-ZlgIW1USNF5afpzSyN7or9T2iPwPIKqvwUWpSBWj_5jacdT9gapY_NhxtDlMAUczX5pAtxEXP6Hk8rx5DShO2H51TlfqYjV18360kAtOs6Vnd8UK5UMw0JNT96WRZjbPawm8Sskn=-w150-h150-c\" medium=\"image\" width=\"150\" height=\"150\"/></item><item><title>Lubbock man planning mass shooting hit with weapons charge - KEYE TV CBS Austin</title><link>http://cbsaustin.com/news/local/lubbock-man-planning-mass-shooting-hit-with-weapons-charge</link><guid isPermaLink=\"false\">52780346126453</guid><pubDate>Mon, 05 Aug 2019 10:56:00 GMT</pubDate><description>&lt;ol&gt;&lt;li&gt;&lt;a href=\"http://cbsaustin.com/news/local/lubbock-man-planning-mass-shooting-hit-with-weapons-charge\" target=\"_blank\"&gt;Lubbock man planning mass shooting hit with weapons charge&lt;/a&gt;&amp;nbsp;&amp;nbsp;&lt;font color=\"#6f6f6f\"&gt;KEYE TV CBS Austin&lt;/font&gt;&lt;/li&gt;&lt;li&gt;&lt;a href=\"https://www.nbcnews.com/news/us-news/grandmother-averts-mass-shooting-bringing-grandson-hospital-after-threats-n1039226\" target=\"_blank\"&gt;Grandmother averts mass shooting by bringing grandson to hospital after threats&lt;/a&gt;&amp;nbsp;&amp;nbsp;&lt;font color=\"#6f6f6f\"&gt;NBC News&lt;/font&gt;&lt;/li&gt;&lt;li&gt;&lt;a href=\"https://www.cnn.com/2019/08/05/us/mass-shooting-averted/index.html\" target=\"_blank\"&gt;A man was plotting a mass shooting. His grandmother stopped him and saved lives&lt;/a&gt;&amp;nbsp;&amp;nbsp;&lt;font color=\"#6f6f6f\"&gt;CNN&lt;/font&gt;&lt;/li&gt;&lt;li&gt;&lt;a href=\"https://www.theblaze.com/news/a-texas-man-planned-to-carry-out-a-mass-killing-his-grandmother-is-being-credited-for-stopping-him\" target=\"_blank\"&gt;A Texas man planned to carry out a mass killing. His grandmother is being credited for stopping him.&lt;/a&gt;&amp;nbsp;&amp;nbsp;&lt;font color=\"#6f6f6f\"&gt;TheBlaze&lt;/font&gt;&lt;/li&gt;&lt;li&gt;&lt;a href=\"https://www.ajc.com/news/national/attorney-grandmother-finds-out-what-grandson-has-planned-thwarts-mass-shooting/foYMaMioyt5GOpI21GlWhM/\" target=\"_blank\"&gt;U.S. Attorney: Grandmother finds out what grandson has planned, thwarts mass shooting&lt;/a&gt;&amp;nbsp;&amp;nbsp;&lt;font color=\"#6f6f6f\"&gt;Atlanta Journal Constitution&lt;/font&gt;&lt;/li&gt;&lt;li&gt;&lt;strong&gt;&lt;a href=\"https://news.google.com/stories/CAAqOQgKIjNDQklTSURvSmMzUnZjbmt0TXpZd1NoTUtFUWoxNEtDT2pvQU1FUXFzVzE3WWhOazFLQUFQAQ?oc=5\" target=\"_blank\"&gt;View full coverage on Google News&lt;/a&gt;&lt;/strong&gt;&lt;/li&gt;&lt;/ol&gt;</description><source url=\"http://cbsaustin.com\">KEYE TV CBS Austin</source><media:content url=\"https://lh6.googleusercontent.com/proxy/NN8rziSSegrVvUUP5YKykqS76fXvNPqcGQUlSlvY4mSTkJePMehr7V4VFn4vaGKYzFsePbIxBSE5q7hgFrD_D9uldB5hs3OGv8lhv3bs3-ePJazCDpcg1LmD82J-xoTSjJozsZKnpVXy0NV3q6vWsLrquVXhmz4UOCqXYgHx37vV4Q=-w150-h150-c\" medium=\"image\" width=\"150\" height=\"150\"/></item><item><title>Surgeons remove portion of Sen. Paul\\'s lung damaged in 2017 assault - POLITICO</title><link>https://www.politico.com/story/2019/08/05/rand-paul-removed-lung-assault-1448144</link><guid isPermaLink=\"false\">52780346081907</guid><pubDate>Mon, 05 Aug 2019 14:40:00 GMT</pubDate><description>&lt;ol&gt;&lt;li&gt;&lt;a href=\"https://www.politico.com/story/2019/08/05/rand-paul-removed-lung-assault-1448144\" target=\"_blank\"&gt;Surgeons remove portion of Sen. Paul\\'s lung damaged in 2017 assault&lt;/a&gt;&amp;nbsp;&amp;nbsp;&lt;font color=\"#6f6f6f\"&gt;POLITICO&lt;/font&gt;&lt;/li&gt;&lt;li&gt;&lt;a href=\"https://www.foxnews.com/politics/rand-paul-undergoes-lung-surgery-after-2017-assault-by-neighbor\" target=\"_blank\"&gt;Rand Paul has part of lung removed after 2017 assault by neighbor&lt;/a&gt;&amp;nbsp;&amp;nbsp;&lt;font color=\"#6f6f6f\"&gt;Fox News&lt;/font&gt;&lt;/li&gt;&lt;li&gt;&lt;a href=\"https://www.cnn.com/2019/08/05/politics/rand-paul-part-of-lung-removed/index.html\" target=\"_blank\"&gt;Rand Paul says he had part of his lung removed&lt;/a&gt;&amp;nbsp;&amp;nbsp;&lt;font color=\"#6f6f6f\"&gt;CNN&lt;/font&gt;&lt;/li&gt;&lt;li&gt;&lt;a href=\"https://abcnews.go.com/Politics/wireStory/rand-paul-undergoes-lung-surgery-stemming-assault-64781043\" target=\"_blank\"&gt;Rand Paul undergoes lung surgery stemming from assault&lt;/a&gt;&amp;nbsp;&amp;nbsp;&lt;font color=\"#6f6f6f\"&gt;ABC News&lt;/font&gt;&lt;/li&gt;&lt;li&gt;&lt;a href=\"https://www.cbsnews.com/news/kentucky-senator-rand-paul-gets-part-of-lung-removed-after-2017-assault/\" target=\"_blank\"&gt;Senator Rand Paul has surgery to remove part of his lung after 2017 assault&lt;/a&gt;&amp;nbsp;&amp;nbsp;&lt;font color=\"#6f6f6f\"&gt;CBS News&lt;/font&gt;&lt;/li&gt;&lt;li&gt;&lt;strong&gt;&lt;a href=\"https://news.google.com/stories/CAAqOQgKIjNDQklTSURvSmMzUnZjbmt0TXpZd1NoTUtFUWp6aEo2T2pvQU1FVDVGaTZHX2ZNS3FLQUFQAQ?oc=5\" target=\"_blank\"&gt;View full coverage on Google News&lt;/a&gt;&lt;/strong&gt;&lt;/li&gt;&lt;/ol&gt;</description><source url=\"https://www.politico.com\">POLITICO</source></item><item><title>Rep. Kenny Marchant calls it quits, becomes 12th House Republican to retire - The Washington Post</title><link>https://www.washingtonpost.com/powerpost/rep-kenny-marchant-calls-it-quits-becomes-12th-house-republican-to-retire/2019/08/05/4f306cec-b77f-11e9-bad6-609f75bfd97f_story.html</link><guid isPermaLink=\"false\">52780346086131</guid><pubDate>Mon, 05 Aug 2019 13:58:12 GMT</pubDate><description>&lt;ol&gt;&lt;li&gt;&lt;a href=\"https://www.washingtonpost.com/powerpost/rep-kenny-marchant-calls-it-quits-becomes-12th-house-republican-to-retire/2019/08/05/4f306cec-b77f-11e9-bad6-609f75bfd97f_story.html\" target=\"_blank\"&gt;Rep. Kenny Marchant calls it quits, becomes 12th House Republican to retire&lt;/a&gt;&amp;nbsp;&amp;nbsp;&lt;font color=\"#6f6f6f\"&gt;The Washington Post&lt;/font&gt;&lt;/li&gt;&lt;li&gt;&lt;a href=\"https://www.politico.com/story/2019/08/05/kenny-marchant-texas-republican-reitres-congress-1447980\" target=\"_blank\"&gt;Marchant becomes latest Texas Republican to retire from Congress&lt;/a&gt;&amp;nbsp;&amp;nbsp;&lt;font color=\"#6f6f6f\"&gt;POLITICO&lt;/font&gt;&lt;/li&gt;&lt;li&gt;&lt;a href=\"https://thehill.com/homenews/house/456138-another-texas-congressman-planning-to-retire-report\" target=\"_blank\"&gt;Another Texas congressman planning to retire | TheHill&lt;/a&gt;&amp;nbsp;&amp;nbsp;&lt;font color=\"#6f6f6f\"&gt;The Hill&lt;/font&gt;&lt;/li&gt;&lt;li&gt;&lt;a href=\"https://www.nytimes.com/2019/08/05/us/politics/house-retirement-republican.html\" target=\"_blank\"&gt;Kenny Marchant Will Be Fourth Texas Republican Congressman to Retire in 2020&lt;/a&gt;&amp;nbsp;&amp;nbsp;&lt;font color=\"#6f6f6f\"&gt;The New York Times&lt;/font&gt;&lt;/li&gt;&lt;li&gt;&lt;a href=\"https://www.cnn.com/2019/08/05/politics/kenny-marchant-house-republican-retirement/index.html\" target=\"_blank\"&gt;Fourth House Republican from Texas announces he won\\'t run for reelection&lt;/a&gt;&amp;nbsp;&amp;nbsp;&lt;font color=\"#6f6f6f\"&gt;CNN&lt;/font&gt;&lt;/li&gt;&lt;li&gt;&lt;strong&gt;&lt;a href=\"https://news.google.com/stories/CAAqOQgKIjNDQklTSURvSmMzUnZjbmt0TXpZd1NoTUtFUWp6cFo2T2pvQU1FVFZOYlBxQWgycXdLQUFQAQ?oc=5\" target=\"_blank\"&gt;View full coverage on Google News&lt;/a&gt;&lt;/strong&gt;&lt;/li&gt;&lt;/ol&gt;</description><source url=\"https://www.washingtonpost.com\">The Washington Post</source></item><item><title>Are mass shootings a contagion? - CBS This Morning</title><link>https://www.youtube.com/watch?v=oK94kqO3Xiw</link><guid isPermaLink=\"false\">CCAiC29LOTRrcU8zWGl3mAEB</guid><pubDate>Mon, 05 Aug 2019 12:09:00 GMT</pubDate><description>&lt;a href=\"https://www.youtube.com/watch?v=oK94kqO3Xiw\" target=\"_blank\"&gt;Are mass shootings a contagion?&lt;/a&gt;&amp;nbsp;&amp;nbsp;&lt;font color=\"#6f6f6f\"&gt;CBS This Morning&lt;/font&gt;&lt;p&gt;&lt;/p&gt;&lt;strong&gt;&lt;a href=\"https://news.google.com/stories/CAAqOQgKIjNDQklTSURvSmMzUnZjbmt0TXpZd1NoTUtFUWpieHFDT2pvQU1FUWJSX193S1N1Y2FLQUFQAQ?oc=5\" target=\"_blank\"&gt;View full coverage on Google News&lt;/a&gt;&lt;/strong&gt;</description><source url=\"https://www.youtube.com\">CBS This Morning</source></item><item><title>Article 370: How India\\'s special status for Kashmir works - CNN</title><link>https://www.cnn.com/2019/08/05/asia/article-370-india-explainer-intl/index.html</link><guid isPermaLink=\"false\">52780345910875</guid><pubDate>Mon, 05 Aug 2019 16:42:00 GMT</pubDate><description>&lt;ol&gt;&lt;li&gt;&lt;a href=\"https://www.cnn.com/2019/08/05/asia/article-370-india-explainer-intl/index.html\" target=\"_blank\"&gt;Article 370: How India\\'s special status for Kashmir works&lt;/a&gt;&amp;nbsp;&amp;nbsp;&lt;font color=\"#6f6f6f\"&gt;CNN&lt;/font&gt;&lt;/li&gt;&lt;li&gt;&lt;a href=\"https://www.nytimes.com/2019/08/05/world/asia/india-pakistan-kashmir-jammu.html\" target=\"_blank\"&gt;India Revokes Kashmir\\xe2\\x80\\x99s Special Status, Raising Fears of Unrest&lt;/a&gt;&amp;nbsp;&amp;nbsp;&lt;font color=\"#6f6f6f\"&gt;The New York Times&lt;/font&gt;&lt;/li&gt;&lt;li&gt;&lt;a href=\"https://www.cnbc.com/2019/08/05/article-370-what-is-happening-in-kashmir-india-revokes-special-status.html\" target=\"_blank\"&gt;India revokes special status for Kashmir. Here\\'s what it means&lt;/a&gt;&amp;nbsp;&amp;nbsp;&lt;font color=\"#6f6f6f\"&gt;CNBC&lt;/font&gt;&lt;/li&gt;&lt;li&gt;&lt;a href=\"https://www.express.co.uk/news/world/1162003/kashmir-latest-why-is-kashmir-lockdown-india-pakistan-news-article-370\" target=\"_blank\"&gt;Kashmir latest: Why is Kashmir in lockdown? What is India trying to do to state\\xe2\\x80\\x99s status?&lt;/a&gt;&amp;nbsp;&amp;nbsp;&lt;font color=\"#6f6f6f\"&gt;Express.co.uk&lt;/font&gt;&lt;/li&gt;&lt;li&gt;&lt;a href=\"https://www.bloomberg.com/opinion/articles/2019-08-05/india-s-elimination-of-kashmir-s-autonomy-will-backfire\" target=\"_blank\"&gt;India Is Creating Its Own West Bank in Kashmir&lt;/a&gt;&amp;nbsp;&amp;nbsp;&lt;font color=\"#6f6f6f\"&gt;Bloomberg&lt;/font&gt;&lt;/li&gt;&lt;li&gt;&lt;strong&gt;&lt;a href=\"https://news.google.com/stories/CAAqOQgKIjNDQklTSURvSmMzUnZjbmt0TXpZd1NoTUtFUWpiekpPT2pvQU1FZWdjN01lLXpqX1pLQUFQAQ?oc=5\" target=\"_blank\"&gt;View full coverage on Google News&lt;/a&gt;&lt;/strong&gt;&lt;/li&gt;&lt;/ol&gt;</description><source url=\"https://www.cnn.com\">CNN</source></item><item><title>Hong Kong Strike Sinks City Into Chaos, and Government Has Little Reply - The New York Times</title><link>https://www.nytimes.com/2019/08/05/world/asia/hong-kong-general-strike.html</link><guid isPermaLink=\"false\">52780346194407</guid><pubDate>Mon, 05 Aug 2019 15:55:45 GMT</pubDate><description>&lt;ol&gt;&lt;li&gt;&lt;a href=\"https://www.nytimes.com/2019/08/05/world/asia/hong-kong-general-strike.html\" target=\"_blank\"&gt;Hong Kong Strike Sinks City Into Chaos, and Government Has Little Reply&lt;/a&gt;&amp;nbsp;&amp;nbsp;&lt;font color=\"#6f6f6f\"&gt;The New York Times&lt;/font&gt;&lt;/li&gt;&lt;li&gt;&lt;a href=\"https://www.independent.co.uk/news/world/asia/hong-kong-protests-tear-gas-today-car-attack-carrie-lam-latest-china-a9039241.html\" target=\"_blank\"&gt;Hong Kong protests: Police fire tear gas at demonstrators as embattled leader refuses to resign&lt;/a&gt;&amp;nbsp;&amp;nbsp;&lt;font color=\"#6f6f6f\"&gt;The Independent&lt;/font&gt;&lt;/li&gt;&lt;li&gt;&lt;a href=\"https://www.youtube.com/watch?v=llLCxOxfL_w\" target=\"_blank\"&gt;Hong Kong protests: Travel chaos on day of \\'city-wide strike\\' - BBC News&lt;/a&gt;&amp;nbsp;&amp;nbsp;&lt;font color=\"#6f6f6f\"&gt;BBC News&lt;/font&gt;&lt;/li&gt;&lt;li&gt;&lt;a href=\"https://www.cnn.com/asia/live-news/hong-kong-strike-protest-intl-hnk/index.html\" target=\"_blank\"&gt;Live updates: Hong Kong protests leave flights canceled, roads blocked&lt;/a&gt;&amp;nbsp;&amp;nbsp;&lt;font color=\"#6f6f6f\"&gt;CNN&lt;/font&gt;&lt;/li&gt;&lt;li&gt;&lt;a href=\"https://www.bloomberg.com/news/articles/2019-08-05/hong-kong-stocks-set-to-extend-losses-to-ninth-day-amid-protests\" target=\"_blank\"&gt;Hong Kong Stocks Match Longest Losing Streak Since 1997&lt;/a&gt;&amp;nbsp;&amp;nbsp;&lt;font color=\"#6f6f6f\"&gt;Bloomberg&lt;/font&gt;&lt;/li&gt;&lt;li&gt;&lt;strong&gt;&lt;a href=\"https://news.google.com/stories/CAAqOQgKIjNDQklTSURvSmMzUnZjbmt0TXpZd1NoTUtFUWpuODZTT2pvQU1FWDVlM3RVLVVfLW5LQUFQAQ?oc=5\" target=\"_blank\"&gt;View full coverage on Google News&lt;/a&gt;&lt;/strong&gt;&lt;/li&gt;&lt;/ol&gt;</description><source url=\"https://www.nytimes.com\">The New York Times</source></item><item><title>Longstanding economic frustration is fueling Hong Kong\\'s protests, expert says - CNBC</title><link>https://www.cnbc.com/2019/08/05/hong-kong-protests-fueled-by-longstanding-economic-frustration.html</link><guid isPermaLink=\"false\">CAIiEGoT1JQY0Gftm9x3kQM0pagqGQgEKhAIACoHCAow2Nb3CjDivdcCMLvrngY</guid><pubDate>Mon, 05 Aug 2019 06:39:59 GMT</pubDate><description>&lt;a href=\"https://www.cnbc.com/2019/08/05/hong-kong-protests-fueled-by-longstanding-economic-frustration.html\" target=\"_blank\"&gt;Longstanding economic frustration is fueling Hong Kong\\'s protests, expert says&lt;/a&gt;&amp;nbsp;&amp;nbsp;&lt;font color=\"#6f6f6f\"&gt;CNBC&lt;/font&gt;&lt;p&gt;Public frustration over stagnant economic fortunes is helping drive the increasingly disruptive protests that have coursed through Hong Kong , one expert says.&lt;/p&gt;&lt;strong&gt;&lt;a href=\"https://news.google.com/stories/CAAqOQgKIjNDQklTSURvSmMzUnZjbmt0TXpZd1NoTUtFUWpvMVoyT2pvQU1FV25LdndXbGMwc3NLQUFQAQ?oc=5\" target=\"_blank\"&gt;View full coverage on Google News&lt;/a&gt;&lt;/strong&gt;</description><source url=\"https://www.cnbc.com\">CNBC</source></item><item><title>South Korea, US hold \\'war games\\' despite North Korea warnings - Al Jazeera English</title><link>https://www.aljazeera.com/news/2019/08/south-korea-hold-war-games-north-korea-warnings-190805030106943.html</link><guid isPermaLink=\"false\">52780345299485</guid><pubDate>Mon, 05 Aug 2019 03:48:00 GMT</pubDate><description>&lt;ol&gt;&lt;li&gt;&lt;a href=\"https://www.aljazeera.com/news/2019/08/south-korea-hold-war-games-north-korea-warnings-190805030106943.html\" target=\"_blank\"&gt;South Korea, US hold \\'war games\\' despite North Korea warnings&lt;/a&gt;&amp;nbsp;&amp;nbsp;&lt;font color=\"#6f6f6f\"&gt;Al Jazeera English&lt;/font&gt;&lt;/li&gt;&lt;li&gt;&lt;a href=\"https://www.nytimes.com/2019/08/04/world/asia/japan-south-korea-feud.html\" target=\"_blank\"&gt;As Japan and South Korea Feud Intensifies, U.S. Seems Unwilling, or Unable, to Help&lt;/a&gt;&amp;nbsp;&amp;nbsp;&lt;font color=\"#6f6f6f\"&gt;The New York Times&lt;/font&gt;&lt;/li&gt;&lt;li&gt;&lt;a href=\"https://www.bloomberg.com/news/articles/2019-08-05/japan-south-korea-trade-conflict-may-yet-claim-more-victims\" target=\"_blank\"&gt;Japan-South Korea Trade Conflict May Yet Claim More Victims&lt;/a&gt;&amp;nbsp;&amp;nbsp;&lt;font color=\"#6f6f6f\"&gt;Bloomberg&lt;/font&gt;&lt;/li&gt;&lt;li&gt;&lt;a href=\"https://thehill.com/opinion/national-security/455971-trump-has-the-right-idea-on-north-korea-but-needs-to-change-strategy\" target=\"_blank\"&gt;Trump has the right idea on North Korea, but needs to change strategy | TheHill&lt;/a&gt;&amp;nbsp;&amp;nbsp;&lt;font color=\"#6f6f6f\"&gt;The Hill&lt;/font&gt;&lt;/li&gt;&lt;li&gt;&lt;a href=\"https://www.cbsnews.com/news/u-s-south-korea-prep-military-exercises-despite-norths-ire/\" target=\"_blank\"&gt;U.S., South Korea prep military exercises despite North\\'s ire&lt;/a&gt;&amp;nbsp;&amp;nbsp;&lt;font color=\"#6f6f6f\"&gt;CBS News&lt;/font&gt;&lt;/li&gt;&lt;li&gt;&lt;strong&gt;&lt;a href=\"https://news.google.com/stories/CAAqOQgKIjNDQklTSURvSmMzUnZjbmt0TXpZd1NoTUtFUWlkcE82TmpvQU1FYk9mUFdUN0xYRE9LQUFQAQ?oc=5\" target=\"_blank\"&gt;View full coverage on Google News&lt;/a&gt;&lt;/strong&gt;&lt;/li&gt;&lt;/ol&gt;</description><source url=\"https://www.aljazeera.com\">Al Jazeera English</source></item><item><title>Stock Markets Tumble After China Devalues Its Currency In Escalating Trade War - NPR</title><link>https://www.npr.org/2019/08/05/748236662/stock-markets-take-another-hit-as-the-trade-war-with-china-heats-up</link><guid isPermaLink=\"false\">52780345840537</guid><pubDate>Mon, 05 Aug 2019 16:22:00 GMT</pubDate><description>&lt;ol&gt;&lt;li&gt;&lt;a href=\"https://www.npr.org/2019/08/05/748236662/stock-markets-take-another-hit-as-the-trade-war-with-china-heats-up\" target=\"_blank\"&gt;Stock Markets Tumble After China Devalues Its Currency In Escalating Trade War&lt;/a&gt;&amp;nbsp;&amp;nbsp;&lt;font color=\"#6f6f6f\"&gt;NPR&lt;/font&gt;&lt;/li&gt;&lt;li&gt;&lt;a href=\"https://www.youtube.com/watch?v=r9Zr79s_9RU\" target=\"_blank\"&gt;Bernstein: China\\'s currency move appears, from the US side, to be an escalation in trade tensions&lt;/a&gt;&amp;nbsp;&amp;nbsp;&lt;font color=\"#6f6f6f\"&gt;CNBC Television&lt;/font&gt;&lt;/li&gt;&lt;li&gt;&lt;a href=\"https://www.foxbusiness.com/economy/china-trade-war-renminbi-weaker-agricultural-purchases-stop\" target=\"_blank\"&gt;China just threw its next punch in the trade war&lt;/a&gt;&amp;nbsp;&amp;nbsp;&lt;font color=\"#6f6f6f\"&gt;Fox Business&lt;/font&gt;&lt;/li&gt;&lt;li&gt;&lt;a href=\"https://www.cnbc.com/2019/08/05/tariff-pinpricks-on-china-are-useless-diplomacy-is-better--commentary.html\" target=\"_blank\"&gt;Tariff pinpricks on China trade are useless, diplomacy is a better way&lt;/a&gt;&amp;nbsp;&amp;nbsp;&lt;font color=\"#6f6f6f\"&gt;CNBC&lt;/font&gt;&lt;/li&gt;&lt;li&gt;&lt;a href=\"https://www.theguardian.com/commentisfree/2019/aug/05/the-guardian-view-on-the-china-us-trade-wars-the-global-economy-is-at-risk\" target=\"_blank\"&gt;The Guardian view on the China-US trade wars: the global economy is at risk&lt;/a&gt;&amp;nbsp;&amp;nbsp;&lt;font color=\"#6f6f6f\"&gt;The Guardian&lt;/font&gt;&lt;/li&gt;&lt;li&gt;&lt;strong&gt;&lt;a href=\"https://news.google.com/stories/CAAqOQgKIjNDQklTSURvSmMzUnZjbmt0TXpZd1NoTUtFUWlacDQtT2pvQU1FUXVMSUtXNWtZYzlLQUFQAQ?oc=5\" target=\"_blank\"&gt;View full coverage on Google News&lt;/a&gt;&lt;/strong&gt;&lt;/li&gt;&lt;/ol&gt;</description><source url=\"https://www.npr.org\">NPR</source></item><item><title>Stocks - U.S. Futures Slump as China Hits Back at U.S. on Trade, Currency - Investing.com</title><link>https://www.investing.com/news/stock-market-news/stocks--us-futures-slump-as-china-hits-back-at-us-on-trade-currency-1945235</link><guid isPermaLink=\"false\">CBMifGh0dHBzOi8vd3d3LmludmVzdGluZy5jb20vbmV3cy9zdG9jay1tYXJrZXQtbmV3cy9zdG9ja3MtLXVzLWZ1dHVyZXMtc2x1bXAtYXMtY2hpbmEtaGl0cy1iYWNrLWF0LXVzLW9uLXRyYWRlLWN1cnJlbmN5LTE5NDUyMzXSAQA</guid><pubDate>Mon, 05 Aug 2019 11:16:00 GMT</pubDate><description>&lt;a href=\"https://www.investing.com/news/stock-market-news/stocks--us-futures-slump-as-china-hits-back-at-us-on-trade-currency-1945235\" target=\"_blank\"&gt;Stocks - U.S. Futures Slump as China Hits Back at U.S. on Trade, Currency&lt;/a&gt;&amp;nbsp;&amp;nbsp;&lt;font color=\"#6f6f6f\"&gt;Investing.com&lt;/font&gt;&lt;p&gt;Investing.com - U.S. futures slumped on Monday as China retaliated against the U.S. by suspending imports of American agricultural goods and letting the yuan ...&lt;/p&gt;&lt;strong&gt;&lt;a href=\"https://news.google.com/stories/CAAqOQgKIjNDQklTSURvSmMzUnZjbmt0TXpZd1NoTUtFUWlIM3BhT2pvQU1FU2Eya2ZpWWNURE9LQUFQAQ?oc=5\" target=\"_blank\"&gt;View full coverage on Google News&lt;/a&gt;&lt;/strong&gt;</description><source url=\"https://www.investing.com\">Investing.com</source><media:content url=\"https://lh3.googleusercontent.com/proxy/6UFJX5VAunoYHn4Ls1snGwoqHdvihXw2D_nrtm3LINI3VmMTV1n5MedNDobaFaZc8uD8M7uWiJe85QrBIjVo0kNaw7Fj8EFu1drmwAU=-w150-h150-c\" medium=\"image\" width=\"150\" height=\"150\"/></item><item><title>Luxury theater chain iPic Entertainment files for Chapter 11 bankruptcy, to pursue sale - CNBC</title><link>https://www.cnbc.com/2019/08/05/ipic-entertainment-files-for-chapter-11-bankruptcy-to-pursue-sale.html</link><guid isPermaLink=\"false\">52780346034697</guid><pubDate>Mon, 05 Aug 2019 11:54:22 GMT</pubDate><description>&lt;ol&gt;&lt;li&gt;&lt;a href=\"https://www.cnbc.com/2019/08/05/ipic-entertainment-files-for-chapter-11-bankruptcy-to-pursue-sale.html\" target=\"_blank\"&gt;Luxury theater chain iPic Entertainment files for Chapter 11 bankruptcy, to pursue sale&lt;/a&gt;&amp;nbsp;&amp;nbsp;&lt;font color=\"#6f6f6f\"&gt;CNBC&lt;/font&gt;&lt;/li&gt;&lt;li&gt;&lt;a href=\"https://www.marketwatch.com/story/luxury-cinema-operator-ipic-entertainment-files-for-chapter-11-bankruptcy-to-restructure-debt-2019-08-05\" target=\"_blank\"&gt;UPDATE: Luxury cinema operator IPic Entertainment shares slide 40% after it files for bankruptcy&lt;/a&gt;&amp;nbsp;&amp;nbsp;&lt;font color=\"#6f6f6f\"&gt;MarketWatch&lt;/font&gt;&lt;/li&gt;&lt;li&gt;&lt;a href=\"https://www.hollywoodreporter.com/news/luxury-cinema-chain-ipic-files-chapter-11-bankruptcy-eyes-sale-1229148\" target=\"_blank\"&gt;Luxury Cinema Chain iPic Files for Chapter 11 Bankruptcy, Eyes Sale&lt;/a&gt;&amp;nbsp;&amp;nbsp;&lt;font color=\"#6f6f6f\"&gt;Hollywood Reporter&lt;/font&gt;&lt;/li&gt;&lt;li&gt;&lt;a href=\"https://variety.com/2019/film/news/ipic-entertainment-bankruptcy-sale-1203291560/\" target=\"_blank\"&gt;iPic Entertainment Files for Chapter 11, Will Pursue Sale (EXCLUSIVE)&lt;/a&gt;&amp;nbsp;&amp;nbsp;&lt;font color=\"#6f6f6f\"&gt;Variety&lt;/font&gt;&lt;/li&gt;&lt;li&gt;&lt;a href=\"https://deadline.com/2019/08/ipic-theater-chain-files-for-chapter-11-1202661523/\" target=\"_blank\"&gt;Luxury Exhibitor iPic Files For Chapter 11, Hopes To Restructure Debt Or Sell Chain&lt;/a&gt;&amp;nbsp;&amp;nbsp;&lt;font color=\"#6f6f6f\"&gt;Deadline&lt;/font&gt;&lt;/li&gt;&lt;li&gt;&lt;strong&gt;&lt;a href=\"https://news.google.com/stories/CAAqOQgKIjNDQklTSURvSmMzUnZjbmt0TXpZd1NoTUtFUWlKbEp1T2pvQU1FZGJxWkg2S3hnSGNLQUFQAQ?oc=5\" target=\"_blank\"&gt;View full coverage on Google News&lt;/a&gt;&lt;/strong&gt;&lt;/li&gt;&lt;/ol&gt;</description><source url=\"https://www.cnbc.com\">CNBC</source></item><item><title>Oil Could Plunge By $30 If China Restores Iranian Oil Imports - OilPrice.com</title><link>https://oilprice.com/Energy/Oil-Prices/Oil-Could-Plunge-By-30-If-China-Restores-Iranian-Oil-Imports.html</link><guid isPermaLink=\"false\">CBMiaGh0dHBzOi8vb2lscHJpY2UuY29tL0VuZXJneS9PaWwtUHJpY2VzL09pbC1Db3VsZC1QbHVuZ2UtQnktMzAtSWYtQ2hpbmEtUmVzdG9yZXMtSXJhbmlhbi1PaWwtSW1wb3J0cy5odG1s0gEA</guid><pubDate>Mon, 05 Aug 2019 17:00:00 GMT</pubDate><description>&lt;a href=\"https://oilprice.com/Energy/Oil-Prices/Oil-Could-Plunge-By-30-If-China-Restores-Iranian-Oil-Imports.html\" target=\"_blank\"&gt;Oil Could Plunge By $30 If China Restores Iranian Oil Imports&lt;/a&gt;&amp;nbsp;&amp;nbsp;&lt;font color=\"#6f6f6f\"&gt;OilPrice.com&lt;/font&gt;&lt;p&gt;Should China decide to defy the latest U.S. tariff threat by ramping up imports of Iranian crude oil in open defiance to the U.S. sanctions on Iran, oil prices could ...&lt;/p&gt;</description><source url=\"https://oilprice.com\">OilPrice.com</source><media:content url=\"https://lh4.googleusercontent.com/proxy/p2Yra9bzWlrBnZsb-71Tv2P3ZBCfZvjceDF0UPFnq0raBgX_u3wCVZs4_VDhi7KYYmSIAc00kVTHRaTP42cDVOacLiRM83HceKFSz2BhEJ22Q2p7yh6HsjY8WXwskNdGtI2oNYdOk8b7jBR6Qw=-w150-h150-c\" medium=\"image\" width=\"150\" height=\"150\"/></item><item><title>The Galaxy Note 9 a year later: Still good, but not for everyone - Engadget</title><link>https://www.engadget.com/2019/08/05/samsung-galaxy-note-9-one-year-later-review/</link><guid isPermaLink=\"false\">52780345100972</guid><pubDate>Mon, 05 Aug 2019 16:02:21 GMT</pubDate><description>&lt;ol&gt;&lt;li&gt;&lt;a href=\"https://www.engadget.com/2019/08/05/samsung-galaxy-note-9-one-year-later-review/\" target=\"_blank\"&gt;The Galaxy Note 9 a year later: Still good, but not for everyone&lt;/a&gt;&amp;nbsp;&amp;nbsp;&lt;font color=\"#6f6f6f\"&gt;Engadget&lt;/font&gt;&lt;/li&gt;&lt;li&gt;&lt;a href=\"https://www.forbes.com/sites/gordonkelly/2019/08/04/samsung-galaxy-note-10-huawei-mate-30-pro-upgrade-galaxy-s10-note10/\" target=\"_blank\"&gt;Forget Samsung\\'s Galaxy Note 10, This Is The Smartphone To Buy&lt;/a&gt;&amp;nbsp;&amp;nbsp;&lt;font color=\"#6f6f6f\"&gt;Forbes&lt;/font&gt;&lt;/li&gt;&lt;li&gt;&lt;a href=\"https://www.express.co.uk/life-style/science-technology/1161555/Samsung-Galaxy-Note-10-release-specs-price\" target=\"_blank\"&gt;Galaxy Note 10 release this week - Five things Samsung must fix on its new flagship&lt;/a&gt;&amp;nbsp;&amp;nbsp;&lt;font color=\"#6f6f6f\"&gt;Express&lt;/font&gt;&lt;/li&gt;&lt;li&gt;&lt;a href=\"https://www.cnet.com/news/the-galaxy-note-10-dilemma-getting-out-of-the-galaxy-folds-shadow/\" target=\"_blank\"&gt;The Galaxy Note 10 dilemma: Getting out of the Galaxy Fold\\'s shadow&lt;/a&gt;&amp;nbsp;&amp;nbsp;&lt;font color=\"#6f6f6f\"&gt;CNET&lt;/font&gt;&lt;/li&gt;&lt;li&gt;&lt;a href=\"https://www.trustedreviews.com/news/looks-like-galaxy-note-10s-going-make-big-mistake-iphone-11-3927742\" target=\"_blank\"&gt;Looks like the Galaxy Note 10\\xe2\\x80\\x99s going to make the same big mistake as the iPhone 11&lt;/a&gt;&amp;nbsp;&amp;nbsp;&lt;font color=\"#6f6f6f\"&gt;TrustedReviews&lt;/font&gt;&lt;/li&gt;&lt;li&gt;&lt;strong&gt;&lt;a href=\"https://news.google.com/stories/CAAqOQgKIjNDQklTSURvSmMzUnZjbmt0TXpZd1NoTUtFUWlzbGVLTmpvQU1FUWRwMjhSckY2WUxLQUFQAQ?oc=5\" target=\"_blank\"&gt;View full coverage on Google News&lt;/a&gt;&lt;/strong&gt;&lt;/li&gt;&lt;/ol&gt;</description><source url=\"https://www.engadget.com\">Engadget</source></item><item><title>All \\'Made by Google\\' products to use recycled materials, be carbon neutral - PhoneArena</title><link>https://www.phonearena.com/news/Made-by-Google-recycled-materials-carbon-neutral_id117950</link><guid isPermaLink=\"false\">52780346028507</guid><pubDate>Mon, 05 Aug 2019 16:35:56 GMT</pubDate><description>&lt;ol&gt;&lt;li&gt;&lt;a href=\"https://www.phonearena.com/news/Made-by-Google-recycled-materials-carbon-neutral_id117950\" target=\"_blank\"&gt;All \\'Made by Google\\' products to use recycled materials, be carbon neutral&lt;/a&gt;&amp;nbsp;&amp;nbsp;&lt;font color=\"#6f6f6f\"&gt;PhoneArena&lt;/font&gt;&lt;/li&gt;&lt;li&gt;&lt;a href=\"https://www.theverge.com/2019/8/5/20754839/google-recycled-materials-sustainability-pledge-2022-pixel-home-nest\" target=\"_blank\"&gt;Google says it will use recycled materials in all of its hardware products by 2022&lt;/a&gt;&amp;nbsp;&amp;nbsp;&lt;font color=\"#6f6f6f\"&gt;The Verge&lt;/font&gt;&lt;/li&gt;&lt;li&gt;&lt;a href=\"https://9to5google.com/2019/08/05/google-recycled-materials-commitment/\" target=\"_blank\"&gt;\\xe2\\x80\\x98Made by Google\\xe2\\x80\\x99 products start using recycled materials this year, carbon neutral by 2020&lt;/a&gt;&amp;nbsp;&amp;nbsp;&lt;font color=\"#6f6f6f\"&gt;9to5Google&lt;/font&gt;&lt;/li&gt;&lt;li&gt;&lt;a href=\"https://www.reuters.com/article/us-alphabet-google-devices/google-pledges-carbon-neutral-shipping-recycled-plastic-for-all-devices-idUSKCN1UV1J2\" target=\"_blank\"&gt;Google pledges carbon-neutral shipping, recycled plastic for all devices&lt;/a&gt;&amp;nbsp;&amp;nbsp;&lt;font color=\"#6f6f6f\"&gt;Reuters&lt;/font&gt;&lt;/li&gt;&lt;li&gt;&lt;a href=\"https://www.engadget.com/2019/08/05/google-hardware-recycled-materials-sustainability-pledge/\" target=\"_blank\"&gt;Google pledges to \\'maximize\\' recycled material in own products&lt;/a&gt;&amp;nbsp;&amp;nbsp;&lt;font color=\"#6f6f6f\"&gt;Engadget&lt;/font&gt;&lt;/li&gt;&lt;li&gt;&lt;strong&gt;&lt;a href=\"https://news.google.com/stories/CAAqOQgKIjNDQklTSURvSmMzUnZjbmt0TXpZd1NoTUtFUWpiNDVxT2pvQU1FVTljWmhmelBhaU9LQUFQAQ?oc=5\" target=\"_blank\"&gt;View full coverage on Google News&lt;/a&gt;&lt;/strong&gt;&lt;/li&gt;&lt;/ol&gt;</description><source url=\"https://www.phonearena.com\">PhoneArena</source><media:content url=\"https://lh3.googleusercontent.com/proxy/H628eUAp8euD9qG8OUHenI1f7fxfItfEnTepsyI-IfOdVURnlmxA_d4O_CyOWunZxruprs-ZzY7cyoi6BZb_7DdiA0_j_m1TkGjdFUVOggHTOclEWj6wNJFe8yodPgLCsDJ-nP4t1KT5oqSWhAVoNlbm1axgEv1lIOq7L28KM8Gn2y4mbE0MbYpMtrjM_OVBqtV8cnJAtAQI6Kk=-w150-h150-c\" medium=\"image\" width=\"150\" height=\"150\"/></item><item><title>Samsung\\'s Active 2 has twice the heart sensors of the Apple Watch but none of the ECG clearance - PhoneArena</title><link>https://www.phonearena.com/news/Samsungs-watch-Active-2-heart-sensor-Apple-Watch-ECG-feature-release_id117947</link><guid isPermaLink=\"false\">52780346119428</guid><pubDate>Mon, 05 Aug 2019 14:06:55 GMT</pubDate><description>&lt;ol&gt;&lt;li&gt;&lt;a href=\"https://www.phonearena.com/news/Samsungs-watch-Active-2-heart-sensor-Apple-Watch-ECG-feature-release_id117947\" target=\"_blank\"&gt;Samsung\\'s Active 2 has twice the heart sensors of the Apple Watch but none of the ECG clearance&lt;/a&gt;&amp;nbsp;&amp;nbsp;&lt;font color=\"#6f6f6f\"&gt;PhoneArena&lt;/font&gt;&lt;/li&gt;&lt;li&gt;&lt;a href=\"https://bgr.com/2019/08/05/galaxy-watch-active-2-vs-apple-watch-4-release-date-specs-and-price/\" target=\"_blank\"&gt;Samsung just unveiled its next answer to the Apple Watch&lt;/a&gt;&amp;nbsp;&amp;nbsp;&lt;font color=\"#6f6f6f\"&gt;BGR&lt;/font&gt;&lt;/li&gt;&lt;li&gt;&lt;a href=\"https://gizmodo.com/samsung-should-have-just-led-with-the-galaxy-watch-acti-1836920838\" target=\"_blank\"&gt;Samsung Should Have Just Led With the Galaxy Watch Active2&lt;/a&gt;&amp;nbsp;&amp;nbsp;&lt;font color=\"#6f6f6f\"&gt;Gizmodo&lt;/font&gt;&lt;/li&gt;&lt;li&gt;&lt;a href=\"https://www.youtube.com/watch?v=2vDNZxC_TLM\" target=\"_blank\"&gt;Samsung Galaxy Watch Active 2 hands-on: bezel control is back&lt;/a&gt;&amp;nbsp;&amp;nbsp;&lt;font color=\"#6f6f6f\"&gt;The Verge&lt;/font&gt;&lt;/li&gt;&lt;li&gt;&lt;a href=\"https://www.youtube.com/watch?v=Nl0ElPfauHI\" target=\"_blank\"&gt;Galaxy Watch Active2: A Day with Roy Choi&lt;/a&gt;&amp;nbsp;&amp;nbsp;&lt;font color=\"#6f6f6f\"&gt;Samsung&lt;/font&gt;&lt;/li&gt;&lt;li&gt;&lt;strong&gt;&lt;a href=\"https://news.google.com/stories/CAAqOQgKIjNDQklTSURvSmMzUnZjbmt0TXpZd1NoTUtFUWlFcXFDT2pvQU1FVDBDOWFtZ0FPb3JLQUFQAQ?oc=5\" target=\"_blank\"&gt;View full coverage on Google News&lt;/a&gt;&lt;/strong&gt;&lt;/li&gt;&lt;/ol&gt;</description><source url=\"https://www.phonearena.com\">PhoneArena</source><media:content url=\"https://lh6.googleusercontent.com/proxy/jA8hv8YQvAp9r2tLXPdcETBJBc7r51aCjbGAFwGUdjqnIHou_LnJsGMQDeCh9Ciy8kmxc9R0KW3alzDQsUQWskPbCEAUrcaBhCqo8xivi4G_3veQKYIQWHzf3WHyrmaBwJu9hO7lK05qTpKQTfv0QbkdkE8ledNFsynK9cD_jbeRYPZOAD55RSkYqZPiJoy9CfAw5cYB3Iq8CFt-p7rynqKIcSpUHV43AQg9TZSM260h-w=-w150-h150-c\" medium=\"image\" width=\"150\" height=\"150\"/></item><item><title>Fossil smartwatches: \\'always on\\' screen, more iPhone support - 9to5Mac</title><link>https://9to5mac.com/2019/08/05/fossil-smartwatches/</link><guid isPermaLink=\"false\">52780346016969</guid><pubDate>Mon, 05 Aug 2019 15:42:00 GMT</pubDate><description>&lt;ol&gt;&lt;li&gt;&lt;a href=\"https://9to5mac.com/2019/08/05/fossil-smartwatches/\" target=\"_blank\"&gt;Fossil smartwatches: \\'always on\\' screen, more iPhone support&lt;/a&gt;&amp;nbsp;&amp;nbsp;&lt;font color=\"#6f6f6f\"&gt;9to5Mac&lt;/font&gt;&lt;/li&gt;&lt;li&gt;&lt;a href=\"https://www.theverge.com/2019/8/5/20750758/fossil-smartwatch-calls-gen-5-wear-os-ios-answer-iphone-apple-watch\" target=\"_blank\"&gt;Fossil\\xe2\\x80\\x99s new smartwatches will let iPhone users take calls just like an Apple Watch&lt;/a&gt;&amp;nbsp;&amp;nbsp;&lt;font color=\"#6f6f6f\"&gt;The Verge&lt;/font&gt;&lt;/li&gt;&lt;li&gt;&lt;a href=\"https://gizmodo.com/a-new-processor-means-fossils-smartwatches-might-be-get-1836965221\" target=\"_blank\"&gt;A New Processor Means Fossil\\'s Smartwatches Might Be Getting Good&lt;/a&gt;&amp;nbsp;&amp;nbsp;&lt;font color=\"#6f6f6f\"&gt;Gizmodo&lt;/font&gt;&lt;/li&gt;&lt;li&gt;&lt;a href=\"https://www.engadget.com/2019/08/05/fossil-gen-5-smartwatches/\" target=\"_blank\"&gt;Fossil\\'s latest stylish smartwatches can last for days&lt;/a&gt;&amp;nbsp;&amp;nbsp;&lt;font color=\"#6f6f6f\"&gt;Engadget&lt;/font&gt;&lt;/li&gt;&lt;li&gt;&lt;a href=\"https://www.androidpolice.com/2019/08/05/fossil-gen-5/\" target=\"_blank\"&gt;Fossil reveals fifth-gen smartwatches with Wear 3100 CPU and extended battery mode&lt;/a&gt;&amp;nbsp;&amp;nbsp;&lt;font color=\"#6f6f6f\"&gt;Android Police&lt;/font&gt;&lt;/li&gt;&lt;li&gt;&lt;strong&gt;&lt;a href=\"https://news.google.com/stories/CAAqOQgKIjNDQklTSURvSmMzUnZjbmt0TXpZd1NoTUtFUWpKaVpxT2pvQU1FYjBRaUZBbzNZU2pLQUFQAQ?oc=5\" target=\"_blank\"&gt;View full coverage on Google News&lt;/a&gt;&lt;/strong&gt;&lt;/li&gt;&lt;/ol&gt;</description><source url=\"https://9to5mac.com\">9to5Mac</source></item><item><title>Angelina Jolie Shares Intimate Details About Raising \\'Strong\\' Daughters In Moving Essay - HuffPost</title><link>https://www.huffpost.com/entry/angelina-jolie-raising-strong-daughters-essay_n_5d483452e4b0ca604e35a804</link><guid isPermaLink=\"false\">CAIiEJ671m-Z8KQwg7erU14HxH4qFggEKg0IACoGCAowxYgCMIBNMJeP1AM</guid><pubDate>Mon, 05 Aug 2019 15:50:00 GMT</pubDate><description>&lt;a href=\"https://www.huffpost.com/entry/angelina-jolie-raising-strong-daughters-essay_n_5d483452e4b0ca604e35a804\" target=\"_blank\"&gt;Angelina Jolie Shares Intimate Details About Raising \\'Strong\\' Daughters In Moving Essay&lt;/a&gt;&amp;nbsp;&amp;nbsp;&lt;font color=\"#6f6f6f\"&gt;HuffPost&lt;/font&gt;&lt;p&gt;Angelina Jolie is opening up about raising her daughters to \\xe2\\x80\\x9cdevelop their minds\\xe2\\x80\\x9d instead of focusing on their appearances in a moving essay about women ...&lt;/p&gt;&lt;strong&gt;&lt;a href=\"https://news.google.com/stories/CAAqOQgKIjNDQklTSURvSmMzUnZjbmt0TXpZd1NoTUtFUWl1d1k2T2pvQU1FYmNjbXB1ZmpJOHVLQUFQAQ?oc=5\" target=\"_blank\"&gt;View full coverage on Google News&lt;/a&gt;&lt;/strong&gt;</description><source url=\"https://www.huffpost.com\">HuffPost</source></item><item><title>\\'Hobbs &amp; Shaw:\\' Can Dwayne Johnson Relaunch New \\'Fast &amp; Furious\\' Era? - Hollywood Reporter</title><link>https://www.hollywoodreporter.com/heat-vision/hobbs-shaw-can-dwayne-johnson-relaunch-new-fast-furious-era-1229122</link><guid isPermaLink=\"false\">52780346084715</guid><pubDate>Mon, 05 Aug 2019 13:40:11 GMT</pubDate><description>&lt;ol&gt;&lt;li&gt;&lt;a href=\"https://www.hollywoodreporter.com/heat-vision/hobbs-shaw-can-dwayne-johnson-relaunch-new-fast-furious-era-1229122\" target=\"_blank\"&gt;\\'Hobbs &amp; Shaw:\\' Can Dwayne Johnson Relaunch New \\'Fast &amp; Furious\\' Era?&lt;/a&gt;&amp;nbsp;&amp;nbsp;&lt;font color=\"#6f6f6f\"&gt;Hollywood Reporter&lt;/font&gt;&lt;/li&gt;&lt;li&gt;&lt;a href=\"https://variety.com/2019/film/news/box-office-fast-furious-hobbs-shaw-successful-spinoffs-1203291063/\" target=\"_blank\"&gt;Box Office: What \\xe2\\x80\\x98Hobbs &amp; Shaw\\xe2\\x80\\x99 Nails About Franchise Spinoffs&lt;/a&gt;&amp;nbsp;&amp;nbsp;&lt;font color=\"#6f6f6f\"&gt;Variety&lt;/font&gt;&lt;/li&gt;&lt;li&gt;&lt;a href=\"https://www.theringer.com/movies/2019/8/5/20754650/hobbs-and-shaw-exit-survey\" target=\"_blank\"&gt;The \\xe2\\x80\\x98Hobbs &amp; Shaw\\xe2\\x80\\x99 Exit Survey&lt;/a&gt;&amp;nbsp;&amp;nbsp;&lt;font color=\"#6f6f6f\"&gt;The Ringer&lt;/font&gt;&lt;/li&gt;&lt;li&gt;&lt;a href=\"https://film.avclub.com/why-isn-t-hobbs-shaw-more-fun-1836921667\" target=\"_blank\"&gt;Why isn\\xe2\\x80\\x99t Hobbs &amp; Shaw more fun?&lt;/a&gt;&amp;nbsp;&amp;nbsp;&lt;font color=\"#6f6f6f\"&gt;The A.V. Club&lt;/font&gt;&lt;/li&gt;&lt;li&gt;&lt;a href=\"http://collider.com/hobbs-and-shaw-cameos-explained/\" target=\"_blank\"&gt;Hobbs &amp; Shaw Cameos Explained by Director David Leitch&lt;/a&gt;&amp;nbsp;&amp;nbsp;&lt;font color=\"#6f6f6f\"&gt;Collider.com&lt;/font&gt;&lt;/li&gt;&lt;li&gt;&lt;strong&gt;&lt;a href=\"https://news.google.com/stories/CAAqOQgKIjNDQklTSURvSmMzUnZjbmt0TXpZd1NoTUtFUWpybXA2T2pvQU1FU3BHOXdMN0FVNG1LQUFQAQ?oc=5\" target=\"_blank\"&gt;View full coverage on Google News&lt;/a&gt;&lt;/strong&gt;&lt;/li&gt;&lt;/ol&gt;</description><source url=\"https://www.hollywoodreporter.com\">Hollywood Reporter</source><media:content url=\"https://lh4.googleusercontent.com/proxy/E4vilolHjgT4_IEB-600sjm_1iMcJQiRRmTNAvp-2o0JPMegMS0OltxJtphU1tx9hPZHTwK89-jo0zDDiCjtzmMWXOA7J6c2bEGbwpLZFfqCFT0GrPN3U40oLoPyxIwM5pBM8jiAsGe_tg3dYhMULJkH_kSTavAPVACRs5qISABlWdtRJqofFw=-w150-h150-c\" medium=\"image\" width=\"150\" height=\"150\"/></item><item><title>Gigi Hadid and Tyler Cameron Were Seen on a Date Days After He Slept Over Hannah Brown\\'s - Yahoo Lifestyle</title><link>https://www.yahoo.com/lifestyle/gigi-hadid-tyler-cameron-were-113200598.html</link><guid isPermaLink=\"false\">52780346021372</guid><pubDate>Mon, 05 Aug 2019 12:05:00 GMT</pubDate><description>&lt;ol&gt;&lt;li&gt;&lt;a href=\"https://www.yahoo.com/lifestyle/gigi-hadid-tyler-cameron-were-113200598.html\" target=\"_blank\"&gt;Gigi Hadid and Tyler Cameron Were Seen on a Date Days After He Slept Over Hannah Brown\\'s&lt;/a&gt;&amp;nbsp;&amp;nbsp;&lt;font color=\"#6f6f6f\"&gt;Yahoo Lifestyle&lt;/font&gt;&lt;/li&gt;&lt;li&gt;&lt;a href=\"https://www.foxnews.com/entertainment/hannah-brown-the-bachelorette-tyler-cameron-gigi-hadid-date-soho-house\" target=\"_blank\"&gt;\\'The Bachelorette\\' star Tyler Cameron spotted on date with Gigi Hadid after spending night with Hannah Brown&lt;/a&gt;&amp;nbsp;&amp;nbsp;&lt;font color=\"#6f6f6f\"&gt;Fox News&lt;/font&gt;&lt;/li&gt;&lt;li&gt;&lt;a href=\"https://www.youtube.com/watch?v=Z3CUnHpwHbo\" target=\"_blank\"&gt;\"Bachelorette\\'s\" Tyler Cameron Hangs Out With Gigi Hadid | E! News&lt;/a&gt;&amp;nbsp;&amp;nbsp;&lt;font color=\"#6f6f6f\"&gt;E! News&lt;/font&gt;&lt;/li&gt;&lt;li&gt;&lt;a href=\"http://www.justjared.com/2019/08/05/gigi-hadid-hangs-out-with-bachelorettes-tyler-cameron-after-his-date-with-hannah-brown/\" target=\"_blank\"&gt;Gigi Hadid Hangs Out with Bachelorette\\'s Tyler Cameron After His Date with Hannah Brown&lt;/a&gt;&amp;nbsp;&amp;nbsp;&lt;font color=\"#6f6f6f\"&gt;Just Jared&lt;/font&gt;&lt;/li&gt;&lt;li&gt;&lt;a href=\"https://www.usmagazine.com/celebrity-news/news/tyler-cameron-gigi-hadid-go-on-a-date-after-he-spends-night-at-hannahs/\" target=\"_blank\"&gt;Bachelorette\\xe2\\x80\\x99s Tyler Cameron and Gigi Hadid Go on a Date Days After He Spends Night at Hannah Brown\\xe2\\x80\\x99s&lt;/a&gt;&amp;nbsp;&amp;nbsp;&lt;font color=\"#6f6f6f\"&gt;Us Weekly&lt;/font&gt;&lt;/li&gt;&lt;li&gt;&lt;strong&gt;&lt;a href=\"https://news.google.com/stories/CAAqOQgKIjNDQklTSURvSmMzUnZjbmt0TXpZd1NoTUtFUWo4cTVxT2pvQU1FWVlqd2hBMTJtcDRLQUFQAQ?oc=5\" target=\"_blank\"&gt;View full coverage on Google News&lt;/a&gt;&lt;/strong&gt;&lt;/li&gt;&lt;/ol&gt;</description><source url=\"https://www.yahoo.com\">Yahoo Lifestyle</source><media:content url=\"https://lh5.googleusercontent.com/proxy/jqA4aWDvqtGGIZw7cN734a7PD6RGbH-jiLl9S385DCcEx7zN6Hwyv1QVhksS48Y1guoFJgEosZRnkifUKw9-CVzEn3LwIwqZWeWndXMgv3rzuFo_Np74SwweOsF887PPxk7S5n6280GjNNvbPxGZNYfzx3jtl-IA58r24Edp_7mgaIenh3VyELnpfZHz5F1Obn60G3Qb4--uEPqw7LeHTfufiZSbgiTFg4vKNrAvG0nYKqffeh0=-w150-h150-c\" medium=\"image\" width=\"150\" height=\"150\"/></item><item><title>The \\'Euphoria\\' Season Finale Totally Destroyed Twitter and the Fans Will Never Recover - Cosmopolitan.com</title><link>https://www.cosmopolitan.com/entertainment/tv/a28607599/euphoria-season-finale-twitter-reactions-rue-jules-maddy-nate-fez/</link><guid isPermaLink=\"false\">52780344320087</guid><pubDate>Mon, 05 Aug 2019 14:28:00 GMT</pubDate><description>&lt;ol&gt;&lt;li&gt;&lt;a href=\"https://www.cosmopolitan.com/entertainment/tv/a28607599/euphoria-season-finale-twitter-reactions-rue-jules-maddy-nate-fez/\" target=\"_blank\"&gt;The \\'Euphoria\\' Season Finale Totally Destroyed Twitter and the Fans Will Never Recover&lt;/a&gt;&amp;nbsp;&amp;nbsp;&lt;font color=\"#6f6f6f\"&gt;Cosmopolitan.com&lt;/font&gt;&lt;/li&gt;&lt;li&gt;&lt;a href=\"https://tv.avclub.com/euphorias-season-finale-is-structural-chaos-1836959796\" target=\"_blank\"&gt;Euphoria\\'s season finale is structural chaos&lt;/a&gt;&amp;nbsp;&amp;nbsp;&lt;font color=\"#6f6f6f\"&gt;The A.V. Club&lt;/font&gt;&lt;/li&gt;&lt;li&gt;&lt;a href=\"https://www.cheatsheet.com/entertainment/euphoria-finale-zendaya.html/\" target=\"_blank\"&gt;\\'Euphoria\\' Finale: Zendaya Confesses That She \"Can\\'t Even Process\" This&lt;/a&gt;&amp;nbsp;&amp;nbsp;&lt;font color=\"#6f6f6f\"&gt;Showbiz Cheat Sheet&lt;/font&gt;&lt;/li&gt;&lt;li&gt;&lt;a href=\"https://thebiglead.com/2019/08/05/five-thoughts-on-the-euphoria-finale/\" target=\"_blank\"&gt;Five Thoughts on the Euphoria Finale&lt;/a&gt;&amp;nbsp;&amp;nbsp;&lt;font color=\"#6f6f6f\"&gt;The Big Lead&lt;/font&gt;&lt;/li&gt;&lt;li&gt;&lt;a href=\"https://www.theringer.com/tv/2019/8/5/20754604/euphoria-season-1-finale-review\" target=\"_blank\"&gt;\\xe2\\x80\\x98Euphoria\\xe2\\x80\\x99 Was Messy, Excessive, and Constantly Progressing&lt;/a&gt;&amp;nbsp;&amp;nbsp;&lt;font color=\"#6f6f6f\"&gt;The Ringer&lt;/font&gt;&lt;/li&gt;&lt;li&gt;&lt;strong&gt;&lt;a href=\"https://news.google.com/stories/CAAqOQgKIjNDQklTSURvSmMzUnZjbmt0TXpZd1NoTUtFUWpYd0xLTmpvQU1FVkljLTM5R1F3TzJLQUFQAQ?oc=5\" target=\"_blank\"&gt;View full coverage on Google News&lt;/a&gt;&lt;/strong&gt;&lt;/li&gt;&lt;/ol&gt;</description><source url=\"https://www.cosmopolitan.com\">Cosmopolitan.com</source></item><item><title>Belichick hopes joint practices with Lions will lay foundation for success away from home in 2019 - NBCSports.com</title><link>https://profootballtalk.nbcsports.com/2019/08/05/belichick-hopes-joint-practices-with-lions-will-lay-foundation-for-success-away-from-home-in-2019/</link><guid isPermaLink=\"false\">52780344341570</guid><pubDate>Mon, 05 Aug 2019 17:32:00 GMT</pubDate><description>&lt;ol&gt;&lt;li&gt;&lt;a href=\"https://profootballtalk.nbcsports.com/2019/08/05/belichick-hopes-joint-practices-with-lions-will-lay-foundation-for-success-away-from-home-in-2019/\" target=\"_blank\"&gt;Belichick hopes joint practices with Lions will lay foundation for success away from home in 2019&lt;/a&gt;&amp;nbsp;&amp;nbsp;&lt;font color=\"#6f6f6f\"&gt;NBCSports.com&lt;/font&gt;&lt;/li&gt;&lt;li&gt;&lt;a href=\"https://www.patspulpit.com/2019/8/5/20754709/new-england-patriots-2019-training-camp-recap-joint-practice-detroit-lions-brady-harry-meyers\" target=\"_blank\"&gt;Training camp recap: Patriots youngsters look good during first joint practice with Lions&lt;/a&gt;&amp;nbsp;&amp;nbsp;&lt;font color=\"#6f6f6f\"&gt;Pats Pulpit&lt;/font&gt;&lt;/li&gt;&lt;li&gt;&lt;a href=\"https://www.espn.com/blog/boston/new-england-patriots/post/_/id/4817881/tom-bradys-extension-reflects-his-priorities-rare-trust-with-patriots\" target=\"_blank\"&gt;Tom Brady\\'s extension reflects his priorities, rare trust with Patriots - New England Patriots Blog- ESPN&lt;/a&gt;&amp;nbsp;&amp;nbsp;&lt;font color=\"#6f6f6f\"&gt;ESPN&lt;/font&gt;&lt;/li&gt;&lt;li&gt;&lt;a href=\"https://www.youtube.com/watch?v=RchDCEl5A2Y\" target=\"_blank\"&gt;Lions-Patriots joint practice: Tom Brady (who else?) stands out&lt;/a&gt;&amp;nbsp;&amp;nbsp;&lt;font color=\"#6f6f6f\"&gt;Detroit Free Press&lt;/font&gt;&lt;/li&gt;&lt;li&gt;&lt;a href=\"https://www.mlive.com/lions/2019/08/lions-sign-ex-49ers-cb-tarvarus-mcfadden-list-teez-tabor-as-day-to-day.html\" target=\"_blank\"&gt;Lions sign ex-49ers CB Tarvarus McFadden, list Teez Tabor as day to day&lt;/a&gt;&amp;nbsp;&amp;nbsp;&lt;font color=\"#6f6f6f\"&gt;MLive.com&lt;/font&gt;&lt;/li&gt;&lt;li&gt;&lt;strong&gt;&lt;a href=\"https://news.google.com/stories/CAAqbQgKImdDQklTUnpvSmMzUnZjbmt0TXpZd1Nqb0tFUWpDNkxPTmpvQU1FZHNkeTlHOVVLV1VFaVZRWVhSeWFXOTBjeUIyY3lCTWFXOXVjeURDdHlCUWNtVnpaV0Z6YjI0Z3dyY2dUa1pNS0FBUAE?oc=5\" target=\"_blank\"&gt;View full coverage on Google News&lt;/a&gt;&lt;/strong&gt;&lt;/li&gt;&lt;/ol&gt;</description><source url=\"https://profootballtalk.nbcsports.com\">NBCSports.com</source><media:content url=\"https://lh5.googleusercontent.com/proxy/kUqvww4FcDtcmRx1_Sl_FLKCNEMpmYksyTRGYNhCMXhV-qBGEV228gzA4WX-xqUsQ1kKznagKai5q7HMO4wyBps4bHOeKE4UBmpYKrc_LCV1fZMg4bWXLGlMHbz8kLT_oqmF6GJUVryNjL1I4S9JkZScFw=-w150-h150-c\" medium=\"image\" width=\"150\" height=\"150\"/></item><item><title>\"Fine me, I don\\'t care,\" says Bedoya following political statement during 5-1 win - Philly Sports Network</title><link>https://phillysportsnetwork.com/2019/08/05/e-12/</link><guid isPermaLink=\"false\">52780345781587</guid><pubDate>Mon, 05 Aug 2019 03:21:00 GMT</pubDate><description>&lt;ol&gt;&lt;li&gt;&lt;a href=\"https://phillysportsnetwork.com/2019/08/05/e-12/\" target=\"_blank\"&gt;\"Fine me, I don\\'t care,\" says Bedoya following political statement during 5-1 win&lt;/a&gt;&amp;nbsp;&amp;nbsp;&lt;font color=\"#6f6f6f\"&gt;Philly Sports Network&lt;/font&gt;&lt;/li&gt;&lt;li&gt;&lt;a href=\"https://www.nytimes.com/2019/08/05/sports/alejandro-bedoya-mls-gun-violence.html\" target=\"_blank\"&gt;Alejandro Bedoya Won\\xe2\\x80\\x99t Be Punished by M.L.S. for Gun Violence Remarks&lt;/a&gt;&amp;nbsp;&amp;nbsp;&lt;font color=\"#6f6f6f\"&gt;The New York Times&lt;/font&gt;&lt;/li&gt;&lt;li&gt;&lt;a href=\"https://www.espn.com/soccer/philadelphia-union/story/3912701/bedoya-calls-out-congress-on-shootings-after-goal\" target=\"_blank\"&gt;Bedoya calls out Congress on shootings after goal&lt;/a&gt;&amp;nbsp;&amp;nbsp;&lt;font color=\"#6f6f6f\"&gt;ESPN&lt;/font&gt;&lt;/li&gt;&lt;li&gt;&lt;a href=\"https://www.youtube.com/watch?v=TOEmobs6i3c\" target=\"_blank\"&gt;Philadelphia Union Midfielder Tells Congress To \\'End Gun Violence\\' During Goal Celebration In Washin&lt;/a&gt;&amp;nbsp;&amp;nbsp;&lt;font color=\"#6f6f6f\"&gt;CBS Philly&lt;/font&gt;&lt;/li&gt;&lt;li&gt;&lt;a href=\"http://digg.com/2019/bedoya-gun-control-mls\" target=\"_blank\"&gt;MLS Player Grabs On-Field Mic, Shouts Pro Gun Control Message Into It After Scoring - Digg&lt;/a&gt;&amp;nbsp;&amp;nbsp;&lt;font color=\"#6f6f6f\"&gt;digg.com&lt;/font&gt;&lt;/li&gt;&lt;li&gt;&lt;strong&gt;&lt;a href=\"https://news.google.com/stories/CAAqOQgKIjNDQklTSURvSmMzUnZjbmt0TXpZd1NoTUtFUWpUMm91T2pvQU1FU1JOcWhXZTJRWkJLQUFQAQ?oc=5\" target=\"_blank\"&gt;View full coverage on Google News&lt;/a&gt;&lt;/strong&gt;&lt;/li&gt;&lt;/ol&gt;</description><source url=\"https://phillysportsnetwork.com\">Philly Sports Network</source><media:content url=\"https://lh5.googleusercontent.com/proxy/KlGibEZcP9iBYQMFaxCwdXJaU6R7gIBy34oC_ANFPCyElKEDMO7ajtNIGuQK3cu1pEqTGZuE0-ZKyX4_TcCPD_OJWMdLObwMX67CscSjE5Fobs_ALR91hfIKCJIMsyOupTYlo8RylsZQVWv4-WX0FreedJZ8Qg=-w150-h150-c\" medium=\"image\" width=\"150\" height=\"150\"/></item><item><title>Video: Watch Odell Beckham Jr. Pull over Car, Sign Browns Fan\\'s License Plate - Bleacher Report NFL</title><link>https://bleacherreport.com/articles/2848467-video-watch-odell-beckham-jr-pull-over-car-sign-browns-fans-license-plate</link><guid isPermaLink=\"false\">52780343782255</guid><pubDate>Sun, 04 Aug 2019 23:43:26 GMT</pubDate><description>&lt;ol&gt;&lt;li&gt;&lt;a href=\"https://bleacherreport.com/articles/2848467-video-watch-odell-beckham-jr-pull-over-car-sign-browns-fans-license-plate\" target=\"_blank\"&gt;Video: Watch Odell Beckham Jr. Pull over Car, Sign Browns Fan\\'s License Plate&lt;/a&gt;&amp;nbsp;&amp;nbsp;&lt;font color=\"#6f6f6f\"&gt;Bleacher Report NFL&lt;/font&gt;&lt;/li&gt;&lt;li&gt;&lt;a href=\"https://ftw.usatoday.com/2019/08/cleveland-indians-colin-cowherd-baker-mayfield-beer-tweet-video-reaction-browns-nfl\" target=\"_blank\"&gt;Cleveland Indians completely roasted Colin Cowherd after Baker Mayfield chugged a beer&lt;/a&gt;&amp;nbsp;&amp;nbsp;&lt;font color=\"#6f6f6f\"&gt;For The Win&lt;/font&gt;&lt;/li&gt;&lt;li&gt;&lt;a href=\"https://www.youtube.com/watch?v=qqnEB1yCJVk\" target=\"_blank\"&gt;OBJ Signs Fan\\'s License Plate&lt;/a&gt;&amp;nbsp;&amp;nbsp;&lt;font color=\"#6f6f6f\"&gt;CBS New York&lt;/font&gt;&lt;/li&gt;&lt;li&gt;&lt;a href=\"https://dawgpounddaily.com/2019/08/04/5-ways-cleveland-browns-can-win-super-bowl-2019/\" target=\"_blank\"&gt;5 Ways Cleveland Browns can win Super Bowl 54&lt;/a&gt;&amp;nbsp;&amp;nbsp;&lt;font color=\"#6f6f6f\"&gt;Dawg Pound Daily&lt;/font&gt;&lt;/li&gt;&lt;li&gt;&lt;a href=\"https://brownswire.usatoday.com/2019/08/05/drew-stanton-embraces-his-mentor-role-with-the-browns/\" target=\"_blank\"&gt;Drew Stanton embraces his mentor role with the Browns&lt;/a&gt;&amp;nbsp;&amp;nbsp;&lt;font color=\"#6f6f6f\"&gt;Browns Wire&lt;/font&gt;&lt;/li&gt;&lt;li&gt;&lt;strong&gt;&lt;a href=\"https://news.google.com/stories/CAAqOQgKIjNDQklTSURvSmMzUnZjbmt0TXpZd1NoTUtFUWp2MXBHTmpvQU1FZXg3cDFfSlVKWGdLQUFQAQ?oc=5\" target=\"_blank\"&gt;View full coverage on Google News&lt;/a&gt;&lt;/strong&gt;&lt;/li&gt;&lt;/ol&gt;</description><source url=\"https://bleacherreport.com\">Bleacher Report NFL</source></item><item><title>Late for Work 8/5: Talk of Ravens\\' Offensive \\'Revolution\\' Continues to Heat Up - BaltimoreRavens.com</title><link>https://www.baltimoreravens.com/news/late-for-work-8-5-talk-of-ravens-offensive-revolution-continues-to-heat-up</link><guid isPermaLink=\"false\">52780345998419</guid><pubDate>Mon, 05 Aug 2019 13:39:01 GMT</pubDate><description>&lt;ol&gt;&lt;li&gt;&lt;a href=\"https://www.baltimoreravens.com/news/late-for-work-8-5-talk-of-ravens-offensive-revolution-continues-to-heat-up\" target=\"_blank\"&gt;Late for Work 8/5: Talk of Ravens\\' Offensive \\'Revolution\\' Continues to Heat Up&lt;/a&gt;&amp;nbsp;&amp;nbsp;&lt;font color=\"#6f6f6f\"&gt;BaltimoreRavens.com&lt;/font&gt;&lt;/li&gt;&lt;li&gt;&lt;a href=\"https://www.espn.com/nfl/story/_/id/27325895/ravens-cut-og-lewis-passed-physical\" target=\"_blank\"&gt;Ravens cut OG Lewis after he passed physical&lt;/a&gt;&amp;nbsp;&amp;nbsp;&lt;font color=\"#6f6f6f\"&gt;ESPN&lt;/font&gt;&lt;/li&gt;&lt;li&gt;&lt;a href=\"http://www.nfl.com/news/story/0ap3000001038995/article/ravens-guard-alex-lewis-says-hes-been-released\" target=\"_blank\"&gt;Ravens\\' Alex Lewis says he\\'s been released&lt;/a&gt;&amp;nbsp;&amp;nbsp;&lt;font color=\"#6f6f6f\"&gt;NFL.com&lt;/font&gt;&lt;/li&gt;&lt;li&gt;&lt;a href=\"https://ebonybird.com/2019/08/05/baltimore-ravens-to-cut-former-starter-alex-lewis/\" target=\"_blank\"&gt;Baltimore Ravens cut former starter, Alex Lewis&lt;/a&gt;&amp;nbsp;&amp;nbsp;&lt;font color=\"#6f6f6f\"&gt;Ebony Bird&lt;/font&gt;&lt;/li&gt;&lt;li&gt;&lt;a href=\"https://sports.yahoo.com/ravens-surprise-release-former-starting-152901619.html\" target=\"_blank\"&gt;Ravens make surprise release of former starting lineman Alex Lewis&lt;/a&gt;&amp;nbsp;&amp;nbsp;&lt;font color=\"#6f6f6f\"&gt;Yahoo Sports&lt;/font&gt;&lt;/li&gt;&lt;li&gt;&lt;strong&gt;&lt;a href=\"https://news.google.com/stories/CAAqOQgKIjNDQklTSURvSmMzUnZjbmt0TXpZd1NoTUtFUWpULUppT2pvQU1FUi1OVG02Z25TSXBLQUFQAQ?oc=5\" target=\"_blank\"&gt;View full coverage on Google News&lt;/a&gt;&lt;/strong&gt;&lt;/li&gt;&lt;/ol&gt;</description><source url=\"https://www.baltimoreravens.com\">BaltimoreRavens.com</source><media:content url=\"https://lh5.googleusercontent.com/proxy/SHphMOn2IIqzcSnBuxjfY74aP0hqqSIO9QYh5S7Xg4tO8oOIe3Vw799xSgItGfY07xa0E45XfYGeJMLCicA6qfhRqs_GyEsm7X802r49yUsLC80KjELUsMUageZn9tbbOJtkNR02Gx9ZNNISSAUJUr0o5N1PG2Zo7NQ_HbiH=-w150-h150-c\" medium=\"image\" width=\"150\" height=\"150\"/></item><item><title>Frogs, Toads, Lizards and Bats ... Were Found in Bagged Salads - Live Science</title><link>https://www.livescience.com/66095-frogs-in-bagged-salad.html</link><guid isPermaLink=\"false\">CBMiPGh0dHBzOi8vd3d3LmxpdmVzY2llbmNlLmNvbS82NjA5NS1mcm9ncy1pbi1iYWdnZWQtc2FsYWQuaHRtbNIBPGh0dHBzOi8vYW1wLmxpdmVzY2llbmNlLmNvbS82NjA5NS1mcm9ncy1pbi1iYWdnZWQtc2FsYWQuaHRtbA</guid><pubDate>Mon, 05 Aug 2019 11:01:00 GMT</pubDate><description>&lt;a href=\"https://www.livescience.com/66095-frogs-in-bagged-salad.html\" target=\"_blank\"&gt;Frogs, Toads, Lizards and Bats ... Were Found in Bagged Salads&lt;/a&gt;&amp;nbsp;&amp;nbsp;&lt;font color=\"#6f6f6f\"&gt;Live Science&lt;/font&gt;&lt;p&gt;In recent years, dozens of people in the United States who bought prepackaged salads at their local grocery stores found unexpected extra ingredients mixed in ...&lt;/p&gt;</description><source url=\"https://www.livescience.com\">Live Science</source></item><item><title>This Impact Crater Was Likely Ground Zero for an Ancient Mega-Tsunami on Mars - Space.com</title><link>https://www.space.com/mars-ocean-mega-tsunami-impact-crater.html</link><guid isPermaLink=\"false\">52780346028970</guid><pubDate>Mon, 05 Aug 2019 11:00:00 GMT</pubDate><description>&lt;ol&gt;&lt;li&gt;&lt;a href=\"https://www.space.com/mars-ocean-mega-tsunami-impact-crater.html\" target=\"_blank\"&gt;This Impact Crater Was Likely Ground Zero for an Ancient Mega-Tsunami on Mars&lt;/a&gt;&amp;nbsp;&amp;nbsp;&lt;font color=\"#6f6f6f\"&gt;Space.com&lt;/font&gt;&lt;/li&gt;&lt;li&gt;&lt;a href=\"https://in.mashable.com/science/5484/did-an-asteroid-trigger-mega-tsunami-on-mars-this-martian-impact-crater-could-be-proof\" target=\"_blank\"&gt;Did An Asteroid Trigger Mega-Tsunami on Mars? This Martian Impact Crater Could Be Proof&lt;/a&gt;&amp;nbsp;&amp;nbsp;&lt;font color=\"#6f6f6f\"&gt;Mashable India&lt;/font&gt;&lt;/li&gt;&lt;li&gt;&lt;a href=\"https://sputniknews.com/science/201908051076470812-new-evidence-suggests-meteor-may-have-triggered-1000-foot-tsunami-on-mars---astronomers/\" target=\"_blank\"&gt;New Evidence Emerges Meteor May Have Triggered 1,000-Foot Tsunami on Mars - Astronomers&lt;/a&gt;&amp;nbsp;&amp;nbsp;&lt;font color=\"#6f6f6f\"&gt;Sputnik International&lt;/font&gt;&lt;/li&gt;&lt;li&gt;&lt;a href=\"https://www.livescience.com/66088-mars-tsunami-ground-zero.html\" target=\"_blank\"&gt;Martian Meteor Collision May Have Triggered a 1,000-Foot Tsunami&lt;/a&gt;&amp;nbsp;&amp;nbsp;&lt;font color=\"#6f6f6f\"&gt;Live Science&lt;/font&gt;&lt;/li&gt;&lt;li&gt;&lt;a href=\"https://metro.co.uk/2019/08/05/mars-hit-mega-tsunami-changed-forever-scientists-claim-10521146/\" target=\"_blank\"&gt;Mars hit by alien \\'mega-tsunami\\' which changed its life forever, scientists claim&lt;/a&gt;&amp;nbsp;&amp;nbsp;&lt;font color=\"#6f6f6f\"&gt;Metro.co.uk&lt;/font&gt;&lt;/li&gt;&lt;li&gt;&lt;strong&gt;&lt;a href=\"https://news.google.com/stories/CAAqOQgKIjNDQklTSURvSmMzUnZjbmt0TXpZd1NoTUtFUWlxNTVxT2pvQU1FY0luN3llNUZmZXpLQUFQAQ?oc=5\" target=\"_blank\"&gt;View full coverage on Google News&lt;/a&gt;&lt;/strong&gt;&lt;/li&gt;&lt;/ol&gt;</description><source url=\"https://www.space.com\">Space.com</source></item><item><title>Fossils in La Brea Tar Pits reveal why coyotes still exist, but not saber-toothed cats - CNN</title><link>https://www.cnn.com/2019/08/05/world/la-brea-tar-pits-coyotes-scn-trnd/index.html</link><guid isPermaLink=\"false\">52780346143469</guid><pubDate>Mon, 05 Aug 2019 15:37:00 GMT</pubDate><description>&lt;ol&gt;&lt;li&gt;&lt;a href=\"https://www.cnn.com/2019/08/05/world/la-brea-tar-pits-coyotes-scn-trnd/index.html\" target=\"_blank\"&gt;Fossils in La Brea Tar Pits reveal why coyotes still exist, but not saber-toothed cats&lt;/a&gt;&amp;nbsp;&amp;nbsp;&lt;font color=\"#6f6f6f\"&gt;CNN&lt;/font&gt;&lt;/li&gt;&lt;li&gt;&lt;a href=\"https://www.nationalgeographic.com/science/2019/08/saber-tooth-cats-surprise-fossils-redraw-picture-of-big-cat/\" target=\"_blank\"&gt;Saber-tooth surprise: Fossils redraw picture of the fearsome big cat&lt;/a&gt;&amp;nbsp;&amp;nbsp;&lt;font color=\"#6f6f6f\"&gt;National Geographic&lt;/font&gt;&lt;/li&gt;&lt;li&gt;&lt;a href=\"https://phys.org/news/2019-08-intense-la-brea-tar-pits.html\" target=\"_blank\"&gt;Intense look at La Brea Tar Pits explains why we have coyotes, not saber-toothed cats&lt;/a&gt;&amp;nbsp;&amp;nbsp;&lt;font color=\"#6f6f6f\"&gt;Phys.org&lt;/font&gt;&lt;/li&gt;&lt;li&gt;&lt;strong&gt;&lt;a href=\"https://news.google.com/stories/CAAqOQgKIjNDQklTSURvSmMzUnZjbmt0TXpZd1NoTUtFUWp0NWFHT2pvQU1FWTlfOVBzZDBiX1JLQUFQAQ?oc=5\" target=\"_blank\"&gt;View full coverage on Google News&lt;/a&gt;&lt;/strong&gt;&lt;/li&gt;&lt;/ol&gt;</description><source url=\"https://www.cnn.com\">CNN</source></item><item><title>SpaceX founder in the Valley, tweets new pictures of Starship - KRGV</title><link>http://www.krgv.com/news/spacex-founder-in-the-valley-tweets-new-pictures-of-starship/</link><guid isPermaLink=\"false\">52780344707229</guid><pubDate>Mon, 05 Aug 2019 09:56:09 GMT</pubDate><description>&lt;ol&gt;&lt;li&gt;&lt;a href=\"http://www.krgv.com/news/spacex-founder-in-the-valley-tweets-new-pictures-of-starship/\" target=\"_blank\"&gt;SpaceX founder in the Valley, tweets new pictures of Starship&lt;/a&gt;&amp;nbsp;&amp;nbsp;&lt;font color=\"#6f6f6f\"&gt;KRGV&lt;/font&gt;&lt;/li&gt;&lt;li&gt;&lt;a href=\"https://www.cnet.com/news/elon-musk-shares-behind-the-scenes-pics-as-spacex-starship-aims-for-orbit/\" target=\"_blank\"&gt;Elon Musk shares behind-the-scenes pics as SpaceX Starship aims for orbit&lt;/a&gt;&amp;nbsp;&amp;nbsp;&lt;font color=\"#6f6f6f\"&gt;CNET&lt;/font&gt;&lt;/li&gt;&lt;li&gt;&lt;a href=\"https://www.teslarati.com/spacex-texas-florida-orbital-starships-rapid-progress/\" target=\"_blank\"&gt;SpaceX\\xe2\\x80\\x99s Florida Starship hits growth spurt as Texas Starship begins bulkhead installation&lt;/a&gt;&amp;nbsp;&amp;nbsp;&lt;font color=\"#6f6f6f\"&gt;Teslarati&lt;/font&gt;&lt;/li&gt;&lt;li&gt;&lt;a href=\"https://www.news18.com/news/world/spacex-founder-elon-musk-compares-queen-elizabeth-ii-to-teletubbies-2258029.html\" target=\"_blank\"&gt;SpaceX Founder Elon Musk Compares Queen Elizabeth II to Teletubbies&lt;/a&gt;&amp;nbsp;&amp;nbsp;&lt;font color=\"#6f6f6f\"&gt;News18&lt;/font&gt;&lt;/li&gt;&lt;li&gt;&lt;a href=\"https://www.teslarati.com/spacex-elon-musk-says-orbital-starship-debut-weeks-away/\" target=\"_blank\"&gt;SpaceX CEO Elon Musk says first orbital Starship prototype flight debut is just weeks away&lt;/a&gt;&amp;nbsp;&amp;nbsp;&lt;font color=\"#6f6f6f\"&gt;Teslarati&lt;/font&gt;&lt;/li&gt;&lt;li&gt;&lt;strong&gt;&lt;a href=\"https://news.google.com/stories/CAAqOQgKIjNDQklTSURvSmMzUnZjbmt0TXpZd1NoTUtFUWlka2NxTmpvQU1FV0pZMEc4eTFGbU1LQUFQAQ?oc=5\" target=\"_blank\"&gt;View full coverage on Google News&lt;/a&gt;&lt;/strong&gt;&lt;/li&gt;&lt;/ol&gt;</description><source url=\"http://www.krgv.com\">KRGV</source><media:content url=\"https://lh4.googleusercontent.com/proxy/0AkDsnj2CZKHijUF12O6xATyHhqnSQuGh9wl8S2e-4GyBnILNw0asj6xsOWPg0jtus2UkCfc0zhNLALUJ5KIIOwLrr93PGT-EoeEOQug06rdCzDOX_u_qt90IHj7Dbnl-PoMi-dqoT_XEejhQD8kPeERHDzOETZ1MK-p-sS0EorjMScBysfHFUHXlxfFsBK5h46x7Eq1c-138uOb2PWOclWiP5nTerSTYgpoJRJtPVMLL3v3Oi9rv4TAhpw5QGI6v_Cpf0OOY0x4Mh6PFgPrV5Q=-w150-h150-c\" medium=\"image\" width=\"150\" height=\"150\"/></item><item><title>14 teens, young adults in 2 states hospitalized for lung disease that may be linked to vaping - WWLP.com</title><link>https://www.wwlp.com/news/14-teens-young-adults-in-2-states-hospitalized-for-lung-disease-that-may-be-linked-to-vaping/</link><guid isPermaLink=\"false\">CBMid2h0dHBzOi8vd3d3Lnd3bHAuY29tL25ld3MvMTQtdGVlbnMteW91bmctYWR1bHRzLWluLTItc3RhdGVzLWhvc3BpdGFsaXplZC1mb3ItbHVuZy1kaXNlYXNlLXRoYXQtbWF5LWJlLWxpbmtlZC10by12YXBpbmcv0gF7aHR0cHM6Ly93d3cud3dscC5jb20vbmV3cy8xNC10ZWVucy15b3VuZy1hZHVsdHMtaW4tMi1zdGF0ZXMtaG9zcGl0YWxpemVkLWZvci1sdW5nLWRpc2Vhc2UtdGhhdC1tYXktYmUtbGlua2VkLXRvLXZhcGluZy9hbXAv</guid><pubDate>Sun, 04 Aug 2019 23:06:00 GMT</pubDate><description>&lt;a href=\"https://www.wwlp.com/news/14-teens-young-adults-in-2-states-hospitalized-for-lung-disease-that-may-be-linked-to-vaping/\" target=\"_blank\"&gt;14 teens, young adults in 2 states hospitalized for lung disease that may be linked to vaping&lt;/a&gt;&amp;nbsp;&amp;nbsp;&lt;font color=\"#6f6f6f\"&gt;WWLP.com&lt;/font&gt;&lt;p&gt;Health officials say 14 young people in two states have been hospitalized for breathing problems possibly linked to vaping.&lt;/p&gt;&lt;strong&gt;&lt;a href=\"https://news.google.com/stories/CAAqOQgKIjNDQklTSURvSmMzUnZjbmt0TXpZd1NoTUtFUWk4b2VXTmpvQU1FZl9KaFJxaVdIdGhLQUFQAQ?oc=5\" target=\"_blank\"&gt;View full coverage on Google News&lt;/a&gt;&lt;/strong&gt;</description><source url=\"https://www.wwlp.com\">WWLP.com</source></item><item><title>Think you have athlete\\xe2\\x80\\x99s foot? Here\\xe2\\x80\\x99s how to treat it and avoid more serious problems. - Washington Post</title><link>https://www.washingtonpost.com/health/think-you-have-athletes-foot-heres-how-to-treat-it-and-avoid-more-serious-problems/2019/08/02/2e801cd8-a3dc-11e9-bd56-eac6bb02d01d_story.html</link><guid isPermaLink=\"false\">CBMiswFodHRwczovL3d3dy53YXNoaW5ndG9ucG9zdC5jb20vaGVhbHRoL3RoaW5rLXlvdS1oYXZlLWF0aGxldGVzLWZvb3QtaGVyZXMtaG93LXRvLXRyZWF0LWl0LWFuZC1hdm9pZC1tb3JlLXNlcmlvdXMtcHJvYmxlbXMvMjAxOS8wOC8wMi8yZTgwMWNkOC1hM2RjLTExZTktYmQ1Ni1lYWM2YmIwMmQwMWRfc3RvcnkuaHRtbNIBwwFodHRwczovL2JldGEud2FzaGluZ3RvbnBvc3QuY29tL2hlYWx0aC90aGluay15b3UtaGF2ZS1hdGhsZXRlcy1mb290LWhlcmVzLWhvdy10by10cmVhdC1pdC1hbmQtYXZvaWQtbW9yZS1zZXJpb3VzLXByb2JsZW1zLzIwMTkvMDgvMDIvMmU4MDFjZDgtYTNkYy0xMWU5LWJkNTYtZWFjNmJiMDJkMDFkX3N0b3J5Lmh0bWw_b3V0cHV0VHlwZT1hbXA</guid><pubDate>Mon, 05 Aug 2019 13:07:30 GMT</pubDate><description>&lt;a href=\"https://www.washingtonpost.com/health/think-you-have-athletes-foot-heres-how-to-treat-it-and-avoid-more-serious-problems/2019/08/02/2e801cd8-a3dc-11e9-bd56-eac6bb02d01d_story.html\" target=\"_blank\"&gt;Think you have athlete\\xe2\\x80\\x99s foot? Here\\xe2\\x80\\x99s how to treat it and avoid more serious problems.&lt;/a&gt;&amp;nbsp;&amp;nbsp;&lt;font color=\"#6f6f6f\"&gt;Washington Post&lt;/font&gt;&lt;p&gt;Perhaps the skin in between your toes is itchy. Or the skin on the sides of your feet is flaking and irritated. These are classic signs of athlete\\'s foot. Doctors call it ...&lt;/p&gt;</description><source url=\"https://www.washingtonpost.com\">Washington Post</source></item><item><title>Pain Relief For Very Sick Kids Is The Focus Of This Quick Response Team : Shots - Health News - NPR</title><link>https://www.npr.org/sections/health-shots/2019/08/05/745589634/pain-rescue-team-helps-seriously-ill-kids-cope-in-terrible-times</link><guid isPermaLink=\"false\">52780345995829</guid><pubDate>Mon, 05 Aug 2019 09:01:00 GMT</pubDate><description>&lt;ol&gt;&lt;li&gt;&lt;a href=\"https://www.npr.org/sections/health-shots/2019/08/05/745589634/pain-rescue-team-helps-seriously-ill-kids-cope-in-terrible-times\" target=\"_blank\"&gt;Pain Relief For Very Sick Kids Is The Focus Of This Quick Response Team : Shots - Health News&lt;/a&gt;&amp;nbsp;&amp;nbsp;&lt;font color=\"#6f6f6f\"&gt;NPR&lt;/font&gt;&lt;/li&gt;&lt;li&gt;&lt;a href=\"https://www.kacu.org/post/pain-rescue-team-helps-seriously-ill-kids-cope-terrible-times\" target=\"_blank\"&gt;Pain Rescue Team Helps Seriously Ill Kids Cope In Terrible Times&lt;/a&gt;&amp;nbsp;&amp;nbsp;&lt;font color=\"#6f6f6f\"&gt;KACU&lt;/font&gt;&lt;/li&gt;&lt;li&gt;&lt;strong&gt;&lt;a href=\"https://news.google.com/stories/CAAqOQgKIjNDQklTSURvSmMzUnZjbmt0TXpZd1NoTUtFUWkxNUppT2pvQU1FZFYzdWMxdGdndHFLQUFQAQ?oc=5\" target=\"_blank\"&gt;View full coverage on Google News&lt;/a&gt;&lt;/strong&gt;&lt;/li&gt;&lt;/ol&gt;</description><source url=\"https://www.npr.org\">NPR</source><media:content url=\"https://lh6.googleusercontent.com/proxy/FhDX0UWdQ1LEsrkvl9xg_2PxNwH-vpkqE6GZJQRxp04nPhtYv4z7svsZBy5-ypMKitBO-NLjT5Vg5vmwyjmMqZyPkt0kYXw0xHMAeX7SA3OkKXGl1zf2s5cG=-w150-h150-c\" medium=\"image\" width=\"150\" height=\"150\"/></item><item><title>A woman lost her hands and legs to an infection from puppy kisses - KCRA Sacramento</title><link>https://www.kcra.com/article/a-woman-lost-her-hands-and-legs-to-an-infection-from-puppy-kisses/28595662</link><guid isPermaLink=\"false\">CBMiZ2h0dHBzOi8vd3d3LmtjcmEuY29tL2FydGljbGUvYS13b21hbi1sb3N0LWhlci1oYW5kcy1hbmQtbGVncy10by1hbi1pbmZlY3Rpb24tZnJvbS1wdXBweS1raXNzZXMvMjg1OTU2NjLSAQA</guid><pubDate>Mon, 05 Aug 2019 11:02:00 GMT</pubDate><description>&lt;a href=\"https://www.kcra.com/article/a-woman-lost-her-hands-and-legs-to-an-infection-from-puppy-kisses/28595662\" target=\"_blank\"&gt;A woman lost her hands and legs to an infection from puppy kisses&lt;/a&gt;&amp;nbsp;&amp;nbsp;&lt;font color=\"#6f6f6f\"&gt;KCRA Sacramento&lt;/font&gt;&lt;p&gt;Days after returning home from a Punta Cana vacation, Marie Trainer called out of work with a backache and nausea. Then her temperature spiked and dropped ...&lt;/p&gt;&lt;strong&gt;&lt;a href=\"https://news.google.com/stories/CAAqOQgKIjNDQklTSURvSmMzUnZjbmt0TXpZd1NoTUtFUWlvallXT2pvQU1FWGNXSzl1dVZlZ0RLQUFQAQ?oc=5\" target=\"_blank\"&gt;View full coverage on Google News&lt;/a&gt;&lt;/strong&gt;</description><source url=\"https://www.kcra.com\">KCRA Sacramento</source><media:content url=\"https://lh4.googleusercontent.com/proxy/6jZ6Gh_pbfkY8W23bFdqpUe8ff32dUqDZazRlvgIQwVe2Gj67Wz3xBQGZS_Cl6IexKtMTRmSmsQbA2P5w2cY8pohlQ4Bg6e8iizs0NkwL_CExUiwUAJvWeHz9S-LQmPdXV1VcRq0c2p6i69rqtv5pRdQCLBUMychbKdZgvwWOganb0WUG5UbtL3rbCI_VDVasJ8=-w150-h150-c\" medium=\"image\" width=\"150\" height=\"150\"/></item></channel></rss>'\n"
     ]
    }
   ],
   "source": [
    "import bs4\n",
    "from bs4 import BeautifulSoup as soup\n",
    "from urllib.request import urlopen\n",
    "\n",
    "news_url=\"https://news.google.com/news/rss\"\n",
    "Client=urlopen(news_url)\n",
    "xml_page=Client.read()\n",
    "Client.close()\n",
    "\n",
    "soup_page=soup(xml_page,\"xml\")\n",
    "news_list=soup_page.findAll(\"item\")\n",
    "# Print news title, url and publish date\n",
    "for news in news_list:\n",
    "  print(news.title.text)\n",
    "  print(news.link.text)\n",
    "  print(news.pubDate.text)\n",
    "  print(\"-\"*60)\n",
    "print(news_url)\n",
    "print(xml_page)"
   ]
  },
  {
   "cell_type": "code",
   "execution_count": 151,
   "metadata": {},
   "outputs": [
    {
     "name": "stdout",
     "output_type": "stream",
     "text": [
      "( 10 , 20 , 40 ) = 70\n",
      "( 10 , 30 , 30 ) = 70\n",
      "( 10 , 40 , 20 ) = 70\n",
      "( 20 , 10 , 40 ) = 70\n",
      "( 20 , 20 , 30 ) = 70\n",
      "( 20 , 30 , 20 ) = 70\n",
      "( 20 , 40 , 10 ) = 70\n",
      "( 20 , 10 , 40 ) = 70\n",
      "( 20 , 20 , 30 ) = 70\n",
      "( 20 , 30 , 20 ) = 70\n",
      "( 20 , 40 , 10 ) = 70\n",
      "( 20 , 10 , 40 ) = 70\n",
      "( 20 , 20 , 30 ) = 70\n",
      "( 20 , 30 , 20 ) = 70\n",
      "( 20 , 40 , 10 ) = 70\n"
     ]
    }
   ],
   "source": [
    "# sum of each number in list is equal to target\n",
    "X = [10, 20, 20, 20]\n",
    "Y = [10, 20, 30, 40]\n",
    "Z = [10, 30, 40, 20]\n",
    "target = 70\n",
    "for a in X:\n",
    "    for b in Y:\n",
    "        for c in Z:\n",
    "            if (a+b+c)==target:\n",
    "                print(\"(\",a,\",\",b,\",\",c,\")\",\"=\",target)"
   ]
  },
  {
   "cell_type": "code",
   "execution_count": 154,
   "metadata": {},
   "outputs": [
    {
     "name": "stdout",
     "output_type": "stream",
     "text": [
      "[(1, 2, 3), (1, 3, 2), (2, 1, 3), (2, 3, 1), (3, 1, 2), (3, 2, 1)]\n"
     ]
    }
   ],
   "source": [
    "X = [1,2,3]\n",
    "result=[]\n",
    "for a in X:\n",
    "    for b in X:\n",
    "        for c in X:\n",
    "            if (a+b+c)==sum(X) and a!=b!=c:\n",
    "                perm=(a,b,c)\n",
    "                result.append(perm)\n",
    "print(result)"
   ]
  },
  {
   "cell_type": "code",
   "execution_count": 163,
   "metadata": {},
   "outputs": [
    {
     "data": {
      "text/plain": [
       "['dg', 'dh', 'di', 'eg', 'eh', 'ei', 'fg', 'fh', 'fi']"
      ]
     },
     "execution_count": 163,
     "metadata": {},
     "output_type": "execute_result"
    }
   ],
   "source": [
    "def num(x,y):\n",
    "    result=[]\n",
    "    for a in list(x):\n",
    "        for b in list(y):\n",
    "            letter=a+b\n",
    "            result.append(letter)\n",
    "    return result\n",
    "\n",
    "num(\"def\",\"ghi\")"
   ]
  },
  {
   "cell_type": "code",
   "execution_count": 176,
   "metadata": {},
   "outputs": [
    {
     "name": "stdout",
     "output_type": "stream",
     "text": [
      "24\n"
     ]
    }
   ],
   "source": [
    "# zeros at the end of factorial for positive integer\n",
    "\n",
    "def factendzero(n):\n",
    "    x = n // 5\n",
    "    y = x\n",
    "    while x > 0:\n",
    "        x /= 5\n",
    "        y +=int(x)\n",
    "    return y\n",
    "print(factendzero(100))\n",
    "        \n",
    "    "
   ]
  },
  {
   "cell_type": "code",
   "execution_count": 209,
   "metadata": {},
   "outputs": [
    {
     "name": "stdout",
     "output_type": "stream",
     "text": [
      "Total Notes Needed 3\n"
     ]
    }
   ],
   "source": [
    "# number of dollar notes needed for a given n number\n",
    "\n",
    "def notes(n):\n",
    "    deno = [500,200,100,50,20,10]\n",
    "    x=0\n",
    "    for i in range(6):\n",
    "        de = deno[i]\n",
    "        x += int(n/de)\n",
    "        n = int(n%de)\n",
    "        if n ==0:\n",
    "            break\n",
    "      \n",
    "    print(\"Total Notes Needed\",x)\n",
    "\n",
    "notes(1020)\n"
   ]
  },
  {
   "cell_type": "code",
   "execution_count": 215,
   "metadata": {},
   "outputs": [
    {
     "name": "stdout",
     "output_type": "stream",
     "text": [
      "66526\n"
     ]
    }
   ],
   "source": [
    "def new_seq(n):\n",
    "    if n==1 or n==2 or n==3 or n==4:\n",
    "        return 1\n",
    "    return new_seq(n-1)+new_seq(n-2)+new_seq(n-3)+new_seq(n-4)\n",
    "print(new_seq(20))"
   ]
  },
  {
   "cell_type": "code",
   "execution_count": 234,
   "metadata": {},
   "outputs": [
    {
     "name": "stdout",
     "output_type": "stream",
     "text": [
      "Please enter a mobile number: 9985979501\n",
      "missing digits are  {'3', '4', '6', '2'}\n"
     ]
    }
   ],
   "source": [
    "# missing digits from mobile\n",
    "\n",
    "mobile = input('Please enter a mobile number: ' )\n",
    "all = '0123456789'\n",
    "print('missing digits are ', set(all) - set(mobile))"
   ]
  },
  {
   "cell_type": "code",
   "execution_count": 255,
   "metadata": {
    "scrolled": true
   },
   "outputs": [
    {
     "name": "stdout",
     "output_type": "stream",
     "text": [
      "AP: Next sequence is: 4\n",
      "GP: Next sequence is: 54\n"
     ]
    }
   ],
   "source": [
    "# Find if a given sequence is AP or GP and derive next sequence\n",
    "\n",
    "def ap_gp(arr):\n",
    "    if arr[0]== 0 or arr[1]==0 or arr[2]==0:\n",
    "        print(\"Wrong sequence: Please enter correct sequence\")\n",
    "    elif arr[1]-arr[0] == arr[2]-arr[1]:\n",
    "        x = arr[2]+(arr[1]-arr[0])\n",
    "        print(\"AP: Next sequence is:\", x)\n",
    "    elif (arr[1]//arr[0])==(arr[2]//arr[1]):\n",
    "        y= arr[2]*arr[1]//arr[0]\n",
    "        print(\"GP: Next sequence is:\",y)\n",
    "ap_gp([1,2,3])\n",
    "ap_gp([2,6,18])"
   ]
  },
  {
   "cell_type": "code",
   "execution_count": 6,
   "metadata": {},
   "outputs": [
    {
     "name": "stdout",
     "output_type": "stream",
     "text": [
      "Enter first number: 24\n",
      "Enter second number: 12\n",
      "1\n",
      "2\n",
      "3\n",
      "4\n",
      "6\n",
      "12\n",
      "total number of common divisions are 6\n"
     ]
    }
   ],
   "source": [
    "# Common Divisors of given two numbeers\n",
    "\n",
    "a = int(input(\"Enter first number: \"))\n",
    "b = int(input (\"Enter second number: \"))\n",
    "c = min(a,b)\n",
    "i = 1\n",
    "d = 0\n",
    "while i<=c:\n",
    "    if a%i ==0 and b%i ==0:\n",
    "        print (i)\n",
    "        d +=1\n",
    "    i+=1\n",
    "print(\"total number of common divisions are\", d)"
   ]
  },
  {
   "cell_type": "code",
   "execution_count": 25,
   "metadata": {},
   "outputs": [
    {
     "name": "stdout",
     "output_type": "stream",
     "text": [
      "Enter number: 452\n",
      "706\n"
     ]
    }
   ],
   "source": [
    "# sum of interger and reverse of integer and continue until its a palindrome\n",
    "\n",
    "a = input(\"Enter number: \")\n",
    "\n",
    "b= a[::-1]\n",
    "a = int(a)\n",
    "b = int(b)\n",
    "c = a + b\n",
    "if str(c) == str(c)[::-1]:\n",
    "    print(\"It's palindrome\")\n",
    "else:\n",
    "    print(c)"
   ]
  },
  {
   "cell_type": "code",
   "execution_count": 34,
   "metadata": {},
   "outputs": [
    {
     "data": {
      "text/plain": [
       "'no carry operations'"
      ]
     },
     "execution_count": 34,
     "metadata": {},
     "output_type": "execute_result"
    }
   ],
   "source": [
    "# Number of carry's while adding two integers\n",
    "\n",
    "def carry(a,b):\n",
    "    z = 0\n",
    "    ctr = 0\n",
    "    for i in reversed(range(10)):\n",
    "        z = a%10+b%10+z\n",
    "        if z>9:\n",
    "            z = 1\n",
    "        else:\n",
    "            z=0\n",
    "        ctr +=z\n",
    "        a//=10\n",
    "        b//=10\n",
    "    if ctr == 0:\n",
    "        return \"no carry operations\"\n",
    "    else:\n",
    "        return ctr\n",
    "#carry(786,457)\n",
    "carry(2,2)\n",
    "    \n",
    "        \n",
    "        "
   ]
  },
  {
   "cell_type": "code",
   "execution_count": 46,
   "metadata": {},
   "outputs": [
    {
     "name": "stdout",
     "output_type": "stream",
     "text": [
      "3 69\n",
      "2\n"
     ]
    }
   ],
   "source": [
    "# Number of digits in sum of two integers\n",
    "a,b = map(int,input().split(\" \"))\n",
    "print(len(str(a+b)))"
   ]
  },
  {
   "cell_type": "code",
   "execution_count": 55,
   "metadata": {},
   "outputs": [
    {
     "name": "stdout",
     "output_type": "stream",
     "text": [
      "Enter number:407\n",
      "Not a prime\n"
     ]
    }
   ],
   "source": [
    "# Check if number is prime\n",
    "\n",
    "a = int(input(\"Enter number:\" ))\n",
    "ctr = 0\n",
    "for i in range(2,a):\n",
    "    if a%i == 0:\n",
    "        print(\"Not a prime\")\n",
    "        break\n",
    "    else:\n",
    "        ctr+=1\n",
    "else:\n",
    "    print(\"Prime Number\")\n",
    "\n",
    "        "
   ]
  },
  {
   "cell_type": "code",
   "execution_count": 62,
   "metadata": {},
   "outputs": [
    {
     "name": "stdout",
     "output_type": "stream",
     "text": [
      "Enter first integer: 23\n",
      "Enter second integer: 69\n",
      "92\n"
     ]
    }
   ],
   "source": [
    "# sum of intergers or given integer more than 80 digits then overflow\n",
    "\n",
    "a = input(\"Enter first integer: \")\n",
    "b = input(\"Enter second integer: \")\n",
    "\n",
    "if len(str(int(a)+int(b)))>80 or len(a)>80 or len (b)>80:\n",
    "    print(\"Overflow\")\n",
    "else:\n",
    "    print(int(a)+int(b))"
   ]
  },
  {
   "cell_type": "code",
   "execution_count": 68,
   "metadata": {},
   "outputs": [
    {
     "name": "stdout",
     "output_type": "stream",
     "text": [
      "1 2 5 4 6 3 2 458\n",
      "[458, 6, 5, 4, 3, 2, 2, 1]\n"
     ]
    }
   ],
   "source": [
    "# sort numbers from list\n",
    "a = list(map(int,input().split()))\n",
    "a.sort()\n",
    "a.reverse()\n",
    "print(a)"
   ]
  },
  {
   "cell_type": "code",
   "execution_count": 88,
   "metadata": {},
   "outputs": [
    {
     "name": "stdout",
     "output_type": "stream",
     "text": [
      "thank you for your comments and your participation\n",
      "Most common word is:  your  -  2\n",
      "participation\n"
     ]
    }
   ],
   "source": [
    "# Print maximum repeated words in a text & max length of word in the text\n",
    "\n",
    "import collections\n",
    "text_list = list(map(str,input().split()))\n",
    "max_len_word = \" \"\n",
    "sc = collections.Counter(text_list)\n",
    "common_word = sc.most_common()[0][0]\n",
    "common_word_times = sc.most_common()[0][1]\n",
    "print(\"Most common word is: \" ,common_word,\" - \",common_word_times)\n",
    "for i in text_list:\n",
    "    if len(max_len_word) < len(i):\n",
    "        max_len_word = i\n",
    "print (max_len_word)\n"
   ]
  },
  {
   "cell_type": "code",
   "execution_count": 110,
   "metadata": {},
   "outputs": [
    {
     "name": "stdout",
     "output_type": "stream",
     "text": [
      "Enter string: java is stronger than python\n",
      "java is stronger than python\n",
      "java is stronger than python\n",
      "java is stronger than python\n",
      "java is stronger than python\n",
      "java is stronger than python\n"
     ]
    }
   ],
   "source": [
    "# Replace word python with java\n",
    "\n",
    "a = input(\"Enter string: \").split()\n",
    "for i in range(len(a)):\n",
    "    if a[i]== \"java\":\n",
    "        a[i]==\"python\"\n",
    "    elif a[i]==\"python\":\n",
    "        a[i]==\"java\"\n",
    "    print (*a)\n"
   ]
  },
  {
   "cell_type": "code",
   "execution_count": 111,
   "metadata": {},
   "outputs": [
    {
     "name": "stdout",
     "output_type": "stream",
     "text": [
      "Input a text with two words \"Python\" and \"Java\"java is stronger than python\n",
      " \n"
     ]
    }
   ],
   "source": [
    "n = input('Input a text with two words \"Python\" and \"Java\"')\n",
    "new = n.split()\n",
    "result = \" \"\n",
    "for i in new:\n",
    "    if i=='Python':\n",
    "        new[new.index(i)] = 'java'\n",
    "    elif i=='Java':\n",
    "        new[new.index(i)] = 'python'\n",
    "        result = ' '.join(new)\n",
    "print(result)"
   ]
  },
  {
   "cell_type": "code",
   "execution_count": 121,
   "metadata": {},
   "outputs": [
    {
     "name": "stdout",
     "output_type": "stream",
     "text": [
      "Enter Number: 25\n",
      "3704\n"
     ]
    }
   ],
   "source": [
    "# sum of n prime numbers\n",
    "a = int(input(\"Enter Number: \"))\n",
    "ctr = 0\n",
    "for i in range(1,a):\n",
    "    for j in range(1,i):\n",
    "        if i%j!=0:\n",
    "            ctr+=i\n",
    "print(ctr)\n",
    "            \n",
    "            "
   ]
  },
  {
   "cell_type": "code",
   "execution_count": 124,
   "metadata": {},
   "outputs": [
    {
     "name": "stdout",
     "output_type": "stream",
     "text": [
      "Enter string: w3resource.com\n",
      "14\n"
     ]
    }
   ],
   "source": [
    "# length of string\n",
    "a = input(\"Enter string: \")\n",
    "print(len(a))"
   ]
  },
  {
   "cell_type": "code",
   "execution_count": 4,
   "metadata": {},
   "outputs": [
    {
     "name": "stdout",
     "output_type": "stream",
     "text": [
      "Enter string: google.com\n",
      "Counter({'o': 3, 'g': 2, 'l': 1, 'e': 1, '.': 1, 'c': 1, 'm': 1})\n"
     ]
    }
   ],
   "source": [
    "import collections\n",
    "a = list(input(\"Enter string: \"))\n",
    "sc = collections.Counter(a)\n",
    "print(sc)"
   ]
  },
  {
   "cell_type": "code",
   "execution_count": 14,
   "metadata": {},
   "outputs": [
    {
     "name": "stdout",
     "output_type": "stream",
     "text": [
      "Enter String: google.com\n",
      "goom\n"
     ]
    }
   ],
   "source": [
    "# concatinate first two and last two alphabtes of string\n",
    "\n",
    "a = input(\"Enter String: \")\n",
    "if len(a)<2:\n",
    "    print(\"Enter word with 2 or more alphabets\")\n",
    "else:\n",
    "    print (a[0:2]+a[-2:])"
   ]
  },
  {
   "cell_type": "code",
   "execution_count": 23,
   "metadata": {},
   "outputs": [
    {
     "data": {
      "text/plain": [
       "'rama $ao'"
      ]
     },
     "execution_count": 23,
     "metadata": {},
     "output_type": "execute_result"
    }
   ],
   "source": [
    "# replace first occurence with $\n",
    "\n",
    "def replace_str(a):\n",
    "    char = a[0]\n",
    "    a = a.replace(char,'$')\n",
    "    a = char+a[1:]\n",
    "    return a\n",
    "replace_str('rama rao')    "
   ]
  },
  {
   "cell_type": "code",
   "execution_count": 27,
   "metadata": {},
   "outputs": [
    {
     "name": "stdout",
     "output_type": "stream",
     "text": [
      "Enter first string: harika\n",
      "Enter second string: srivatsava\n",
      "hrrika saivatsava\n"
     ]
    }
   ],
   "source": [
    "# Swap two strings\n",
    "\n",
    "a = input(\"Enter first string: \")\n",
    "b = input(\"Enter second string: \")\n",
    "\n",
    "print(a[0:1]+b[1]+a[2:]+\" \"+b[0:1]+a[1]+b[2:]) "
   ]
  },
  {
   "cell_type": "code",
   "execution_count": 30,
   "metadata": {},
   "outputs": [
    {
     "name": "stdout",
     "output_type": "stream",
     "text": [
      "Enter String: srivatsava\n",
      "srivatsavaing\n"
     ]
    }
   ],
   "source": [
    "# add ing or ly to end of string\n",
    "\n",
    "a = input(\"Enter String: \")\n",
    "if a[-3:]== 'ing':\n",
    "    print(a+'ly')\n",
    "else:\n",
    "    print(a+'ing')"
   ]
  },
  {
   "cell_type": "code",
   "execution_count": 42,
   "metadata": {},
   "outputs": [
    {
     "name": "stdout",
     "output_type": "stream",
     "text": [
      "Enter String: lyrics is not that really poor but interesting\n",
      "10\n",
      "26\n",
      "lyrics is good  but interesting\n"
     ]
    }
   ],
   "source": [
    "# replace not...poor with good\n",
    "\n",
    "a = input(\"Enter String: \")\n",
    "\n",
    "str_not = a.find('not')\n",
    "str_poor = a.find('poor')\n",
    "\n",
    "print (str_not)\n",
    "print(str_poor)\n",
    "a= a. replace(a[str_not:str_poor+4],\"good \")\n",
    "print (a)"
   ]
  },
  {
   "cell_type": "code",
   "execution_count": 51,
   "metadata": {},
   "outputs": [
    {
     "name": "stdout",
     "output_type": "stream",
     "text": [
      "sri vatsava harikauppuleti\n",
      "['sri', 'vatsava', 'harikauppuleti']\n",
      "harikauppuleti\n",
      "14\n"
     ]
    }
   ],
   "source": [
    "a = list(input().split())\n",
    "x = \" \"\n",
    "print(a)\n",
    "for i in a:\n",
    "    if len(x)< len(i):\n",
    "        x=i\n",
    "print(x)        \n",
    "print (len(x))    "
   ]
  },
  {
   "cell_type": "code",
   "execution_count": 64,
   "metadata": {},
   "outputs": [
    {
     "data": {
      "text/plain": [
       "'srvatsava'"
      ]
     },
     "execution_count": 64,
     "metadata": {},
     "output_type": "execute_result"
    }
   ],
   "source": [
    "# remove nth index from string\n",
    "\n",
    "def remove_char(string,i):\n",
    "    first_part = string[:i-1]\n",
    "    last_part = string[i:]\n",
    "    return first_part+last_part\n",
    "\n",
    "remove_char('srivatsava',3)"
   ]
  },
  {
   "cell_type": "code",
   "execution_count": 8,
   "metadata": {},
   "outputs": [
    {
     "name": "stdout",
     "output_type": "stream",
     "text": [
      "Enter string: Vatsav is BI developer Vatsav is ABAP Developer Vatsav is BO developer Vatsav is splunk developer Vatsav is tableau developer vatsav is Data Engineer\n",
      "Counter({'is': 6, 'Vatsav': 5, 'developer': 4, 'BI': 1, 'ABAP': 1, 'Developer': 1, 'BO': 1, 'splunk': 1, 'tableau': 1, 'vatsav': 1, 'Data': 1, 'Engineer': 1})\n"
     ]
    }
   ],
   "source": [
    "# Number of word coutns in a given sentence\n",
    "import collections\n",
    "\n",
    "a = list(input(\"Enter string: \").split())\n",
    "sc = collections.Counter(a)\n",
    "print(sc)\n"
   ]
  },
  {
   "cell_type": "code",
   "execution_count": 21,
   "metadata": {},
   "outputs": [
    {
     "data": {
      "text/plain": [
       "{'the': 2,\n",
       " 'quick': 1,\n",
       " 'brown': 1,\n",
       " 'fox': 1,\n",
       " 'jumps': 1,\n",
       " 'over': 1,\n",
       " 'lazy': 1,\n",
       " 'dog': 1}"
      ]
     },
     "execution_count": 21,
     "metadata": {},
     "output_type": "execute_result"
    }
   ],
   "source": [
    "def word_count(a):\n",
    "    b = a.split()\n",
    "    d = dict()\n",
    "    for c in b:\n",
    "        if c in d:\n",
    "            d[c]+=1\n",
    "\n",
    "        else:\n",
    "            d[c]=1\n",
    "    return d\n",
    "\n",
    "word_count(\"the quick brown fox jumps over the lazy dog\")\n",
    "\n",
    "    "
   ]
  },
  {
   "cell_type": "code",
   "execution_count": 25,
   "metadata": {},
   "outputs": [
    {
     "name": "stdout",
     "output_type": "stream",
     "text": [
      "Enter String: sriVATsava\n",
      "Upper case: SRIVATSAVA\n",
      "Lower Case: srivatsava\n"
     ]
    }
   ],
   "source": [
    "# convert to upper and lower case \n",
    "\n",
    "a = input(\"Enter String: \")\n",
    "print(\"Upper case:\", a.upper())\n",
    "print(\"Lower Case:\",a.lower())"
   ]
  },
  {
   "cell_type": "code",
   "execution_count": 45,
   "metadata": {},
   "outputs": [
    {
     "name": "stdout",
     "output_type": "stream",
     "text": [
      "Enter String: red,black,green,blue,yellow,pink\n",
      "black,blue,green,pink,red,yellow\n"
     ]
    }
   ],
   "source": [
    "# comma separated words and sort \n",
    "\n",
    "a = list(input(\"Enter String: \").split(','))\n",
    "\n",
    "print(\",\".join(sorted(a)))\n"
   ]
  },
  {
   "cell_type": "code",
   "execution_count": 53,
   "metadata": {},
   "outputs": [
    {
     "name": "stdout",
     "output_type": "stream",
     "text": [
      "google.com\n"
     ]
    }
   ],
   "source": [
    "# last part of string before specialized character\n",
    "a = 'google.com/news'\n",
    "a = a.rsplit('/')[0]\n",
    "print(a)"
   ]
  },
  {
   "cell_type": "code",
   "execution_count": 71,
   "metadata": {},
   "outputs": [
    {
     "name": "stdout",
     "output_type": "stream",
     "text": [
      "Enter string: srivatsa\n",
      "astavirs\n"
     ]
    }
   ],
   "source": [
    "# Reverse string if length is multiplied by 4\n",
    "a = input(\"Enter string: \")\n",
    "if len(a)%4==0:\n",
    "    print(a[::-1])"
   ]
  },
  {
   "cell_type": "code",
   "execution_count": 82,
   "metadata": {},
   "outputs": [
    {
     "name": "stdout",
     "output_type": "stream",
     "text": [
      "Enter String: srIvatsava\n",
      "srIvatsava\n"
     ]
    }
   ],
   "source": [
    "# Print reverse of statement when first 4 charactercters have atleast 2 upper case letters else print same text\n",
    "a = input(\"Enter String: \")\n",
    "ctr = 0\n",
    "for i in a[0:4]:\n",
    "    if i.upper()==i:\n",
    "        ctr+=1\n",
    "if ctr>2:\n",
    "    print(a[::-1])\n",
    "else:\n",
    "    print(a)\n",
    "    \n"
   ]
  },
  {
   "cell_type": "code",
   "execution_count": 94,
   "metadata": {},
   "outputs": [
    {
     "data": {
      "text/plain": [
       "['3', 'c', 'e', 'e', 'o', 'r', 'r', 's', 'u', 'w']"
      ]
     },
     "execution_count": 94,
     "metadata": {},
     "output_type": "execute_result"
    }
   ],
   "source": [
    "#lexicographic order\n",
    "\n",
    "def lexicographic(x):\n",
    "    return sorted(sorted(x))\n",
    "lexicographic('w3resource')"
   ]
  },
  {
   "cell_type": "code",
   "execution_count": 105,
   "metadata": {
    "scrolled": true
   },
   "outputs": [
    {
     "name": "stdout",
     "output_type": "stream",
     "text": [
      "Remove new line in the sentence \n",
      " test\n",
      "Remove new line in the sentence \n",
      " test\n",
      "Remove new line in the sentence\n",
      "Remove new line in the sentence \n",
      "\n"
     ]
    }
   ],
   "source": [
    "# Remove new line in python\n",
    "\n",
    "str = \"Remove new line in the sentence \\n\"\n",
    "str1 = \"test\"\n",
    "res = str.rstrip()\n",
    "print (str,str1)\n",
    "print (str,str1)\n",
    "print(str.rstrip())\n",
    "print(str)"
   ]
  },
  {
   "cell_type": "code",
   "execution_count": 111,
   "metadata": {},
   "outputs": [
    {
     "name": "stdout",
     "output_type": "stream",
     "text": [
      "Enter string: Srivatsava\n",
      "Enter specified character: @\n",
      "String doesn't start with specified character\n"
     ]
    }
   ],
   "source": [
    "#string starting with specified character\n",
    "\n",
    "a = input(\"Enter string: \")\n",
    "b = input(\"Enter specified character: \")\n",
    "\n",
    "if a[0]==b:\n",
    "    print(\"string starting with specified character\")\n",
    "else:\n",
    "    print(\"String doesn't start with specified character\")"
   ]
  },
  {
   "cell_type": "code",
   "execution_count": 171,
   "metadata": {},
   "outputs": [
    {
     "name": "stdout",
     "output_type": "stream",
     "text": [
      " qpgtyrqyty\n"
     ]
    }
   ],
   "source": [
    "#ceasar encryption\n",
    "\n",
    "def ceasar_encrypt(str,step):\n",
    "    lower_case = ['a','b','c','d','e','f','g','h','i','j','k','l','m','n','o','p','q','r','s','t','u','v','w','x','y','z']\n",
    "    upper_case = ['A','B','C','D','E','F','G','H','I','J','K','L','M','N','O','P','Q','R','S','T','U','V','W','X','Y','Z']\n",
    "    index = ' '\n",
    "    result = ' '\n",
    "    for i in str:\n",
    "        index = lower_case.index(i)\n",
    "        index = index+step\n",
    "        result +=lower_case[index]\n",
    "    print (result)\n",
    "    \n",
    "ceasar_encrypt('srivatsava',-2)\n"
   ]
  },
  {
   "cell_type": "code",
   "execution_count": 173,
   "metadata": {},
   "outputs": [
    {
     "name": "stdout",
     "output_type": "stream",
     "text": [
      "Enter string: srivatsava is bi devloper and also srivatsava is data engineer\n",
      "Enter substring: srivatsava\n",
      "2\n"
     ]
    }
   ],
   "source": [
    "#count of occurence of substring in string\n",
    "\n",
    "a = input(\"Enter string: \")\n",
    "b = input(\"Enter substring: \")\n",
    "print(a.count(b))"
   ]
  },
  {
   "cell_type": "code",
   "execution_count": 175,
   "metadata": {},
   "outputs": [
    {
     "name": "stdout",
     "output_type": "stream",
     "text": [
      "Enter String: srivatsava\n",
      "avastavirs\n"
     ]
    }
   ],
   "source": [
    "# Reverse string\n",
    "\n",
    "a = input(\"Enter String: \")\n",
    "print(a[::-1])"
   ]
  },
  {
   "cell_type": "code",
   "execution_count": 182,
   "metadata": {},
   "outputs": [
    {
     "name": "stdout",
     "output_type": "stream",
     "text": [
      "enter String: srivatsava is bi developer\n",
      "['srivatsava', 'is', 'bi', 'developer']\n",
      "developer bi is srivatsava\n"
     ]
    }
   ],
   "source": [
    "# Reverse words in the string\n",
    "\n",
    "a = input(\"enter String: \").split()\n",
    "print(a)\n",
    "print(*a[::-1])\n"
   ]
  },
  {
   "cell_type": "code",
   "execution_count": 197,
   "metadata": {},
   "outputs": [
    {
     "name": "stdout",
     "output_type": "stream",
     "text": [
      " srvtsv\n"
     ]
    }
   ],
   "source": [
    "# strip set of characters from string\n",
    "\n",
    "\n",
    "def strip_char(string,char):\n",
    "    result = ' '\n",
    "    for i in string:\n",
    "        if i not in char:\n",
    "            result += i\n",
    "    print(result)\n",
    "strip_char('srivatsava', '[a,e,i,o,u]')\n",
    "        "
   ]
  },
  {
   "cell_type": "code",
   "execution_count": 203,
   "metadata": {},
   "outputs": [
    {
     "name": "stdout",
     "output_type": "stream",
     "text": [
      "Enter string: srivatsava\n",
      "s 2\n",
      "r 1\n",
      "i 1\n",
      "v 2\n",
      "a 3\n",
      "t 1\n",
      "Counter({'a': 3, 's': 2, 'v': 2, 'r': 1, 'i': 1, 't': 1})\n"
     ]
    }
   ],
   "source": [
    "# count of repeated characters in string\n",
    "import collections\n",
    "a = input(\"Enter string: \")\n",
    "sc = collections.Counter(a)\n",
    "for i in sc:\n",
    "    if sc[i]>=1:\n",
    "        print(i,sc[i])\n",
    "print (sc)"
   ]
  },
  {
   "cell_type": "code",
   "execution_count": 225,
   "metadata": {},
   "outputs": [
    {
     "name": "stdout",
     "output_type": "stream",
     "text": [
      "a 3\n",
      "s 2\n",
      "v 2\n",
      "r 1\n",
      "i 1\n",
      "t 1\n"
     ]
    }
   ],
   "source": [
    "d = {'a': 3, 's': 2, 'v': 2, 'r': 1, 'i': 1, 't': 1}\n",
    "\n",
    "for i in d:\n",
    "    print (i, d[i])\n",
    "\n"
   ]
  },
  {
   "cell_type": "code",
   "execution_count": 230,
   "metadata": {},
   "outputs": [
    {
     "name": "stdout",
     "output_type": "stream",
     "text": [
      "Enter String: srivatsava\n",
      "s 0\n",
      "r 1\n",
      "i 2\n",
      "v 3\n",
      "a 4\n",
      "t 5\n",
      "s 0\n",
      "a 4\n",
      "v 3\n",
      "a 4\n"
     ]
    }
   ],
   "source": [
    "# print index of character in a string\n",
    "\n",
    "a = input(\"Enter String: \")\n",
    "for i in a:\n",
    "    index = a.index(i)\n",
    "    print(i, index)"
   ]
  },
  {
   "cell_type": "code",
   "execution_count": 241,
   "metadata": {},
   "outputs": [
    {
     "name": "stdout",
     "output_type": "stream",
     "text": [
      "Enter String: srivatsava\n",
      "s 0\n",
      "r 1\n",
      "i 2\n",
      "v 3\n",
      "a 4\n",
      "t 5\n",
      "s 6\n",
      "a 7\n",
      "v 8\n",
      "a 9\n",
      "(0, 's')\n",
      "(1, 'r')\n",
      "(2, 'i')\n",
      "(3, 'v')\n",
      "(4, 'a')\n",
      "(5, 't')\n",
      "(6, 's')\n",
      "(7, 'a')\n",
      "(8, 'v')\n",
      "(9, 'a')\n"
     ]
    }
   ],
   "source": [
    "# print character and its index in a string\n",
    "\n",
    "a = input(\"Enter String: \")\n",
    "for i,j in enumerate(a):\n",
    "    print (j,i)\n",
    "for i in enumerate(a):\n",
    "    print (i)"
   ]
  },
  {
   "cell_type": "code",
   "execution_count": 259,
   "metadata": {},
   "outputs": [
    {
     "name": "stdout",
     "output_type": "stream",
     "text": [
      "Enter String: The quick brown fox jumps over the lazy cat\n",
      "All alphabets are there in string\n",
      "{'t', 'u', 'l', 'n', 'b', ' ', 'c', 'k', 'z', 'v', 'q', 'a', 'w', 'e', 's', 'x', 'y', 'm', 'o', 'h', 'T', 'f', 'r', 'j', 'p', 'i'}\n"
     ]
    }
   ],
   "source": [
    "# Check if all alphabets are there in the string\n",
    "import string\n",
    "alphabet = set(string.ascii_lowercase)\n",
    "string = input(\"Enter String: \")\n",
    "if len(alphabet) == len(set(string)):\n",
    "    print(\"All alphabets are there in string\")\n",
    "else:\n",
    "    print(\"Not all alphabets are there in string\")\n",
    "print(set(string))"
   ]
  },
  {
   "cell_type": "code",
   "execution_count": 265,
   "metadata": {},
   "outputs": [
    {
     "name": "stdout",
     "output_type": "stream",
     "text": [
      "Enter string: srivatsava is a BI developer\n",
      "['srivatsava', 'is', 'a', 'BI', 'developer']\n"
     ]
    }
   ],
   "source": [
    "# to convert string into list\n",
    "\n",
    "a = input(\"Enter string: \").split()\n",
    "print(a)"
   ]
  },
  {
   "cell_type": "code",
   "execution_count": 272,
   "metadata": {},
   "outputs": [
    {
     "name": "stdout",
     "output_type": "stream",
     "text": [
      "Enter string: srivatsava\n",
      "Enter number: 3\n",
      "SRIvatsava\n"
     ]
    }
   ],
   "source": [
    "a = input(\"Enter string: \")\n",
    "b = int(input(\"Enter number: \"))\n",
    "\n",
    "print(a[0:b].upper()+ a[b:])    "
   ]
  },
  {
   "cell_type": "code",
   "execution_count": 277,
   "metadata": {},
   "outputs": [
    {
     "name": "stdout",
     "output_type": "stream",
     "text": [
      "Enter Number:12.300,200\n",
      " 12,300,200\n"
     ]
    }
   ],
   "source": [
    "# swap . with ,\n",
    "a = input(\"Enter Number:\")\n",
    "res = ' '\n",
    "for i in a:\n",
    "    if i=='.':\n",
    "        i= ','\n",
    "        res+=i\n",
    "    elif i==',':\n",
    "        i=='.'\n",
    "        res+=i\n",
    "    else:\n",
    "        res+=i\n",
    "print (res)"
   ]
  },
  {
   "cell_type": "code",
   "execution_count": 282,
   "metadata": {},
   "outputs": [
    {
     "name": "stdout",
     "output_type": "stream",
     "text": [
      "Enter Amount: 12.300,200\n",
      "12,300.200\n"
     ]
    }
   ],
   "source": [
    "# swap . with ,\n",
    "\n",
    "a = input(\"Enter Amount: \")\n",
    "maketrans = a.maketrans\n",
    "res = a.translate(maketrans(',.','.,'))\n",
    "print(res)"
   ]
  },
  {
   "cell_type": "code",
   "execution_count": 290,
   "metadata": {},
   "outputs": [
    {
     "name": "stdout",
     "output_type": "stream",
     "text": [
      "Enter String: srivatsava\n",
      " iaaa\n",
      "4\n"
     ]
    }
   ],
   "source": [
    "# print vowels from string\n",
    "a = input(\"Enter String: \")\n",
    "v = ['a','e','i','o','u']\n",
    "result = ' '\n",
    "count = 0\n",
    "for i in a:\n",
    "    if i in v:\n",
    "        result +=i\n",
    "        count+=1\n",
    "print(result)\n",
    "print(count)"
   ]
  },
  {
   "cell_type": "code",
   "execution_count": 295,
   "metadata": {},
   "outputs": [
    {
     "name": "stdout",
     "output_type": "stream",
     "text": [
      "Enter String: srivatsava\n",
      "4\n",
      "['i', 'a', 'a', 'a']\n"
     ]
    }
   ],
   "source": [
    "# Print vowels from string\n",
    "a = input(\"Enter String: \")\n",
    "v = ['a','e','i','o','u']\n",
    "\n",
    "print(len([i for i in a if i in v]))\n",
    "print([i for i in a if i in v])"
   ]
  },
  {
   "cell_type": "code",
   "execution_count": 315,
   "metadata": {},
   "outputs": [
    {
     "data": {
      "text/plain": [
       "'d'"
      ]
     },
     "execution_count": 315,
     "metadata": {},
     "output_type": "execute_result"
    }
   ],
   "source": [
    "# Print first non repeating character\n",
    "\n",
    "def non_repeat_character(str):\n",
    "    for i in str:\n",
    "        if str.count(i) == 1:\n",
    "            return i\n",
    "non_repeat_character('abcabcabdg')"
   ]
  },
  {
   "cell_type": "code",
   "execution_count": 16,
   "metadata": {},
   "outputs": [
    {
     "data": {
      "text/plain": [
       "'SrivatsavaisaBIDeveloper'"
      ]
     },
     "execution_count": 16,
     "metadata": {},
     "output_type": "execute_result"
    }
   ],
   "source": [
    "# Remove Spaces\n",
    "def remove_space(a):\n",
    "    a = a.replace(' ','')\n",
    "    return a \n",
    "remove_space(\"Srivatsava is a BI Developer\")"
   ]
  },
  {
   "cell_type": "code",
   "execution_count": 48,
   "metadata": {},
   "outputs": [
    {
     "name": "stdout",
     "output_type": "stream",
     "text": [
      " PythoN ExerciseS PracticE SolutioN \n"
     ]
    }
   ],
   "source": [
    "# Convert first and last alaphebt of a word to upper case in a string\n",
    "str1 = \"python exercises practice solution\"\n",
    "a = str1.split()\n",
    "result = \" \"\n",
    "for i in a:\n",
    "    i = i[0].upper()+i[1:-1]+i[-1].upper()\n",
    "    result += i+\" \"\n",
    "print (result)"
   ]
  },
  {
   "cell_type": "code",
   "execution_count": 54,
   "metadata": {},
   "outputs": [
    {
     "data": {
      "text/plain": [
       "'srivat'"
      ]
     },
     "execution_count": 54,
     "metadata": {},
     "output_type": "execute_result"
    }
   ],
   "source": [
    "# Remove duplicate chracters of given string\n",
    "\n",
    "from collections import OrderedDict\n",
    "def remove_duplicates(str1):\n",
    "    return \"\".join(OrderedDict.fromkeys(str1))\n",
    "remove_duplicates('srivatsava')"
   ]
  },
  {
   "cell_type": "code",
   "execution_count": 60,
   "metadata": {},
   "outputs": [
    {
     "data": {
      "text/plain": [
       "9"
      ]
     },
     "execution_count": 60,
     "metadata": {},
     "output_type": "execute_result"
    }
   ],
   "source": [
    "def max_consecutive_0(str1):\n",
    "    return max(map(len,str1.split('1')))\n",
    "max_consecutive_0('11000001101010111000000000')"
   ]
  },
  {
   "cell_type": "code",
   "execution_count": 64,
   "metadata": {},
   "outputs": [
    {
     "name": "stdout",
     "output_type": "stream",
     "text": [
      "['', '', '00000', '', '0', '0', '0', '', '', '000000000']\n",
      "9\n"
     ]
    }
   ],
   "source": [
    "a = '11000001101010111000000000'\n",
    "a = a.split('1')\n",
    "print(a)\n",
    "print (len(max(a)))"
   ]
  },
  {
   "cell_type": "code",
   "execution_count": 78,
   "metadata": {},
   "outputs": [
    {
     "data": {
      "text/plain": [
       "'No common characters'"
      ]
     },
     "execution_count": 78,
     "metadata": {},
     "output_type": "execute_result"
    }
   ],
   "source": [
    "# Print common characters from two give strings\n",
    "\n",
    "def common_char(str1, str2):\n",
    "    res = ' '\n",
    "    str1 = sorted(set(str1))\n",
    "    str2 = sorted(set(str2))\n",
    "    for i in str1:\n",
    "        for j in str2:\n",
    "            if i == j:\n",
    "                res +=i\n",
    "    if res == \" \":\n",
    "        return \"No common characters\"\n",
    "    else:\n",
    "        return res\n",
    "\n",
    "common_char('harika','deest')\n",
    "    "
   ]
  },
  {
   "cell_type": "code",
   "execution_count": 88,
   "metadata": {},
   "outputs": [
    {
     "ename": "TypeError",
     "evalue": "'type' object is not subscriptable",
     "output_type": "error",
     "traceback": [
      "\u001b[1;31m---------------------------------------------------------------------------\u001b[0m",
      "\u001b[1;31mTypeError\u001b[0m                                 Traceback (most recent call last)",
      "\u001b[1;32m<ipython-input-88-5b79fd31573c>\u001b[0m in \u001b[0;36m<module>\u001b[1;34m\u001b[0m\n\u001b[0;32m      3\u001b[0m \u001b[0mres\u001b[0m \u001b[1;33m=\u001b[0m \u001b[1;34m\" \"\u001b[0m\u001b[1;33m\u001b[0m\u001b[1;33m\u001b[0m\u001b[0m\n\u001b[0;32m      4\u001b[0m \u001b[1;32mfor\u001b[0m \u001b[0mi\u001b[0m \u001b[1;32min\u001b[0m \u001b[0mrange\u001b[0m\u001b[1;33m(\u001b[0m\u001b[1;36m1\u001b[0m\u001b[1;33m,\u001b[0m\u001b[0mlen\u001b[0m\u001b[1;33m(\u001b[0m\u001b[0mstr1\u001b[0m\u001b[1;33m)\u001b[0m\u001b[1;33m)\u001b[0m\u001b[1;33m:\u001b[0m\u001b[1;33m\u001b[0m\u001b[1;33m\u001b[0m\u001b[0m\n\u001b[1;32m----> 5\u001b[1;33m     \u001b[1;32mif\u001b[0m \u001b[0mstr1\u001b[0m\u001b[1;33m[\u001b[0m\u001b[0mi\u001b[0m\u001b[1;33m]\u001b[0m\u001b[1;33m==\u001b[0m\u001b[0mstr\u001b[0m\u001b[1;33m[\u001b[0m\u001b[0mi\u001b[0m\u001b[1;33m-\u001b[0m\u001b[1;36m1\u001b[0m\u001b[1;33m]\u001b[0m\u001b[1;33m:\u001b[0m\u001b[1;33m\u001b[0m\u001b[1;33m\u001b[0m\u001b[0m\n\u001b[0m\u001b[0;32m      6\u001b[0m         \u001b[0mres\u001b[0m \u001b[1;33m+=\u001b[0m \u001b[0mi\u001b[0m\u001b[1;33m\u001b[0m\u001b[1;33m\u001b[0m\u001b[0m\n\u001b[0;32m      7\u001b[0m     \u001b[1;32melse\u001b[0m\u001b[1;33m:\u001b[0m\u001b[1;33m\u001b[0m\u001b[1;33m\u001b[0m\u001b[0m\n",
      "\u001b[1;31mTypeError\u001b[0m: 'type' object is not subscriptable"
     ]
    }
   ],
   "source": [
    "str1 = 'srivattsava'\n",
    "\n",
    "res = \" \"\n",
    "for i in range(1,len(str1)):\n",
    "    if str1[i]==str[i-1]:\n",
    "        res += i\n",
    "    else:\n",
    "        continue\n",
    "print(str1.replace(m,\"\"))"
   ]
  },
  {
   "cell_type": "code",
   "execution_count": 14,
   "metadata": {},
   "outputs": [
    {
     "name": "stdout",
     "output_type": "stream",
     "text": [
      "Match(a=2, b=0, size=4)\n",
      "2\n",
      "sriv\n"
     ]
    }
   ],
   "source": [
    "# longest common substring from two differnet strings\n",
    "\n",
    "from difflib import SequenceMatcher\n",
    "\n",
    "def longsubstring(s1, s2):\n",
    "    seq_match = SequenceMatcher(None,s1,s2)\n",
    "    match = seq_match.find_longest_match(0,len(s1),0,len(s2))\n",
    "    print(match)\n",
    "    print(match.a)\n",
    "    print(s1[match.a: match.a + match.size])\n",
    "longsubstring('hasrivka','srivatsava')\n",
    "    "
   ]
  },
  {
   "cell_type": "code",
   "execution_count": 16,
   "metadata": {},
   "outputs": [
    {
     "data": {
      "text/plain": [
       "(2, 8, 3, 1)"
      ]
     },
     "execution_count": 16,
     "metadata": {},
     "output_type": "execute_result"
    }
   ],
   "source": [
    "# Print number of specail characters & Upper & lower & digits\n",
    "\n",
    "def count_char(str1):\n",
    "    upper,lower,number,special = 0,0,0,0\n",
    "    for i in range(len(str1)):\n",
    "        if str1[i]>='A' and str1[i]<='Z':\n",
    "            upper+=1\n",
    "        elif str1[i]>='a' and str1[i]<='z':\n",
    "            lower +=1\n",
    "        elif str1[i] >='0' and str1[i]<='9':\n",
    "            number+=1\n",
    "        else:\n",
    "            special +=1\n",
    "    return upper,lower,number,special\n",
    "\n",
    "count_char('SRivatsava@143')\n",
    "            \n",
    "        "
   ]
  },
  {
   "cell_type": "code",
   "execution_count": 1,
   "metadata": {},
   "outputs": [
    {
     "name": "stdout",
     "output_type": "stream",
     "text": [
      "['srivatsava', 'is', 'a', 'BI', 'developer']\n",
      "srivatsava\n",
      "10\n",
      "1\n"
     ]
    },
    {
     "ename": "TypeError",
     "evalue": "object of type 'int' has no len()",
     "output_type": "error",
     "traceback": [
      "\u001b[1;31m---------------------------------------------------------------------------\u001b[0m",
      "\u001b[1;31mTypeError\u001b[0m                                 Traceback (most recent call last)",
      "\u001b[1;32m<ipython-input-1-924de2b77ecc>\u001b[0m in \u001b[0;36m<module>\u001b[1;34m\u001b[0m\n\u001b[0;32m     13\u001b[0m \u001b[1;33m\u001b[0m\u001b[0m\n\u001b[0;32m     14\u001b[0m \u001b[1;32mfor\u001b[0m \u001b[0mi\u001b[0m \u001b[1;32min\u001b[0m \u001b[0mrange\u001b[0m\u001b[1;33m(\u001b[0m\u001b[1;36m0\u001b[0m\u001b[1;33m,\u001b[0m\u001b[0mlen\u001b[0m\u001b[1;33m(\u001b[0m\u001b[0mres\u001b[0m\u001b[1;33m)\u001b[0m\u001b[1;33m)\u001b[0m\u001b[1;33m:\u001b[0m\u001b[1;33m\u001b[0m\u001b[1;33m\u001b[0m\u001b[0m\n\u001b[1;32m---> 15\u001b[1;33m     \u001b[1;32mif\u001b[0m \u001b[1;33m(\u001b[0m\u001b[0mlen\u001b[0m\u001b[1;33m(\u001b[0m\u001b[0mres\u001b[0m\u001b[1;33m[\u001b[0m\u001b[0mi\u001b[0m\u001b[1;33m]\u001b[0m\u001b[1;33m)\u001b[0m\u001b[1;33m)\u001b[0m\u001b[1;33m>\u001b[0m\u001b[1;33m(\u001b[0m\u001b[0mlen\u001b[0m\u001b[1;33m(\u001b[0m\u001b[0mmax\u001b[0m\u001b[1;33m)\u001b[0m\u001b[1;33m)\u001b[0m\u001b[1;33m:\u001b[0m\u001b[1;33m\u001b[0m\u001b[1;33m\u001b[0m\u001b[0m\n\u001b[0m\u001b[0;32m     16\u001b[0m         \u001b[0mmax\u001b[0m \u001b[1;33m=\u001b[0m \u001b[0mi\u001b[0m\u001b[1;33m\u001b[0m\u001b[1;33m\u001b[0m\u001b[0m\n",
      "\u001b[1;31mTypeError\u001b[0m: object of type 'int' has no len()"
     ]
    }
   ],
   "source": [
    "# longest and smallest character of string\n",
    "\n",
    "import collections\n",
    "\n",
    "str1 = 'srivatsava is a BI developer'\n",
    "res = list(str1.split())\n",
    "max = ' '\n",
    "min = ' '\n",
    "print(res)\n",
    "print(res[0])\n",
    "print(len(res[0]))\n",
    "print(len(max))\n",
    "\n",
    "for i in range(0,len(res)):\n",
    "    if (len(res[i]))>(len(max)):\n",
    "        max = i\n"
   ]
  },
  {
   "cell_type": "code",
   "execution_count": 7,
   "metadata": {},
   "outputs": [
    {
     "name": "stdout",
     "output_type": "stream",
     "text": [
      "[(2, 1), (1, 2), (2, 3), (4, 4), (2, 5)]\n",
      "[(1, 2), (2, 5), (2, 3), (2, 1), (4, 4)]\n"
     ]
    }
   ],
   "source": [
    "# sort list in the order by last & first element in tuple\n",
    "\n",
    "def last(n):\n",
    "    return n[-1]\n",
    "def first(n):\n",
    "    return n[0]\n",
    "def sort_list_last(tuple):\n",
    "    return sorted(tuple, key=last)\n",
    "print(sort_list_last([(2, 5), (1, 2), (4, 4), (2, 3), (2, 1)]))\n",
    "def sort_list_first(tuple):\n",
    "    return sorted(tuple, key=first)\n",
    "print(sort_list_first([(2, 5), (1, 2), (4, 4), (2, 3), (2, 1)]))"
   ]
  },
  {
   "cell_type": "code",
   "execution_count": 10,
   "metadata": {},
   "outputs": [
    {
     "name": "stdout",
     "output_type": "stream",
     "text": [
      "['5', '9', '2', '4', '7']\n"
     ]
    }
   ],
   "source": [
    "# Remove duplicates from list\n",
    "\n",
    "a = ['4','7','2','9','7','5','7','2']\n",
    "print(list(set(a)))"
   ]
  },
  {
   "cell_type": "code",
   "execution_count": 26,
   "metadata": {},
   "outputs": [
    {
     "name": "stdout",
     "output_type": "stream",
     "text": [
      "['vatsav', 'jhon', 'david', 'amanda', 'casey', 'nichole', 'aira']\n"
     ]
    }
   ],
   "source": [
    "# list of words that are longer than n\n",
    "\n",
    "a = ['sri', 'vatsav', 'jhon', 'david','amanda','casey','nichole','air']\n",
    "b = []\n",
    "for i in a:\n",
    "    if len(i) > 3:\n",
    "        b.append(i)\n",
    "print(b)"
   ]
  },
  {
   "cell_type": "code",
   "execution_count": 31,
   "metadata": {},
   "outputs": [
    {
     "name": "stdout",
     "output_type": "stream",
     "text": [
      "['Green', 'White', 'Black', 'Pink', 'orange']\n"
     ]
    }
   ],
   "source": [
    "# Remove 0,4,5 elements from the list\n",
    "# issue occurs with sequence of list when 0 removed first then indexing changes and 5 becomes 4\n",
    "a = ['Red', 'Green', 'White', 'Black', 'Pink', 'Yellow','orange']\n",
    "a.pop(0)\n",
    "a.pop(4)\n",
    "print(a)"
   ]
  },
  {
   "cell_type": "code",
   "execution_count": 36,
   "metadata": {},
   "outputs": [
    {
     "name": "stdout",
     "output_type": "stream",
     "text": [
      "[(0, 'Red'), (1, 'Green'), (2, 'White'), (3, 'Black'), (4, 'Pink'), (5, 'Yellow'), (6, 'orange')]\n",
      "['Green', 'White', 'Black', 'orange']\n"
     ]
    }
   ],
   "source": [
    "# Remove 0,4,5 elements from the list\n",
    "\n",
    "a = ['Red', 'Green', 'White', 'Black', 'Pink', 'Yellow','orange']\n",
    "b = list(enumerate(a))\n",
    "c = [x for (i,x) in enumerate(a) if i not in (0,4,5)]\n",
    "print (b)\n",
    "print(c)\n"
   ]
  },
  {
   "cell_type": "code",
   "execution_count": 51,
   "metadata": {},
   "outputs": [
    {
     "name": "stdout",
     "output_type": "stream",
     "text": [
      "['Yellow', 'Pink', 'Black', 'White', 'Red', 'Green', 'orange']\n"
     ]
    }
   ],
   "source": [
    "# shuffle elements from list\n",
    "\n",
    "from random import shuffle\n",
    "\n",
    "a = ['Red', 'Green', 'White', 'Black', 'Pink', 'Yellow','orange']\n",
    "shuffle(a)\n",
    "print(a)\n"
   ]
  },
  {
   "cell_type": "code",
   "execution_count": 56,
   "metadata": {},
   "outputs": [
    {
     "name": "stdout",
     "output_type": "stream",
     "text": [
      "[(1, 2, 3, 4), (1, 2, 4, 3), (1, 3, 2, 4), (1, 3, 4, 2), (1, 4, 2, 3), (1, 4, 3, 2), (2, 1, 3, 4), (2, 1, 4, 3), (2, 3, 1, 4), (2, 3, 4, 1), (2, 4, 1, 3), (2, 4, 3, 1), (3, 1, 2, 4), (3, 1, 4, 2), (3, 2, 1, 4), (3, 2, 4, 1), (3, 4, 1, 2), (3, 4, 2, 1), (4, 1, 2, 3), (4, 1, 3, 2), (4, 2, 1, 3), (4, 2, 3, 1), (4, 3, 1, 2), (4, 3, 2, 1)]\n"
     ]
    }
   ],
   "source": [
    "# possible permutaions of elements in the list\n",
    "\n",
    "import itertools\n",
    "print(list(itertools.permutations([1,2,3,4])))"
   ]
  },
  {
   "cell_type": "code",
   "execution_count": 57,
   "metadata": {},
   "outputs": [
    {
     "name": "stdout",
     "output_type": "stream",
     "text": [
      "0 5\n",
      "1 15\n",
      "2 35\n",
      "3 8\n",
      "4 98\n"
     ]
    }
   ],
   "source": [
    "# get indexes from a list\n",
    "a = [5, 15, 35, 8, 98]\n",
    "for i,x in enumerate(a):\n",
    "    print (i,x)"
   ]
  },
  {
   "cell_type": "code",
   "execution_count": 60,
   "metadata": {},
   "outputs": [
    {
     "name": "stdout",
     "output_type": "stream",
     "text": [
      "python\n"
     ]
    }
   ],
   "source": [
    "#string from characters in list\n",
    "\n",
    "a = ['p','y','t','h','o','n']\n",
    "b = ''.join(a)\n",
    "print(b)"
   ]
  },
  {
   "cell_type": "code",
   "execution_count": 64,
   "metadata": {},
   "outputs": [
    {
     "name": "stdout",
     "output_type": "stream",
     "text": [
      "1\n"
     ]
    }
   ],
   "source": [
    "# Find index of a number\n",
    "a = [10, 30, 4, -6]\n",
    "print(a.index(30))\n"
   ]
  },
  {
   "cell_type": "code",
   "execution_count": 67,
   "metadata": {},
   "outputs": [
    {
     "name": "stdout",
     "output_type": "stream",
     "text": [
      "[2, 4, 3, 1, 5, 6, 9, 7, 9, 0]\n"
     ]
    }
   ],
   "source": [
    "# Flatten elements in the shallow list\n",
    "\n",
    "import itertools\n",
    "\n",
    "a = [[2,4,3],[1,5,6], [9], [7,9,0]]\n",
    "print(list(itertools.chain(*a)))"
   ]
  },
  {
   "cell_type": "code",
   "execution_count": 69,
   "metadata": {},
   "outputs": [
    {
     "name": "stdout",
     "output_type": "stream",
     "text": [
      "[1, 2, 3, 0, 'Red', 'Green', 'Black']\n"
     ]
    }
   ],
   "source": [
    "# Append list1 to list2\n",
    "\n",
    "list1 = [1, 2, 3, 0]\n",
    "list2 = ['Red', 'Green', 'Black']\n",
    "print(list1 + list2)"
   ]
  },
  {
   "cell_type": "code",
   "execution_count": 92,
   "metadata": {},
   "outputs": [
    {
     "name": "stdout",
     "output_type": "stream",
     "text": [
      "Green\n"
     ]
    }
   ],
   "source": [
    "import random\n",
    "\n",
    "a = ['Red', 'Green', 'White', 'Black', 'Pink', 'Yellow','orange']\n",
    "print(random.choice(a))\n",
    "random."
   ]
  },
  {
   "cell_type": "code",
   "execution_count": 97,
   "metadata": {},
   "outputs": [
    {
     "name": "stdout",
     "output_type": "stream",
     "text": [
      "[0, 1, 2, 3, 4, 5, 6, 7, 9]\n",
      "1\n",
      "7\n"
     ]
    }
   ],
   "source": [
    "# Second smallest & largest in the list\n",
    "a = [2, 4, 3, 1, 5, 6, 9, 7, 9, 0]\n",
    "b = list(set(sorted(a)))\n",
    "print (b)\n",
    "print(b[1])\n",
    "print(b[-2])"
   ]
  },
  {
   "cell_type": "code",
   "execution_count": 99,
   "metadata": {},
   "outputs": [
    {
     "name": "stdout",
     "output_type": "stream",
     "text": [
      "[0, 1, 2, 3, 4, 5, 6, 7, 9]\n"
     ]
    }
   ],
   "source": [
    "# unique values from list\n",
    "a = [2, 4, 3, 1, 5, 6, 9, 7, 9, 0]\n",
    "print(list(set(a)))"
   ]
  },
  {
   "cell_type": "code",
   "execution_count": 101,
   "metadata": {},
   "outputs": [
    {
     "name": "stdout",
     "output_type": "stream",
     "text": [
      "Counter({9: 2, 2: 1, 4: 1, 3: 1, 1: 1, 5: 1, 6: 1, 7: 1, 0: 1})\n"
     ]
    }
   ],
   "source": [
    "# freequency of elements in the list\n",
    "import collections\n",
    "a = [2, 4, 3, 1, 5, 6, 9, 7, 9, 0]\n",
    "print(collections.Counter(a))"
   ]
  },
  {
   "cell_type": "code",
   "execution_count": 104,
   "metadata": {},
   "outputs": [
    {
     "name": "stdout",
     "output_type": "stream",
     "text": [
      "140721069274864\n",
      "2164560949464\n"
     ]
    }
   ],
   "source": [
    "# unique indentification of number or string\n",
    "\n",
    "a = 30\n",
    "print(id(a))\n",
    "b= 'sri'\n",
    "print(id(b))"
   ]
  },
  {
   "cell_type": "code",
   "execution_count": 108,
   "metadata": {},
   "outputs": [
    {
     "name": "stdout",
     "output_type": "stream",
     "text": [
      "[0, 2, 3, 4, 7, 9]\n"
     ]
    }
   ],
   "source": [
    "# common items from two lists\n",
    "\n",
    "a = [2, 4, 3, 1, 5, 6, 9, 7, 9, 0]\n",
    "b = [2, 4, 3, 7, 9, 0]\n",
    "print(list(set(a)&set(b)))"
   ]
  },
  {
   "cell_type": "code",
   "execution_count": 116,
   "metadata": {},
   "outputs": [
    {
     "name": "stdout",
     "output_type": "stream",
     "text": [
      "113350\n"
     ]
    }
   ],
   "source": [
    "# multiple integers into single interger\n",
    "\n",
    "a = [11, 33, 50]\n",
    "b = int(\"\".join(map(str,a)))\n",
    "print(b)"
   ]
  },
  {
   "cell_type": "code",
   "execution_count": 122,
   "metadata": {},
   "outputs": [
    {
     "name": "stdout",
     "output_type": "stream",
     "text": [
      "[[1, 2, 3, 4, 5], [6, 7, 8, 9, 10], [11, 12, 13, 14, 15], [16, 17, 18, 19, 20], [21, 22, 23, 24, 25], [26, 27, 28, 29, 30], [31, 32, 33, 34, 35], [36, 37, 38, 39, 40], [41, 42, 43, 44, 45], [46, 47, 48, 49, 50]]\n"
     ]
    }
   ],
   "source": [
    "# consecutive 5 numbers as one element in list\n",
    "l = [[5*i + j for j in range(1,6)] for i in range(10)]\n",
    "print(l)"
   ]
  },
  {
   "cell_type": "code",
   "execution_count": 128,
   "metadata": {},
   "outputs": [
    {
     "name": "stdout",
     "output_type": "stream",
     "text": [
      "[[1, 2, 3, 4, 5], [6, 7, 8, 9, 10], [11, 12, 13, 14, 15], [16, 17, 18, 19, 20], [21, 22, 23, 24, 25]]\n"
     ]
    }
   ],
   "source": [
    "l = [ [5*i+j for j in range(1,6)] for i in range(5)]\n",
    "print(l)"
   ]
  },
  {
   "cell_type": "code",
   "execution_count": 133,
   "metadata": {},
   "outputs": [
    {
     "name": "stdout",
     "output_type": "stream",
     "text": [
      "[{'#000000', 'Black'}, {'#FF0000', 'Red'}, {'Maroon', '#800000'}, {'Yellow', '#FFFF00'}]\n"
     ]
    }
   ],
   "source": [
    "#convert list to dictonaries\n",
    "color_name = [\"Black\", \"Red\", \"Maroon\", \"Yellow\"]\n",
    "color_code = [\"#000000\", \"#FF0000\", \"#800000\", \"#FFFF00\"]\n",
    "\n",
    "print([{f,c} for f ,c in zip(color_name,color_code)])"
   ]
  },
  {
   "cell_type": "code",
   "execution_count": 135,
   "metadata": {},
   "outputs": [
    {
     "name": "stdout",
     "output_type": "stream",
     "text": [
      "['srivatsava', 'is', 'BI', 'developer']\n"
     ]
    }
   ],
   "source": [
    "# Convert string to list\n",
    "\n",
    "a = \" srivatsava is BI developer\"\n",
    "b = list(a.split())\n",
    "print(b)"
   ]
  },
  {
   "cell_type": "code",
   "execution_count": 144,
   "metadata": {},
   "outputs": [
    {
     "name": "stdout",
     "output_type": "stream",
     "text": [
      "['srivatsava is a BI developer']\n"
     ]
    }
   ],
   "source": [
    "# convert string to list\n",
    "\n",
    "import ast\n",
    "a = \"['srivatsava is a BI developer']\"\n",
    "#a = \"['srivatsava', 'is', 'BI', 'developer']\"\n",
    "print(ast.literal_eval(a))"
   ]
  },
  {
   "cell_type": "code",
   "execution_count": 151,
   "metadata": {},
   "outputs": [
    {
     "ename": "TypeError",
     "evalue": "'str' object is not callable",
     "output_type": "error",
     "traceback": [
      "\u001b[1;31m---------------------------------------------------------------------------\u001b[0m",
      "\u001b[1;31mTypeError\u001b[0m                                 Traceback (most recent call last)",
      "\u001b[1;32m<ipython-input-151-29b66b21bbed>\u001b[0m in \u001b[0;36m<module>\u001b[1;34m\u001b[0m\n\u001b[0;32m      2\u001b[0m \u001b[1;33m\u001b[0m\u001b[0m\n\u001b[0;32m      3\u001b[0m \u001b[0mx\u001b[0m \u001b[1;33m=\u001b[0m \u001b[1;33m[\u001b[0m\u001b[1;33m(\u001b[0m\u001b[1;36m4\u001b[0m\u001b[1;33m,\u001b[0m \u001b[1;36m1\u001b[0m\u001b[1;33m)\u001b[0m\u001b[1;33m,\u001b[0m \u001b[1;33m(\u001b[0m\u001b[1;36m1\u001b[0m\u001b[1;33m,\u001b[0m \u001b[1;36m2\u001b[0m\u001b[1;33m)\u001b[0m\u001b[1;33m,\u001b[0m \u001b[1;33m(\u001b[0m\u001b[1;36m6\u001b[0m\u001b[1;33m,\u001b[0m \u001b[1;36m0\u001b[0m\u001b[1;33m)\u001b[0m\u001b[1;33m]\u001b[0m\u001b[1;33m\u001b[0m\u001b[1;33m\u001b[0m\u001b[0m\n\u001b[1;32m----> 4\u001b[1;33m \u001b[0mprint\u001b[0m\u001b[1;33m(\u001b[0m\u001b[0mmin\u001b[0m\u001b[1;33m(\u001b[0m\u001b[0mx\u001b[0m\u001b[1;33m,\u001b[0m \u001b[0mkey\u001b[0m\u001b[1;33m=\u001b[0m\u001b[1;32mlambda\u001b[0m \u001b[0mn\u001b[0m\u001b[1;33m:\u001b[0m\u001b[0mn\u001b[0m\u001b[1;33m[\u001b[0m\u001b[1;36m1\u001b[0m\u001b[1;33m]\u001b[0m\u001b[1;33m)\u001b[0m\u001b[1;33m)\u001b[0m\u001b[1;33m\u001b[0m\u001b[1;33m\u001b[0m\u001b[0m\n\u001b[0m",
      "\u001b[1;31mTypeError\u001b[0m: 'str' object is not callable"
     ]
    }
   ],
   "source": [
    "# Smallest second index value from list of tuples\n",
    "\n",
    "x = [(4, 1), (1, 2), (6, 0)]\n",
    "print(min(x, key=lambda n:n[1]))"
   ]
  },
  {
   "cell_type": "code",
   "execution_count": 154,
   "metadata": {},
   "outputs": [
    {
     "name": "stdout",
     "output_type": "stream",
     "text": [
      "[{}, {}, {}, {}, {}]\n"
     ]
    }
   ],
   "source": [
    "# list of empty dictionaries\n",
    "\n",
    "n = 5\n",
    "print([{} for _ in range(n)])"
   ]
  },
  {
   "cell_type": "code",
   "execution_count": 159,
   "metadata": {},
   "outputs": [
    {
     "name": "stdout",
     "output_type": "stream",
     "text": [
      "1 2 3 4 5\n",
      "1 2 3 4 5\n"
     ]
    }
   ],
   "source": [
    "# space separated elements\n",
    "\n",
    "a = ['1','2','3','4','5']\n",
    "print(*a)\n",
    "b = '12345'\n",
    "print(*b)"
   ]
  },
  {
   "cell_type": "code",
   "execution_count": 161,
   "metadata": {},
   "outputs": [
    {
     "name": "stdout",
     "output_type": "stream",
     "text": [
      "1 black\n",
      "2 red\n",
      "3 yellow\n"
     ]
    }
   ],
   "source": [
    "# Iterate two lists simultaneously\n",
    "a = [1,2,3]\n",
    "b = [\"black\",\"red\",\"yellow\"]\n",
    "\n",
    "for (x,y) in zip(a,b):\n",
    "    print(x,y)"
   ]
  },
  {
   "cell_type": "code",
   "execution_count": 170,
   "metadata": {},
   "outputs": [
    {
     "name": "stdout",
     "output_type": "stream",
     "text": [
      "['physics', 'math', 'chemistry']\n"
     ]
    }
   ],
   "source": [
    "# Access dict key elements by index\n",
    "num = {'physics': 80, 'math': 90, 'chemistry': 86}\n",
    "print(list(num))"
   ]
  },
  {
   "cell_type": "code",
   "execution_count": 179,
   "metadata": {},
   "outputs": [
    {
     "name": "stdout",
     "output_type": "stream",
     "text": [
      "[1, 11, 12]\n"
     ]
    }
   ],
   "source": [
    "# maximum of sum of list in lists\n",
    "num = [[1,2,3], [4,5,1], [1,11,12], [0,8,9]]\n",
    "h = sorted(num, key=sum)\n",
    "print(h[-1])"
   ]
  },
  {
   "cell_type": "code",
   "execution_count": 181,
   "metadata": {},
   "outputs": [
    {
     "name": "stdout",
     "output_type": "stream",
     "text": [
      "Enter Number4\n",
      "['5']\n"
     ]
    }
   ],
   "source": [
    "# All values of list greater than specified number\n",
    "\n",
    "a = input(\"Enter Number\" )\n",
    "b = ['1','2','3','4','5']\n",
    "res = []\n",
    "for i in b:\n",
    "    if i >a:\n",
    "        res+=i\n",
    "print (res)"
   ]
  },
  {
   "cell_type": "code",
   "execution_count": 184,
   "metadata": {},
   "outputs": [
    {
     "name": "stdout",
     "output_type": "stream",
     "text": [
      "True\n",
      "False\n"
     ]
    }
   ],
   "source": [
    "my_list = [{},{},{}]\n",
    "my_list1 = [{1,2},{},{}]\n",
    "print(all(not d for d in my_list))\n",
    "print(all(not d for d in my_list1))"
   ]
  },
  {
   "cell_type": "code",
   "execution_count": 204,
   "metadata": {},
   "outputs": [
    {
     "name": "stdout",
     "output_type": "stream",
     "text": [
      "False\n"
     ]
    }
   ],
   "source": [
    "# check if dic is empty\n",
    "a = [1,2]\n",
    "print (all(not a for i in a))"
   ]
  },
  {
   "cell_type": "code",
   "execution_count": 217,
   "metadata": {},
   "outputs": [
    {
     "name": "stdout",
     "output_type": "stream",
     "text": [
      "Ascending order: \n",
      "{0: 0, 2: 1, 1: 2, 4: 3, 3: 4}\n",
      "Descending order: \n",
      "{3: 4, 4: 3, 1: 2, 2: 1, 0: 0}\n"
     ]
    }
   ],
   "source": [
    "# sort dictionaries by value ascending and descending\n",
    "import operator\n",
    "d = {1: 2, 3: 4, 4: 3, 2: 1, 0: 0}\n",
    "print(\"Ascending order: \")\n",
    "print(dict(sorted(d.items(), key = operator.itemgetter(1))))\n",
    "print(\"Descending order: \")\n",
    "print(dict(sorted(d.items(), key = operator.itemgetter(1),reverse = True)))"
   ]
  },
  {
   "cell_type": "code",
   "execution_count": 220,
   "metadata": {},
   "outputs": [
    {
     "name": "stdout",
     "output_type": "stream",
     "text": [
      "{0: 10, 1: 20, 2: 30}\n"
     ]
    }
   ],
   "source": [
    "# Add key to the dictionary\n",
    "d = {0:10, 1:20}\n",
    "d.update({2:30})\n",
    "print (d)"
   ]
  },
  {
   "cell_type": "code",
   "execution_count": 222,
   "metadata": {},
   "outputs": [
    {
     "name": "stdout",
     "output_type": "stream",
     "text": [
      "{1: 10, 2: 20, 3: 30, 4: 40, 5: 50, 6: 60}\n"
     ]
    }
   ],
   "source": [
    "# Add dictionaries \n",
    "dic1={1:10, 2:20}\n",
    "dic2={3:30, 4:40}\n",
    "dic3={5:50,6:60}\n",
    "dic4={**dic1,**dic2,**dic3}\n",
    "print(dic4)"
   ]
  },
  {
   "cell_type": "code",
   "execution_count": 228,
   "metadata": {},
   "outputs": [
    {
     "name": "stdout",
     "output_type": "stream",
     "text": [
      "Key exists\n"
     ]
    }
   ],
   "source": [
    "# key in dictionary exist\n",
    "d = {1: 2, 3: 4, 5: 3, 2: 5, 0: 0}\n",
    "def dict_key(k):\n",
    "    if k in d:\n",
    "        print(\"Key exists\")\n",
    "    else:\n",
    "        print(\"key Doens't exist\")\n",
    "dict_key(5)"
   ]
  },
  {
   "cell_type": "code",
   "execution_count": 237,
   "metadata": {},
   "outputs": [
    {
     "name": "stdout",
     "output_type": "stream",
     "text": [
      "1 -> 2\n",
      "3 -> 4\n",
      "5 -> 3\n",
      "2 -> 5\n",
      "0 -> 0\n"
     ]
    }
   ],
   "source": [
    "# loop over the dictionary\n",
    "\n",
    "d = {1: 2, 3: 4, 5: 3, 2: 5, 0: 0}\n",
    "for (k,v) in d.items():\n",
    "    print (k ,\"->\", v)\n"
   ]
  },
  {
   "cell_type": "code",
   "execution_count": 247,
   "metadata": {},
   "outputs": [
    {
     "name": "stdout",
     "output_type": "stream",
     "text": [
      "{1: 1, 2: 4, 3: 9, 4: 16, 5: 25, 6: 36, 7: 49, 8: 64, 9: 81, 10: 100}\n"
     ]
    }
   ],
   "source": [
    "# gt dict of pattern x:x*x\n",
    "d = {1: 1, 2: 4, 3: 9, 4: 16, 5: 25, 6: 36, 7: 49, 8: 64, 9: 81, 10: 100}\n",
    "e = {}\n",
    "for i in range(1,11):\n",
    "    e[i]=i*i\n",
    "print(e)"
   ]
  },
  {
   "cell_type": "code",
   "execution_count": 254,
   "metadata": {},
   "outputs": [
    {
     "name": "stdout",
     "output_type": "stream",
     "text": [
      "dict_items([(1, 1), (2, 4), (3, 9), (4, 16), (5, 25), (6, 36), (7, 49), (8, 64), (9, 81), (10, 100)])\n",
      "55\n",
      "385\n"
     ]
    }
   ],
   "source": [
    "#sum of dict values\n",
    "d = {1: 1, 2: 4, 3: 9, 4: 16, 5: 25, 6: 36, 7: 49, 8: 64, 9: 81, 10: 100}\n",
    "print(d.items())\n",
    "print(sum(d.keys()))\n",
    "print(sum(d.values()))"
   ]
  },
  {
   "cell_type": "code",
   "execution_count": 256,
   "metadata": {},
   "outputs": [
    {
     "name": "stdout",
     "output_type": "stream",
     "text": [
      "{2: 4, 3: 9, 4: 16, 5: 25, 6: 36, 7: 49, 8: 64, 9: 81, 10: 100}\n"
     ]
    }
   ],
   "source": [
    "#delete key from dict\n",
    "d = {1: 1, 2: 4, 3: 9, 4: 16, 5: 25, 6: 36, 7: 49, 8: 64, 9: 81, 10: 100}\n",
    "del d[1]\n",
    "print(d)"
   ]
  },
  {
   "cell_type": "code",
   "execution_count": 258,
   "metadata": {},
   "outputs": [
    {
     "name": "stdout",
     "output_type": "stream",
     "text": [
      "{1: 'sri', 2: 'vatsav', 3: 'casey', 4: 'amanda', 5: 'nicole'}\n"
     ]
    }
   ],
   "source": [
    "# Map two lists into dict\n",
    "a = [1,2,3,4,5]\n",
    "b = ['sri','vatsav','casey','amanda','nicole']\n",
    "print(dict(zip(a,b)))"
   ]
  },
  {
   "cell_type": "code",
   "execution_count": 265,
   "metadata": {},
   "outputs": [
    {
     "name": "stdout",
     "output_type": "stream",
     "text": [
      "1 : sri\n",
      "2 : vatsav\n",
      "3 : casey\n",
      "4 : amanda\n",
      "5 : nicole\n"
     ]
    }
   ],
   "source": [
    "#sort dict\n",
    "d = {1: 'sri', 2: 'vatsav', 3: 'casey', 4: 'amanda', 5: 'nicole'}\n",
    "for key in sorted(d):\n",
    "    print(\"%s : %s\"%(key, d[key]))"
   ]
  },
  {
   "cell_type": "code",
   "execution_count": 269,
   "metadata": {},
   "outputs": [
    {
     "name": "stdout",
     "output_type": "stream",
     "text": [
      "{1: 'sri', 2: 'vatsav', 3: 'casey', 4: 'amanda', 5: 'nicole'}\n"
     ]
    }
   ],
   "source": [
    "# Sort dict\n",
    "d = {1: 'sri', 2: 'vatsav', 3: 'casey', 5: 'nicole', 4: 'amanda'}\n",
    "res = {}\n",
    "for key in sorted(d):\n",
    "    res[key] = d[key]\n",
    "print(res)"
   ]
  },
  {
   "cell_type": "code",
   "execution_count": 273,
   "metadata": {
    "scrolled": true
   },
   "outputs": [
    {
     "name": "stdout",
     "output_type": "stream",
     "text": [
      "['amanda', 'casey', 'nicole', 'sri', 'vatsav']\n",
      "Maximum value is:  vatsav\n",
      "Minimum value is:  amanda\n"
     ]
    }
   ],
   "source": [
    "# max and min of dict\n",
    "\n",
    "d = {1: 'sri', 2: 'vatsav', 3: 'casey', 5: 'nicole', 4: 'amanda'}\n",
    "res = sorted(d.values())\n",
    "print(res)\n",
    "print(\"Maximum value is: \", res[-1])\n",
    "print(\"Minimum value is: \",res[0])"
   ]
  },
  {
   "cell_type": "code",
   "execution_count": 284,
   "metadata": {},
   "outputs": [
    {
     "name": "stdout",
     "output_type": "stream",
     "text": [
      "dict_keys(['zebra', 'goat', 'horse', 'frog', 'dog'])\n",
      "{'zebra': 11, 'goat': 12, 'horse': 41, 'frog': 24, 'dog': 4}\n"
     ]
    }
   ],
   "source": [
    "#Remove dups from dict\n",
    "dic = {'zebra':11, 'goat': 12, 'horse': 41, 'frog': 24, 'goat': 12, 'horse': 41, 'frog': 24, 'dog': 4}\n",
    "k = dic.keys()\n",
    "v = dic.values()\n",
    "print(k)\n",
    "print(dict(zip(k,v)))\n"
   ]
  },
  {
   "cell_type": "code",
   "execution_count": 287,
   "metadata": {},
   "outputs": [
    {
     "name": "stdout",
     "output_type": "stream",
     "text": [
      "False\n"
     ]
    }
   ],
   "source": [
    "# check if dict is empty\n",
    "dic = {'zebra':11, 'goat': 12, 'horse': 41, 'frog': 24, 'goat': 12, 'horse': 41, 'frog': 24}\n",
    "print(all(not dic for i in dic))"
   ]
  },
  {
   "cell_type": "code",
   "execution_count": 293,
   "metadata": {},
   "outputs": [
    {
     "name": "stdout",
     "output_type": "stream",
     "text": [
      "False\n"
     ]
    }
   ],
   "source": [
    "a = {'a':1}\n",
    "print (all(not a for i in a))"
   ]
  },
  {
   "cell_type": "code",
   "execution_count": 298,
   "metadata": {},
   "outputs": [
    {
     "name": "stdout",
     "output_type": "stream",
     "text": [
      "list is not empty\n"
     ]
    }
   ],
   "source": [
    "a = {'a':1}\n",
    "if not bool(a):\n",
    "    print(\"list is empty\")\n",
    "else:\n",
    "    print(\"list is not empty\")"
   ]
  },
  {
   "cell_type": "code",
   "execution_count": 301,
   "metadata": {},
   "outputs": [
    {
     "name": "stdout",
     "output_type": "stream",
     "text": [
      "False\n"
     ]
    }
   ],
   "source": [
    "a = {'a':1}\n",
    "print(bool(a))"
   ]
  },
  {
   "cell_type": "code",
   "execution_count": 311,
   "metadata": {},
   "outputs": [
    {
     "name": "stdout",
     "output_type": "stream",
     "text": [
      "Counter({'a': 400, 'b': 400, 'd': 400, 'c': 300})\n"
     ]
    }
   ],
   "source": [
    "# Add values from same keys in dict\n",
    "\n",
    "from collections import Counter\n",
    "d1 = {'a': 100, 'b': 200, 'c':300}\n",
    "d2 = {'a': 300, 'b': 200, 'd':400}\n",
    "print(Counter (d1) + Counter(d2))\n"
   ]
  },
  {
   "cell_type": "code",
   "execution_count": 321,
   "metadata": {},
   "outputs": [
    {
     "name": "stdout",
     "output_type": "stream",
     "text": [
      "{'S002', 'S007', 'S009', 'S005', 'S001'}\n"
     ]
    }
   ],
   "source": [
    "# get unique values from dictionary\n",
    "\n",
    "d = [{\"V\":\"S001\"}, {\"V\": \"S002\"}, {\"VI\": \"S001\"}, {\"VI\": \"S005\"}, {\"VII\":\"S005\"}, {\"V\":\"S009\"},{\"VIII\":\"S007\"}]\n",
    "res = set(val for dic in d for val in dic.values())\n",
    "print(res)\n"
   ]
  },
  {
   "cell_type": "code",
   "execution_count": 323,
   "metadata": {},
   "outputs": [
    {
     "name": "stdout",
     "output_type": "stream",
     "text": [
      "dict_values(['S009', 'S005', 'S005', 'S007'])\n"
     ]
    }
   ],
   "source": [
    "d = {\"V\":\"S001\",\"V\": \"S002\", \"VI\": \"S001\", \"VI\": \"S005\", \"VII\":\"S005\", \"V\":\"S009\",\"VIII\":\"S007\"}\n",
    "print(d.values())"
   ]
  },
  {
   "cell_type": "code",
   "execution_count": 337,
   "metadata": {},
   "outputs": [
    {
     "name": "stdout",
     "output_type": "stream",
     "text": [
      "Counter({'b': 5874, 'e': 5874, 'c': 560, 'a': 500, 'd': 400, 'f': 20})\n"
     ]
    }
   ],
   "source": [
    "# Highest 3 values in the dict\n",
    "\n",
    "d = {'a':500, 'b':5874, 'c': 560,'d':400, 'e':5874, 'f': 20}\n",
    "res = Counter(d)\n",
    "print (res)\n"
   ]
  },
  {
   "cell_type": "code",
   "execution_count": 351,
   "metadata": {},
   "outputs": [
    {
     "name": "stdout",
     "output_type": "stream",
     "text": [
      "Maximum three values:  5874 560 500\n"
     ]
    }
   ],
   "source": [
    "d = {'a':500, 'b':5874, 'c': 560,'d':400, 'e':5874, 'f': 20}\n",
    "res = sorted(set(d.values()))\n",
    "print(\"Maximum three values: \",res[-1], res[-2], res[-3] )"
   ]
  },
  {
   "cell_type": "code",
   "execution_count": 359,
   "metadata": {},
   "outputs": [
    {
     "name": "stdout",
     "output_type": "stream",
     "text": [
      "Counter({'a': 3, 's': 2, 'v': 2, 'r': 1, 'i': 1, 't': 1})\n",
      "Counter({'a': 3, 's': 2, 'v': 2, 'r': 1, 'i': 1, 't': 1})\n"
     ]
    }
   ],
   "source": [
    "# dict from string\n",
    "\n",
    "from collections import Counter\n",
    "a = \"srivatsava\"\n",
    "print(Counter(a))\n",
    "print(collections.Counter(a))"
   ]
  },
  {
   "cell_type": "code",
   "execution_count": 373,
   "metadata": {},
   "outputs": [
    {
     "name": "stdout",
     "output_type": "stream",
     "text": [
      "{'S001': ['Math', 'Science'], 'S002': ['Math', 'English']}\n"
     ]
    }
   ],
   "source": [
    "# Remove spaces in the dict keys\n",
    "d = {'S  001': ['Math', 'Science'], 'S    002': ['Math', 'English']}\n",
    "res = {x.translate({32:None}):y for x,y in d.items()}\n",
    "print (res)"
   ]
  },
  {
   "cell_type": "code",
   "execution_count": 379,
   "metadata": {},
   "outputs": [
    {
     "data": {
      "text/plain": [
       "5"
      ]
     },
     "execution_count": 379,
     "metadata": {},
     "output_type": "execute_result"
    }
   ],
   "source": [
    "# count number of items in dict values which are list\n",
    "\n",
    "dic =  {'Alex': ['subj1', 'subj2', 'subj3'], 'David': ['subj1', 'subj2']}\n",
    "sum(map(len, dic.values()))\n"
   ]
  },
  {
   "cell_type": "code",
   "execution_count": 382,
   "metadata": {},
   "outputs": [
    {
     "name": "stdout",
     "output_type": "stream",
     "text": [
      "{'Class-V': 1, 'Class-VI': 2, 'Class-VII': 2, 'Class-VIII': 3}\n"
     ]
    }
   ],
   "source": [
    "# dic from two lists without loosin dups\n",
    "\n",
    "a =  ['Class-V', 'Class-VI', 'Class-VII', 'Class-VIII']\n",
    "b = [1, 2, 2, 3]\n",
    "res =dict(zip(a,b))\n",
    "print(res)"
   ]
  },
  {
   "cell_type": "code",
   "execution_count": 387,
   "metadata": {},
   "outputs": [
    {
     "name": "stdout",
     "output_type": "stream",
     "text": [
      "key1:1\n",
      "key2:2\n"
     ]
    }
   ],
   "source": [
    "# key value present in both dicts\n",
    "x = {'key1': 1, 'key2': 2, 'key3': 2}\n",
    "y = {'key1': 1, 'key2': 2}\n",
    "\n",
    "for k,v in set(x.items()) & set(y.items()):\n",
    "    print('%s:%s'% (k,v))"
   ]
  },
  {
   "cell_type": "code",
   "execution_count": 390,
   "metadata": {},
   "outputs": [
    {
     "name": "stdout",
     "output_type": "stream",
     "text": [
      "5\n"
     ]
    }
   ],
   "source": [
    "# derive one item from tuple\n",
    "tuplex = 5, 10, 15, 20, 25\n",
    "print(tuplex[0])"
   ]
  },
  {
   "cell_type": "code",
   "execution_count": 393,
   "metadata": {},
   "outputs": [
    {
     "name": "stdout",
     "output_type": "stream",
     "text": [
      "5\n"
     ]
    }
   ],
   "source": [
    "#unpack tuple\n",
    "tuplex = 5, 10, 15, 20, 25\n",
    "a,b,c,d,e = tuplex\n",
    "print(a)"
   ]
  },
  {
   "cell_type": "code",
   "execution_count": 399,
   "metadata": {},
   "outputs": [
    {
     "name": "stdout",
     "output_type": "stream",
     "text": [
      "(5, 10, 15, 20, 25, 30, 40)\n"
     ]
    }
   ],
   "source": [
    "# add items to tuple\n",
    "\n",
    "tuplex = 5, 10, 15, 20, 25\n",
    "tuplex += 30,40\n",
    "print(tuplex)"
   ]
  },
  {
   "cell_type": "code",
   "execution_count": 404,
   "metadata": {},
   "outputs": [
    {
     "name": "stdout",
     "output_type": "stream",
     "text": [
      "sri\n"
     ]
    },
    {
     "data": {
      "text/plain": [
       "str"
      ]
     },
     "execution_count": 404,
     "metadata": {},
     "output_type": "execute_result"
    }
   ],
   "source": [
    "# tuple to string\n",
    "\n",
    "tuplex = 's', 'r', 'i'\n",
    "res = \"\".join(tuplex)\n",
    "print(res)\n",
    "type(res)"
   ]
  },
  {
   "cell_type": "code",
   "execution_count": 412,
   "metadata": {},
   "outputs": [
    {
     "name": "stdout",
     "output_type": "stream",
     "text": [
      "1\n"
     ]
    }
   ],
   "source": [
    "# count the occurrences in tuple\n",
    "\n",
    "tuplex = 2, 4, 5, 6, 2, 3, 4, 4, 7 \n",
    "print(tuplex.count(7))"
   ]
  },
  {
   "cell_type": "code",
   "execution_count": 418,
   "metadata": {},
   "outputs": [
    {
     "name": "stdout",
     "output_type": "stream",
     "text": [
      "False\n"
     ]
    }
   ],
   "source": [
    "# element exixt in tuple\n",
    "tuplex = (\"w\", 3, \"r\", \"e\", \"s\", \"o\", \"u\", \"r\", \"c\", \"e\")\n",
    "print(\"v\" in tuplex)\n"
   ]
  },
  {
   "cell_type": "code",
   "execution_count": 421,
   "metadata": {},
   "outputs": [
    {
     "name": "stdout",
     "output_type": "stream",
     "text": [
      "10\n"
     ]
    }
   ],
   "source": [
    "# length of tuple\n",
    "tuplex = (\"w\", 3, \"r\", \"e\", \"s\", \"o\", \"u\", \"r\", \"c\", \"e\")\n",
    "print(len(tuplex))"
   ]
  },
  {
   "cell_type": "code",
   "execution_count": 424,
   "metadata": {},
   "outputs": [
    {
     "name": "stdout",
     "output_type": "stream",
     "text": [
      "(7, 4, 4, 3, 2, 6, 5, 4, 2)\n"
     ]
    }
   ],
   "source": [
    "# reverse of tuple\n",
    "tuplex = 2, 4, 5, 6, 2, 3, 4, 4, 7\n",
    "res = reversed(tuplex)\n",
    "print(tuple(res))"
   ]
  },
  {
   "cell_type": "code",
   "execution_count": 427,
   "metadata": {},
   "outputs": [
    {
     "name": "stdout",
     "output_type": "stream",
     "text": [
      "set()\n",
      "{0, 1, 2, 3, 45}\n"
     ]
    }
   ],
   "source": [
    "a = set()\n",
    "print(a)\n",
    "b = set([0,1,2,3,45])\n",
    "print(b)"
   ]
  },
  {
   "cell_type": "code",
   "execution_count": 430,
   "metadata": {},
   "outputs": [
    {
     "name": "stdout",
     "output_type": "stream",
     "text": [
      "{'red'}\n",
      "set()\n"
     ]
    }
   ],
   "source": [
    "# add to set\n",
    "a= set()\n",
    "a.add(\"red\")\n",
    "print(a)\n",
    "a.remove(\"red\")\n",
    "print(a)"
   ]
  },
  {
   "cell_type": "code",
   "execution_count": 436,
   "metadata": {},
   "outputs": [
    {
     "name": "stdout",
     "output_type": "stream",
     "text": [
      "{1, 2, 3, 5}\n"
     ]
    }
   ],
   "source": [
    "# remove from set if its in the set\n",
    "\n",
    "a = set([1,2,3,4,5])\n",
    "n=4\n",
    "if n in a:\n",
    "#    a.remove(n)\n",
    "    a.discard(n)\n",
    "    \n",
    "print(a)"
   ]
  },
  {
   "cell_type": "code",
   "execution_count": 445,
   "metadata": {},
   "outputs": [
    {
     "name": "stdout",
     "output_type": "stream",
     "text": [
      "(2164575478744, 6)\n",
      "array('i', [1, 3, 5, 7, 8, 9])\n",
      "4\n"
     ]
    }
   ],
   "source": [
    "# buffer size, number of elements and memory location\n",
    "from array import *\n",
    "array_num = array('i', [1, 3, 5, 7,8, 9])\n",
    "print(array_num.buffer_info())\n",
    "print(array_num)\n",
    "print(array_num.itemsize)"
   ]
  },
  {
   "cell_type": "code",
   "execution_count": 448,
   "metadata": {},
   "outputs": [
    {
     "name": "stdout",
     "output_type": "stream",
     "text": [
      "1505\n",
      "1512\n",
      "1519\n",
      "1526\n",
      "1533\n",
      "1540\n",
      "1547\n",
      "1554\n",
      "1561\n",
      "1568\n",
      "1575\n",
      "1582\n",
      "1589\n",
      "1596\n",
      "1603\n",
      "1610\n",
      "1617\n",
      "1624\n",
      "1631\n",
      "1638\n",
      "1645\n",
      "1652\n",
      "1659\n",
      "1666\n",
      "1673\n",
      "1680\n",
      "1687\n",
      "1694\n",
      "1701\n",
      "1708\n",
      "1715\n",
      "1722\n",
      "1729\n",
      "1736\n",
      "1743\n",
      "1750\n",
      "1757\n",
      "1764\n",
      "1771\n",
      "1778\n",
      "1785\n",
      "1792\n",
      "1799\n",
      "1806\n",
      "1813\n",
      "1820\n",
      "1827\n",
      "1834\n",
      "1841\n",
      "1848\n",
      "1855\n",
      "1862\n",
      "1869\n",
      "1876\n",
      "1883\n",
      "1890\n",
      "1897\n",
      "1904\n",
      "1911\n",
      "1918\n",
      "1925\n",
      "1932\n",
      "1939\n",
      "1946\n",
      "1953\n",
      "1960\n",
      "1967\n",
      "1974\n",
      "1981\n",
      "1988\n",
      "1995\n",
      "2002\n",
      "2009\n",
      "2016\n",
      "2023\n",
      "2030\n",
      "2037\n",
      "2044\n",
      "2051\n",
      "2058\n",
      "2065\n",
      "2072\n",
      "2079\n",
      "2086\n",
      "2093\n",
      "2100\n",
      "2107\n",
      "2114\n",
      "2121\n",
      "2128\n",
      "2135\n",
      "2142\n",
      "2149\n",
      "2156\n",
      "2163\n",
      "2170\n",
      "2177\n",
      "2184\n",
      "2191\n",
      "2198\n",
      "2205\n",
      "2212\n",
      "2219\n",
      "2226\n",
      "2233\n",
      "2240\n",
      "2247\n",
      "2254\n",
      "2261\n",
      "2268\n",
      "2275\n",
      "2282\n",
      "2289\n",
      "2296\n",
      "2303\n",
      "2310\n",
      "2317\n",
      "2324\n",
      "2331\n",
      "2338\n",
      "2345\n",
      "2352\n",
      "2359\n",
      "2366\n",
      "2373\n",
      "2380\n",
      "2387\n",
      "2394\n",
      "2401\n",
      "2408\n",
      "2415\n",
      "2422\n",
      "2429\n",
      "2436\n",
      "2443\n",
      "2450\n",
      "2457\n",
      "2464\n",
      "2471\n",
      "2478\n",
      "2485\n",
      "2492\n",
      "2499\n",
      "2506\n",
      "2513\n",
      "2520\n",
      "2527\n",
      "2534\n",
      "2541\n",
      "2548\n",
      "2555\n",
      "2562\n",
      "2569\n",
      "2576\n",
      "2583\n",
      "2590\n",
      "2597\n",
      "2604\n",
      "2611\n",
      "2618\n",
      "2625\n",
      "2632\n",
      "2639\n",
      "2646\n",
      "2653\n",
      "2660\n",
      "2667\n",
      "2674\n",
      "2681\n",
      "2688\n",
      "2695\n"
     ]
    }
   ],
   "source": [
    "for i in range(1500,2701):\n",
    "    if i%7==0 & i%5 ==0:\n",
    "        print (i)"
   ]
  },
  {
   "cell_type": "code",
   "execution_count": 4,
   "metadata": {},
   "outputs": [
    {
     "name": "stdout",
     "output_type": "stream",
     "text": [
      "Enter Number: 9\n",
      "It's Correct guess\n"
     ]
    }
   ],
   "source": [
    "# Guess number and stop if with in range 1 to 9 else promprt until correct guess\n",
    "while True:\n",
    "    n = int(input(\"Enter Number: \"))\n",
    "    if n in range(1,10):\n",
    "        print(\"It's Correct guess\")\n",
    "        break\n",
    "    else:\n",
    "        print(\"Not Correct guess\")\n",
    "        continue"
   ]
  },
  {
   "cell_type": "code",
   "execution_count": 10,
   "metadata": {},
   "outputs": [
    {
     "name": "stdout",
     "output_type": "stream",
     "text": [
      "Enter word: srivatsava\n",
      "avastavirs\n"
     ]
    }
   ],
   "source": [
    "# Accept word and reverse\n",
    "\n",
    "a = input(\"Enter word: \")\n",
    "print (a[::-1])"
   ]
  },
  {
   "cell_type": "code",
   "execution_count": 12,
   "metadata": {},
   "outputs": [
    {
     "name": "stdout",
     "output_type": "stream",
     "text": [
      "Number of Odd's:  5\n",
      "Number of Even's:  4\n"
     ]
    }
   ],
   "source": [
    "# count number of odd's and even's in a list\n",
    "numbers = (1, 2, 3, 4, 5, 6, 7, 8, 9)\n",
    "ctr_odd = 0\n",
    "ctr_even = 0\n",
    "for i in numbers:\n",
    "    if i%2 == 0:\n",
    "        ctr_even+=1\n",
    "    else:\n",
    "        ctr_odd+=1\n",
    "print(\"Number of Odd's: \", ctr_odd)\n",
    "print(\"Number of Even's: \", ctr_even)    "
   ]
  },
  {
   "cell_type": "code",
   "execution_count": 17,
   "metadata": {},
   "outputs": [
    {
     "name": "stdout",
     "output_type": "stream",
     "text": [
      "1452 --> <class 'int'>\n",
      "11.23 --> <class 'float'>\n",
      "(1+2j) --> <class 'complex'>\n",
      "True --> <class 'bool'>\n",
      "w3resource --> <class 'str'>\n",
      "(0, -1) --> <class 'tuple'>\n",
      "[5, 12] --> <class 'list'>\n",
      "{'class': 'V', 'section': 'A'} --> <class 'dict'>\n"
     ]
    }
   ],
   "source": [
    "# Types of elements in list\n",
    "\n",
    "datalist = [1452, 11.23, 1+2j, True, 'w3resource', (0, -1), [5, 12], {\"class\":'V', \"section\":'A'}]\n",
    "for i in datalist:\n",
    "    print(i ,\"-->\", type(i))"
   ]
  },
  {
   "cell_type": "code",
   "execution_count": 2,
   "metadata": {},
   "outputs": [
    {
     "name": "stdout",
     "output_type": "stream",
     "text": [
      "1\n",
      "1\n",
      "2\n",
      "3\n",
      "5\n",
      "8\n",
      "13\n",
      "21\n",
      "34\n"
     ]
    }
   ],
   "source": [
    "# Fibonacci series under 50\n",
    "x = 0\n",
    "y = 1\n",
    "\n",
    "while y<50:\n",
    "    print(y)\n",
    "    x, y = y,x + y"
   ]
  },
  {
   "cell_type": "code",
   "execution_count": 10,
   "metadata": {},
   "outputs": [
    {
     "name": "stdout",
     "output_type": "stream",
     "text": [
      "Fizz Buzz\n",
      "1\n",
      "2\n",
      "Fizz\n",
      "4\n",
      "Buzz\n",
      "Fizz\n",
      "7\n",
      "8\n",
      "Fizz\n",
      "Buzz\n",
      "11\n",
      "Fizz\n",
      "13\n",
      "14\n",
      "Fizz Buzz\n",
      "16\n",
      "17\n",
      "Fizz\n",
      "19\n",
      "Buzz\n",
      "Fizz\n",
      "22\n",
      "23\n",
      "Fizz\n",
      "Buzz\n",
      "26\n",
      "Fizz\n",
      "28\n",
      "29\n",
      "Fizz Buzz\n",
      "31\n",
      "32\n",
      "Fizz\n",
      "34\n",
      "Buzz\n",
      "Fizz\n",
      "37\n",
      "38\n",
      "Fizz\n",
      "Buzz\n",
      "41\n",
      "Fizz\n",
      "43\n",
      "44\n",
      "Fizz Buzz\n",
      "46\n",
      "47\n",
      "Fizz\n",
      "49\n",
      "Buzz\n"
     ]
    }
   ],
   "source": [
    "for i in range(0,51):\n",
    "    if (i%3 == 0) & (i%5 == 0):\n",
    "        print(\"Fizz Buzz\")\n",
    "    elif i%3 == 0:\n",
    "        print(\"Fizz\")\n",
    "    elif i%5 == 0:\n",
    "        print(\"Buzz\")\n",
    "    else:\n",
    "        print(i)"
   ]
  },
  {
   "cell_type": "code",
   "execution_count": 12,
   "metadata": {},
   "outputs": [
    {
     "name": "stdout",
     "output_type": "stream",
     "text": [
      "Input a number: 9\n",
      "9 x 1 = 9\n",
      "9 x 2 = 18\n",
      "9 x 3 = 27\n",
      "9 x 4 = 36\n",
      "9 x 5 = 45\n",
      "9 x 6 = 54\n",
      "9 x 7 = 63\n",
      "9 x 8 = 72\n",
      "9 x 9 = 81\n",
      "9 x 10 = 90\n"
     ]
    }
   ],
   "source": [
    "# multiplication table\n",
    "n = int(input(\"Input a number: \"))\n",
    "\n",
    "for i in range(1,11):\n",
    "    print(n,'x',i,'=',n*i)"
   ]
  },
  {
   "cell_type": "code",
   "execution_count": 14,
   "metadata": {},
   "outputs": [
    {
     "name": "stdout",
     "output_type": "stream",
     "text": [
      "\n",
      "1\n",
      "22\n",
      "333\n",
      "4444\n",
      "55555\n",
      "666666\n",
      "7777777\n",
      "88888888\n",
      "999999999\n"
     ]
    }
   ],
   "source": [
    "# pattern\n",
    "for i in range(10):\n",
    "    print(str(i) * i)"
   ]
  },
  {
   "cell_type": "code",
   "execution_count": 17,
   "metadata": {},
   "outputs": [
    {
     "name": "stdout",
     "output_type": "stream",
     "text": [
      "maximum is: 34\n"
     ]
    }
   ],
   "source": [
    "# function max of 3 numbers\n",
    "\n",
    "def big(a,b,c):\n",
    "    x=max(a,b,c)\n",
    "    return x\n",
    "print(\"maximum is:\",big(-232,34,12))"
   ]
  },
  {
   "cell_type": "code",
   "execution_count": 22,
   "metadata": {},
   "outputs": [
    {
     "name": "stdout",
     "output_type": "stream",
     "text": [
      "89\n"
     ]
    }
   ],
   "source": [
    "# sum of elements in a list\n",
    "a = (8, 2, 3, 0, 7,69)\n",
    "def sum_list():\n",
    "    return sum(a)\n",
    "print(sum_list())"
   ]
  },
  {
   "cell_type": "code",
   "execution_count": 26,
   "metadata": {},
   "outputs": [
    {
     "name": "stdout",
     "output_type": "stream",
     "text": [
      "120\n"
     ]
    }
   ],
   "source": [
    "#Factorial\n",
    "\n",
    "def factorial(n):\n",
    "    if n ==0:\n",
    "        return 1\n",
    "    else:\n",
    "        return n*factorial(n-1)\n",
    "print(factorial(5))"
   ]
  },
  {
   "cell_type": "code",
   "execution_count": 2,
   "metadata": {},
   "outputs": [
    {
     "name": "stdout",
     "output_type": "stream",
     "text": [
      "Enter range: 100\n",
      "Enter Number: 69\n",
      "69 is in range\n"
     ]
    }
   ],
   "source": [
    "# Check number in range\n",
    "a = int(input(\"Enter range: \"))\n",
    "b = int(input(\"Enter Number: \"))\n",
    "def num_range(n):\n",
    "    if n in range(0,a):\n",
    "        print(n, 'is in range')\n",
    "    else:\n",
    "        print( n ,'not in range')\n",
    "num_range(b)"
   ]
  },
  {
   "cell_type": "code",
   "execution_count": 5,
   "metadata": {},
   "outputs": [
    {
     "name": "stdout",
     "output_type": "stream",
     "text": [
      "Enter String: SRIVATSAVA\n",
      "upper 10 lower 0\n"
     ]
    }
   ],
   "source": [
    "# number of upper and lower case\n",
    "\n",
    "ctr_u = 0\n",
    "ctr_l = 0\n",
    "\n",
    "a = input(\"Enter String: \")\n",
    "for i in a:\n",
    "    if i.isupper():\n",
    "        ctr_u+=1\n",
    "    elif i.islower():\n",
    "        ctr_l+=1\n",
    "print('upper',ctr_u,'lower',ctr_l)\n",
    "        "
   ]
  },
  {
   "cell_type": "code",
   "execution_count": 14,
   "metadata": {},
   "outputs": [
    {
     "name": "stdout",
     "output_type": "stream",
     "text": [
      "[1, 2, 4, 5]\n"
     ]
    }
   ],
   "source": [
    "# unique elements of list as new list\n",
    "\n",
    "def unique(x):\n",
    "    res = []\n",
    "    for i in a:\n",
    "        if a.count(i)==1:\n",
    "            res.append(i)\n",
    "print(res)\n",
    "\n",
    "unique([1,2,3,3,3,3,4,5])"
   ]
  },
  {
   "cell_type": "code",
   "execution_count": 18,
   "metadata": {},
   "outputs": [
    {
     "data": {
      "text/plain": [
       "False"
      ]
     },
     "execution_count": 18,
     "metadata": {},
     "output_type": "execute_result"
    }
   ],
   "source": [
    "# Palindrome\n",
    "\n",
    "def pali(n):\n",
    "    return n == n[::-1]\n",
    "pali('srivatsava')"
   ]
  },
  {
   "cell_type": "code",
   "execution_count": 20,
   "metadata": {},
   "outputs": [
    {
     "name": "stdout",
     "output_type": "stream",
     "text": [
      "<b><i><u>hello world</u></i></b>\n"
     ]
    }
   ],
   "source": [
    "def make_bold(fn):\n",
    "    def wrapped():\n",
    "        return \"<b>\" + fn() + \"</b>\"\n",
    "    return wrapped\n",
    "\n",
    "def make_italic(fn):\n",
    "    def wrapped():\n",
    "        return \"<i>\" + fn() + \"</i>\"\n",
    "    return wrapped\n",
    "\n",
    "def make_underline(fn):\n",
    "    def wrapped():\n",
    "        return \"<u>\" + fn() + \"</u>\"\n",
    "    return wrapped\n",
    "@make_bold\n",
    "@make_italic\n",
    "@make_underline\n",
    "def hello():\n",
    "    return \"hello world\"\n",
    "print(hello()) ## returns \"<b><i><u>hello world</u></i></b>\""
   ]
  },
  {
   "cell_type": "code",
   "execution_count": 31,
   "metadata": {},
   "outputs": [
    {
     "name": "stdout",
     "output_type": "stream",
     "text": [
      "Afghanistan\n",
      "Algeria\n",
      "Angola\n",
      "Albania\n",
      "Andorra\n",
      "Antarctica\n"
     ]
    }
   ],
   "source": [
    "# display members of class sorted by values\n",
    "\n",
    "import enum\n",
    "\n",
    "class country(enum.IntEnum):\n",
    "    Afghanistan = 93\n",
    "    Albania = 355\n",
    "    Algeria = 213\n",
    "    Andorra = 376\n",
    "    Angola = 244\n",
    "    Antarctica = 672\n",
    "print(\"\\n\".join(c.name for c in sorted(country)))\n"
   ]
  },
  {
   "cell_type": "code",
   "execution_count": 38,
   "metadata": {},
   "outputs": [
    {
     "name": "stdout",
     "output_type": "stream",
     "text": [
      "[<country.Afghanistan: 93>, <country.Albania: 355>, <country.Algeria: 213>, <country.Andorra: 376>, <country.Angola: 244>, <country.Antarctica: 672>]\n"
     ]
    }
   ],
   "source": [
    "import enum\n",
    "\n",
    "class country(enum.IntEnum):\n",
    "    Afghanistan = 93\n",
    "    Albania = 355\n",
    "    Algeria = 213\n",
    "    Andorra = 376\n",
    "    Angola = 244\n",
    "    Antarctica = 672\n",
    "print(list(country))\n",
    "    "
   ]
  },
  {
   "cell_type": "code",
   "execution_count": 52,
   "metadata": {},
   "outputs": [
    {
     "name": "stdout",
     "output_type": "stream",
     "text": [
      "Afghanistan = 93\n",
      "Albania = 355\n",
      "Algeria = 213\n",
      "Andorra = 376\n",
      "Angola = 244\n"
     ]
    }
   ],
   "source": [
    "import enum\n",
    "class countries(enum.Enum):\n",
    "    Afghanistan = 93\n",
    "    Albania = 355\n",
    "    Algeria = 213\n",
    "    Andorra = 376\n",
    "    Angola = 244\n",
    "    India = 355\n",
    "    USA = 213\n",
    "for result in countries:\n",
    "    print(result.name ,'=', result.value)"
   ]
  },
  {
   "cell_type": "code",
   "execution_count": 63,
   "metadata": {},
   "outputs": [
    {
     "name": "stdout",
     "output_type": "stream",
     "text": [
      "[('v', [1, 3]), ('vi', [2, 4]), ('vii', [1])]\n"
     ]
    }
   ],
   "source": [
    "from collections import defaultdict\n",
    "class_roll = [('v', 1), ('vi', 2), ('v', 3), ('vi', 4), ('vii', 1)]\n",
    "d = defaultdict(list)\n",
    "for k,v in class_roll:\n",
    "    d[k].append(v)\n",
    "print(sorted(d.items()))"
   ]
  },
  {
   "cell_type": "code",
   "execution_count": 74,
   "metadata": {},
   "outputs": [
    {
     "name": "stdout",
     "output_type": "stream",
     "text": [
      "10\n",
      "20\n",
      "30\n",
      "40\n",
      "50\n"
     ]
    }
   ],
   "source": [
    "#elements of array\n",
    "from array import array\n",
    "\n",
    "a =array('i',[10, 20, 30, 40, 50])\n",
    "for i in a:\n",
    "    print(i)\n"
   ]
  },
  {
   "cell_type": "code",
   "execution_count": 76,
   "metadata": {},
   "outputs": [
    {
     "name": "stdout",
     "output_type": "stream",
     "text": [
      "Length of the array is:\n",
      "5\n"
     ]
    }
   ],
   "source": [
    "# length of array\n",
    "from array import array\n",
    "num_array = array('i', [10,20,30,40,50])\n",
    "print(\"Length of the array is:\")\n",
    "print(len(num_array))\n"
   ]
  },
  {
   "cell_type": "code",
   "execution_count": 79,
   "metadata": {},
   "outputs": [
    {
     "name": "stdout",
     "output_type": "stream",
     "text": [
      "array:  array('i', [10, 20, 30, 40, 50])\n",
      "original list [10, 20, 30, 40, 50]\n"
     ]
    }
   ],
   "source": [
    "# array to ordinary list\n",
    "\n",
    "from array import array\n",
    "a =array('i',[10, 20, 30, 40, 50])\n",
    "print(\"array: \",a)\n",
    "b=a.tolist()\n",
    "print(\"original list\",b)"
   ]
  },
  {
   "cell_type": "code",
   "execution_count": 96,
   "metadata": {},
   "outputs": [
    {
     "name": "stdout",
     "output_type": "stream",
     "text": [
      "[{'s': 150}]\n"
     ]
    }
   ],
   "source": [
    "# push three items in heap and print them\n",
    "\n",
    "import heapq\n",
    "a = []\n",
    "heapq.heappush(a,('s',150))\n",
    "heapq.heappush(a,('s1',160))\n",
    "print(heap)"
   ]
  },
  {
   "cell_type": "code",
   "execution_count": 100,
   "metadata": {},
   "outputs": [
    {
     "name": "stdout",
     "output_type": "stream",
     "text": [
      "[100, 90, 80, 70, 60]\n",
      "[10, 20, 20]\n"
     ]
    }
   ],
   "source": [
    "# Two largest and three smallest of data set\n",
    "import heapq\n",
    "\n",
    "h = [10, 20, 50, 70, 90, 20, 50, 40, 60, 80, 100]\n",
    "print(heapq.nlargest(5,h))\n",
    "print(heapq.nsmallest(3,h))"
   ]
  },
  {
   "cell_type": "code",
   "execution_count": 114,
   "metadata": {},
   "outputs": [
    {
     "name": "stdout",
     "output_type": "stream",
     "text": [
      "0 1 2 3 \n",
      "\n"
     ]
    }
   ],
   "source": [
    "# Python program for FIFO queue\n",
    "import queue\n",
    "\n",
    "q = queue.Queue()\n",
    "for x in range(4):\n",
    "    q.put(str(x))\n",
    "while not q.empty():\n",
    "    print(q.get(), end = ' ')\n",
    "print(\"\\n\")"
   ]
  },
  {
   "cell_type": "code",
   "execution_count": 121,
   "metadata": {},
   "outputs": [
    {
     "name": "stdout",
     "output_type": "stream",
     "text": [
      "3 2 1 0 "
     ]
    }
   ],
   "source": [
    "# Python program for LIFO queue\n",
    "\n",
    "import queue\n",
    "\n",
    "q = queue.LifoQueue()\n",
    "for x in range(4):\n",
    "    q.put(str(x))\n",
    "    \n",
    "while not q.empty():\n",
    "    print(q.get(), end = ' ')\n"
   ]
  },
  {
   "cell_type": "code",
   "execution_count": 127,
   "metadata": {},
   "outputs": [
    {
     "data": {
      "text/plain": [
       "23"
      ]
     },
     "execution_count": 127,
     "metadata": {},
     "output_type": "execute_result"
    }
   ],
   "source": [
    "# sum in a recursion list\n",
    "\n",
    "def recursive_list(list_num):\n",
    "    sum = 0\n",
    "    for x in list_num:\n",
    "        if type(x) == type([]):\n",
    "            sum = sum + recursive_list(x)\n",
    "        else:\n",
    "            sum = sum + x\n",
    "    return sum\n",
    "recursive_list([1, 2, [3,4],[5,6,2]])"
   ]
  },
  {
   "cell_type": "code",
   "execution_count": 129,
   "metadata": {},
   "outputs": [
    {
     "data": {
      "text/plain": [
       "120"
      ]
     },
     "execution_count": 129,
     "metadata": {},
     "output_type": "execute_result"
    }
   ],
   "source": [
    "# Factorial\n",
    "\n",
    "def factorial(n):\n",
    "    if n == 1:\n",
    "         return 1\n",
    "    else:\n",
    "        return n*factorial(n-1)\n",
    "factorial(5)"
   ]
  },
  {
   "cell_type": "code",
   "execution_count": 132,
   "metadata": {},
   "outputs": [
    {
     "data": {
      "text/plain": [
       "13"
      ]
     },
     "execution_count": 132,
     "metadata": {},
     "output_type": "execute_result"
    }
   ],
   "source": [
    "# Fibonacci series \n",
    "\n",
    "def fibonacci(n):\n",
    "    if n==1 or n==2:\n",
    "        return 1\n",
    "    else:\n",
    "        return fibonacci(n-1)+fibonacci(n-2)\n",
    "fibonacci(7)\n"
   ]
  },
  {
   "cell_type": "code",
   "execution_count": 140,
   "metadata": {},
   "outputs": [
    {
     "name": "stdout",
     "output_type": "stream",
     "text": [
      "14:28:51.606565\n"
     ]
    }
   ],
   "source": [
    "# Current time\n",
    "import datetime\n",
    "print(datetime.datetime.now().time())"
   ]
  },
  {
   "cell_type": "code",
   "execution_count": 147,
   "metadata": {},
   "outputs": [
    {
     "name": "stdout",
     "output_type": "stream",
     "text": [
      "Today: 2019-08-27\n",
      "5 days before:  2019-08-22\n"
     ]
    }
   ],
   "source": [
    "# 5 Days before\n",
    "from datetime import date,timedelta\n",
    "\n",
    "res = date.today() - timedelta(5)\n",
    "print('Today:', date.today())\n",
    "print('5 days before: ', res)"
   ]
  },
  {
   "cell_type": "code",
   "execution_count": 157,
   "metadata": {},
   "outputs": [
    {
     "name": "stdout",
     "output_type": "stream",
     "text": [
      "2019-08-27\n",
      "2019-08-27 00:00:00\n"
     ]
    }
   ],
   "source": [
    "# date to date time format\n",
    "\n",
    "from datetime import date\n",
    "from datetime import datetime\n",
    "\n",
    "day = date.today()\n",
    "print(day)\n",
    "print(datetime.combine(day,datetime.min.time()))"
   ]
  },
  {
   "cell_type": "code",
   "execution_count": 163,
   "metadata": {},
   "outputs": [
    {
     "name": "stdout",
     "output_type": "stream",
     "text": [
      "2019-08-27\n",
      "2019-08-26\n",
      "2019-08-25\n",
      "2019-08-24\n",
      "2019-08-23\n"
     ]
    }
   ],
   "source": [
    "# Today and previous 5 days\n",
    "from datetime import date\n",
    "from datetime import datetime\n",
    "\n",
    "day = date.today()\n",
    "for x in range(0,5):\n",
    "    print( day - timedelta(x))"
   ]
  },
  {
   "cell_type": "code",
   "execution_count": 178,
   "metadata": {},
   "outputs": [
    {
     "name": "stdout",
     "output_type": "stream",
     "text": [
      "2019-08-27 15:08:03.315269\n",
      "2019-08-27 15:08:08.315269\n"
     ]
    }
   ],
   "source": [
    "# add 5 seconds to current time\n",
    "\n",
    "import datetime\n",
    "\n",
    "x = datetime.datetime.now()\n",
    "y = x + datetime.timedelta(0,5)\n",
    "print(x)\n",
    "print(y)"
   ]
  },
  {
   "cell_type": "code",
   "execution_count": 192,
   "metadata": {},
   "outputs": [
    {
     "name": "stdout",
     "output_type": "stream",
     "text": [
      "239\n"
     ]
    }
   ],
   "source": [
    "# number of day in year\n",
    "import datetime\n",
    "print(datetime.date.today().strftime('%j'))"
   ]
  },
  {
   "cell_type": "code",
   "execution_count": 197,
   "metadata": {},
   "outputs": [
    {
     "name": "stdout",
     "output_type": "stream",
     "text": [
      "1566946362\n"
     ]
    }
   ],
   "source": [
    "# current time in seconds\n",
    "import time\n",
    "\n",
    "print(round(time.time()))"
   ]
  },
  {
   "cell_type": "code",
   "execution_count": 203,
   "metadata": {},
   "outputs": [
    {
     "name": "stdout",
     "output_type": "stream",
     "text": [
      "34\n"
     ]
    }
   ],
   "source": [
    "# get week number\n",
    "\n",
    "from datetime import date\n",
    "\n",
    "print(date.today().strftime('%W'))"
   ]
  },
  {
   "cell_type": "code",
   "execution_count": 209,
   "metadata": {},
   "outputs": [
    {
     "name": "stdout",
     "output_type": "stream",
     "text": [
      "20 days, 0:00:00\n"
     ]
    }
   ],
   "source": [
    "# difference between two dates\n",
    "\n",
    "from datetime import date\n",
    "\n",
    "a = date(2019,8,27)\n",
    "b = date(2019,8,7)\n",
    "print (a-b)"
   ]
  },
  {
   "cell_type": "code",
   "execution_count": 217,
   "metadata": {},
   "outputs": [
    {
     "name": "stdout",
     "output_type": "stream",
     "text": [
      "                                  2019\n",
      "\n",
      "      January                   February                   March\n",
      "Mo Tu We Th Fr Sa Su      Mo Tu We Th Fr Sa Su      Mo Tu We Th Fr Sa Su\n",
      "    1  2  3  4  5  6                   1  2  3                   1  2  3\n",
      " 7  8  9 10 11 12 13       4  5  6  7  8  9 10       4  5  6  7  8  9 10\n",
      "14 15 16 17 18 19 20      11 12 13 14 15 16 17      11 12 13 14 15 16 17\n",
      "21 22 23 24 25 26 27      18 19 20 21 22 23 24      18 19 20 21 22 23 24\n",
      "28 29 30 31               25 26 27 28               25 26 27 28 29 30 31\n",
      "\n",
      "       April                      May                       June\n",
      "Mo Tu We Th Fr Sa Su      Mo Tu We Th Fr Sa Su      Mo Tu We Th Fr Sa Su\n",
      " 1  2  3  4  5  6  7             1  2  3  4  5                      1  2\n",
      " 8  9 10 11 12 13 14       6  7  8  9 10 11 12       3  4  5  6  7  8  9\n",
      "15 16 17 18 19 20 21      13 14 15 16 17 18 19      10 11 12 13 14 15 16\n",
      "22 23 24 25 26 27 28      20 21 22 23 24 25 26      17 18 19 20 21 22 23\n",
      "29 30                     27 28 29 30 31            24 25 26 27 28 29 30\n",
      "\n",
      "        July                     August                  September\n",
      "Mo Tu We Th Fr Sa Su      Mo Tu We Th Fr Sa Su      Mo Tu We Th Fr Sa Su\n",
      " 1  2  3  4  5  6  7                1  2  3  4                         1\n",
      " 8  9 10 11 12 13 14       5  6  7  8  9 10 11       2  3  4  5  6  7  8\n",
      "15 16 17 18 19 20 21      12 13 14 15 16 17 18       9 10 11 12 13 14 15\n",
      "22 23 24 25 26 27 28      19 20 21 22 23 24 25      16 17 18 19 20 21 22\n",
      "29 30 31                  26 27 28 29 30 31         23 24 25 26 27 28 29\n",
      "                                                    30\n",
      "\n",
      "      October                   November                  December\n",
      "Mo Tu We Th Fr Sa Su      Mo Tu We Th Fr Sa Su      Mo Tu We Th Fr Sa Su\n",
      "    1  2  3  4  5  6                   1  2  3                         1\n",
      " 7  8  9 10 11 12 13       4  5  6  7  8  9 10       2  3  4  5  6  7  8\n",
      "14 15 16 17 18 19 20      11 12 13 14 15 16 17       9 10 11 12 13 14 15\n",
      "21 22 23 24 25 26 27      18 19 20 21 22 23 24      16 17 18 19 20 21 22\n",
      "28 29 30 31               25 26 27 28 29 30         23 24 25 26 27 28 29\n",
      "                                                    30 31\n",
      "\n"
     ]
    }
   ],
   "source": [
    "import calendar\n",
    "\n",
    "print(calendar.calendar(2019))\n"
   ]
  },
  {
   "cell_type": "code",
   "execution_count": 225,
   "metadata": {},
   "outputs": [
    {
     "name": "stdout",
     "output_type": "stream",
     "text": [
      "(0, 30)\n"
     ]
    }
   ],
   "source": [
    "# number of days of a given month and year\n",
    "import calendar\n",
    "\n",
    "print(calendar.monthrange(2019,4))\n",
    "\n"
   ]
  },
  {
   "cell_type": "code",
   "execution_count": 228,
   "metadata": {},
   "outputs": [
    {
     "name": "stdout",
     "output_type": "stream",
     "text": [
      "Printing test:  1\n",
      "Printing test:  2\n",
      "Printing test:  3\n",
      "Printing test:  4\n",
      "Printing test:  5\n"
     ]
    }
   ],
   "source": [
    "import time\n",
    "\n",
    "x = 1 \n",
    "while x <=5:\n",
    "    print(\"Printing test: \",x)\n",
    "    time.sleep(2)\n",
    "    x=x+1"
   ]
  },
  {
   "cell_type": "code",
   "execution_count": 14,
   "metadata": {},
   "outputs": [
    {
     "name": "stdout",
     "output_type": "stream",
     "text": [
      "2019-08-28\n",
      "2019-07-29\n",
      "2019-09-27\n"
     ]
    }
   ],
   "source": [
    "# 30 days before and after current date\n",
    "\n",
    "from datetime import date,timedelta\n",
    "\n",
    "current_date = date.today()\n",
    "days_before = current_date - timedelta(days=30)\n",
    "days_after = current_date + timedelta(days=30)\n",
    "print(current_date)\n",
    "print(days_before)\n",
    "print(days_after)"
   ]
  },
  {
   "cell_type": "code",
   "execution_count": 16,
   "metadata": {},
   "outputs": [
    {
     "name": "stdout",
     "output_type": "stream",
     "text": [
      "Wed Aug 28 15:29:46 2019\n"
     ]
    }
   ],
   "source": [
    "import time\n",
    "print (time.ctime())"
   ]
  },
  {
   "cell_type": "code",
   "execution_count": 19,
   "metadata": {},
   "outputs": [
    {
     "name": "stdout",
     "output_type": "stream",
     "text": [
      "                                  2019\n",
      "\n",
      "      January                   February                   March\n",
      "Mo Tu We Th Fr Sa Su      Mo Tu We Th Fr Sa Su      Mo Tu We Th Fr Sa Su\n",
      "    1  2  3  4  5  6                   1  2  3                   1  2  3\n",
      " 7  8  9 10 11 12 13       4  5  6  7  8  9 10       4  5  6  7  8  9 10\n",
      "14 15 16 17 18 19 20      11 12 13 14 15 16 17      11 12 13 14 15 16 17\n",
      "21 22 23 24 25 26 27      18 19 20 21 22 23 24      18 19 20 21 22 23 24\n",
      "28 29 30 31               25 26 27 28               25 26 27 28 29 30 31\n",
      "\n",
      "       April                      May                       June\n",
      "Mo Tu We Th Fr Sa Su      Mo Tu We Th Fr Sa Su      Mo Tu We Th Fr Sa Su\n",
      " 1  2  3  4  5  6  7             1  2  3  4  5                      1  2\n",
      " 8  9 10 11 12 13 14       6  7  8  9 10 11 12       3  4  5  6  7  8  9\n",
      "15 16 17 18 19 20 21      13 14 15 16 17 18 19      10 11 12 13 14 15 16\n",
      "22 23 24 25 26 27 28      20 21 22 23 24 25 26      17 18 19 20 21 22 23\n",
      "29 30                     27 28 29 30 31            24 25 26 27 28 29 30\n",
      "\n",
      "        July                     August                  September\n",
      "Mo Tu We Th Fr Sa Su      Mo Tu We Th Fr Sa Su      Mo Tu We Th Fr Sa Su\n",
      " 1  2  3  4  5  6  7                1  2  3  4                         1\n",
      " 8  9 10 11 12 13 14       5  6  7  8  9 10 11       2  3  4  5  6  7  8\n",
      "15 16 17 18 19 20 21      12 13 14 15 16 17 18       9 10 11 12 13 14 15\n",
      "22 23 24 25 26 27 28      19 20 21 22 23 24 25      16 17 18 19 20 21 22\n",
      "29 30 31                  26 27 28 29 30 31         23 24 25 26 27 28 29\n",
      "                                                    30\n",
      "\n",
      "      October                   November                  December\n",
      "Mo Tu We Th Fr Sa Su      Mo Tu We Th Fr Sa Su      Mo Tu We Th Fr Sa Su\n",
      "    1  2  3  4  5  6                   1  2  3                         1\n",
      " 7  8  9 10 11 12 13       4  5  6  7  8  9 10       2  3  4  5  6  7  8\n",
      "14 15 16 17 18 19 20      11 12 13 14 15 16 17       9 10 11 12 13 14 15\n",
      "21 22 23 24 25 26 27      18 19 20 21 22 23 24      16 17 18 19 20 21 22\n",
      "28 29 30 31               25 26 27 28 29 30         23 24 25 26 27 28 29\n",
      "                                                    30 31\n",
      "\n"
     ]
    }
   ],
   "source": [
    "# calendar\n",
    "\n",
    "import calendar\n",
    "\n",
    "print(calendar.calendar(2019))"
   ]
  },
  {
   "cell_type": "code",
   "execution_count": 25,
   "metadata": {},
   "outputs": [
    {
     "name": "stdout",
     "output_type": "stream",
     "text": [
      "23:59:59.999999\n"
     ]
    }
   ],
   "source": [
    "import datetime\n",
    "\n",
    "print(datetime.time.max)"
   ]
  },
  {
   "cell_type": "code",
   "execution_count": 1,
   "metadata": {},
   "outputs": [
    {
     "name": "stdout",
     "output_type": "stream",
     "text": [
      "I\n",
      "MMMM\n"
     ]
    }
   ],
   "source": [
    "class py_solution:\n",
    "    def int_to_Roman(self, num):\n",
    "        val = [\n",
    "            1000, 900, 500, 400,\n",
    "            100, 90, 50, 40,\n",
    "            10, 9, 5, 4,\n",
    "            1\n",
    "            ]\n",
    "        syb = [\n",
    "            \"M\", \"CM\", \"D\", \"CD\",\n",
    "            \"C\", \"XC\", \"L\", \"XL\",\n",
    "            \"X\", \"IX\", \"V\", \"IV\",\n",
    "            \"I\"\n",
    "            ]\n",
    "        roman_num = ''\n",
    "        i = 0\n",
    "        while  num > 0:\n",
    "            for _ in range(num // val[i]):\n",
    "                    roman_num += syb[i]\n",
    "                num -= val[i]\n",
    "            i += 1\n",
    "        return roman_num\n",
    "\n",
    "\n",
    "print(py_solution().int_to_Roman(1))\n",
    "print(py_solution().int_to_Roman(4000))"
   ]
  },
  {
   "cell_type": "code",
   "execution_count": 23,
   "metadata": {},
   "outputs": [
    {
     "name": "stdout",
     "output_type": "stream",
     "text": [
      "blue\n"
     ]
    }
   ],
   "source": [
    "# randomly select item from list\n",
    "\n",
    "import random\n",
    "\n",
    "a = [\"red\", \"blue\", \"green\", \"pink\" ]\n",
    "print(random.choice(a))"
   ]
  },
  {
   "cell_type": "code",
   "execution_count": 8,
   "metadata": {},
   "outputs": [
    {
     "name": "stdout",
     "output_type": "stream",
     "text": [
      "Test line 1\n",
      "Test line 2\n"
     ]
    }
   ],
   "source": [
    "# to read a file\n",
    "\n",
    "def file_read(file):\n",
    "    txt = open(file)\n",
    "    print(txt.read())\n",
    "file_read('test.txt')"
   ]
  },
  {
   "cell_type": "code",
   "execution_count": 5,
   "metadata": {},
   "outputs": [
    {
     "name": "stdout",
     "output_type": "stream",
     "text": [
      "Test line 1\n",
      "Test line 2\n"
     ]
    }
   ],
   "source": [
    " # Write file\n",
    "\n",
    "def file_read(filename):\n",
    "    with open(filename,'w') as f:\n",
    "        f.write(\"Test line 1\\n\")\n",
    "        f.write(\"Test line 2\")\n",
    "    txt = open(filename)\n",
    "    print(txt.read())\n",
    "file_read('test.txt')\n",
    "    "
   ]
  },
  {
   "cell_type": "code",
   "execution_count": 9,
   "metadata": {},
   "outputs": [
    {
     "name": "stdout",
     "output_type": "stream",
     "text": [
      "['Test line 1\\n', 'Test line 2']\n"
     ]
    }
   ],
   "source": [
    "# read file into list\n",
    "\n",
    "def file_read(filename):\n",
    "    with open(filename) as f:\n",
    "        txt = f.readlines()\n",
    "    print(txt)\n",
    "file_read('test.txt')"
   ]
  },
  {
   "cell_type": "code",
   "execution_count": 15,
   "metadata": {},
   "outputs": [
    {
     "name": "stdout",
     "output_type": "stream",
     "text": [
      "line\n"
     ]
    }
   ],
   "source": [
    "# longest word in the file\n",
    "\n",
    "def longest_word(filename): \n",
    "    with open(filename, 'r') as f:\n",
    "        words = f.read().split()\n",
    "        print(max(words))\n",
    "longest_word('test.txt')"
   ]
  },
  {
   "cell_type": "code",
   "execution_count": 20,
   "metadata": {},
   "outputs": [
    {
     "data": {
      "text/plain": [
       "2"
      ]
     },
     "execution_count": 20,
     "metadata": {},
     "output_type": "execute_result"
    }
   ],
   "source": [
    "# count the lines in file\n",
    "\n",
    "def file_length(filename):\n",
    "    with open(filename, 'r') as f:\n",
    "        for i , l in enumerate(f):\n",
    "            pass\n",
    "    return i+1\n",
    "file_length('test.txt')"
   ]
  },
  {
   "cell_type": "code",
   "execution_count": 25,
   "metadata": {},
   "outputs": [
    {
     "name": "stdout",
     "output_type": "stream",
     "text": [
      "Counter({'Test': 2, 'line': 2, '1': 1, '2': 1})\n"
     ]
    }
   ],
   "source": [
    "# count freequencey of words in file\n",
    "\n",
    "from collections import Counter\n",
    "\n",
    "def file_freequency(filename):\n",
    "    with open(filename, 'r') as f:\n",
    "        print(Counter(f.read().split()))\n",
    "        \n",
    "file_freequency('test.txt')\n",
    "        "
   ]
  },
  {
   "cell_type": "code",
   "execution_count": 29,
   "metadata": {},
   "outputs": [
    {
     "name": "stdout",
     "output_type": "stream",
     "text": [
      "os.stat_result(st_mode=33206, st_ino=7881299348161138, st_dev=2230122030, st_nlink=1, st_uid=0, st_gid=0, st_size=24, st_atime=1563469059, st_mtime=1568916727, st_ctime=1563469059)\n",
      "24\n"
     ]
    }
   ],
   "source": [
    "# File Size\n",
    "\n",
    "import os\n",
    "\n",
    "def file_size(filename):\n",
    "    x = os.stat(filename)\n",
    "    print(x)\n",
    "    print(x.st_size)\n",
    "file_size('test.txt')"
   ]
  },
  {
   "cell_type": "code",
   "execution_count": 39,
   "metadata": {},
   "outputs": [
    {
     "name": "stdout",
     "output_type": "stream",
     "text": [
      "RedGreenWhiteBlackPinkYellow\n"
     ]
    }
   ],
   "source": [
    "# write list to a flie\n",
    "\n",
    "color = ['Red', 'Green', 'White', 'Black', 'Pink', 'Yellow']\n",
    "def file_listwrite(filename):\n",
    "    with open(filename, 'w') as f:\n",
    "        for c in color:\n",
    "            f.write(c)\n",
    "    txt = open(filename)\n",
    "    print(txt.read())\n",
    "file_listwrite('test.txt')"
   ]
  },
  {
   "cell_type": "code",
   "execution_count": 41,
   "metadata": {},
   "outputs": [
    {
     "data": {
      "text/plain": [
       "'copy_test.txt'"
      ]
     },
     "execution_count": 41,
     "metadata": {},
     "output_type": "execute_result"
    }
   ],
   "source": [
    "# Copy file \n",
    "\n",
    "from shutil import copyfile\n",
    "copyfile('test.txt', 'copy_test.txt')"
   ]
  },
  {
   "cell_type": "code",
   "execution_count": 44,
   "metadata": {},
   "outputs": [
    {
     "name": "stdout",
     "output_type": "stream",
     "text": [
      "RedGreenWhiteBlackPinkYellow\n"
     ]
    }
   ],
   "source": [
    "txt = open('copy_test.txt')\n",
    "print(txt.read())"
   ]
  },
  {
   "cell_type": "code",
   "execution_count": 50,
   "metadata": {},
   "outputs": [
    {
     "name": "stdout",
     "output_type": "stream",
     "text": [
      "False\n",
      "True\n"
     ]
    }
   ],
   "source": [
    "# File is closed or not\n",
    "\n",
    "txt = open('test.txt','r')\n",
    "print(txt.closed)\n",
    "txt.close()\n",
    "print(txt.closed)"
   ]
  },
  {
   "cell_type": "code",
   "execution_count": 65,
   "metadata": {},
   "outputs": [
    {
     "name": "stdout",
     "output_type": "stream",
     "text": [
      "None\n",
      "True\n",
      "<re.Match object; span=(11, 12), match='('>\n",
      "False\n"
     ]
    }
   ],
   "source": [
    "# String contains only set of characters\n",
    "\n",
    "import re\n",
    "def is_allowed_chars(string):\n",
    "    x = re.compile(r'[^A-Za-z0-9.]')\n",
    "    string = x.search(string)\n",
    "    print (string)\n",
    "    return not bool(string)\n",
    "print(is_allowed_chars('aldhfalbohosdj'))\n",
    "print(is_allowed_chars('aldhfalboho(sdj'))"
   ]
  },
  {
   "cell_type": "code",
   "execution_count": 72,
   "metadata": {},
   "outputs": [
    {
     "name": "stdout",
     "output_type": "stream",
     "text": [
      "match found\n",
      "match found\n",
      "match found\n",
      "match not found\n"
     ]
    }
   ],
   "source": [
    "# matches a string that has an a followed by zero or more b's.\n",
    "\n",
    "import re\n",
    "\n",
    "def match(string):\n",
    "    pattern = 'ab*?'\n",
    "    if re.search(pattern,string):\n",
    "        return 'match found'\n",
    "    else:\n",
    "        return 'match not found'\n",
    "print(match('abc'))\n",
    "print(match('abbc'))\n",
    "print(match('abbbc'))\n",
    "print(match('bc'))\n"
   ]
  },
  {
   "cell_type": "code",
   "execution_count": 93,
   "metadata": {},
   "outputs": [
    {
     "data": {
      "text/plain": [
       "'match found'"
      ]
     },
     "execution_count": 93,
     "metadata": {},
     "output_type": "execute_result"
    }
   ],
   "source": [
    "# find string that has lower case and underscore attached\n",
    "\n",
    "import re\n",
    "\n",
    "def lowcase_underscore(string):\n",
    "    pattern = '^[a-z]+_[a-z]+$'\n",
    "    \n",
    "    if re.search(pattern,string):\n",
    "        return 'match found'\n",
    "    else:\n",
    "        return 'match notfound'\n",
    "lowcase_underscore('abc_cse')"
   ]
  },
  {
   "cell_type": "code",
   "execution_count": 104,
   "metadata": {},
   "outputs": [
    {
     "data": {
      "text/plain": [
       "'match found'"
      ]
     },
     "execution_count": 104,
     "metadata": {},
     "output_type": "execute_result"
    }
   ],
   "source": [
    "# one upper case letter followed by lower case letters\n",
    "\n",
    "import re\n",
    "\n",
    "def up_low(string):\n",
    "    pattern = '^[a-z]+_[a-z]+$'\n",
    "    \n",
    "    if not re.search(pattern,string):\n",
    "        return 'match found'\n",
    "    else:\n",
    "        return 'match notfound'\n",
    "up_low('aab_Abbbc')\n"
   ]
  },
  {
   "cell_type": "code",
   "execution_count": 111,
   "metadata": {},
   "outputs": [
    {
     "data": {
      "text/plain": [
       "'match found'"
      ]
     },
     "execution_count": 111,
     "metadata": {},
     "output_type": "execute_result"
    }
   ],
   "source": [
    "# start with a any charcter in between and end with b\n",
    "\n",
    "import re\n",
    "\n",
    "def apatt(string):\n",
    "    pattern = 'a.*b$'\n",
    "    \n",
    "    if re.search(pattern,string):\n",
    "        return \"match found\"\n",
    "    else:\n",
    "        return \"match not found\"\n",
    "apatt('ladjlsdlhb')"
   ]
  },
  {
   "cell_type": "code",
   "execution_count": 115,
   "metadata": {},
   "outputs": [
    {
     "name": "stdout",
     "output_type": "stream",
     "text": [
      "match found\n",
      "match not found\n"
     ]
    }
   ],
   "source": [
    "# start with word\n",
    "\n",
    "import re\n",
    "def word_start(string):\n",
    "    pattern = '^\\w+' \n",
    "    if re.search(pattern, string):\n",
    "        return \"match found\"\n",
    "    else:\n",
    "        return \"match not found\"\n",
    "print(word_start('srivatsava'))\n",
    "print(word_start(' srivatsava'))"
   ]
  },
  {
   "cell_type": "code",
   "execution_count": 122,
   "metadata": {},
   "outputs": [
    {
     "data": {
      "text/plain": [
       "'match found'"
      ]
     },
     "execution_count": 122,
     "metadata": {},
     "output_type": "execute_result"
    }
   ],
   "source": [
    "# word at end of string\n",
    "\n",
    "import re\n",
    "\n",
    "def word_end(string):\n",
    "    pattern = '\\w+\\S*$'\n",
    "    \n",
    "    if re.search(pattern,string):\n",
    "        return \"match found\"\n",
    "    else:\n",
    "        return \"match notfound\"\n",
    "word_end('srivatsava..')"
   ]
  },
  {
   "cell_type": "code",
   "execution_count": 129,
   "metadata": {},
   "outputs": [
    {
     "data": {
      "text/plain": [
       "'match found'"
      ]
     },
     "execution_count": 129,
     "metadata": {},
     "output_type": "execute_result"
    }
   ],
   "source": [
    "# word containing letter Z\n",
    "\n",
    "import re\n",
    "\n",
    "def word_z(string):\n",
    "    pattern = '.+z.*'\n",
    "    \n",
    "    if re.search(pattern,string):\n",
    "        return \"match found\"\n",
    "    else:\n",
    "        return \"match notfound\"\n",
    "word_z('srivatsava iz')"
   ]
  },
  {
   "cell_type": "code",
   "execution_count": 134,
   "metadata": {},
   "outputs": [
    {
     "data": {
      "text/plain": [
       "'match found'"
      ]
     },
     "execution_count": 134,
     "metadata": {},
     "output_type": "execute_result"
    }
   ],
   "source": [
    "# word containing Z in the middle of word.\n",
    "\n",
    "import re\n",
    "def word_z(string):\n",
    "    pattern = '\\Bz\\B'\n",
    "    if re.search(pattern,string):\n",
    "        return \"match found\"\n",
    "    else:\n",
    "        return \"match notfound\"\n",
    "word_z('srivatsava iza')"
   ]
  },
  {
   "cell_type": "code",
   "execution_count": 142,
   "metadata": {},
   "outputs": [
    {
     "name": "stdout",
     "output_type": "stream",
     "text": [
      "<callable_iterator object at 0x0000028DA4453860>\n",
      "1\n",
      "12\n",
      "13\n",
      "345\n"
     ]
    }
   ],
   "source": [
    "# find numbers in string of length 1 to 3\n",
    "\n",
    "import re\n",
    "results = re.finditer(r\"([0-9]{1,3})\", \"Exercises number 1, 12, 13, and 345 are important\")\n",
    "print (results)\n",
    "for n in results:\n",
    "    print (n.group(0))"
   ]
  },
  {
   "cell_type": "code",
   "execution_count": 146,
   "metadata": {},
   "outputs": [
    {
     "name": "stdout",
     "output_type": "stream",
     "text": [
      "Match found\n",
      "Match not found\n",
      "Match not found\n"
     ]
    }
   ],
   "source": [
    "# find string in a line\n",
    "\n",
    "import re\n",
    "pattern = ['python', 'scala', 'java']\n",
    "text = 'python is best language'\n",
    "\n",
    "for x in pattern:\n",
    "    if re.search(x,text):\n",
    "        print('Match found')\n",
    "    else:\n",
    "        print(\"Match not found\")\n"
   ]
  },
  {
   "cell_type": "code",
   "execution_count": 153,
   "metadata": {},
   "outputs": [
    {
     "name": "stdout",
     "output_type": "stream",
     "text": [
      "string python found between 0 6\n",
      "python is the best programming language\n",
      "python\n"
     ]
    }
   ],
   "source": [
    "# postion of match text in string\n",
    "\n",
    "import re\n",
    "pattern = 'python'\n",
    "text = 'python is the best programming language'\n",
    "\n",
    "match = re.search(pattern, text)\n",
    "start = match.start()\n",
    "end = match. end()\n",
    "print (\"string %s found between\" % (pattern),start, end)\n",
    "print(match.string)\n",
    "print(match.re.pattern)"
   ]
  },
  {
   "cell_type": "code",
   "execution_count": 5,
   "metadata": {},
   "outputs": [
    {
     "name": "stdout",
     "output_type": "stream",
     "text": [
      "Found exercises at 7:16\n",
      "Found exercises at 22:31\n",
      "Found exercises at 36:45\n"
     ]
    }
   ],
   "source": [
    "# occurence and position of substring\n",
    "\n",
    "import re\n",
    "text = 'Python exercises, PHP exercises, C# exercises'\n",
    "pattern = 'exercises'\n",
    "\n",
    "for match in re.finditer(pattern,text):\n",
    "    s = match.start()\n",
    "    e = match.end()\n",
    "    print ('Found %s at %d:%d' %(text[s:e],s,e))"
   ]
  },
  {
   "cell_type": "code",
   "execution_count": 10,
   "metadata": {},
   "outputs": [
    {
     "name": "stdout",
     "output_type": "stream",
     "text": [
      "python_exercises\n",
      "python exercises\n"
     ]
    }
   ],
   "source": [
    "# replace space with _ and viceversa\n",
    "\n",
    "text = 'python exercises'\n",
    "text = text.replace(' ','_')\n",
    "print (text)\n",
    "text = text.replace('_',' ')\n",
    "print(text)"
   ]
  },
  {
   "cell_type": "code",
   "execution_count": 39,
   "metadata": {},
   "outputs": [
    {
     "name": "stdout",
     "output_type": "stream",
     "text": [
      "['', '10', '20', '30']\n",
      "\n",
      "10\n",
      "20\n",
      "30\n"
     ]
    }
   ],
   "source": [
    "#Separate and print numbers in a string\n",
    "\n",
    "import re\n",
    "\n",
    "text = 'Ten 10, Twenty 20, Thirty 30'\n",
    "results = re.split('\\D+',text)\n",
    "print (results)\n",
    "for elements in results:\n",
    "    print(elements)\n",
    "\n",
    "    "
   ]
  },
  {
   "cell_type": "code",
   "execution_count": 55,
   "metadata": {},
   "outputs": [
    {
     "name": "stdout",
     "output_type": "stream",
     "text": [
      "<callable_iterator object at 0x000001E0675E3518>\n",
      "50\n",
      "50\n"
     ]
    }
   ],
   "source": [
    "# Find number and its position in text\n",
    "\n",
    "import re\n",
    "\n",
    "text = 'The following example creates an ArrayList with a capacity of 50 elements. Four elements are then added to the ArrayList and the ArrayList is trimmed accordingly.'\n",
    "results = re.finditer('\\d+',text)\n",
    "print(results)\n",
    "for m in results:\n",
    "    print(m.group(0))\n",
    "for m in re.finditer('\\d+',text):\n",
    "    print(m.group(0))\n"
   ]
  },
  {
   "cell_type": "code",
   "execution_count": 62,
   "metadata": {},
   "outputs": [
    {
     "name": "stdout",
     "output_type": "stream",
     "text": [
      "['python', 'scala', 'Java']\n"
     ]
    }
   ],
   "source": [
    "# extract values between quotaiton marks of string\n",
    "\n",
    "import re\n",
    "\n",
    "text = '\"python\", \"scala\", \"Java\" python is special'\n",
    "print(re.findall(r'\"(.*?)\"', text))"
   ]
  },
  {
   "cell_type": "code",
   "execution_count": 71,
   "metadata": {},
   "outputs": [
    {
     "name": "stdout",
     "output_type": "stream",
     "text": [
      "['Python', 'Tutorial', 'And', 'Exercises']\n"
     ]
    }
   ],
   "source": [
    "# split string at upper case letters.\n",
    "\n",
    "import re\n",
    "\n",
    "text = 'PythonTutorialAndExercises'\n",
    "print(re.findall('[A-Z][^A-Z]*', text))"
   ]
  },
  {
   "cell_type": "code",
   "execution_count": 76,
   "metadata": {},
   "outputs": [
    {
     "name": "stdout",
     "output_type": "stream",
     "text": [
      "Clearly\n",
      "0\n",
      "7\n",
      "badly\n",
      "35\n",
      "40\n"
     ]
    }
   ],
   "source": [
    "# adverb in a string\n",
    "\n",
    "import re\n",
    "text = 'Clearly, he has no excuse for such badly behavior.'\n",
    "for m in re.finditer('\\w+ly',text):\n",
    "    print(m.group(0))\n",
    "    print(m.start())\n",
    "    print(m.end())"
   ]
  },
  {
   "cell_type": "code",
   "execution_count": 84,
   "metadata": {},
   "outputs": [
    {
     "name": "stdout",
     "output_type": "stream",
     "text": [
      "  quick brown  jumps over  lazy .\n"
     ]
    }
   ],
   "source": [
    "# removed words from a string of length between 1 and a given number\n",
    "\n",
    "import re\n",
    "text = 'The quick brown fox jumps over the lazy dog.'\n",
    "shortword = re.compile(r'\\W*\\b\\w{1,3}\\b')\n",
    "print(shortword.sub(' ',text))"
   ]
  },
  {
   "cell_type": "code",
   "execution_count": 87,
   "metadata": {},
   "outputs": [
    {
     "name": "stdout",
     "output_type": "stream",
     "text": [
      "['Python', 'is', 'best', 'language']\n",
      "8\n"
     ]
    }
   ],
   "source": [
    "# Length of last word\n",
    "\n",
    "def len_lastword(n):\n",
    "    words = n.split()\n",
    "    print (words)\n",
    "    print (len(words[-1]))\n",
    "len_lastword('Python is best language')"
   ]
  },
  {
   "cell_type": "code",
   "execution_count": 2,
   "metadata": {},
   "outputs": [
    {
     "name": "stdout",
     "output_type": "stream",
     "text": [
      "93\n",
      "Please enter number between o to 100: \n",
      "65\n",
      "Lower than actual number: please try again\n",
      "Please enter number between o to 100: \n",
      "93\n",
      "correct number\n",
      "Thanks for the game\n"
     ]
    }
   ],
   "source": [
    "# guess number\n",
    "\n",
    "import random\n",
    "number = random.randrange(0,100)\n",
    "print (number)\n",
    "guessCheck = 'wrong'\n",
    "\n",
    "while guessCheck == 'wrong':\n",
    "    response = int(input(\"Please enter number between o to 100: \\n\"))\n",
    "    if response < number:\n",
    "        print(\"Lower than actual number: please try again\")\n",
    "    elif response > number:\n",
    "        print(\"Greater than actual number: Please try again\")\n",
    "    else:\n",
    "        print(\"correct number\")\n",
    "        guessCheck = 'correct'\n",
    "print(\"Thanks for the game\")"
   ]
  },
  {
   "cell_type": "code",
   "execution_count": 6,
   "metadata": {
    "scrolled": true
   },
   "outputs": [
    {
     "name": "stdout",
     "output_type": "stream",
     "text": [
      "1.15.4\n",
      "mkl_info:\n",
      "    libraries = ['mkl_rt']\n",
      "    library_dirs = ['C:/Users/suppuletix067037/AppData/Local/Continuum/anaconda3\\\\Library\\\\lib']\n",
      "    define_macros = [('SCIPY_MKL_H', None), ('HAVE_CBLAS', None)]\n",
      "    include_dirs = ['C:\\\\Program Files (x86)\\\\IntelSWTools\\\\compilers_and_libraries_2019.0.117\\\\windows\\\\mkl', 'C:\\\\Program Files (x86)\\\\IntelSWTools\\\\compilers_and_libraries_2019.0.117\\\\windows\\\\mkl\\\\include', 'C:\\\\Program Files (x86)\\\\IntelSWTools\\\\compilers_and_libraries_2019.0.117\\\\windows\\\\mkl\\\\lib', 'C:/Users/suppuletix067037/AppData/Local/Continuum/anaconda3\\\\Library\\\\include']\n",
      "blas_mkl_info:\n",
      "    libraries = ['mkl_rt']\n",
      "    library_dirs = ['C:/Users/suppuletix067037/AppData/Local/Continuum/anaconda3\\\\Library\\\\lib']\n",
      "    define_macros = [('SCIPY_MKL_H', None), ('HAVE_CBLAS', None)]\n",
      "    include_dirs = ['C:\\\\Program Files (x86)\\\\IntelSWTools\\\\compilers_and_libraries_2019.0.117\\\\windows\\\\mkl', 'C:\\\\Program Files (x86)\\\\IntelSWTools\\\\compilers_and_libraries_2019.0.117\\\\windows\\\\mkl\\\\include', 'C:\\\\Program Files (x86)\\\\IntelSWTools\\\\compilers_and_libraries_2019.0.117\\\\windows\\\\mkl\\\\lib', 'C:/Users/suppuletix067037/AppData/Local/Continuum/anaconda3\\\\Library\\\\include']\n",
      "blas_opt_info:\n",
      "    libraries = ['mkl_rt']\n",
      "    library_dirs = ['C:/Users/suppuletix067037/AppData/Local/Continuum/anaconda3\\\\Library\\\\lib']\n",
      "    define_macros = [('SCIPY_MKL_H', None), ('HAVE_CBLAS', None)]\n",
      "    include_dirs = ['C:\\\\Program Files (x86)\\\\IntelSWTools\\\\compilers_and_libraries_2019.0.117\\\\windows\\\\mkl', 'C:\\\\Program Files (x86)\\\\IntelSWTools\\\\compilers_and_libraries_2019.0.117\\\\windows\\\\mkl\\\\include', 'C:\\\\Program Files (x86)\\\\IntelSWTools\\\\compilers_and_libraries_2019.0.117\\\\windows\\\\mkl\\\\lib', 'C:/Users/suppuletix067037/AppData/Local/Continuum/anaconda3\\\\Library\\\\include']\n",
      "lapack_mkl_info:\n",
      "    libraries = ['mkl_rt']\n",
      "    library_dirs = ['C:/Users/suppuletix067037/AppData/Local/Continuum/anaconda3\\\\Library\\\\lib']\n",
      "    define_macros = [('SCIPY_MKL_H', None), ('HAVE_CBLAS', None)]\n",
      "    include_dirs = ['C:\\\\Program Files (x86)\\\\IntelSWTools\\\\compilers_and_libraries_2019.0.117\\\\windows\\\\mkl', 'C:\\\\Program Files (x86)\\\\IntelSWTools\\\\compilers_and_libraries_2019.0.117\\\\windows\\\\mkl\\\\include', 'C:\\\\Program Files (x86)\\\\IntelSWTools\\\\compilers_and_libraries_2019.0.117\\\\windows\\\\mkl\\\\lib', 'C:/Users/suppuletix067037/AppData/Local/Continuum/anaconda3\\\\Library\\\\include']\n",
      "lapack_opt_info:\n",
      "    libraries = ['mkl_rt']\n",
      "    library_dirs = ['C:/Users/suppuletix067037/AppData/Local/Continuum/anaconda3\\\\Library\\\\lib']\n",
      "    define_macros = [('SCIPY_MKL_H', None), ('HAVE_CBLAS', None)]\n",
      "    include_dirs = ['C:\\\\Program Files (x86)\\\\IntelSWTools\\\\compilers_and_libraries_2019.0.117\\\\windows\\\\mkl', 'C:\\\\Program Files (x86)\\\\IntelSWTools\\\\compilers_and_libraries_2019.0.117\\\\windows\\\\mkl\\\\include', 'C:\\\\Program Files (x86)\\\\IntelSWTools\\\\compilers_and_libraries_2019.0.117\\\\windows\\\\mkl\\\\lib', 'C:/Users/suppuletix067037/AppData/Local/Continuum/anaconda3\\\\Library\\\\include']\n",
      "None\n"
     ]
    }
   ],
   "source": [
    "# num py version and build config\n",
    "\n",
    "import numpy as np\n",
    "print(np.__version__)\n",
    "print(np.show_config())"
   ]
  },
  {
   "cell_type": "code",
   "execution_count": 8,
   "metadata": {},
   "outputs": [
    {
     "name": "stdout",
     "output_type": "stream",
     "text": [
      "add(x1, x2, /, out=None, *, where=True, casting='same_kind', order='K', dtype=None, subok=True[, signature, extobj])\n",
      "\n",
      "Add arguments element-wise.\n",
      "\n",
      "Parameters\n",
      "----------\n",
      "x1, x2 : array_like\n",
      "    The arrays to be added.  If ``x1.shape != x2.shape``, they must be\n",
      "    broadcastable to a common shape (which may be the shape of one or\n",
      "    the other).\n",
      "out : ndarray, None, or tuple of ndarray and None, optional\n",
      "    A location into which the result is stored. If provided, it must have\n",
      "    a shape that the inputs broadcast to. If not provided or `None`,\n",
      "    a freshly-allocated array is returned. A tuple (possible only as a\n",
      "    keyword argument) must have length equal to the number of outputs.\n",
      "where : array_like, optional\n",
      "    Values of True indicate to calculate the ufunc at that position, values\n",
      "    of False indicate to leave the value in the output alone.\n",
      "**kwargs\n",
      "    For other keyword-only arguments, see the\n",
      "    :ref:`ufunc docs <ufuncs.kwargs>`.\n",
      "\n",
      "Returns\n",
      "-------\n",
      "add : ndarray or scalar\n",
      "    The sum of `x1` and `x2`, element-wise.\n",
      "    This is a scalar if both `x1` and `x2` are scalars.\n",
      "\n",
      "Notes\n",
      "-----\n",
      "Equivalent to `x1` + `x2` in terms of array broadcasting.\n",
      "\n",
      "Examples\n",
      "--------\n",
      ">>> np.add(1.0, 4.0)\n",
      "5.0\n",
      ">>> x1 = np.arange(9.0).reshape((3, 3))\n",
      ">>> x2 = np.arange(3.0)\n",
      ">>> np.add(x1, x2)\n",
      "array([[  0.,   2.,   4.],\n",
      "       [  3.,   5.,   7.],\n",
      "       [  6.,   8.,  10.]])\n",
      "None\n"
     ]
    }
   ],
   "source": [
    "# help on add funtion\n",
    "\n",
    "import numpy as np\n",
    "print(np.info(np.add))"
   ]
  },
  {
   "cell_type": "code",
   "execution_count": 1,
   "metadata": {},
   "outputs": [
    {
     "data": {
      "text/plain": [
       "9"
      ]
     },
     "execution_count": 1,
     "metadata": {},
     "output_type": "execute_result"
    }
   ],
   "source": [
    "#map funtion \n",
    "def square(x):\n",
    "    return x**2\n",
    "square(3)"
   ]
  },
  {
   "cell_type": "code",
   "execution_count": 2,
   "metadata": {},
   "outputs": [
    {
     "data": {
      "text/plain": [
       "<map at 0x28dcb36e978>"
      ]
     },
     "execution_count": 2,
     "metadata": {},
     "output_type": "execute_result"
    }
   ],
   "source": [
    "nums = [2,3,4]\n",
    "map(square,nums)"
   ]
  },
  {
   "cell_type": "code",
   "execution_count": 3,
   "metadata": {},
   "outputs": [
    {
     "data": {
      "text/plain": [
       "[4, 9, 16]"
      ]
     },
     "execution_count": 3,
     "metadata": {},
     "output_type": "execute_result"
    }
   ],
   "source": [
    "list(map(square,nums))"
   ]
  },
  {
   "cell_type": "code",
   "execution_count": 6,
   "metadata": {},
   "outputs": [
    {
     "data": {
      "text/plain": [
       "[4, 9, 16]"
      ]
     },
     "execution_count": 6,
     "metadata": {},
     "output_type": "execute_result"
    }
   ],
   "source": [
    "list(map(lambda x:x**2,nums))"
   ]
  },
  {
   "cell_type": "code",
   "execution_count": 20,
   "metadata": {},
   "outputs": [],
   "source": [
    "# tic tac toe\n",
    "from IPython.display import clear_output\n",
    "def display_board(board):\n",
    "    clear_output()\n",
    "    print(board[7]+'|'+board[8]+'|'+board[9])\n",
    "    print(board[4]+'|'+board[5]+'|'+board[6])\n",
    "    print(board[1]+'|'+board[2]+'|'+board[3])\n"
   ]
  },
  {
   "cell_type": "code",
   "execution_count": 22,
   "metadata": {},
   "outputs": [
    {
     "name": "stdout",
     "output_type": "stream",
     "text": [
      "x|o|x\n",
      "o|x|o\n",
      "x|o|x\n"
     ]
    }
   ],
   "source": [
    "test_board = ['#','x','o','x','o','x','o','x','o','x']    \n",
    "display_board(test_board)\n",
    "display_board(test_board)"
   ]
  },
  {
   "cell_type": "code",
   "execution_count": 30,
   "metadata": {},
   "outputs": [
    {
     "name": "stdout",
     "output_type": "stream",
     "text": [
      "player 1 choose either x or 0:x\n",
      "x\n"
     ]
    }
   ],
   "source": [
    "def player_input():\n",
    "    marker = ''\n",
    "    while marker!= 'x' and marker!= 'o':\n",
    "        marker = input('player 1 choose either x or 0:')\n",
    "    if marker == 'x':\n",
    "        return ('x','o')\n",
    "    else:\n",
    "        return ('o','x')\n",
    "player1_marker , player2_marker = player_input()\n",
    "print(player1_marker)\n",
    "    "
   ]
  },
  {
   "cell_type": "code",
   "execution_count": 1,
   "metadata": {},
   "outputs": [
    {
     "ename": "NameError",
     "evalue": "name 'test_board' is not defined",
     "output_type": "error",
     "traceback": [
      "\u001b[1;31m---------------------------------------------------------------------------\u001b[0m",
      "\u001b[1;31mNameError\u001b[0m                                 Traceback (most recent call last)",
      "\u001b[1;32m<ipython-input-1-21931317dc36>\u001b[0m in \u001b[0;36m<module>\u001b[1;34m\u001b[0m\n\u001b[0;32m      1\u001b[0m \u001b[1;32mdef\u001b[0m \u001b[0mplace_marker\u001b[0m\u001b[1;33m(\u001b[0m\u001b[0mboard\u001b[0m\u001b[1;33m,\u001b[0m\u001b[0mmarker\u001b[0m\u001b[1;33m,\u001b[0m\u001b[0mposition\u001b[0m\u001b[1;33m)\u001b[0m\u001b[1;33m:\u001b[0m\u001b[1;33m\u001b[0m\u001b[1;33m\u001b[0m\u001b[0m\n\u001b[0;32m      2\u001b[0m     \u001b[0mboard\u001b[0m\u001b[1;33m[\u001b[0m\u001b[0mposition\u001b[0m\u001b[1;33m]\u001b[0m \u001b[1;33m=\u001b[0m \u001b[0mmarker\u001b[0m\u001b[1;33m\u001b[0m\u001b[1;33m\u001b[0m\u001b[0m\n\u001b[1;32m----> 3\u001b[1;33m \u001b[0mplace_marker\u001b[0m\u001b[1;33m(\u001b[0m\u001b[0mtest_board\u001b[0m\u001b[1;33m,\u001b[0m\u001b[1;34m'$'\u001b[0m\u001b[1;33m,\u001b[0m\u001b[1;36m8\u001b[0m\u001b[1;33m)\u001b[0m\u001b[1;33m\u001b[0m\u001b[1;33m\u001b[0m\u001b[0m\n\u001b[0m\u001b[0;32m      4\u001b[0m \u001b[0mdisplay_board\u001b[0m\u001b[1;33m(\u001b[0m\u001b[0mtest_board\u001b[0m\u001b[1;33m)\u001b[0m\u001b[1;33m\u001b[0m\u001b[1;33m\u001b[0m\u001b[0m\n",
      "\u001b[1;31mNameError\u001b[0m: name 'test_board' is not defined"
     ]
    }
   ],
   "source": [
    "def place_marker(board,marker,position):\n",
    "    board[position] = marker\n",
    "place_marker(test_board,'$',8)\n",
    "display_board(test_board)"
   ]
  },
  {
   "cell_type": "code",
   "execution_count": 8,
   "metadata": {},
   "outputs": [
    {
     "name": "stdout",
     "output_type": "stream",
     "text": [
      "Enter Any Number: 10\n",
      "1,1,2,3,5,8,13,21,34,55\n"
     ]
    }
   ],
   "source": [
    "# Fibonacci series\n",
    "\n",
    "def fibsequence(n):\n",
    "    \"\"\"\n",
    "    Generates a fibonacci series\n",
    "    with size of n\n",
    "    \n",
    "    \"\"\"\n",
    "    \n",
    "    assert n>0\n",
    "    \n",
    "    series = [1]\n",
    "    while len(series)<n:\n",
    "        if len(series)==1:\n",
    "            series.append(1)\n",
    "        else:\n",
    "            series.append(series[-1]+series[-2])\n",
    "    for i in range(len(series)): # converting to string\n",
    "        series[i] = str(series[i])\n",
    "    return (','.join(series))\n",
    "\n",
    "def main(): # Wrapper Function\n",
    "    print (fibsequence(int(input(\"Enter Any Number: \"))))\n",
    "\n",
    "if __name__ == '__main__':\n",
    "    main()"
   ]
  },
  {
   "cell_type": "code",
   "execution_count": 29,
   "metadata": {},
   "outputs": [
    {
     "name": "stdout",
     "output_type": "stream",
     "text": [
      "Enter value for first number: 10\n",
      "Enter value for second number: 5\n",
      "Enter operator: please choose from +,-,/,**\n",
      "10 * 5 = 50\n"
     ]
    }
   ],
   "source": [
    "# simple Calculator\n",
    "\n",
    "def calc(a,b,op):\n",
    "    \"\"\"\n",
    "    Returns string like this: a op b = c\n",
    "    where c is the computed value according to operator\n",
    "    \n",
    "    \"\"\"\n",
    "    \n",
    "    if op not in '+,-,/,*':\n",
    "        return 'Please choose operation only in +,-,/,*'\n",
    "    \n",
    "    if op == '+':\n",
    "        return (str(a) +' '+'+'+' '+ str(b) +' ' +'='+' '+ str(a+b))\n",
    "    if op == '-':\n",
    "        return (str(a) +' '+'-'+' '+ str(b) +' ' +'='+' '+ str(a-b))\n",
    "    if op == '/':\n",
    "        return (str(a) +' '+'/'+' '+ str(b) +' ' +'='+' '+ str(a/b))\n",
    "    if op == '*':\n",
    "        return (str(a) +' '+'*'+' '+ str(b) +' ' +'='+' '+ str(a*b))\n",
    "    \n",
    "def main():  # Wrapper Function\n",
    "    a = int(input(\"Enter value for first number: \"))\n",
    "    b = int(input(\"Enter value for second number: \"))\n",
    "    op= input(\"Enter operator: please choose from +,-,/,*\")\n",
    "    print (calc(a,b,op))\n",
    "    \n",
    "if __name__ == '__main__':\n",
    "    main()\n",
    "    "
   ]
  },
  {
   "cell_type": "code",
   "execution_count": 12,
   "metadata": {},
   "outputs": [
    {
     "name": "stdout",
     "output_type": "stream",
     "text": [
      "what unit of time you want to enter 1) Hours 2) Minutes 3) seconds 4) combination\n",
      ": 3\n",
      "Enter desired Seconds: 3\n",
      "Wait Time: 3 Seconds.\n",
      "Alarm ringing\n",
      "Alarm ringing\n",
      "Alarm ringing\n",
      "Alarm ringing\n",
      "Alarm ringing\n",
      "Alarm ringing\n",
      "Alarm ringing\n",
      "Alarm ringing\n",
      "Alarm ringing\n",
      "Alarm ringing\n",
      "Alarm ringing\n",
      "Alarm ringing\n",
      "Alarm ringing\n",
      "Alarm ringing\n",
      "Alarm ringing\n",
      "Alarm ringing\n",
      "Alarm ringing\n",
      "Alarm ringing\n"
     ]
    }
   ],
   "source": [
    "# Alarm\n",
    "\n",
    "import winsound, time, os, platform\n",
    "\n",
    "def sound():\n",
    "    for i in range(2):              # Number of Repeats\n",
    "        for j in range(9):          # Number of beeps\n",
    "            print(\"Alarm ringing\")    # Sound Played message\n",
    "            winsound.MessageBeep(-1)  # Sound Played\n",
    "        \n",
    "        time.sleep(8) # How long between Beeps\n",
    "        \n",
    "def alarm(n):\n",
    "    print(\"Wait Time:\", n , \"Seconds.\")\n",
    "    time.sleep(n) # Wait n seconds before playing sound\n",
    "    \n",
    "    sound()\n",
    "    \n",
    "def input_destinations(user_input):\n",
    "    if user_input =='1':\n",
    "        user_input = int(input(\"Enter desired hours: \"))\n",
    "        wait_time = (user_input*60)*60\n",
    "        alarm(wait_time)\n",
    "    \n",
    "    elif user_input =='2':\n",
    "        user_input = int(input(\"Enter desired Minutes: \"))\n",
    "        wait_time = (user_input*60)\n",
    "        alarm(wait_time)\n",
    "        \n",
    "    elif user_input =='3':\n",
    "        user_input = int(input(\"Enter desired Seconds: \"))\n",
    "        wait_time = user_input\n",
    "        alarm(wait_time)\n",
    "\n",
    "    elif user_input =='4':\n",
    "        hours = int(input(\"Hours: \"))\n",
    "        minutes = int(input(\"Minutes: \"))\n",
    "        seconds = int(input(\"Seconds: \"))\n",
    "        wait_time = (hours*60)*60 + minutes*60 + seconds\n",
    "        print (wait_time)\n",
    "        alarm(wait_time)\n",
    "    \n",
    "    else:\n",
    "        try:\n",
    "            os.system('cls')\n",
    "            main()\n",
    "        except:\n",
    "            os.system('clear')\n",
    "            main()\n",
    "            \n",
    "def main():\n",
    "    print(\"what unit of time you want to enter 1) Hours 2) Minutes 3) seconds 4) combination\")\n",
    "    main_input = input(': ')\n",
    "    input_destinations(main_input)\n",
    "    return;\n",
    "\n",
    "main()"
   ]
  },
  {
   "cell_type": "code",
   "execution_count": 7,
   "metadata": {},
   "outputs": [
    {
     "data": {
      "text/plain": [
       "[1, 2, 3, 6, 6, 7, 10, 15, 25, 50]"
      ]
     },
     "execution_count": 7,
     "metadata": {},
     "output_type": "execute_result"
    }
   ],
   "source": [
    "# Bubble Sort\n",
    "def bubble_sort(a):\n",
    "    if len(a) == 1:\n",
    "        print(\"Please enter more numbers for bubble sort: \")\n",
    "    else:\n",
    "        for j in range(len(a)-1):\n",
    "            \n",
    "            for i in range(len(a)-1):\n",
    "                if a[i]>a[i+1]:\n",
    "                    a[i],a[i+1]=a[i+1],a[i]                \n",
    "                else:\n",
    "                    continue\n",
    "\n",
    "    return a\n",
    "lis = [3,1,6,2,7,10,50,25,15,6]\n",
    "bubble_sort(lis)      \n",
    "    "
   ]
  },
  {
   "cell_type": "code",
   "execution_count": null,
   "metadata": {},
   "outputs": [],
   "source": [
    "\n",
    "        \n"
   ]
  },
  {
   "cell_type": "code",
   "execution_count": 32,
   "metadata": {},
   "outputs": [],
   "source": [
    "from ipywidgets import interact,interactive,fixed\n",
    "import ipywidgets as Widgets\n"
   ]
  },
  {
   "cell_type": "code",
   "execution_count": 33,
   "metadata": {},
   "outputs": [],
   "source": [
    "def func(x):\n",
    "    return x\n"
   ]
  },
  {
   "cell_type": "code",
   "execution_count": 35,
   "metadata": {},
   "outputs": [
    {
     "data": {
      "text/plain": [
       "'HEllo'"
      ]
     },
     "metadata": {},
     "output_type": "display_data"
    },
    {
     "data": {
      "text/plain": [
       "<function __main__.func(x)>"
      ]
     },
     "execution_count": 35,
     "metadata": {},
     "output_type": "execute_result"
    }
   ],
   "source": [
    "interact(func,x='HEllo')"
   ]
  },
  {
   "cell_type": "code",
   "execution_count": 36,
   "metadata": {},
   "outputs": [],
   "source": [
    "import ipywidgets as widgets\n"
   ]
  },
  {
   "cell_type": "code",
   "execution_count": 38,
   "metadata": {},
   "outputs": [],
   "source": [
    "w = widgets.IntSlider()"
   ]
  },
  {
   "cell_type": "code",
   "execution_count": 39,
   "metadata": {},
   "outputs": [],
   "source": [
    "from IPython.display import display"
   ]
  },
  {
   "cell_type": "code",
   "execution_count": 41,
   "metadata": {},
   "outputs": [
    {
     "data": {
      "application/vnd.jupyter.widget-view+json": {
       "model_id": "06d53aee973240189b60b088f92e2047",
       "version_major": 2,
       "version_minor": 0
      },
      "text/plain": [
       "IntSlider(value=0)"
      ]
     },
     "metadata": {},
     "output_type": "display_data"
    }
   ],
   "source": [
    "display(w)"
   ]
  },
  {
   "cell_type": "code",
   "execution_count": 44,
   "metadata": {},
   "outputs": [],
   "source": [
    "w.close()"
   ]
  },
  {
   "cell_type": "code",
   "execution_count": 51,
   "metadata": {},
   "outputs": [
    {
     "data": {
      "application/vnd.jupyter.widget-view+json": {
       "model_id": "5ba9152d176d4c419052cbc90d3fc44d",
       "version_major": 2,
       "version_minor": 0
      },
      "text/plain": [
       "RadioButtons(description='heading', options=('a', 'b', 'c'), value='a')"
      ]
     },
     "metadata": {},
     "output_type": "display_data"
    }
   ],
   "source": [
    "widgets.RadioButtons(\n",
    "    options = ['a','b','c'],\n",
    "    description = 'heading',\n",
    "    disabled = False\n",
    "    \n",
    ")"
   ]
  },
  {
   "cell_type": "code",
   "execution_count": 57,
   "metadata": {},
   "outputs": [
    {
     "name": "stdout",
     "output_type": "stream",
     "text": [
      "-f\n"
     ]
    }
   ],
   "source": [
    "import os,sys\n",
    "\n",
    "print(sys.argv[1])"
   ]
  },
  {
   "cell_type": "code",
   "execution_count": null,
   "metadata": {},
   "outputs": [],
   "source": [
    "\n",
    "\n",
    "\n"
   ]
  },
  {
   "cell_type": "code",
   "execution_count": null,
   "metadata": {},
   "outputs": [],
   "source": []
  },
  {
   "cell_type": "code",
   "execution_count": null,
   "metadata": {},
   "outputs": [],
   "source": []
  }
 ],
 "metadata": {
  "kernelspec": {
   "display_name": "Python 3",
   "language": "python",
   "name": "python3"
  },
  "language_info": {
   "codemirror_mode": {
    "name": "ipython",
    "version": 3
   },
   "file_extension": ".py",
   "mimetype": "text/x-python",
   "name": "python",
   "nbconvert_exporter": "python",
   "pygments_lexer": "ipython3",
   "version": "3.7.1"
  }
 },
 "nbformat": 4,
 "nbformat_minor": 2
}
