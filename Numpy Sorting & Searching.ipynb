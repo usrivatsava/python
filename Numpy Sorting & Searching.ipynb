{
 "cells": [
  {
   "cell_type": "code",
   "execution_count": 8,
   "metadata": {},
   "outputs": [
    {
     "name": "stdout",
     "output_type": "stream",
     "text": [
      "[[1, 2], [3, 4]]\n",
      "[[4, 3], [2, 1]]\n",
      "[[ 8  5]\n",
      " [20 13]]\n"
     ]
    }
   ],
   "source": [
    "# Write a NumPy program to compute the multiplication of two given matrixes\n",
    "import numpy as np\n",
    "a = [[1,2],[3,4]]\n",
    "b = [[4,3],[2,1]]\n",
    "print(a)\n",
    "print(b)\n",
    "result = np.dot(a,b)\n",
    "print(result)"
   ]
  },
  {
   "cell_type": "code",
   "execution_count": 24,
   "metadata": {},
   "outputs": [
    {
     "name": "stdout",
     "output_type": "stream",
     "text": [
      "[[2 1]\n",
      " [4 3]]\n",
      "[[1 2]\n",
      " [3 4]]\n",
      "[[2 1]\n",
      " [4 3]]\n",
      "\n",
      " Flattened array\n",
      "[1 2 3 4]\n"
     ]
    }
   ],
   "source": [
    "# Write a NumPy program to sort a given array of shape 2 along the first axis, last axis and on flattened array.\n",
    "a = np.array([[2,1],[4,3]])\n",
    "print(a)\n",
    "print(np.sort(a))\n",
    "print(np.sort(a,axis=0))\n",
    "print(\"\\n Flattened array\")\n",
    "print(np.sort(a,axis=None))"
   ]
  },
  {
   "cell_type": "code",
   "execution_count": 37,
   "metadata": {},
   "outputs": [
    {
     "name": "stdout",
     "output_type": "stream",
     "text": [
      "[('name', 'S15'), ('class', 'int'), ('height', 'float')]\n",
      "[('James', 5, 48.5), ('Nail', 6, 52.5), ('Paul', 5, 42.1), ('Pit', 5, 40.11)]\n",
      "\n",
      "Orignal Array: \n",
      "[(b'James', 5, 48.5 ) (b'Nail', 6, 52.5 ) (b'Paul', 5, 42.1 )\n",
      " (b'Pit', 5, 40.11)]\n",
      "\n",
      " After Sorting\n",
      "[(b'Pit', 5, 40.11) (b'Paul', 5, 42.1 ) (b'James', 5, 48.5 )\n",
      " (b'Nail', 6, 52.5 )]\n"
     ]
    }
   ],
   "source": [
    "# Write a NumPy program to create a structured array from given student name, height, class and their data types. Now sort the array on height.\n",
    "\n",
    "data_type = [('name','S15'),('class','int'),('height','float')]\n",
    "student_details = [('James', 5, 48.5), ('Nail', 6, 52.5),('Paul', 5, 42.10), ('Pit', 5, 40.11)]\n",
    "print(data_type)\n",
    "print(student_details)\n",
    "students = np.array(student_details, dtype = data_type )\n",
    "print(\"\\nOrignal Array: \")\n",
    "print(students)\n",
    "print(\"\\n After Sorting\")\n",
    "print(np.sort(students, order = 'height'))\n"
   ]
  },
  {
   "cell_type": "code",
   "execution_count": 48,
   "metadata": {},
   "outputs": [
    {
     "name": "stdout",
     "output_type": "stream",
     "text": [
      "[4 0 5 3 6 1 2]\n",
      "1682 38.0\n",
      "1023 40.0\n",
      "5241 40.0\n",
      "1671 41.0\n",
      "4532 42.0\n",
      "5202 42.0\n",
      "6230 45.0\n"
     ]
    }
   ],
   "source": [
    "# Write a NumPy program to sort the student id with increasing height of the students from given students id and height. Print the integer indices that describes the sort order by multiple columns and the sorted data.\n",
    "\n",
    "student_id = np.array([1023, 5202, 6230, 1671, 1682, 5241, 4532])\n",
    "student_height = np.array([40., 42., 45., 41., 38., 40., 42.0])\n",
    "# sort by student id and then student height\n",
    "indices = np.lexsort((student_id,student_height))\n",
    "print(indices)\n",
    "for i in indices:\n",
    "    print(student_id[i],student_height[i])"
   ]
  },
  {
   "cell_type": "code",
   "execution_count": 50,
   "metadata": {},
   "outputs": [
    {
     "name": "stdout",
     "output_type": "stream",
     "text": [
      "Original Arary: \n",
      "[1023 5202 6230 1671 1682 5241 4532]\n",
      "Sorted Array: \n",
      "[0 3 4 6 1 5 2]\n"
     ]
    }
   ],
   "source": [
    "# Write a NumPy program to get the indices of the sorted elements of a given array. Go to the editor\n",
    "\n",
    "a = np.array([1023, 5202, 6230, 1671, 1682, 5241, 4532])\n",
    "print(\"Original Arary: \")\n",
    "print(a)\n",
    "print(\"Sorted Array: \")\n",
    "res = np.argsort(a)\n",
    "print(res)"
   ]
  },
  {
   "cell_type": "code",
   "execution_count": 67,
   "metadata": {},
   "outputs": [
    {
     "name": "stdout",
     "output_type": "stream",
     "text": [
      "[0.33601938 0.42252099 0.92055825 0.28077033 0.32945027 0.95037386\n",
      " 0.94648518 0.74728426 0.47535096 0.9811908 ]\n",
      "[0.28077033 0.32945027 0.33601938 0.42252099 0.47535096 0.95037386\n",
      " 0.94648518 0.74728426 0.92055825 0.9811908 ]\n"
     ]
    }
   ],
   "source": [
    "nums = np.random.rand(10)\n",
    "print(nums)\n",
    "print(nums[np.argpartition(nums,range(5))])"
   ]
  }
 ],
 "metadata": {
  "kernelspec": {
   "display_name": "Python 3",
   "language": "python",
   "name": "python3"
  },
  "language_info": {
   "codemirror_mode": {
    "name": "ipython",
    "version": 3
   },
   "file_extension": ".py",
   "mimetype": "text/x-python",
   "name": "python",
   "nbconvert_exporter": "python",
   "pygments_lexer": "ipython3",
   "version": "3.7.1"
  }
 },
 "nbformat": 4,
 "nbformat_minor": 2
}
