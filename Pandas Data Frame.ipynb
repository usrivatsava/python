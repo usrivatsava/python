{
 "cells": [
  {
   "cell_type": "code",
   "execution_count": 25,
   "metadata": {},
   "outputs": [
    {
     "name": "stdout",
     "output_type": "stream",
     "text": [
      "Data Frame: \n",
      "        Name  Score  Attempts Qualify\n",
      "a  Anastasia   12.5         1     yes\n",
      "b       Dima    9.0         3      no\n",
      "c  Katherine   16.5         2     yes\n",
      "d      James    NaN         3      no\n",
      "e      Emily    9.0         2      no\n",
      "f    Michael   20.0         3     yes\n",
      "g    Matthew   14.5         1     yes\n",
      "h      Laura    NaN         1      no\n",
      "i      Kevin    8.0         2      no\n",
      "j      Jonas   19.0         1     yes\n",
      "First three rows of data frame: \n",
      "        Name  Score  Attempts Qualify\n",
      "a  Anastasia   12.5         1     yes\n",
      "b       Dima    9.0         3      no\n",
      "c  Katherine   16.5         2     yes\n"
     ]
    }
   ],
   "source": [
    "# Write a Pandas program to get the first 3 rows of a given DataFrame.\n",
    "\n",
    "import numpy as np\n",
    "import pandas as pd\n",
    "\n",
    "exam_data = {'Name': ['Anastasia', 'Dima', 'Katherine', 'James', 'Emily', 'Michael', 'Matthew', 'Laura', 'Kevin', 'Jonas'],\n",
    "'Score': [12.5, 9, 16.5, np.nan, 9, 20, 14.5, np.nan, 8, 19],\n",
    "'Attempts': [1, 3, 2, 3, 2, 3, 1, 1, 2, 1],\n",
    "'Qualify': ['yes', 'no', 'yes', 'no', 'no', 'yes', 'yes', 'no', 'no', 'yes']}\n",
    "labels = ['a', 'b', 'c', 'd', 'e', 'f', 'g', 'h', 'i', 'j']\n",
    "print(\"Data Frame: \")\n",
    "df = pd.DataFrame(exam_data, index = labels)\n",
    "print(df)\n",
    "print(\"First three rows of data frame: \")\n",
    "print(df.iloc[:3])"
   ]
  },
  {
   "cell_type": "code",
   "execution_count": 28,
   "metadata": {},
   "outputs": [
    {
     "name": "stdout",
     "output_type": "stream",
     "text": [
      "Name & score columns of data frame: \n",
      "        Name  Score\n",
      "a  Anastasia   12.5\n",
      "b       Dima    9.0\n",
      "c  Katherine   16.5\n",
      "d      James    NaN\n",
      "e      Emily    9.0\n",
      "f    Michael   20.0\n",
      "g    Matthew   14.5\n",
      "h      Laura    NaN\n",
      "i      Kevin    8.0\n",
      "j      Jonas   19.0\n"
     ]
    }
   ],
   "source": [
    "# Write a Pandas program to select the 'name' and 'score' columns from the following DataFrame.\n",
    "\n",
    "print(\"Name & score columns of data frame: \")\n",
    "print(df[['Name','Score']])"
   ]
  },
  {
   "cell_type": "code",
   "execution_count": 37,
   "metadata": {},
   "outputs": [
    {
     "name": "stdout",
     "output_type": "stream",
     "text": [
      "        Name  Score  Attempts Qualify\n",
      "a  Anastasia   12.5         1     yes\n",
      "b       Dima    9.0         3      no\n",
      "c  Katherine   16.5         2     yes\n",
      "d      James    NaN         3      no\n",
      "e      Emily    9.0         2      no\n",
      "f    Michael   20.0         3     yes\n",
      "g    Matthew   14.5         1     yes\n",
      "h      Laura    NaN         1      no\n",
      "i      Kevin    8.0         2      no\n",
      "j      Jonas   19.0         1     yes\n",
      "\n",
      "\n",
      "Rows with attempts greater than 2: \n",
      "      Name  Score  Attempts Qualify\n",
      "b     Dima    9.0         3      no\n",
      "d    James    NaN         3      no\n",
      "f  Michael   20.0         3     yes\n"
     ]
    }
   ],
   "source": [
    "# Write a Pandas program to select the rows where the number of attempts in the examination is greater than 2.\n",
    "\n",
    "print (df)\n",
    "print(\"\\n\")\n",
    "\n",
    "print(\"Rows with attempts greater than 2: \")\n",
    "print(df[df['Attempts']>2])"
   ]
  },
  {
   "cell_type": "code",
   "execution_count": 43,
   "metadata": {},
   "outputs": [
    {
     "name": "stdout",
     "output_type": "stream",
     "text": [
      "Count the number of rows in data frame: \n",
      "10\n",
      "Count of the numer of columns in data frame: \n",
      "4\n"
     ]
    }
   ],
   "source": [
    "# Write a Pandas program to count the number of rows and columns of a DataFrame.\n",
    "\n",
    "print(\"Count the number of rows in data frame: \")\n",
    "print(len(df.axes[0]))\n",
    "print(\"Count of the numer of columns in data frame: \")\n",
    "print(len(df.axes[1]))"
   ]
  },
  {
   "cell_type": "code",
   "execution_count": 49,
   "metadata": {},
   "outputs": [
    {
     "name": "stdout",
     "output_type": "stream",
     "text": [
      "Rows where score is missing: \n",
      "    Name  Score  Attempts Qualify\n",
      "d  James    NaN         3      no\n",
      "h  Laura    NaN         1      no\n"
     ]
    }
   ],
   "source": [
    "# Write a Pandas program to select the rows where the score is missing, i.e. is NaN\n",
    "\n",
    "print(\"Rows where score is missing: \")\n",
    "print(df[df['Score'].isnull()])"
   ]
  },
  {
   "cell_type": "code",
   "execution_count": 51,
   "metadata": {},
   "outputs": [
    {
     "name": "stdout",
     "output_type": "stream",
     "text": [
      "Rows where score is between 15 and 20: \n",
      "        Name  Score  Attempts Qualify\n",
      "c  Katherine   16.5         2     yes\n",
      "f    Michael   20.0         3     yes\n",
      "j      Jonas   19.0         1     yes\n"
     ]
    }
   ],
   "source": [
    "# Write a Pandas program to select the rows the score is between 15 and 20 (inclusive).\n",
    "\n",
    "print(\"Rows where score is between 15 and 20: \")\n",
    "print(df[df['Score'].between(15,20)])"
   ]
  },
  {
   "cell_type": "code",
   "execution_count": 59,
   "metadata": {},
   "outputs": [
    {
     "name": "stdout",
     "output_type": "stream",
     "text": [
      "rows where number of attempts in the examination is less than 2 and score greater than 15: \n",
      "        Name  Score  Attempts Qualify\n",
      "c  Katherine   16.5         2     yes\n",
      "j      Jonas   19.0         1     yes\n"
     ]
    }
   ],
   "source": [
    "# Write a Pandas program to select the rows where number of attempts in the examination is less than 2 and score greater than 15.\n",
    "\n",
    "print(\"rows where number of attempts in the examination is less than 2 and score greater than 15: \")\n",
    "print(df[(df['Attempts']<3) & (df['Score']>15)])"
   ]
  },
  {
   "cell_type": "code",
   "execution_count": 80,
   "metadata": {},
   "outputs": [
    {
     "name": "stdout",
     "output_type": "stream",
     "text": [
      "        Name  Score  Attempts Qualify\n",
      "a  Anastasia   12.5         1     yes\n",
      "b       Dima    9.0         3      no\n",
      "c  Katherine   16.5         2     yes\n",
      "d      James   11.5         3      no\n",
      "e      Emily    9.0         2      no\n",
      "f    Michael   20.0         3     yes\n",
      "g    Matthew   14.5         1     yes\n",
      "h      Laura    NaN         1      no\n",
      "i      Kevin    8.0         2      no\n",
      "j      Jonas   19.0         1     yes\n",
      "After Changing Score: \n",
      "        Name  Score  Attempts Qualify\n",
      "a  Anastasia   12.5         1     yes\n",
      "b       Dima    9.0         3      no\n",
      "c  Katherine   16.5         2     yes\n",
      "d      James   11.5         3      no\n",
      "e      Emily    9.0         2      no\n",
      "f    Michael   20.0         3     yes\n",
      "g    Matthew   14.5         1     yes\n",
      "h      Laura    NaN         1      no\n",
      "i      Kevin    8.0         2      no\n",
      "j      Jonas   19.0         1     yes\n"
     ]
    }
   ],
   "source": [
    "# Write a Pandas program to change the score in row 'd' to 11.5. \n",
    "\n",
    "print(df)\n",
    "df.loc['d','Score'] = 11.5\n",
    "print(\"After Changing Score: \")\n",
    "print(df)\n"
   ]
  },
  {
   "cell_type": "code",
   "execution_count": 87,
   "metadata": {},
   "outputs": [
    {
     "name": "stdout",
     "output_type": "stream",
     "text": [
      "Number of examination attempts by students: \n",
      "19\n"
     ]
    }
   ],
   "source": [
    "# Write a Pandas program to calculate the sum of the examination attempts by the students.\n",
    "print(\"Number of examination attempts by students: \")\n",
    "print(df['Attempts'].sum())"
   ]
  },
  {
   "cell_type": "code",
   "execution_count": 90,
   "metadata": {},
   "outputs": [
    {
     "name": "stdout",
     "output_type": "stream",
     "text": [
      "13.333333333333334\n"
     ]
    }
   ],
   "source": [
    "# Write a Pandas program to calculate the mean score for each different student in data frame.\n",
    "\n",
    "print(df['Score'].mean())"
   ]
  },
  {
   "cell_type": "code",
   "execution_count": 99,
   "metadata": {},
   "outputs": [
    {
     "name": "stdout",
     "output_type": "stream",
     "text": [
      "        Name Score Attempts Qualify\n",
      "a  Anastasia  12.5        1     yes\n",
      "b       Dima     9        3      no\n",
      "c  Katherine  16.5        2     yes\n",
      "d      James  11.5        3      no\n",
      "e      Emily     9        2      no\n",
      "f    Michael    20        3     yes\n",
      "g    Matthew  14.5        1     yes\n",
      "h      Laura   NaN        1      no\n",
      "i      Kevin     8        2      no\n",
      "j      Jonas    19        1     yes\n",
      "k     suresh  15.5        1     yes\n",
      "data frame after dropping the added row: \n",
      "        Name Score Attempts Qualify\n",
      "a  Anastasia  12.5        1     yes\n",
      "b       Dima     9        3      no\n",
      "c  Katherine  16.5        2     yes\n",
      "d      James  11.5        3      no\n",
      "e      Emily     9        2      no\n",
      "f    Michael    20        3     yes\n",
      "g    Matthew  14.5        1     yes\n",
      "h      Laura   NaN        1      no\n",
      "i      Kevin     8        2      no\n",
      "j      Jonas    19        1     yes\n"
     ]
    }
   ],
   "source": [
    "# Write a Pandas program to append a new row 'k' to DataFrame with given values for each column. Now delete the new row and return the original data frame.\n",
    "\n",
    "df.loc['k'] = ['suresh',15.5,1,'yes']\n",
    "print(df)\n",
    "# drop the added row\n",
    "df = df.drop('k')\n",
    "print(\"data frame after dropping the added row: \")\n",
    "print(df)"
   ]
  },
  {
   "cell_type": "code",
   "execution_count": 125,
   "metadata": {},
   "outputs": [
    {
     "name": "stdout",
     "output_type": "stream",
     "text": [
      "Original Data frame: \n",
      "        Name Score Attempts Qualify\n",
      "a  Anastasia  12.5        1     yes\n",
      "b       Dima     9        3      no\n",
      "c  Katherine  16.5        2     yes\n",
      "d      James  11.5        3      no\n",
      "e      Emily     9        2      no\n",
      "f    Michael    20        3     yes\n",
      "g    Matthew  14.5        1     yes\n",
      "h      Laura   NaN        1      no\n",
      "i      Kevin     8        2      no\n",
      "j      Jonas    19        1     yes\n",
      "Data Frame after name descending and score ascending: \n",
      "        Name Score Attempts Qualify\n",
      "f    Michael    20        3     yes\n",
      "g    Matthew  14.5        1     yes\n",
      "h      Laura   NaN        1      no\n",
      "i      Kevin     8        2      no\n",
      "c  Katherine  16.5        2     yes\n",
      "j      Jonas    19        1     yes\n",
      "d      James  11.5        3      no\n",
      "e      Emily     9        2      no\n",
      "b       Dima     9        3      no\n",
      "a  Anastasia  12.5        1     yes\n"
     ]
    }
   ],
   "source": [
    "# Write a Pandas program to sort the data frame first by 'name' in descending order, then by 'score' in ascending order.\n",
    "print(\"Original Data frame: \")\n",
    "print(df)\n",
    "print(\"Data Frame after name descending and score ascending: \")\n",
    "print(df.sort_values(by = ['Name','Attempts'],ascending = [False,True]))"
   ]
  },
  {
   "cell_type": "code",
   "execution_count": 158,
   "metadata": {},
   "outputs": [
    {
     "name": "stdout",
     "output_type": "stream",
     "text": [
      "Original Data Frame: \n",
      "        Name Score Attempts Qualify\n",
      "a  Anastasia  12.5        1    true\n",
      "b       Dima     9        3    true\n",
      "c  Katherine  16.5        2   false\n",
      "d      James  11.5        3   false\n",
      "e      Emily     9        2    true\n",
      "f    Michael    20        3    true\n",
      "g    Matthew  14.5        1   false\n",
      "h      Laura   NaN        1   false\n",
      "i      Kevin     8        2   false\n",
      "j      Jonas    19        1    true\n",
      "Data Fram after changing qualify values: \n",
      "        Name Score Attempts Qualify\n",
      "a  Anastasia  12.5        1     NaN\n",
      "b       Dima     9        3     NaN\n",
      "c  Katherine  16.5        2     NaN\n",
      "d      James  11.5        3     NaN\n",
      "e      Emily     9        2     NaN\n",
      "f    Michael    20        3     NaN\n",
      "g    Matthew  14.5        1     NaN\n",
      "h      Laura   NaN        1     NaN\n",
      "i      Kevin     8        2     NaN\n",
      "j      Jonas    19        1     NaN\n"
     ]
    }
   ],
   "source": [
    "# Write a Pandas program to replace the ‘qualify' column contains the values 'yes' and 'no' with True and False.\n",
    "\n",
    "print(\"Original Data Frame: \")\n",
    "print(df)\n",
    "df['Qualify'] = df['Qualify'].map({'yes': 'true','no':'false'})\n",
    "print(\"Data Fram after changing qualify values: \")\n",
    "print(df)\n",
    "\n"
   ]
  },
  {
   "cell_type": "code",
   "execution_count": 160,
   "metadata": {},
   "outputs": [
    {
     "name": "stdout",
     "output_type": "stream",
     "text": [
      "        Name Score Attempts Qualify\n",
      "a  Anastasia  12.5        1     yes\n",
      "b       Dima     9        3      no\n",
      "c  Katherine  16.5        2     yes\n",
      "d      James  11.5        3      no\n",
      "e      Emily     9        2      no\n",
      "f    Michael    20        3     yes\n",
      "g    Matthew  14.5        1     yes\n",
      "h      Laura   NaN        1      no\n",
      "i      Kevin     8        2      no\n",
      "j      Jonas    19        1     yes\n"
     ]
    }
   ],
   "source": [
    "df['Qualify'] = ['yes', 'no', 'yes', 'no', 'no', 'yes', 'yes', 'no', 'no', 'yes']\n",
    "print (df)"
   ]
  },
  {
   "cell_type": "code",
   "execution_count": 169,
   "metadata": {},
   "outputs": [
    {
     "name": "stdout",
     "output_type": "stream",
     "text": [
      "        Name  Score  Attempts Qualify\n",
      "a  Anastasia   12.5         1     yes\n",
      "b       Dima    9.0         3      no\n",
      "c  Katherine   16.5         2     yes\n",
      "d     Suresh    NaN         3      no\n",
      "e      Emily    9.0         2      no\n",
      "f    Michael   20.0         3     yes\n",
      "g    Matthew   14.5         1     yes\n",
      "h      Laura    NaN         1      no\n",
      "i      Kevin    8.0         2      no\n",
      "j      Jonas   19.0         1     yes\n"
     ]
    }
   ],
   "source": [
    "# Write a Pandas program to change the name 'James' to 'Suresh' in name column of the data frame.\n",
    "\n",
    "df['Name']= df['Name'].replace('James','Suresh')\n",
    "print(df)"
   ]
  },
  {
   "cell_type": "code",
   "execution_count": 182,
   "metadata": {},
   "outputs": [
    {
     "name": "stdout",
     "output_type": "stream",
     "text": [
      "        Name  Score  Attempts Qualify\n",
      "a  Anastasia   12.5         1     yes\n",
      "b       Dima    9.0         3      no\n",
      "c  Katherine   16.5         2     yes\n",
      "d      James    NaN         3      no\n",
      "e      Emily    9.0         2      no\n",
      "f    Michael   20.0         3     yes\n",
      "g    Matthew   14.5         1     yes\n",
      "h      Laura    NaN         1      no\n",
      "i      Kevin    8.0         2      no\n",
      "j      Jonas   19.0         1     yes\n",
      "        Name  Score Qualify\n",
      "a  Anastasia   12.5     yes\n",
      "b       Dima    9.0      no\n",
      "c  Katherine   16.5     yes\n",
      "d      James    NaN      no\n",
      "e      Emily    9.0      no\n",
      "f    Michael   20.0     yes\n",
      "g    Matthew   14.5     yes\n",
      "h      Laura    NaN      no\n",
      "i      Kevin    8.0      no\n",
      "j      Jonas   19.0     yes\n"
     ]
    }
   ],
   "source": [
    "# Write a Pandas program to delete the 'attempts' column from the DataFrame.\n",
    "\n",
    "print(df)\n",
    "df.pop('Attempts')\n",
    "print(df)"
   ]
  },
  {
   "cell_type": "code",
   "execution_count": 190,
   "metadata": {},
   "outputs": [
    {
     "name": "stdout",
     "output_type": "stream",
     "text": [
      "        Name  Score  Attempts Qualify   Color\n",
      "a  Anastasia   12.5         1     yes     Red\n",
      "b       Dima    9.0         3      no    Blue\n",
      "c  Katherine   16.5         2     yes  Orange\n",
      "d      James    NaN         3      no     Red\n",
      "e      Emily    9.0         2      no   White\n",
      "f    Michael   20.0         3     yes   White\n",
      "g    Matthew   14.5         1     yes    Blue\n",
      "h      Laura    NaN         1      no   Green\n",
      "i      Kevin    8.0         2      no   Green\n",
      "j      Jonas   19.0         1     yes     Red\n"
     ]
    }
   ],
   "source": [
    "# Write a Pandas program to insert a new column in existing DataFrame.\n",
    "\n",
    "Color = ['Red','Blue','Orange','Red','White','White','Blue','Green','Green','Red']\n",
    "df['Color'] = Color\n",
    "print (df)"
   ]
  },
  {
   "cell_type": "code",
   "execution_count": 210,
   "metadata": {},
   "outputs": [
    {
     "name": "stdout",
     "output_type": "stream",
     "text": [
      "        name  score\n",
      "0  Anastasia   12.5\n",
      "1       Dima    9.0\n",
      "2  Katherine   16.5\n",
      "\n",
      "\n",
      "After iterating through each row: \n",
      "Anastasia 12.5\n",
      "Dima 9.0\n",
      "Katherine 16.5\n"
     ]
    }
   ],
   "source": [
    "# Write a Pandas program to iterate over rows in a DataFrame.\n",
    "\n",
    "exam_data = [{'name':'Anastasia', 'score':12.5}, {'name':'Dima','score':9}, {'name':'Katherine','score':16.5}]\n",
    "df1 = pd.DataFrame(exam_data)\n",
    "print(df1)\n",
    "print(\"\\n\")\n",
    "print(\"After iterating through each row: \")\n",
    "for index, row  in df1.iterrows():\n",
    "    print(row['name'], row['score'])\n",
    "#    print(row['name'],row['score'])"
   ]
  },
  {
   "cell_type": "code",
   "execution_count": 219,
   "metadata": {},
   "outputs": [
    {
     "name": "stdout",
     "output_type": "stream",
     "text": [
      "        Name  Score  Attempts Qualify   Color\n",
      "a  Anastasia   12.5         1     yes     Red\n",
      "b       Dima    9.0         3      no    Blue\n",
      "c  Katherine   16.5         2     yes  Orange\n",
      "d      James    NaN         3      no     Red\n",
      "e      Emily    9.0         2      no   White\n",
      "f    Michael   20.0         3     yes   White\n",
      "g    Matthew   14.5         1     yes    Blue\n",
      "h      Laura    NaN         1      no   Green\n",
      "i      Kevin    8.0         2      no   Green\n",
      "j      Jonas   19.0         1     yes     Red\n",
      "['Name' 'Score' 'Attempts' 'Qualify' 'Color']\n",
      "['Name', 'Score', 'Attempts', 'Qualify', 'Color']\n"
     ]
    }
   ],
   "source": [
    "# Write a Pandas program to get list from DataFrame column headers. \n",
    "print(df)\n",
    "lis = df.columns.values\n",
    "print(lis)\n",
    "print(list(lis))\n"
   ]
  },
  {
   "cell_type": "code",
   "execution_count": 6,
   "metadata": {},
   "outputs": [
    {
     "name": "stdout",
     "output_type": "stream",
     "text": [
      "   col1  col2  col3\n",
      "0     1     4     7\n",
      "1     2     5     8\n",
      "2     3     6     9\n",
      "   column1  column2  column3\n",
      "0        1        4        7\n",
      "1        2        5        8\n",
      "2        3        6        9\n"
     ]
    }
   ],
   "source": [
    "# Write a Pandas program to rename columns of a given DataFrame.\n",
    "\n",
    "import pandas as pd\n",
    "d = {'col1': [1, 2, 3], 'col2': [4, 5, 6], 'col3': [7, 8, 9]}\n",
    "df1 = pd.DataFrame(data=d)\n",
    "print(df1)\n",
    "list(df1.columns.values)\n",
    "df1=df1.rename(columns={'col1':'column1','col2':'column2','col3':'column3'})\n",
    "print(df1)"
   ]
  },
  {
   "cell_type": "code",
   "execution_count": 18,
   "metadata": {},
   "outputs": [
    {
     "name": "stdout",
     "output_type": "stream",
     "text": [
      "   col1  col2  col3\n",
      "0     1     4     7\n",
      "1     4     5     8\n",
      "2     3     6     9\n",
      "3     4     7     0\n",
      "4     5     8     1\n"
     ]
    },
    {
     "data": {
      "text/html": [
       "<div>\n",
       "<style scoped>\n",
       "    .dataframe tbody tr th:only-of-type {\n",
       "        vertical-align: middle;\n",
       "    }\n",
       "\n",
       "    .dataframe tbody tr th {\n",
       "        vertical-align: top;\n",
       "    }\n",
       "\n",
       "    .dataframe thead th {\n",
       "        text-align: right;\n",
       "    }\n",
       "</style>\n",
       "<table border=\"1\" class=\"dataframe\">\n",
       "  <thead>\n",
       "    <tr style=\"text-align: right;\">\n",
       "      <th></th>\n",
       "      <th>col1</th>\n",
       "      <th>col2</th>\n",
       "      <th>col3</th>\n",
       "    </tr>\n",
       "  </thead>\n",
       "  <tbody>\n",
       "    <tr>\n",
       "      <th>1</th>\n",
       "      <td>4</td>\n",
       "      <td>5</td>\n",
       "      <td>8</td>\n",
       "    </tr>\n",
       "    <tr>\n",
       "      <th>3</th>\n",
       "      <td>4</td>\n",
       "      <td>7</td>\n",
       "      <td>0</td>\n",
       "    </tr>\n",
       "  </tbody>\n",
       "</table>\n",
       "</div>"
      ],
      "text/plain": [
       "   col1  col2  col3\n",
       "1     4     5     8\n",
       "3     4     7     0"
      ]
     },
     "execution_count": 18,
     "metadata": {},
     "output_type": "execute_result"
    }
   ],
   "source": [
    "# Write a Pandas program to select rows from a given DataFrame based on values in some columns.\n",
    "d = {'col1': [1, 4, 3, 4, 5], 'col2': [4, 5, 6, 7, 8], 'col3': [7, 8, 9, 0, 1]}\n",
    "df1 = pd.DataFrame(data=d)\n",
    "print(df1)\n",
    "df1[df1['col1']==4]"
   ]
  },
  {
   "cell_type": "code",
   "execution_count": 26,
   "metadata": {},
   "outputs": [
    {
     "name": "stdout",
     "output_type": "stream",
     "text": [
      "        name  score  attempts qualify\n",
      "0  Anastasia   12.5         1     yes\n",
      "1       Dima    9.0         3      no\n",
      "2  Katherine   16.5         2     yes\n",
      "3      James    NaN         3      no\n",
      "4      Emily    9.0         2      no\n",
      "5    Michael   20.0         3     yes\n",
      "6    Matthew   14.5         1     yes\n",
      "7      Laura    NaN         1      no\n",
      "8      Kevin    8.0         2      no\n",
      "9      Jonas   19.0         1     yes\n",
      "        name  score  attempts qualify\n",
      "0  Anastasia   12.5         1     yes\n",
      "1       Dima    9.0         3      no\n",
      "2  Katherine   16.5         2     yes\n",
      "3      James    0.0         3      no\n",
      "4      Emily    9.0         2      no\n",
      "5    Michael   20.0         3     yes\n",
      "6    Matthew   14.5         1     yes\n",
      "7      Laura    0.0         1      no\n",
      "8      Kevin    8.0         2      no\n",
      "9      Jonas   19.0         1     yes\n"
     ]
    }
   ],
   "source": [
    "# Write a Pandas program to replace all the NaN values with Zero's in a column of a dataframe.\n",
    "\n",
    "import numpy as np\n",
    "exam_data = {'name': ['Anastasia', 'Dima', 'Katherine', 'James', 'Emily', 'Michael', 'Matthew', 'Laura', 'Kevin', 'Jonas'],\n",
    "        'score': [12.5, 9, 16.5, np.nan, 9, 20, 14.5, np.nan, 8, 19],\n",
    "        'attempts': [1, 3, 2, 3, 2, 3, 1, 1, 2, 1],\n",
    "        'qualify': ['yes', 'no', 'yes', 'no', 'no', 'yes', 'yes', 'no', 'no', 'yes']}\n",
    "df = pd.DataFrame(exam_data)\n",
    "print(df)\n",
    "df = df.fillna(0)\n",
    "print(df)"
   ]
  },
  {
   "cell_type": "code",
   "execution_count": 33,
   "metadata": {},
   "outputs": [
    {
     "name": "stdout",
     "output_type": "stream",
     "text": [
      "Original data frame: \n",
      "        name  score  attempts qualify\n",
      "0  Anastasia   12.5         1     yes\n",
      "1       Dima    9.0         3      no\n",
      "2  Katherine   16.5         2     yes\n",
      "3      James    0.0         3      no\n",
      "4      Emily   12.0         2      no\n",
      "5    Michael   20.0         3     yes\n",
      "6    Matthew   14.5         1     yes\n",
      "7      Laura    0.0         1      no\n",
      "8      Kevin    8.0         2      no\n",
      "9      Jonas   19.0         1     yes\n",
      "        name  score  attempts qualify\n",
      "0  Anastasia   12.5         1     yes\n",
      "1       Dima    9.0         3      no\n",
      "2  Katherine   16.5         2     yes\n",
      "3      James    0.0         3      no\n",
      "4      Emily   12.0         2      no\n",
      "5    Michael   20.0         3     yes\n",
      "6    Matthew   14.5         1     yes\n",
      "7      Laura    0.0         1      no\n",
      "8      Kevin    8.0         2      no\n",
      "9      Jonas   19.0         1     yes\n"
     ]
    },
    {
     "name": "stderr",
     "output_type": "stream",
     "text": [
      "C:\\Users\\suppuletix067037\\AppData\\Local\\Continuum\\anaconda3\\lib\\site-packages\\ipykernel_launcher.py:4: FutureWarning: set_value is deprecated and will be removed in a future release. Please use .at[] or .iat[] accessors instead\n",
      "  after removing the cwd from sys.path.\n"
     ]
    }
   ],
   "source": [
    "# Write a Pandas program to set a given value for particular cell in DataFrame using index value.\n",
    "print(\"Original data frame: \")\n",
    "print(df)\n",
    "df_new = df.set_value(4,'score',12.0)\n",
    "print(df_new)"
   ]
  },
  {
   "cell_type": "code",
   "execution_count": 16,
   "metadata": {},
   "outputs": [
    {
     "name": "stdout",
     "output_type": "stream",
     "text": [
      "        name  score  attempts qualify\n",
      "0  Anastasia   12.5         1     yes\n",
      "1       Dima    9.0         3      no\n",
      "2  Katherine   16.5         2     yes\n",
      "3      James    NaN         3      no\n",
      "4      Emily    9.0         2      no\n",
      "5    Michael   20.0         3     yes\n",
      "6    Matthew   14.5         1     yes\n",
      "7      Laura    NaN         1      no\n",
      "8      Kevin    8.0         2      no\n",
      "9      Jonas   19.0         1     yes\n"
     ]
    },
    {
     "data": {
      "text/plain": [
       "2"
      ]
     },
     "execution_count": 16,
     "metadata": {},
     "output_type": "execute_result"
    }
   ],
   "source": [
    "# Count number of Nan values in one or more columns\n",
    "import pandas as pd\n",
    "import numpy as np\n",
    "exam_data = {'name': ['Anastasia', 'Dima', 'Katherine', 'James', 'Emily', 'Michael', 'Matthew', 'Laura', 'Kevin', 'Jonas'],\n",
    "        'score': [12.5, 9, 16.5, np.nan, 9, 20, 14.5, np.nan, 8, 19],\n",
    "        'attempts': [1, 3, 2, 3, 2, 3, 1, 1, 2, 1],\n",
    "        'qualify': ['yes', 'no', 'yes', 'no', 'no', 'yes', 'yes', 'no', 'no', 'yes']}\n",
    "df = pd.DataFrame(exam_data)\n",
    "print(df)\n",
    "\n",
    "df.isnull().values.sum()"
   ]
  },
  {
   "cell_type": "code",
   "execution_count": 39,
   "metadata": {},
   "outputs": [
    {
     "name": "stdout",
     "output_type": "stream",
     "text": [
      "   col1  col2  col3\n",
      "0     1     4     7\n",
      "1     4     5     8\n",
      "2     3     6     9\n",
      "3     4     7     0\n",
      "4     5     8     1\n",
      "   col1  col2  col3\n",
      "1     4     5     8\n",
      "3     4     7     0\n",
      "4     5     8     1\n"
     ]
    }
   ],
   "source": [
    "# drop rows from a data frame\n",
    "\n",
    "d = {'col1': [1, 4, 3, 4, 5], 'col2': [4, 5, 6, 7, 8], 'col3': [7, 8, 9, 0, 1]}\n",
    "df1 = pd.DataFrame(data=d)\n",
    "print(df1)\n",
    "df1 = df1.drop(df1.index[[0,2]])\n",
    "print(df1)\n"
   ]
  },
  {
   "cell_type": "code",
   "execution_count": 43,
   "metadata": {},
   "outputs": [
    {
     "name": "stdout",
     "output_type": "stream",
     "text": [
      "        name  score  attempts qualify\n",
      "0  Anastasia   12.5         1     yes\n",
      "1       Dima    9.0         3      no\n",
      "2  Katherine   16.5         2     yes\n",
      "3      James    NaN         3      no\n",
      "4      Emily    9.0         2      no\n",
      "5    Michael   20.0         3     yes\n",
      "6    Matthew   14.5         1     yes\n",
      "7      Laura    NaN         1      no\n",
      "8      Kevin    8.0         2      no\n",
      "9      Jonas   19.0         1     yes\n",
      "After resetting index: \n",
      "        name  score  attempts qualify\n",
      "0  Anastasia   12.5         1     yes\n",
      "1       Dima    9.0         3      no\n",
      "2  Katherine   16.5         2     yes\n",
      "3      James    NaN         3      no\n",
      "4      Emily    9.0         2      no\n",
      "5    Michael   20.0         3     yes\n",
      "6    Matthew   14.5         1     yes\n",
      "7      Laura    NaN         1      no\n",
      "8      Kevin    8.0         2      no\n",
      "9      Jonas   19.0         1     yes\n"
     ]
    }
   ],
   "source": [
    "# Reset index of data fram\n",
    "\n",
    "print(df)\n",
    "df.reset_index()\n",
    "print(\"After resetting index: \")\n",
    "print(df)\n"
   ]
  },
  {
   "cell_type": "code",
   "execution_count": 51,
   "metadata": {},
   "outputs": [
    {
     "name": "stdout",
     "output_type": "stream",
     "text": [
      "0       100\n",
      "1       200\n",
      "2    python\n",
      "3    300.12\n",
      "4       400\n",
      "dtype: object\n",
      "0       10\n",
      "1       20\n",
      "2      php\n",
      "3    30.12\n",
      "4       40\n",
      "dtype: object\n",
      " Data Frame: \n",
      "        0      1\n",
      "0     100     10\n",
      "1     200     20\n",
      "2  python    php\n",
      "3  300.12  30.12\n",
      "4     400     40\n"
     ]
    }
   ],
   "source": [
    "# append two series to form a data frame\n",
    "\n",
    "s1 = pd.Series(['100', '200', 'python', '300.12', '400'])\n",
    "s2 = pd.Series(['10', '20', 'php', '30.12', '40'])\n",
    "print(s1)\n",
    "print(s2) \n",
    "d_series = pd.concat([s1,s2],axis =1)\n",
    "print(\" Data Frame: \")\n",
    "print(d_series)"
   ]
  },
  {
   "cell_type": "code",
   "execution_count": 66,
   "metadata": {},
   "outputs": [
    {
     "name": "stdout",
     "output_type": "stream",
     "text": [
      "        name  score  attempts qualify\n",
      "0  Anastasia   12.5         1     yes\n",
      "1       Dima    9.0         3      no\n",
      "2  Katherine   16.5         2     yes\n",
      "3      James    NaN         3      no\n",
      "4      Emily    9.0         2      no\n",
      "5    Michael   20.0         3     yes\n",
      "6    Matthew   14.5         1     yes\n",
      "7      Laura    NaN         1      no\n",
      "8      Kevin    8.0         2      no\n",
      "9      Jonas   19.0         1     yes\n",
      "        name  score  attempts qualify\n",
      "4      Emily    9.0         2      no\n",
      "5    Michael   20.0         3     yes\n",
      "1       Dima    9.0         3      no\n",
      "3      James    NaN         3      no\n",
      "0  Anastasia   12.5         1     yes\n",
      "2  Katherine   16.5         2     yes\n",
      "6    Matthew   14.5         1     yes\n",
      "8      Kevin    8.0         2      no\n",
      "9      Jonas   19.0         1     yes\n",
      "7      Laura    NaN         1      no\n"
     ]
    }
   ],
   "source": [
    "# Shuffle the dataframe rows\n",
    "\n",
    "print(df)\n",
    "print(df.sample(frac=1))"
   ]
  },
  {
   "cell_type": "code",
   "execution_count": 73,
   "metadata": {},
   "outputs": [
    {
     "name": "stdout",
     "output_type": "stream",
     "text": [
      "String Date:\n",
      "0    3/11/2000\n",
      "1    3/12/2000\n",
      "2    3/13/2000\n",
      "dtype: object\n",
      "0   2000-03-11\n",
      "1   2000-03-12\n",
      "2   2000-03-13\n",
      "dtype: datetime64[ns]\n",
      "Data Frame of data type Datetime: \n",
      "           0\n",
      "0 2000-03-11\n",
      "1 2000-03-12\n",
      "2 2000-03-13\n"
     ]
    }
   ],
   "source": [
    "#  Convert string datatype to date time\n",
    "\n",
    "s = pd.Series(['3/11/2000', '3/12/2000', '3/13/2000'])\n",
    "print(\"String Date:\")\n",
    "print(s)\n",
    "\n",
    "r = pd.to_datetime(pd.Series(s))\n",
    "print(r)\n",
    "df_date = pd.DataFrame(r)\n",
    "print(\"Data Frame of data type Datetime: \")\n",
    "print(df_date)"
   ]
  },
  {
   "cell_type": "code",
   "execution_count": 79,
   "metadata": {},
   "outputs": [
    {
     "name": "stdout",
     "output_type": "stream",
     "text": [
      "Original DataFrame\n",
      "   col1  col2  col3\n",
      "0     1     4     7\n",
      "1     2     5     8\n",
      "2     3     6     9\n",
      "[4, 5, 6]\n"
     ]
    }
   ],
   "source": [
    "# list of specified columns of data fram\n",
    "d = {'col1': [1, 2, 3], 'col2': [4, 5, 6], 'col3': [7, 8, 9]}\n",
    "df = pd.DataFrame(data=d)\n",
    "print(\"Original DataFrame\")\n",
    "print(df)\n",
    "\n",
    "print(list(df['col2']))"
   ]
  },
  {
   "cell_type": "code",
   "execution_count": 85,
   "metadata": {},
   "outputs": [
    {
     "name": "stdout",
     "output_type": "stream",
     "text": [
      "Original DataFrame\n",
      "   col1  col2  col3\n",
      "0     1     4     7\n",
      "1     2     5     8\n",
      "2     3     6    12\n",
      "3     4     9     1\n",
      "4     7     5    11\n",
      "col1 is available in data frame\n",
      "Index(['col1', 'col2', 'col3'], dtype='object')\n",
      "[[ 1  4  7]\n",
      " [ 2  5  8]\n",
      " [ 3  6 12]\n",
      " [ 4  9  1]\n",
      " [ 7  5 11]]\n"
     ]
    }
   ],
   "source": [
    "# if a given column is there in data frame\n",
    "\n",
    "d = {'col1': [1, 2, 3, 4, 7], 'col2': [4, 5, 6, 9, 5], 'col3': [7, 8, 12, 1, 11]}\n",
    "df = pd.DataFrame(data=d)\n",
    "print(\"Original DataFrame\")\n",
    "print(df)\n",
    "\n",
    "if 'col1' in df:\n",
    "    print(\"col1 is available in data frame\")\n",
    "else:\n",
    "    print(\"col1 is not available in data fram\")\n",
    "\n",
    "print(df.columns)\n",
    "print(df.values)"
   ]
  },
  {
   "cell_type": "code",
   "execution_count": 89,
   "metadata": {},
   "outputs": [
    {
     "name": "stdout",
     "output_type": "stream",
     "text": [
      "Original DataFrame:\n",
      "        name  score  attempts qualify\n",
      "0  Anastasia   12.5         1     yes\n",
      "1       Dima    9.0         3      no\n",
      "2  Katherine   16.5         2     yes\n",
      "3      James    NaN         3      no\n",
      "4      Emily    9.0         2      no\n",
      "5    Michael   20.0         3     yes\n",
      "6    Matthew   14.5         1     yes\n",
      "7      Laura    NaN         1      no\n",
      "8      Kevin    8.0         2      no\n",
      "9      Jonas   19.0         1     yes\n",
      "Data Type of columns: \n",
      "name         object\n",
      "score       float64\n",
      "attempts      int64\n",
      "qualify      object\n",
      "dtype: object\n"
     ]
    }
   ],
   "source": [
    "# data types of columns\n",
    "\n",
    "exam_data = {'name': ['Anastasia', 'Dima', 'Katherine', 'James', 'Emily', 'Michael', 'Matthew', 'Laura', 'Kevin', 'Jonas'],\n",
    "        'score': [12.5, 9, 16.5, np.nan, 9, 20, 14.5, np.nan, 8, 19],\n",
    "        'attempts': [1, 3, 2, 3, 2, 3, 1, 1, 2, 1],\n",
    "        'qualify': ['yes', 'no', 'yes', 'no', 'no', 'yes', 'yes', 'no', 'no', 'yes']}\n",
    "df = pd.DataFrame(exam_data)\n",
    "print(\"Original DataFrame:\")\n",
    "print(df)\n",
    "print(\"Data Type of columns: \")\n",
    "print(df.dtypes)"
   ]
  },
  {
   "cell_type": "code",
   "execution_count": 101,
   "metadata": {},
   "outputs": [
    {
     "name": "stdout",
     "output_type": "stream",
     "text": [
      "Original DataFrame:\n",
      "        name  score  attempts qualify\n",
      "0  Anastasia  12.50         1     yes\n",
      "1       Dima   9.10         3      no\n",
      "2  Katherine  16.50         2     yes\n",
      "3      James  12.77         3      no\n",
      "4      Emily   9.21         2      no\n",
      "5    Michael  20.22         3     yes\n",
      "6    Matthew  14.50         1     yes\n",
      "7      Laura  11.34         1      no\n",
      "8      Kevin   8.80         2      no\n",
      "9      Jonas  19.13         1     yes\n",
      "Data Frame after sorting: \n",
      "        name  score  attempts qualify\n",
      "0  Anastasia  12.50         1     yes\n",
      "9      Jonas  19.13         1     yes\n",
      "7      Laura  11.34         1      no\n",
      "6    Matthew  14.50         1     yes\n",
      "4      Emily   9.21         2      no\n",
      "2  Katherine  16.50         2     yes\n",
      "8      Kevin   8.80         2      no\n",
      "1       Dima   9.10         3      no\n",
      "3      James  12.77         3      no\n",
      "5    Michael  20.22         3     yes\n"
     ]
    }
   ],
   "source": [
    "# Write a Pandas program to sort a given DataFrame by two or more columns.\n",
    "\n",
    "exam_data = {'name': ['Anastasia', 'Dima', 'Katherine', 'James', 'Emily', 'Michael', 'Matthew', 'Laura', 'Kevin', 'Jonas'],\n",
    "        'score': [12.5, 9.1, 16.5, 12.77, 9.21, 20.22, 14.5, 11.34, 8.8, 19.13],\n",
    "        'attempts': [1, 3, 2, 3, 2, 3, 1, 1, 2, 1],\n",
    "        'qualify': ['yes', 'no', 'yes', 'no', 'no', 'yes', 'yes', 'no', 'no', 'yes']}\n",
    "df = pd.DataFrame(exam_data)\n",
    "print(\"Original DataFrame:\")\n",
    "print(df)\n",
    "print(\"Data Frame after sorting: \")\n",
    "print(df.sort_values(['attempts','name'],ascending=[True,True]))"
   ]
  },
  {
   "cell_type": "code",
   "execution_count": 104,
   "metadata": {},
   "outputs": [
    {
     "name": "stdout",
     "output_type": "stream",
     "text": [
      "Original DataFrame:\n",
      "        name  score  attempts qualify\n",
      "0  Anastasia  12.50         1     yes\n",
      "1       Dima   9.10         3      no\n",
      "2  Katherine  16.50         2     yes\n",
      "3      James  12.77         3      no\n",
      "4      Emily   9.21         2      no\n",
      "5    Michael  20.22         3     yes\n",
      "6    Matthew  14.50         1     yes\n",
      "7      Laura  11.34         1      no\n",
      "8      Kevin   8.80         2      no\n",
      "9      Jonas  19.13         1     yes\n",
      "name         object\n",
      "score       float64\n",
      "attempts      int64\n",
      "qualify      object\n",
      "dtype: object\n",
      "Data Types after changing columns score: \n",
      "name        object\n",
      "score        int32\n",
      "attempts     int64\n",
      "qualify     object\n",
      "dtype: object\n"
     ]
    }
   ],
   "source": [
    "# Write a Pandas program to convert the datatype of a given column(floats to int).\n",
    "\n",
    "exam_data = {'name': ['Anastasia', 'Dima', 'Katherine', 'James', 'Emily', 'Michael', 'Matthew', 'Laura', 'Kevin', 'Jonas'],\n",
    "        'score': [12.5, 9.1, 16.5, 12.77, 9.21, 20.22, 14.5, 11.34, 8.8, 19.13],\n",
    "        'attempts': [1, 3, 2, 3, 2, 3, 1, 1, 2, 1],\n",
    "        'qualify': ['yes', 'no', 'yes', 'no', 'no', 'yes', 'yes', 'no', 'no', 'yes']}\n",
    "df = pd.DataFrame(exam_data)\n",
    "print(\"Original DataFrame:\")\n",
    "print(df)\n",
    "print(df.dtypes)\n",
    "df.score = df.score.astype(int)\n",
    "print(\"Data Types after changing columns score: \")\n",
    "print(df.dtypes)"
   ]
  },
  {
   "cell_type": "code",
   "execution_count": 113,
   "metadata": {},
   "outputs": [
    {
     "name": "stdout",
     "output_type": "stream",
     "text": [
      "Original DataFrame\n",
      "   col1  col2  col3\n",
      "0     1     4     7\n",
      "1     2     5     8\n",
      "2     3     6    12\n",
      "3     4     9     1\n",
      "4     7     5    11\n"
     ]
    },
    {
     "data": {
      "text/plain": [
       "2"
      ]
     },
     "execution_count": 113,
     "metadata": {},
     "output_type": "execute_result"
    }
   ],
   "source": [
    "# Write a Pandas program to get column index from column name of a given DataFrame\n",
    "\n",
    "d = {'col1': [1, 2, 3, 4, 7], 'col2': [4, 5, 6, 9, 5], 'col3': [7, 8, 12, 1, 11]}\n",
    "df = pd.DataFrame(data=d)\n",
    "print(\"Original DataFrame\")\n",
    "print(df)\n",
    "df.columns.get_loc('col3')"
   ]
  },
  {
   "cell_type": "code",
   "execution_count": 116,
   "metadata": {},
   "outputs": [
    {
     "name": "stdout",
     "output_type": "stream",
     "text": [
      "Index(['col1', 'col2', 'col3'], dtype='object')\n",
      " count of number of columns: \n",
      "3\n"
     ]
    }
   ],
   "source": [
    "# Write a Pandas program to count number of columns of a DataFrame.\n",
    "\n",
    "print(df.columns)\n",
    "print(\" count of number of columns: \")\n",
    "print(len(df.columns))"
   ]
  },
  {
   "cell_type": "code",
   "execution_count": 121,
   "metadata": {},
   "outputs": [
    {
     "name": "stdout",
     "output_type": "stream",
     "text": [
      "Original DataFrame\n",
      "   col1  col2  col3\n",
      "0     1     4     7\n",
      "1     2     5     5\n",
      "2     3     6     8\n",
      "3     4     9    12\n",
      "4     7     5     1\n",
      "5    11     0    11\n",
      " First 4 records of data frame: \n",
      "   col1  col2  col3\n",
      "0     1     4     7\n",
      "1     2     5     5\n",
      "2     3     6     8\n",
      "3     4     9    12\n",
      "   col1  col2  col3\n",
      "0     1     4     7\n",
      "1     2     5     5\n",
      "2     3     6     8\n",
      "3     4     9    12\n"
     ]
    }
   ],
   "source": [
    "# Write a Pandas program to get first n records of a DataFrame. \n",
    "\n",
    "d = {'col1': [1, 2, 3, 4, 7, 11], 'col2': [4, 5, 6, 9, 5, 0], 'col3': [7, 5, 8, 12, 1,11]}\n",
    "df = pd.DataFrame(data=d)\n",
    "print(\"Original DataFrame\")\n",
    "print(df)\n",
    "print(\" First 4 records of data frame: \")\n",
    "print(df.loc[0:3])\n",
    "print(df.head(4))"
   ]
  },
  {
   "cell_type": "code",
   "execution_count": 129,
   "metadata": {},
   "outputs": [
    {
     "name": "stdout",
     "output_type": "stream",
     "text": [
      "   col1  col2  col3\n",
      "0     1     4     7\n",
      "1     2     5     5\n",
      "2     3     6     8\n",
      "3     4     9    12\n",
      "4     7     5     1\n",
      "5    11     0    11\n",
      "Last n records of data frame: \n",
      "   col1  col2  col3\n",
      "3     4     9    12\n",
      "4     7     5     1\n",
      "5    11     0    11\n"
     ]
    }
   ],
   "source": [
    "# Write a Pandas program to get last n records of a DataFrame.\n",
    "\n",
    "print(df)\n",
    "print(\"Last n records of data frame: \")\n",
    "print(df.tail(3))"
   ]
  },
  {
   "cell_type": "code",
   "execution_count": 137,
   "metadata": {},
   "outputs": [
    {
     "name": "stdout",
     "output_type": "stream",
     "text": [
      "   col1  col2  col3\n",
      "0     1     4     7\n",
      "1     2     5     5\n",
      "2     3     6     8\n",
      "3     4     9    12\n",
      "4     7     5     1\n",
      "5    11     0    11\n",
      " Data Fram after removing first n records: \n",
      "   col1  col2  col3\n",
      "3     4     9    12\n",
      "4     7     5     1\n",
      "5    11     0    11\n"
     ]
    }
   ],
   "source": [
    "# Write a Pandas program to remove first n rows of a given DataFrame.\n",
    "\n",
    "print(df)\n",
    "print(\" Data Fram after removing first n records: \")\n",
    "df1 = df.loc[3:]\n",
    "print(df1)"
   ]
  },
  {
   "cell_type": "code",
   "execution_count": 138,
   "metadata": {},
   "outputs": [
    {
     "name": "stdout",
     "output_type": "stream",
     "text": [
      "   col1  col2  col3\n",
      "0     1     4     7\n",
      "1     2     5     5\n",
      "2     3     6     8\n",
      "3     4     9    12\n",
      "4     7     5     1\n",
      "5    11     0    11\n",
      " Data Fram after removing first n records: \n",
      "   col1  col2  col3\n",
      "0     1     4     7\n",
      "1     2     5     5\n",
      "2     3     6     8\n",
      "3     4     9    12\n"
     ]
    }
   ],
   "source": [
    "# Write a Pandas program to remove last n rows of a given DataFrame.\n",
    "\n",
    "print(df)\n",
    "print(\" Data Fram after removing first n records: \")\n",
    "df1 = df.loc[0:3]\n",
    "print(df1)"
   ]
  },
  {
   "cell_type": "code",
   "execution_count": null,
   "metadata": {},
   "outputs": [],
   "source": []
  }
 ],
 "metadata": {
  "kernelspec": {
   "display_name": "Python 3",
   "language": "python",
   "name": "python3"
  },
  "language_info": {
   "codemirror_mode": {
    "name": "ipython",
    "version": 3
   },
   "file_extension": ".py",
   "mimetype": "text/x-python",
   "name": "python",
   "nbconvert_exporter": "python",
   "pygments_lexer": "ipython3",
   "version": "3.7.1"
  }
 },
 "nbformat": 4,
 "nbformat_minor": 2
}
