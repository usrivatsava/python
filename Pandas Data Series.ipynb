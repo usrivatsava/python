{
 "cells": [
  {
   "cell_type": "code",
   "execution_count": 6,
   "metadata": {},
   "outputs": [
    {
     "name": "stdout",
     "output_type": "stream",
     "text": [
      "0    2\n",
      "1    3\n",
      "2    4\n",
      "3    5\n",
      "dtype: int64\n"
     ]
    }
   ],
   "source": [
    "# Write a Python program to create and display a one-dimensional array-like object containing an array of data using Pandas module\n",
    "\n",
    "import pandas as pd\n",
    " \n",
    "res = pd.Series([2,3,4,5])\n",
    "print(res)"
   ]
  },
  {
   "cell_type": "code",
   "execution_count": 11,
   "metadata": {},
   "outputs": [
    {
     "name": "stdout",
     "output_type": "stream",
     "text": [
      "<class 'pandas.core.series.Series'>\n",
      "[2, 3, 4, 5]\n",
      "<class 'list'>\n"
     ]
    }
   ],
   "source": [
    "# Write a Pandas program to convert a Panda module Series to Python list and it’s type.\n",
    "\n",
    "print(type(res))\n",
    "res_lis = res.tolist()\n",
    "print(res_lis)\n",
    "print(type(res_lis))"
   ]
  },
  {
   "cell_type": "code",
   "execution_count": 18,
   "metadata": {},
   "outputs": [
    {
     "name": "stdout",
     "output_type": "stream",
     "text": [
      "Sum:\n",
      "0     6\n",
      "1     8\n",
      "2    10\n",
      "3    12\n",
      "dtype: int64\n",
      "Subtract:\n",
      "0   -4\n",
      "1   -4\n",
      "2   -4\n",
      "3   -4\n",
      "dtype: int64\n",
      "Multiple:\n",
      "0     5\n",
      "1    12\n",
      "2    21\n",
      "3    32\n",
      "dtype: int64\n",
      "Divide:\n",
      "0    0.200000\n",
      "1    0.333333\n",
      "2    0.428571\n",
      "3    0.500000\n",
      "dtype: float64\n"
     ]
    }
   ],
   "source": [
    "# Write a Pandas program to add, subtract, multiple and divide two Pandas Series.\n",
    "\n",
    "a = pd.Series([1,2,3,4])\n",
    "b = pd.Series([5,6,7,8])\n",
    "print(\"Sum:\")\n",
    "print(a+b)\n",
    "print(\"Subtract:\")\n",
    "print(a-b)\n",
    "print(\"Multiple:\")\n",
    "print(a*b)\n",
    "print(\"Divide:\")\n",
    "print(a/b)"
   ]
  },
  {
   "cell_type": "code",
   "execution_count": 25,
   "metadata": {},
   "outputs": [
    {
     "name": "stdout",
     "output_type": "stream",
     "text": [
      "series 1:\n",
      "0    1\n",
      "1    2\n",
      "2    3\n",
      "3    4\n",
      "dtype: int64\n",
      "series 2:\n",
      "0    5\n",
      "1    6\n",
      "2    7\n",
      "3    8\n",
      "dtype: int64\n",
      "Equal To: \n",
      "0    False\n",
      "1    False\n",
      "2    False\n",
      "3    False\n",
      "dtype: bool\n",
      "Greater Than: \n",
      "0    False\n",
      "1    False\n",
      "2    False\n",
      "3    False\n",
      "dtype: bool\n",
      "Lesser Than: \n",
      "0    True\n",
      "1    True\n",
      "2    True\n",
      "3    True\n",
      "dtype: bool\n"
     ]
    }
   ],
   "source": [
    "# Write a Pandas program to compare the elements of the two Pandas Series.\n",
    "print(\"series 1:\")\n",
    "print(a)\n",
    "print(\"series 2:\")\n",
    "print(b)\n",
    "print(\"Equal To: \")\n",
    "print(a==b)\n",
    "print(\"Greater Than: \")\n",
    "print(a>b)\n",
    "print(\"Lesser Than: \")\n",
    "print(a<b)"
   ]
  },
  {
   "cell_type": "code",
   "execution_count": 34,
   "metadata": {
    "scrolled": true
   },
   "outputs": [
    {
     "name": "stdout",
     "output_type": "stream",
     "text": [
      "original dictionary: \n",
      "{'a': 100, 'b': 200, 'c': 300, 'd': 400, 'e': 800}\n",
      "Converted into series: \n",
      "a    100\n",
      "b    200\n",
      "c    300\n",
      "d    400\n",
      "e    800\n",
      "dtype: int64\n"
     ]
    }
   ],
   "source": [
    "# Write a Pandas program to convert a dictionary to a Pandas series\n",
    "\n",
    "d1 = {'a': 100, 'b': 200, 'c':300, 'd':400, 'e':800}\n",
    "print(\"original dictionary: \")\n",
    "print(d1)\n",
    "print(\"Converted into series: \")\n",
    "print(pd.Series(d1))"
   ]
  },
  {
   "cell_type": "code",
   "execution_count": 37,
   "metadata": {},
   "outputs": [
    {
     "name": "stdout",
     "output_type": "stream",
     "text": [
      "Original numpy array:  [1 2 3 4]\n",
      "Numpy array to panda series: \n",
      "0    1\n",
      "1    2\n",
      "2    3\n",
      "3    4\n",
      "dtype: int32\n"
     ]
    }
   ],
   "source": [
    "# Write a Pandas program to convert a NumPy array to a Pandas series\n",
    "\n",
    "import numpy as np\n",
    "a1 = np.array([1,2,3,4])\n",
    "print(\"Original numpy array: \",a1)\n",
    "res = pd.Series(a1)\n",
    "print(\"Numpy array to panda series: \")\n",
    "print(res)"
   ]
  },
  {
   "cell_type": "code",
   "execution_count": 47,
   "metadata": {},
   "outputs": [
    {
     "name": "stdout",
     "output_type": "stream",
     "text": [
      "col1     [1, 2, 3, 4, 7, 11]\n",
      "col2      [4, 5, 6, 9, 5, 0]\n",
      "col3    [7, 5, 8, 12, 1, 11]\n",
      "dtype: object\n",
      "   col1  col2  col3\n",
      "0     1     4     7\n",
      "1     2     5     5\n",
      "2     3     6     8\n",
      "3     4     9    12\n",
      "4     7     5     1\n",
      "5    11     0    11\n",
      "First column of a data frame as a series: \n",
      "0     1\n",
      "1     2\n",
      "2     3\n",
      "3     4\n",
      "4     7\n",
      "5    11\n",
      "Name: col1, dtype: int64\n"
     ]
    }
   ],
   "source": [
    "# Write a Python Pandas program to convert the first column of a DataFrame as a Series.\n",
    "\n",
    "d1 = {'col1': [1, 2, 3, 4, 7, 11], 'col2': [4, 5, 6, 9, 5, 0], 'col3': [7, 5, 8, 12, 1,11]}\n",
    "print(pd.Series(d1))\n",
    "\n",
    "df = pd.DataFrame(d1)\n",
    "print(df)\n",
    "\n",
    "print(\"First column of a data frame as a series: \")\n",
    "s1 = df.iloc[:,0]\n",
    "print(s1)"
   ]
  },
  {
   "cell_type": "code",
   "execution_count": 55,
   "metadata": {},
   "outputs": [
    {
     "name": "stdout",
     "output_type": "stream",
     "text": [
      "Original Series of list: \n",
      "0    [Red, Green, White]\n",
      "1           [Red, Black]\n",
      "2               [Yellow]\n",
      "dtype: object\n",
      "One Series: \n",
      "0       Red\n",
      "1     Green\n",
      "2     White\n",
      "3       Red\n",
      "4     Black\n",
      "5    Yellow\n",
      "dtype: object\n"
     ]
    }
   ],
   "source": [
    "# Write a Pandas program to convert Series of lists to one Series.\n",
    "\n",
    "s = pd.Series([\n",
    "    ['Red', 'Green', 'White'],\n",
    "    ['Red', 'Black'],\n",
    "    ['Yellow']])\n",
    "print(\"Original Series of list: \")\n",
    "print(s)\n",
    "s = s.apply(pd.Series).stack().reset_index(drop=True)\n",
    "print(\"One Series: \")\n",
    "print(s)"
   ]
  },
  {
   "cell_type": "code",
   "execution_count": 60,
   "metadata": {},
   "outputs": [
    {
     "name": "stdout",
     "output_type": "stream",
     "text": [
      "Original Series: \n",
      "0       100\n",
      "1       200\n",
      "2    python\n",
      "3    300.12\n",
      "4       400\n",
      "dtype: object\n",
      "Sorted Series: \n",
      "0       100\n",
      "1       200\n",
      "3    300.12\n",
      "4       400\n",
      "2    python\n",
      "dtype: object\n"
     ]
    }
   ],
   "source": [
    "# Write a Pandas program to sort a given Series.\n",
    "\n",
    "s = pd.Series(['100', '200', 'python', '300.12', '400'])\n",
    "print(\"Original Series: \")\n",
    "print(s)\n",
    "new_s = pd.Series(s).sort_values()\n",
    "print(\"Sorted Series: \")\n",
    "print(new_s)"
   ]
  },
  {
   "cell_type": "code",
   "execution_count": 64,
   "metadata": {},
   "outputs": [
    {
     "name": "stdout",
     "output_type": "stream",
     "text": [
      "Original Series: \n",
      "0       100\n",
      "1       200\n",
      "2    python\n",
      "3    300.12\n",
      "4       400\n",
      "dtype: object\n",
      "New Series after append: \n",
      "0       100\n",
      "1       200\n",
      "2    python\n",
      "3    300.12\n",
      "4       400\n",
      "0       500\n",
      "1       php\n",
      "dtype: object\n"
     ]
    }
   ],
   "source": [
    "# Write a Pandas program to add some data to an existing Series\n",
    "\n",
    "s = pd.Series(['100', '200', 'python', '300.12', '400'])\n",
    "print(\"Original Series: \")\n",
    "print(s)\n",
    "s_new = s.append(pd.Series([500,'php']))\n",
    "print(\"New Series after append: \")\n",
    "print(s_new)"
   ]
  },
  {
   "cell_type": "code",
   "execution_count": 68,
   "metadata": {},
   "outputs": [
    {
     "name": "stdout",
     "output_type": "stream",
     "text": [
      "Original Series: \n",
      "0    0\n",
      "1    1\n",
      "2    2\n",
      "3    3\n",
      "4    4\n",
      "5    5\n",
      "6    6\n",
      "7    7\n",
      "8    8\n",
      "dtype: int64\n",
      "subset series after condition: \n",
      "0    0\n",
      "1    1\n",
      "2    2\n",
      "3    3\n",
      "4    4\n",
      "dtype: int64\n"
     ]
    }
   ],
   "source": [
    "# Write a Pandas program to create a subset of a given series based on value and condition.\n",
    "\n",
    "s = pd.Series(range(9))\n",
    "print(\"Original Series: \")\n",
    "print(s)\n",
    "s_new = s[s<5]\n",
    "print(\"subset series after condition: \")\n",
    "print(s_new)"
   ]
  },
  {
   "cell_type": "code",
   "execution_count": 71,
   "metadata": {},
   "outputs": [
    {
     "name": "stdout",
     "output_type": "stream",
     "text": [
      "Original Series: \n",
      "A    1\n",
      "B    2\n",
      "C    3\n",
      "D    4\n",
      "E    5\n",
      "dtype: int64\n",
      "New series after re indexing: \n",
      "B    2\n",
      "A    1\n",
      "C    3\n",
      "D    4\n",
      "E    5\n",
      "dtype: int64\n"
     ]
    }
   ],
   "source": [
    "# Write a Pandas program to change the order of index of a given series.\n",
    "s = pd.Series(data = [1,2,3,4,5], index = ['A', 'B', 'C','D','E'])\n",
    "print(\"Original Series: \")\n",
    "print(s)\n",
    "s = s.reindex(index = ['B','A','C','D','E'])\n",
    "print(\"New series after re indexing: \")\n",
    "print(s)"
   ]
  },
  {
   "cell_type": "code",
   "execution_count": 78,
   "metadata": {},
   "outputs": [
    {
     "name": "stdout",
     "output_type": "stream",
     "text": [
      "0    0\n",
      "1    1\n",
      "2    2\n",
      "3    3\n",
      "4    4\n",
      "5    5\n",
      "6    6\n",
      "7    7\n",
      "8    8\n",
      "dtype: int64\n",
      "Mean: \n",
      "4.0\n",
      "Standard Deviation: \n",
      "2.7386127875258306\n"
     ]
    }
   ],
   "source": [
    "# Write a Pandas program to create the mean and standard deviation of the data of a given Series\n",
    "\n",
    "s = pd.Series(range(9))\n",
    "print(s)\n",
    "print(\"Mean: \")\n",
    "print(s.mean())\n",
    "print(\"Standard Deviation: \")\n",
    "print(s.std())"
   ]
  },
  {
   "cell_type": "code",
   "execution_count": null,
   "metadata": {},
   "outputs": [],
   "source": []
  }
 ],
 "metadata": {
  "kernelspec": {
   "display_name": "Python 3",
   "language": "python",
   "name": "python3"
  },
  "language_info": {
   "codemirror_mode": {
    "name": "ipython",
    "version": 3
   },
   "file_extension": ".py",
   "mimetype": "text/x-python",
   "name": "python",
   "nbconvert_exporter": "python",
   "pygments_lexer": "ipython3",
   "version": "3.7.1"
  }
 },
 "nbformat": 4,
 "nbformat_minor": 2
}
