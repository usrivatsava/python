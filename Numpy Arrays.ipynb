{
 "cells": [
  {
   "cell_type": "code",
   "execution_count": 3,
   "metadata": {},
   "outputs": [
    {
     "name": "stdout",
     "output_type": "stream",
     "text": [
      "1.15.4\n"
     ]
    }
   ],
   "source": [
    "# Write a NumPy program to print the NumPy version in your system\n",
    "\n",
    "import numpy as np\n",
    "\n",
    "print(np.__version__)"
   ]
  },
  {
   "cell_type": "code",
   "execution_count": 5,
   "metadata": {},
   "outputs": [
    {
     "name": "stdout",
     "output_type": "stream",
     "text": [
      "[1, 2, 3, 4]\n",
      "[1 2 3 4]\n"
     ]
    }
   ],
   "source": [
    "# Write a NumPy program to convert a list of numeric value into a one-dimensional NumPy array.\n",
    "\n",
    "l = [1,2,3,4]\n",
    "print(l)\n",
    "print(np.array(l))"
   ]
  },
  {
   "cell_type": "code",
   "execution_count": 7,
   "metadata": {},
   "outputs": [
    {
     "data": {
      "text/plain": [
       "array([[ 2,  3,  4],\n",
       "       [ 5,  6,  7],\n",
       "       [ 8,  9, 10]])"
      ]
     },
     "execution_count": 7,
     "metadata": {},
     "output_type": "execute_result"
    }
   ],
   "source": [
    "#Write a NumPy program to create a 3x3 matrix with values ranging from 2 to 10\n",
    "\n",
    "arr = np.arange(2,11).reshape(3,3)\n",
    "arr"
   ]
  },
  {
   "cell_type": "code",
   "execution_count": 10,
   "metadata": {},
   "outputs": [
    {
     "data": {
      "text/plain": [
       "array([ 0.,  0.,  0.,  0.,  0.,  0., 11.,  0.,  0.,  0.])"
      ]
     },
     "execution_count": 10,
     "metadata": {},
     "output_type": "execute_result"
    }
   ],
   "source": [
    "# Write a NumPy program to create a null vector of size 10 and update sixth value to 11.\n",
    "arr = np.zeros(10)\n",
    "arr\n",
    "arr[6] = 11\n",
    "arr"
   ]
  },
  {
   "cell_type": "code",
   "execution_count": 13,
   "metadata": {},
   "outputs": [
    {
     "data": {
      "text/plain": [
       "array([12, 13, 14, 15, 16, 17, 18, 19, 20, 21, 22, 23, 24, 25, 26, 27, 28,\n",
       "       29, 30, 31, 32, 33, 34, 35, 36, 37, 38])"
      ]
     },
     "execution_count": 13,
     "metadata": {},
     "output_type": "execute_result"
    }
   ],
   "source": [
    "#Write a NumPy program to create a array with values ranging from 12 to 38.\n",
    "\n",
    "arr = np.arange(12,39)\n",
    "arr"
   ]
  },
  {
   "cell_type": "code",
   "execution_count": 28,
   "metadata": {},
   "outputs": [
    {
     "name": "stdout",
     "output_type": "stream",
     "text": [
      "[38 37 36 35 34 33 32 31 30 29 28 27 26 25 24 23 22 21 20 19 18 17 16 15\n",
      " 14 13 12]\n"
     ]
    }
   ],
   "source": [
    "#Write a NumPy program to reverse an array (first element becomes last).\n",
    "arr\n",
    "print(arr[::-1])"
   ]
  },
  {
   "cell_type": "code",
   "execution_count": 34,
   "metadata": {},
   "outputs": [
    {
     "name": "stdout",
     "output_type": "stream",
     "text": [
      "[[1. 1. 1. 1. 1.]\n",
      " [1. 0. 0. 0. 1.]\n",
      " [1. 0. 0. 0. 1.]\n",
      " [1. 0. 0. 0. 1.]\n",
      " [1. 1. 1. 1. 1.]]\n"
     ]
    }
   ],
   "source": [
    "# Write a NumPy program to create a 2d array with 1 on the border and 0 inside\n",
    "\n",
    "x = np.ones((5,5))\n",
    "x[1:4,1:4]=0\n",
    "print(x)"
   ]
  },
  {
   "cell_type": "code",
   "execution_count": 44,
   "metadata": {},
   "outputs": [
    {
     "data": {
      "text/plain": [
       "array([[0., 0., 0., 0., 0.],\n",
       "       [0., 1., 1., 1., 0.],\n",
       "       [0., 1., 1., 1., 0.],\n",
       "       [0., 1., 1., 1., 0.],\n",
       "       [0., 0., 0., 0., 0.]])"
      ]
     },
     "execution_count": 44,
     "metadata": {},
     "output_type": "execute_result"
    }
   ],
   "source": [
    "# Write a NumPy program to add a border (filled with 0's) around an existing array.\n",
    "x = np.ones((3,3))\n",
    "x=np.pad(x,pad_width=1, mode= 'constant',constant_values =0 )\n",
    "x"
   ]
  },
  {
   "cell_type": "code",
   "execution_count": 50,
   "metadata": {},
   "outputs": [
    {
     "name": "stdout",
     "output_type": "stream",
     "text": [
      "list:  [1, 2, 3]\n",
      "Tuple:  ([1, 2, 3], [4, 5, 6])\n",
      "list->array [1 2 3]\n",
      "Tuple->array [[1 2 3]\n",
      " [4 5 6]]\n"
     ]
    }
   ],
   "source": [
    "#  Write a NumPy program to convert a list and tuple into arrays\n",
    "l = [1,2,3]\n",
    "t = ([1,2,3],[4,5,6])\n",
    "print(\"list: \",l)\n",
    "print(\"Tuple: \",t)\n",
    "x=np.asarray(l)\n",
    "y=np.asarray(t)\n",
    "print(\"list->array\",x)\n",
    "print(\"Tuple->array\",y)"
   ]
  },
  {
   "cell_type": "code",
   "execution_count": 53,
   "metadata": {},
   "outputs": [
    {
     "name": "stdout",
     "output_type": "stream",
     "text": [
      "[10 20 30 40 50 60 70]\n"
     ]
    }
   ],
   "source": [
    "#  Write a NumPy program to append values to the end of an array\n",
    "x=[10,20,30]\n",
    "x = np.append(x,[40,50,60,70])\n",
    "print(x)\n"
   ]
  },
  {
   "cell_type": "code",
   "execution_count": 66,
   "metadata": {},
   "outputs": [
    {
     "name": "stdout",
     "output_type": "stream",
     "text": [
      "[[0. 0. 0. 1.]\n",
      " [1. 1. 1. 1.]\n",
      " [1. 1. 1. 1.]]\n",
      "[[6 6 6]\n",
      " [6 6 6]\n",
      " [6 6 6]]\n"
     ]
    }
   ],
   "source": [
    "# Write a NumPy program to create an empty and a full array\n",
    "x = np.empty((3,4))\n",
    "print(x)\n",
    "y = np.full((3,3),6)\n",
    "print(y)"
   ]
  },
  {
   "cell_type": "code",
   "execution_count": 75,
   "metadata": {},
   "outputs": [
    {
     "name": "stdout",
     "output_type": "stream",
     "text": [
      "[0 1 2 3]\n",
      "number of elements 4\n",
      "length of array elements in bytes 4\n",
      "Total bytes consumed by array 16\n"
     ]
    }
   ],
   "source": [
    "# Write a NumPy program to find the number of elements of an array, length of one array element in bytes and total bytes consumed by the elements\n",
    "\n",
    "x = np.arange(0,4)\n",
    "print (x)\n",
    "print(\"number of elements\",x.size)\n",
    "print(\"length of array elements in bytes\",x.itemsize)\n",
    "print(\"Total bytes consumed by array\",x.nbytes)"
   ]
  },
  {
   "cell_type": "code",
   "execution_count": 77,
   "metadata": {},
   "outputs": [
    {
     "name": "stdout",
     "output_type": "stream",
     "text": [
      "[ True False False  True]\n"
     ]
    }
   ],
   "source": [
    "# Write a NumPy program to test whether each element of a 1-D array is also present in a second array.\n",
    "\n",
    "arr1 = [1,2,3,4]\n",
    "arr2 = [1,4,6,8]\n",
    "print(np.in1d(arr1,arr2))"
   ]
  },
  {
   "cell_type": "code",
   "execution_count": 79,
   "metadata": {},
   "outputs": [
    {
     "name": "stdout",
     "output_type": "stream",
     "text": [
      "[1 4]\n"
     ]
    }
   ],
   "source": [
    "# Write a NumPy program to find common values between two arrays\n",
    "\n",
    "arr1 = [1,2,3,4]\n",
    "arr2 = [1,4,6,8]\n",
    "print(np.intersect1d(arr1,arr2))"
   ]
  },
  {
   "cell_type": "code",
   "execution_count": 82,
   "metadata": {},
   "outputs": [
    {
     "data": {
      "text/plain": [
       "array([1, 2, 3, 4, 6])"
      ]
     },
     "execution_count": 82,
     "metadata": {},
     "output_type": "execute_result"
    }
   ],
   "source": [
    "# Write a NumPy program to get the unique elements of an array\n",
    "\n",
    "arr = [1,1,2,3,3,4,4,6]\n",
    "np.unique(arr)"
   ]
  },
  {
   "cell_type": "code",
   "execution_count": 85,
   "metadata": {},
   "outputs": [
    {
     "name": "stdout",
     "output_type": "stream",
     "text": [
      "[1 4 3 1 4 3]\n"
     ]
    }
   ],
   "source": [
    "# Write a NumPy program to construct an array by repeating\n",
    "\n",
    "arr = [1,4,3]\n",
    "print(np.tile(arr,2))"
   ]
  },
  {
   "cell_type": "code",
   "execution_count": 4,
   "metadata": {},
   "outputs": [
    {
     "name": "stdout",
     "output_type": "stream",
     "text": [
      "max of array: 4\n",
      "min of array:  0\n"
     ]
    }
   ],
   "source": [
    "# Write a NumPy program to find the indices of the maximum and minimum values along the given axis of an array\n",
    "\n",
    "x = [0,1,2,3,4]\n",
    "print(\"max of array:\",np.argmax(x))\n",
    "print(\"min of array: \",np.argmin(x))"
   ]
  },
  {
   "cell_type": "code",
   "execution_count": 9,
   "metadata": {},
   "outputs": [
    {
     "name": "stdout",
     "output_type": "stream",
     "text": [
      "[20 30 40 50]\n"
     ]
    }
   ],
   "source": [
    "# Write a NumPy program to get the values and indices of the elements that are bigger than 10 in a given array.\n",
    "\n",
    "x=np.array([[0,10,20],[30,40,50]])\n",
    "print (x[x>10])"
   ]
  },
  {
   "cell_type": "code",
   "execution_count": 12,
   "metadata": {},
   "outputs": [
    {
     "name": "stdout",
     "output_type": "stream",
     "text": [
      "original array:  [[10 20 30]\n",
      " [20 40 50]]\n",
      "Flattened array:  [10 20 30 20 40 50]\n"
     ]
    }
   ],
   "source": [
    "# Flattened array\n",
    "\n",
    "x = np.array([[10, 20, 30], [20, 40, 50]])\n",
    "print (\"original array: \",x)\n",
    "print(\"Flattened array: \",np.ravel(x))"
   ]
  },
  {
   "cell_type": "code",
   "execution_count": 16,
   "metadata": {},
   "outputs": [
    {
     "name": "stdout",
     "output_type": "stream",
     "text": [
      "[[4 0 0 0]\n",
      " [0 5 0 0]\n",
      " [0 0 6 0]\n",
      " [0 0 0 8]]\n"
     ]
    }
   ],
   "source": [
    "# Write a NumPy program to create a 2-D array whose diagonal equals [4, 5, 6, 8] and 0's elsewhere.\n",
    "\n",
    "x = np.diagflat([4,5,6,8])\n",
    "print(x)"
   ]
  },
  {
   "cell_type": "code",
   "execution_count": 19,
   "metadata": {},
   "outputs": [
    {
     "name": "stdout",
     "output_type": "stream",
     "text": [
      "[ 0  1  2  3  4  5  6  7  8  9 10 11 12 13 14 15 16 17 18 19 20 21 22 23\n",
      " 24 25 26 27 28 29 30 31 32 33 34 35 36 37 38 39 40 41 42 43 44 45 46 47\n",
      " 48 49 50]\n",
      "[10 11 12 13 14 15 16 17 18 19 20 21 22 23 24 25 26 27 28 29 30 31 32 33\n",
      " 34 35 36 37 38 39 40 41 42 43 44 45 46 47 48 49 50]\n"
     ]
    }
   ],
   "source": [
    "# Write a NumPy program to create a 1-D array going from 0 to 50 and an array from 10 to 50. \n",
    "\n",
    "x = np.arange(0,51)\n",
    "print(x)\n",
    "y = np.arange(10,51)\n",
    "print(y)\n"
   ]
  },
  {
   "cell_type": "code",
   "execution_count": 26,
   "metadata": {},
   "outputs": [
    {
     "name": "stdout",
     "output_type": "stream",
     "text": [
      "[[0. 0. 0.]\n",
      " [0. 1. 1.]\n",
      " [0. 1. 1.]\n",
      " [0. 0. 0.]]\n"
     ]
    }
   ],
   "source": [
    "# Write a NumPy program to create an array which looks like below array. \n",
    "\n",
    "x=np.zeros((4,3))\n",
    "x[1:-1,1:]=1\n",
    "\n",
    "print(x)\n"
   ]
  },
  {
   "cell_type": "code",
   "execution_count": 29,
   "metadata": {},
   "outputs": [
    {
     "name": "stdout",
     "output_type": "stream",
     "text": [
      "[[ 2  4  6]\n",
      " [ 6  8 10]]\n",
      "6\n"
     ]
    }
   ],
   "source": [
    "# Fourth element of array\n",
    "x = np.array([[2, 4, 6], [6, 8, 10]])\n",
    "print(x)\n",
    "print(x.flat[3])"
   ]
  },
  {
   "cell_type": "code",
   "execution_count": 36,
   "metadata": {},
   "outputs": [
    {
     "name": "stdout",
     "output_type": "stream",
     "text": [
      "[[1 2 3]]\n",
      "[[1]\n",
      " [2]\n",
      " [3]]\n"
     ]
    }
   ],
   "source": [
    "# Write a NumPy program to interchange two axes of an array.\n",
    "x = np.array([[1,2,3]])\n",
    "print(x)\n",
    "y = np.swapaxes(x,0,1)\n",
    "print(y)"
   ]
  },
  {
   "cell_type": "code",
   "execution_count": 40,
   "metadata": {},
   "outputs": [
    {
     "name": "stdout",
     "output_type": "stream",
     "text": [
      "[[[0. 0. 0. 0.]]\n",
      "\n",
      " [[0. 0. 0. 0.]]\n",
      "\n",
      " [[0. 0. 0. 0.]]]\n",
      "[[0. 0. 0. 0.]\n",
      " [0. 0. 0. 0.]\n",
      " [0. 0. 0. 0.]]\n",
      "(3, 4)\n"
     ]
    }
   ],
   "source": [
    "x = np.zeros((3, 1, 4))\n",
    "print(x)\n",
    "print(np.squeeze(x))\n",
    "print(np.squeeze(x).shape)"
   ]
  },
  {
   "cell_type": "code",
   "execution_count": 61,
   "metadata": {},
   "outputs": [
    {
     "name": "stdout",
     "output_type": "stream",
     "text": [
      "[[ 0  1  2  3]\n",
      " [ 4  5  6  7]\n",
      " [ 8  9 10 11]\n",
      " [12 13 14 15]]\n",
      "[array([[ 0,  1,  2],\n",
      "       [ 4,  5,  6],\n",
      "       [ 8,  9, 10],\n",
      "       [12, 13, 14]]), array([], shape=(4, 0), dtype=int32), array([[ 0,  1,  2,  3],\n",
      "       [ 4,  5,  6,  7],\n",
      "       [ 8,  9, 10, 11],\n",
      "       [12, 13, 14, 15]])]\n"
     ]
    }
   ],
   "source": [
    "# Split array horizontally\n",
    "\n",
    "x = np.arange(16).reshape((4, 4))\n",
    "print(x)\n",
    "print(np.hsplit(x,[3,0]))"
   ]
  },
  {
   "cell_type": "code",
   "execution_count": 67,
   "metadata": {},
   "outputs": [
    {
     "name": "stdout",
     "output_type": "stream",
     "text": [
      "[[ 0 10 20]\n",
      " [30 40  0]]\n",
      "number of non zeros:  4\n"
     ]
    }
   ],
   "source": [
    "# count number of non zeros\n",
    "x = np.array([[0,10,20],[30,40,0]])\n",
    "print(x)\n",
    "print(\"number of non zeros: \",np.count_nonzero(x))"
   ]
  },
  {
   "cell_type": "code",
   "execution_count": 71,
   "metadata": {},
   "outputs": [
    {
     "name": "stdout",
     "output_type": "stream",
     "text": [
      "[0. 0. 0. 0. 0. 0. 0. 0. 0. 0.]\n"
     ]
    },
    {
     "ename": "ValueError",
     "evalue": "assignment destination is read-only",
     "output_type": "error",
     "traceback": [
      "\u001b[1;31m---------------------------------------------------------------------------\u001b[0m",
      "\u001b[1;31mValueError\u001b[0m                                Traceback (most recent call last)",
      "\u001b[1;32m<ipython-input-71-3c60745ad373>\u001b[0m in \u001b[0;36m<module>\u001b[1;34m\u001b[0m\n\u001b[0;32m      5\u001b[0m \u001b[0mprint\u001b[0m\u001b[1;33m(\u001b[0m\u001b[0mx\u001b[0m\u001b[1;33m)\u001b[0m\u001b[1;33m\u001b[0m\u001b[1;33m\u001b[0m\u001b[0m\n\u001b[0;32m      6\u001b[0m \u001b[1;33m\u001b[0m\u001b[0m\n\u001b[1;32m----> 7\u001b[1;33m \u001b[0mx\u001b[0m\u001b[1;33m[\u001b[0m\u001b[1;36m2\u001b[0m\u001b[1;33m]\u001b[0m \u001b[1;33m=\u001b[0m \u001b[1;36m3\u001b[0m\u001b[1;33m\u001b[0m\u001b[1;33m\u001b[0m\u001b[0m\n\u001b[0m",
      "\u001b[1;31mValueError\u001b[0m: assignment destination is read-only"
     ]
    }
   ],
   "source": [
    "# Write a NumPy program to make an array immutable (read-only)\n",
    "\n",
    "x = np.zeros(10)\n",
    "x.flags.writeable = False\n",
    "print(x)\n",
    "\n",
    "x[2] = 3"
   ]
  },
  {
   "cell_type": "code",
   "execution_count": 78,
   "metadata": {},
   "outputs": [
    {
     "name": "stdout",
     "output_type": "stream",
     "text": [
      "[[ 0  1  2  3]\n",
      " [ 4  5  6  7]\n",
      " [ 8  9 10 11]]\n",
      "0 1 2 3 4 5 6 7 8 9 10 11 "
     ]
    }
   ],
   "source": [
    "# Write a NumPy program to create and display every element of an numpy array.\n",
    "x = np.arange(12).reshape(3, 4)\n",
    "print(x)\n",
    "for i in np.nditer(x):\n",
    "    print(i , end = ' ')"
   ]
  },
  {
   "cell_type": "code",
   "execution_count": 82,
   "metadata": {},
   "outputs": [
    {
     "name": "stdout",
     "output_type": "stream",
     "text": [
      "[[ 10  20  30 100]\n",
      " [ 40  50  60 200]]\n"
     ]
    }
   ],
   "source": [
    "# add column to the existing array\n",
    "\n",
    "x = np.array([[10,20,30], [40,50,60]])\n",
    "y = np.array([[100], [200]])\n",
    "print(np.append(x,y,axis = 1))"
   ]
  },
  {
   "cell_type": "code",
   "execution_count": 84,
   "metadata": {},
   "outputs": [
    {
     "name": "stdout",
     "output_type": "stream",
     "text": [
      "[ 20  30  40  60  80  90 100]\n"
     ]
    }
   ],
   "source": [
    "# Write a NumPy program to remove specific elements in a numpy array.\n",
    "x = np.array([10, 20, 30, 40, 50, 60, 70, 80, 90, 100])\n",
    "index = [0,4,6]\n",
    "y=np.delete(x,index)\n",
    "print(y)"
   ]
  },
  {
   "cell_type": "code",
   "execution_count": 92,
   "metadata": {},
   "outputs": [
    {
     "name": "stdout",
     "output_type": "stream",
     "text": [
      "original array:  [-1 -4  0  2  3  4  5 -6]\n",
      "result after replacing negative value:  [0 0 0 2 3 4 5 0]\n"
     ]
    }
   ],
   "source": [
    "# Write a NumPy program to remove the negative values in a numpy array with 0\n",
    "\n",
    "x = np.array([-1, -4, 0, 2, 3, 4, 5, -6])\n",
    "print(\"original array: \",x)\n",
    "x[x<0] = 0\n",
    "print(\"result after replacing negative value: \",x)"
   ]
  },
  {
   "cell_type": "code",
   "execution_count": 97,
   "metadata": {},
   "outputs": [
    {
     "name": "stdout",
     "output_type": "stream",
     "text": [
      "[10 20 30 40 50]\n",
      "(array([10, 20, 30, 40, 50]), array([3, 4, 2, 2, 1], dtype=int64))\n"
     ]
    }
   ],
   "source": [
    "# count unique elements of array \n",
    "a = np.array( [10,10,20,10,20,20,20,30, 30,50,40,40] )\n",
    "print(np.unique(a))\n",
    "print(np.unique(a,return_counts = True))"
   ]
  },
  {
   "cell_type": "code",
   "execution_count": 100,
   "metadata": {},
   "outputs": [
    {
     "name": "stdout",
     "output_type": "stream",
     "text": [
      "3\n",
      "0\n"
     ]
    }
   ],
   "source": [
    "# Write a NumPy program to check whether the numpy array is empty or not. \n",
    "a = np.array([1,2,3])\n",
    "b = np.array([])\n",
    "print(a.size)\n",
    "print(b.size)"
   ]
  },
  {
   "cell_type": "code",
   "execution_count": 112,
   "metadata": {},
   "outputs": [
    {
     "name": "stdout",
     "output_type": "stream",
     "text": [
      "Original array:\n",
      "[[20 20 20]\n",
      " [30 30 30]\n",
      " [40 40 40]]\n",
      "Vector:\n",
      "[20 30 40]\n",
      "[[1. 1. 1.]\n",
      " [1. 1. 1.]\n",
      " [1. 1. 1.]]\n"
     ]
    }
   ],
   "source": [
    "# Write a NumPy program to divide each row by a vector element. \n",
    "x = np.array([[20,20,20],[30,30,30],[40,40,40]])\n",
    "print(\"Original array:\")\n",
    "print(x)\n",
    "v = np.array([20,30,40])\n",
    "print(\"Vector:\")\n",
    "print(v)\n",
    "print(x / v[:,None])"
   ]
  },
  {
   "cell_type": "code",
   "execution_count": 117,
   "metadata": {},
   "outputs": [
    {
     "name": "stdout",
     "output_type": "stream",
     "text": [
      "sum:  60\n",
      "Product:  6000\n"
     ]
    }
   ],
   "source": [
    "#  Write a NumPy program to sum and compute the product of a numpy array elements.\n",
    "a = np.array([10,20,30])\n",
    "print(\"sum: \", a.sum())\n",
    "print(\"Product: \",a.prod())"
   ]
  },
  {
   "cell_type": "code",
   "execution_count": 125,
   "metadata": {},
   "outputs": [
    {
     "name": "stdout",
     "output_type": "stream",
     "text": [
      "[70 20 30 40 80 60]\n"
     ]
    }
   ],
   "source": [
    "# Write a NumPy program to take values from a source array and put them at specified indices of another array.\n",
    "\n",
    "a = np.array([10,20,30,40,50,60])\n",
    "b = np.array([70,80,90])\n",
    "a.put([0,4],b)\n",
    "print(a)"
   ]
  },
  {
   "cell_type": "code",
   "execution_count": 127,
   "metadata": {},
   "outputs": [
    {
     "name": "stdout",
     "output_type": "stream",
     "text": [
      "5.196152422706632\n"
     ]
    }
   ],
   "source": [
    "# Write a NumPy program to calculate the Euclidean distance.\n",
    "\n",
    "from scipy.spatial import distance\n",
    "\n",
    "p1 = (1,2,3)\n",
    "p2 = (4,5,6)\n",
    "d = distance.euclidean(p1,p2)\n",
    "print(d)"
   ]
  },
  {
   "cell_type": "code",
   "execution_count": 137,
   "metadata": {},
   "outputs": [
    {
     "name": "stdout",
     "output_type": "stream",
     "text": [
      "[[1 2 3]\n",
      " [4 5 6]\n",
      " [7 8 9]]\n",
      "[[2 3]\n",
      " [5 6]\n",
      " [8 9]]\n",
      "[[2 3]\n",
      " [5 6]\n",
      " [8 9]]\n"
     ]
    }
   ],
   "source": [
    "# Write a NumPy program to access last two columns of a multidimensional columns.\n",
    "a = np.array([[1, 2, 3], [4, 5, 6], [7, 8, 9]])\n",
    "print(a)\n",
    "result = a[:,[1,2]]\n",
    "print(result)\n",
    "print(a[:,1:3])"
   ]
  },
  {
   "cell_type": "code",
   "execution_count": 144,
   "metadata": {},
   "outputs": [
    {
     "name": "stdout",
     "output_type": "stream",
     "text": [
      "(array([10, 20, 30, 40, 50, 60, 70]), array([2, 3, 3, 1, 3, 3, 1], dtype=int64))\n",
      "2\n",
      "3\n",
      "3\n",
      "1\n",
      "3\n",
      "3\n",
      "1\n"
     ]
    }
   ],
   "source": [
    "# Write a NumPy program to count the occurrence of a specified item in a given NumPy array.\n",
    "\n",
    "a = np.array([10,10,20,30,40,20,20,30,30,50,60,70,60,60,50,50])\n",
    "print(np.unique(a,return_counts = True))\n",
    "print(np.count_nonzero(a==10))\n",
    "print(np.count_nonzero(a==20))\n",
    "print(np.count_nonzero(a==30))\n",
    "print(np.count_nonzero(a==40))\n",
    "print(np.count_nonzero(a==50))\n",
    "print(np.count_nonzero(a==60))\n",
    "print(np.count_nonzero(a==70))"
   ]
  },
  {
   "cell_type": "code",
   "execution_count": 160,
   "metadata": {},
   "outputs": [],
   "source": [
    "#Write a NumPy program to convert a numpy array to an image. Display the image.\n",
    "\n",
    "from PIL import Image\n",
    "import numpy as np\n",
    "\n",
    "img_w,img_h = 300,500\n",
    "data = np.zeros((img_w,img_h,3))\n",
    "#data[100,100]=[255,0,0]\n",
    "img = Image.fromarray(data, 'RGB')\n",
    "#img.save('test.png')\n",
    "img.show()"
   ]
  },
  {
   "cell_type": "code",
   "execution_count": 168,
   "metadata": {},
   "outputs": [
    {
     "name": "stdout",
     "output_type": "stream",
     "text": [
      "[[3 0 5 2]\n",
      " [1 2 0 6]\n",
      " [2 6 2 8]\n",
      " [3 8 9 3]\n",
      " [4 6 2 3]]\n"
     ]
    }
   ],
   "source": [
    "# Write a NumPy program to create random set of rows from 2D array.\n",
    "\n",
    "a = np.random.randint(10,size=(5,4))\n",
    "print(a)"
   ]
  },
  {
   "cell_type": "code",
   "execution_count": 175,
   "metadata": {},
   "outputs": [
    {
     "name": "stdout",
     "output_type": "stream",
     "text": [
      "original array:  [ 1  4  3 45  0  6  1  0  3  0]\n",
      "Indices of zeros's in array:  [4 7 9]\n"
     ]
    }
   ],
   "source": [
    "# Write a NumPy program to find indices of elements equal to zero in a numpy array.\n",
    "a = np.array([1,4,3,45,0,6,1,0,3,0])\n",
    "result = np.where(a==0)[0]\n",
    "print(\"original array: \",a)\n",
    "print(\"Indices of zeros's in array: \", result)"
   ]
  },
  {
   "cell_type": "code",
   "execution_count": 193,
   "metadata": {},
   "outputs": [
    {
     "name": "stdout",
     "output_type": "stream",
     "text": [
      "Empty Array: \n",
      "[]\n",
      "After first row added: \n",
      "[[10 20 30]]\n",
      "After second row added: \n",
      "[[10 20 30]\n",
      " [40 50 60]]\n"
     ]
    }
   ],
   "source": [
    "# Write a NumPy program to add a new row to an empty numpy array.\n",
    "a = np.empty((0,3),int)\n",
    "print(\"Empty Array: \")\n",
    "print(a)\n",
    "print(\"After first row added: \")\n",
    "a = np.append(a,np.array([[10,20,30]]),axis =0)\n",
    "print(a)\n",
    "print(\"After second row added: \")\n",
    "a = np.append(a,np.array([[40,50,60]]),axis =0)\n",
    "print(a)"
   ]
  },
  {
   "cell_type": "code",
   "execution_count": 198,
   "metadata": {},
   "outputs": [
    {
     "name": "stdout",
     "output_type": "stream",
     "text": [
      "[[10]\n",
      " [20]\n",
      " [30]]\n",
      "[1 2 3]\n",
      "result: [[11 12 13]\n",
      " [21 22 23]\n",
      " [31 32 33]]\n"
     ]
    }
   ],
   "source": [
    "# Write a NumPy program to broadcast on different shapes of arrays where a(,3) + b(3).\n",
    "a = np.array([[10],[20],[30]])\n",
    "b = np.array([1,2,3])\n",
    "print(a)\n",
    "print(b)\n",
    "res = a + b\n",
    "print(\"result:\",res)"
   ]
  },
  {
   "cell_type": "code",
   "execution_count": 202,
   "metadata": {},
   "outputs": [
    {
     "name": "stdout",
     "output_type": "stream",
     "text": [
      "[[10 20 30]\n",
      " [40 50 60]\n",
      " [70 80 90]]\n",
      "[[ 20  40  60]\n",
      " [ 50  70  90]\n",
      " [ 80 100 120]]\n"
     ]
    }
   ],
   "source": [
    "# Write a NumPy program to broadcast on different shapes of arrays where p(3,3) + q(3).\n",
    "\n",
    "a = np.array([[10,20,30],[40,50,60],[70,80,90]])\n",
    "print(a)\n",
    "b = np.array([10,20,30])\n",
    "print(a+b)"
   ]
  },
  {
   "cell_type": "code",
   "execution_count": 206,
   "metadata": {},
   "outputs": [
    {
     "name": "stdout",
     "output_type": "stream",
     "text": [
      "[[ 0  1  2  3  4  5]\n",
      " [ 6  7  8  9 10 11]\n",
      " [12 13 14 15 16 17]\n",
      " [18 19 20 21 22 23]]\n",
      "[[ 0  6 12 18]\n",
      " [ 1  7 13 19]\n",
      " [ 2  8 14 20]\n",
      " [ 3  9 15 21]\n",
      " [ 4 10 16 22]\n",
      " [ 5 11 17 23]]\n"
     ]
    }
   ],
   "source": [
    "# Write a NumPy program to rearrange the dimensions of a given array\n",
    "\n",
    "a = np.arange(24).reshape(4,6)\n",
    "print(a)\n",
    "res = np.transpose(a)\n",
    "print(res)"
   ]
  },
  {
   "cell_type": "code",
   "execution_count": 219,
   "metadata": {},
   "outputs": [
    {
     "name": "stdout",
     "output_type": "stream",
     "text": [
      "[[0 1 2]\n",
      " [3 4 5]\n",
      " [6 7 8]]\n",
      "[[ 0  1  2  3]\n",
      " [ 4  5  6  7]\n",
      " [ 8  9 10 11]]\n",
      "\n",
      "\n",
      "[[ 0  1  2  0  1  2  3]\n",
      " [ 3  4  5  4  5  6  7]\n",
      " [ 6  7  8  8  9 10 11]]\n"
     ]
    }
   ],
   "source": [
    "# Write a NumPy program to stack arrays in sequence horizontally (column wise).\n",
    "\n",
    "a = np.arange(9).reshape(3,3)\n",
    "print(a)\n",
    "b= np.arange(12).reshape(3,4)\n",
    "print(b)\n",
    "res = np.hstack((a,b))\n",
    "print(\"\\n\")\n",
    "print(res)"
   ]
  },
  {
   "cell_type": "code",
   "execution_count": 232,
   "metadata": {},
   "outputs": [
    {
     "name": "stdout",
     "output_type": "stream",
     "text": [
      "Original Array: \n",
      "[ 4 56 12 34 78 65]\n",
      "[0 2 3 1 5 4]\n",
      "[0 2 3 1 5 4]\n",
      "Rank of array: \n",
      "[0 3 1 2 5 4]\n"
     ]
    }
   ],
   "source": [
    "# Write a NumPy program to create an array that represents the rank of each item of a given array.\n",
    "a = np.array([4,56,12,34,78,65])\n",
    "print(\"Original Array: \")\n",
    "print(a)\n",
    "a_argsort = a.argsort()\n",
    "a_rank = np.empty_like(a_argsort)\n",
    "print(a_argsort)\n",
    "print(a_rank)\n",
    "a_rank[a_argsort]=np.arange(len(a))\n",
    "print(\"Rank of array: \")\n",
    "print(a_rank)"
   ]
  },
  {
   "cell_type": "code",
   "execution_count": 240,
   "metadata": {},
   "outputs": [
    {
     "name": "stdout",
     "output_type": "stream",
     "text": [
      "[0 1 2 3 4]\n"
     ]
    }
   ],
   "source": [
    "# Write a NumPy program to copy data from a given array to another array.\n",
    "a = np.array([0,1,2,3,4])\n",
    "b= np.empty_like(a)\n",
    "b[:] = a\n",
    "print(b)"
   ]
  },
  {
   "cell_type": "code",
   "execution_count": null,
   "metadata": {},
   "outputs": [],
   "source": []
  }
 ],
 "metadata": {
  "kernelspec": {
   "display_name": "Python 3",
   "language": "python",
   "name": "python3"
  },
  "language_info": {
   "codemirror_mode": {
    "name": "ipython",
    "version": 3
   },
   "file_extension": ".py",
   "mimetype": "text/x-python",
   "name": "python",
   "nbconvert_exporter": "python",
   "pygments_lexer": "ipython3",
   "version": "3.7.1"
  }
 },
 "nbformat": 4,
 "nbformat_minor": 2
}
